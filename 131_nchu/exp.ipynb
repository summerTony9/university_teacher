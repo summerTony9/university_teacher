{
 "cells": [
  {
   "metadata": {
    "ExecuteTime": {
     "end_time": "2024-06-12T09:09:09.922440Z",
     "start_time": "2024-06-12T09:09:09.919036Z"
    }
   },
   "cell_type": "code",
   "source": [
    "import re\n",
    "import time\n",
    "\n",
    "from bs4 import BeautifulSoup\n",
    "import requests\n",
    "from fake_useragent import UserAgent\n",
    "import pandas as pd"
   ],
   "id": "b74e187694e3f6e8",
   "outputs": [],
   "execution_count": 4
  },
  {
   "metadata": {
    "ExecuteTime": {
     "end_time": "2024-06-12T09:09:09.935747Z",
     "start_time": "2024-06-12T09:09:09.926402Z"
    }
   },
   "cell_type": "code",
   "source": [
    "df = pd.read_csv('teacher_detail.csv')\n",
    "error_teacher = df[df['性别'].isna()]\n",
    "error_teacher.to_csv('error_teacher.csv', index=False, encoding='utf-8-sig')"
   ],
   "id": "3c590bd98cbdd1f3",
   "outputs": [],
   "execution_count": 5
  }
 ],
 "metadata": {
  "kernelspec": {
   "display_name": "Python 3",
   "language": "python",
   "name": "python3"
  },
  "language_info": {
   "codemirror_mode": {
    "name": "ipython",
    "version": 2
   },
   "file_extension": ".py",
   "mimetype": "text/x-python",
   "name": "python",
   "nbconvert_exporter": "python",
   "pygments_lexer": "ipython2",
   "version": "2.7.6"
  }
 },
 "nbformat": 4,
 "nbformat_minor": 5
}
