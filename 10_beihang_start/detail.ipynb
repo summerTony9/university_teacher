{
 "cells": [
  {
   "cell_type": "code",
   "outputs": [],
   "source": [
    "import re\n",
    "\n",
    "from bs4 import BeautifulSoup\n",
    "import requests\n",
    "from fake_useragent import UserAgent\n",
    "import pandas as pd\n",
    "\n",
    "teacher_info = pd.read_csv('teacher_info.csv')\n",
    "url = 'https://yqgdxy.buaa.edu.cn/info/1017/5226.htm'\n",
    "\n",
    "html = requests.get(url, headers={'User-Agent': UserAgent().random}).content\n",
    "bs0bj = BeautifulSoup(html, 'html.parser')\n",
    "\n",
    "details = bs0bj.find('div', {'class': 'teacher-p'}).find('div', {'class': 'col-xs-6'}).find_all('p')\n",
    "\n",
    "more_info = bs0bj.find('div', {'class': 'v_news_content'})\n"
   ],
   "metadata": {
    "collapsed": false,
    "ExecuteTime": {
     "end_time": "2024-06-06T06:47:35.027328Z",
     "start_time": "2024-06-06T06:47:34.704355Z"
    }
   },
   "id": "3d8bd78388cab1fa",
   "execution_count": 33
  },
  {
   "cell_type": "code",
   "outputs": [],
   "source": [
    "def extract_address(addrs):\n",
    "    addr_info = {}\n",
    "    for i in range(len(addrs)):\n",
    "        if i == 0:\n",
    "            addr_info['title'] = addrs[i].get_text()\n",
    "        else:\n",
    "            targets = ['出生年月','办公电话','办公地址','邮箱']\n",
    "            addr = addrs[i].get_text()\n",
    "            for target in targets:\n",
    "                if target in addr:\n",
    "                    addr_new = addr.replace(target, '').replace(\"：\", '').strip()\n",
    "                    if addr_new != '/':\n",
    "                        addr_info[target] = addr_new\n",
    "    return addr_info"
   ],
   "metadata": {
    "collapsed": false,
    "ExecuteTime": {
     "end_time": "2024-06-06T06:46:28.560292Z",
     "start_time": "2024-06-06T06:46:28.546749Z"
    }
   },
   "id": "c8f6e4da13cd172a",
   "execution_count": 32
  },
  {
   "cell_type": "code",
   "outputs": [],
   "source": [
    "# def extract_info(details):\n",
    "#     detail_info = {}\n",
    "#     for i in range(len(details)):\n",
    "#         if i == 0:\n",
    "#             detail_info['title'] = details[i].get_text()\n",
    "#         else:\n",
    "#             "
   ],
   "metadata": {
    "collapsed": false
   },
   "id": "c331464449f53f0c"
  },
  {
   "cell_type": "code",
   "outputs": [
    {
     "name": "stdout",
     "output_type": "stream",
     "text": [
      "\n",
      "个人简介\n",
      "房建成，中国科学院院士，北京航空航天大学教授、校学术委员会主任，极弱磁场国家重大科技基础设施项目总设计师、首席科学家，“惯性技术”国家级重点实验室主任。长期从事先进惯性仪表与系统技术、航天器姿态控制磁悬浮惯性执行机构、量子精密测量与传感等研究，在国内开拓了极弱磁场医工交叉新领域和零磁医学新方向，以及人体功能信息成像设备新赛道。研制成功我国首台五自由度主动控制磁悬浮惯性动量轮和磁悬浮控制力矩陀螺，我国首套基于原子自旋SERF效应的超高灵敏极弱磁场和惯性测量装置。曾主持获得国家技术发明一等奖和二等奖各1项，国家科技进步二等奖1项，国家教学成果二等奖1项。荣获首届国家级杰出人才奖，全国杰出专业技术人才称号，何梁何利基金科学与技术成就奖等。\n",
      "研究方向\n",
      "(1) 超高灵敏极弱磁场与惯性测量装置\n",
      "面向世界科技前沿和国家重大战略需求，开展超高灵敏极弱磁场测量研究装置、超高灵敏惯性测量研究装置、超高灵敏极弱磁场计量测试装置、超高灵敏惯性计量测试装置、超高灵敏原子磁强计、高精度原子自旋陀螺仪等量子精密测量装置与仪器的研制，以及低噪声磁屏蔽、高性能窄线宽激光器、抗弛豫碱金属气室、极微振动抑制等共性关键技术研究，支撑国家重大科技基础设施建设，推动高精度惯性导航、前沿基础物理学、零磁科学、量子计量测试等领域的发展。\n",
      "(2) 量子传感技术\n",
      "仪器仪表与传感器技术经历了机电式、光电式的发展阶段，目前已进入量子传感时代，每一类新技术的出现都会带来传感器性能的大幅提升。围绕人民生命健康和经济主战场等领域，开展基于光与原子相互作用的量子传感器技术研究。突破激光芯片、微小型气室、微纳光电子器件制造等核心技术，聚焦磁光电多物理场调控、芯片化集成技术，研制芯片化SERF原子磁强计、小型化地磁监测磁强计、芯片化原子陀螺仪等高性能量子传感器，在深空深地探测、零磁医学研究、无人驾驶导航、工业智能化等领域发挥核心作用。\n",
      "(3) 零磁医疗设备与零磁医学\n",
      "围绕零磁医学应用需求，依托芯片原子磁强计技术优势，开展零磁医学多功能中心、人体极弱磁成像终端、极弱磁测量仪器等新一代人体功能成像零磁医疗设备研制，突破动态交变磁场下主被动屏蔽综合作用机制、复合多层蔽材料磁噪声耦合机理与抑制、动态干扰地磁精准补偿与匀场调控等关键技术，形成完备的系列化零磁医疗设备设计、研发、测试能力，满足零磁医学等前沿科学应用需求，有力支撑国家重大基础设施建设，带动新兴产业的形成和发展。\n",
      "零磁医学是利用基于原子自旋效应的超高灵敏磁场测量和高性能磁屏蔽手段，开展“零磁”环境下极弱磁场人体功能成像技术及其医学应用研究，实现人体功能信息精准检测和调控由“电”到“磁”的变革，为人体功能信息规律等生命科学基础问题的攻克提供精准检测和高清成像手段。零磁医学包括基础、临床、干预三个方面。基础研究，聚焦研究零磁环境下细胞、组织、器官、系统等的机能变化，探索生命活动中磁现象的本质以及磁场对生物体作用的内在机理；临床研究，聚焦零磁环境下人体极弱磁场成像研究，实现对人体功能信息的成像检测，为心、脑、肿瘤等功能性疾病的诊断和治疗提供参考，提供定量的功能信息指标，服务疾病的预防、诊断、治疗、评估全流程；干预研究，探究零磁环境下主动施加极弱磁场干预对人体功能的影响，融合极弱磁场精准调控和极弱磁场成像引导技术，实现对人体功能的精准调节以及对疾病的无创治疗。\n",
      "(4) 零磁科学探索\n",
      "强磁场环境下物性研究已经取得丰硕成果，但是极弱磁场环境中的基础科学研究十分匮乏。依托研究院在量子精密测量领域取得的国际领先的技术成果，基于零磁与近零磁极端环境条件，以及超高灵敏磁场/惯性测量极限表征手段，利用超高精度弱磁精密调控方法，开创零磁科学新方向，开展零磁医学、生物学、化学、基础物理和材料学等领域基础科学研究，有望产生一系列从“0”到“1”的原创性科学新发现，进而催生出颠覆性新技术和新方法，为科技发展和认识自然提供原始动能。\n",
      "教学工作\n",
      "(1) 教授研究生课程《卡尔曼滤波和组合导航》\n",
      "(2) 教授本科生课程《惯性器件原理》，北京市精品课程\n",
      "学术成果（10篇代表性成果）\n",
      "(1) Kai Wei, Wei Ji, Changbo Fu, et al. Constraints on exotic spin-velocity-dependent interactions, Nature Communications, 2022, 13(1): 7387.\n",
      "(2) Zhang Chen, Yuan Heng, Tang Zheng, et al. Inertial rotation measurement with atomic spins: from angular momentum conservation to quantum phase theory, Applied Physics Reviews, 2016, 3(4): 041305. \n",
      "(3) Qi, Zhaohui Hu, Tristan Valenzuela, et al. Magnetically guided cesium interferometer for inertial sensing, Applied Physics Letters, 2017, 110(15): 153502.\n",
      "(4) Liwei Jiang, Wei Quan, Feng Liu, et al. Closed-loop control of compensation point in the K-Rb-21Ne comagnetometer, Physical Review Applied, 2019, 12(2): 024017\n",
      "(5) Wei Ji, Yao Chen, Changbo Fu, et al. New experimental limits on exotic spin-spin-velocity-dependent interactions by using SmCo5 spin sources, Physical Review Letters, 2018, 121(26): 261803\n",
      "(6) Jiancheng Fang, Shiqiang Zheng, Bangcheng Han. AMB vibration control for structural resonance of double-gimbal control moment gyro with high-speed magnetically suspended rotor, IEEE/ASME Transactions on Mechatronics, 2013, 18(1): 32-43.\n",
      "(7) JianCheng Fang, Jie Qin. Advances in atomic gyroscopes: A view from inertial navigation applications, Sensors, 2012, 12(5): 6331-6346.\n",
      "(8) 房建成，宁晓琳，刘劲. 航天器自主天文导航原理与方法(第2版), 国防工业出版社，2017年.（2021年获第五届中国出版政府奖）\n",
      "(9) 房建成, 孙津济, 樊亚洪. 磁悬浮惯性动量轮技术, 国防工业出版社，2012年\n",
      "(10) 房建成，任元. 磁悬浮控制力矩陀螺技术, 国防工业出版社，2014年\n",
      "荣誉获奖\n",
      "(1)卫星新型***飞轮技术，国家技术发明一等奖，2007年，1/6 \n",
      "(2)新型高性能捷联惯性测量装置关键技术研究及应用，国家科技进步二等奖，2007年，1/10\n",
      "(3) 机载高精度位置姿态测量系统关键技术研究及应用，国家技术发明二等奖，2014年，1/6\n",
      "(4)量子精密测量前沿交叉人才培养模式的探索与实践，国家级教学成果二等奖，2018年，1/5\n",
      "(5)厚植情怀、科教融通，把科研势能转化为人才培养动能的北航探索与实践，北京市教学成果特等奖，2022年，3/14\n",
      "(6)传承永恒的陀螺精神，培养惯性技术与导航领域高层次创新人才的探索与实践，北京市教学成果一等奖，2022年，1/12\n",
      "(7)仪器仪表学科高层次创新型人才培养模式的研究与实践，北京市教学成果二等奖，2009年，1/5\n",
      "(8)新时期仪器仪表类人才培养模式的改革与实践，北京市教学成果二等奖，2013年，1/5\n",
      "科研项目\n",
      "(1)极弱磁场国家重大科技基础设施项目，国家发改委重大科技基础设施， 2023.01-2029.12\n",
      "学术兼职\n",
      "(1) 中国科学技术法学会会长，2017.12-至今\n",
      "(2) 中国电子学会副理事长，2019.01-至今\n",
      "\n",
      "\n",
      "\n",
      "\n",
      "\n",
      "\n",
      "\n"
     ]
    }
   ],
   "source": [
    "print(more_info.get_text())\n",
    "        "
   ],
   "metadata": {
    "collapsed": false,
    "ExecuteTime": {
     "end_time": "2024-06-06T07:00:34.218618Z",
     "start_time": "2024-06-06T07:00:34.212844Z"
    }
   },
   "id": "e28b0913747f2405",
   "execution_count": 35
  },
  {
   "cell_type": "code",
   "outputs": [
    {
     "data": {
      "text/plain": "{}"
     },
     "execution_count": 13,
     "metadata": {},
     "output_type": "execute_result"
    }
   ],
   "source": [
    "s = "
   ],
   "metadata": {
    "collapsed": false,
    "ExecuteTime": {
     "end_time": "2024-06-06T06:35:25.840934Z",
     "start_time": "2024-06-06T06:35:25.835603Z"
    }
   },
   "id": "46bb8066d97764d8",
   "execution_count": 13
  }
 ],
 "metadata": {
  "kernelspec": {
   "display_name": "Python 3",
   "language": "python",
   "name": "python3"
  },
  "language_info": {
   "codemirror_mode": {
    "name": "ipython",
    "version": 2
   },
   "file_extension": ".py",
   "mimetype": "text/x-python",
   "name": "python",
   "nbconvert_exporter": "python",
   "pygments_lexer": "ipython2",
   "version": "2.7.6"
  }
 },
 "nbformat": 4,
 "nbformat_minor": 5
}
