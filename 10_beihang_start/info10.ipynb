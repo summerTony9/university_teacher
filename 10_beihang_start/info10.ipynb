{
 "cells": [
  {
   "cell_type": "code",
   "execution_count": 2,
   "id": "initial_id",
   "metadata": {
    "collapsed": true,
    "ExecuteTime": {
     "end_time": "2024-04-24T02:31:51.412650Z",
     "start_time": "2024-04-24T02:31:50.538498Z"
    }
   },
   "outputs": [],
   "source": [
    "import pandas as pd\n",
    "import requests\n",
    "from bs4 import BeautifulSoup"
   ]
  },
  {
   "cell_type": "code",
   "outputs": [
    {
     "name": "stdout",
     "output_type": "stream",
     "text": [
      "zzjs/dkxzzyjy.htm\n",
      "大科学装置研究院\n",
      "zzjs/ckyxxjsx.htm\n",
      "测控与信息技术系\n",
      "zzjs/jmyqydhkzx.htm\n",
      "精密仪器与导航控制系\n",
      "zzjs/ygkxyjsx.htm\n",
      "遥感科学与技术系\n",
      "zzjs/gdgcx.htm\n",
      "光电工程系\n",
      "zzjs/zngzgcx.htm\n",
      "智能感知工程系\n",
      "zzjs/gdjsyjs.htm\n",
      "光电技术研究所\n",
      "zzjs/jxsyzx.htm\n",
      "教学实验中心\n",
      "          研究室                                                url\n",
      "0    大科学装置研究院    https://yqgdxy.buaa.edu.cn/sz/zzjs/dkxzzyjy.htm\n",
      "1    测控与信息技术系    https://yqgdxy.buaa.edu.cn/sz/zzjs/ckyxxjsx.htm\n",
      "2  精密仪器与导航控制系  https://yqgdxy.buaa.edu.cn/sz/zzjs/jmyqydhkzx.htm\n",
      "3    遥感科学与技术系    https://yqgdxy.buaa.edu.cn/sz/zzjs/ygkxyjsx.htm\n",
      "4       光电工程系       https://yqgdxy.buaa.edu.cn/sz/zzjs/gdgcx.htm\n",
      "5     智能感知工程系     https://yqgdxy.buaa.edu.cn/sz/zzjs/zngzgcx.htm\n",
      "6     光电技术研究所     https://yqgdxy.buaa.edu.cn/sz/zzjs/gdjsyjs.htm\n",
      "7      教学实验中心      https://yqgdxy.buaa.edu.cn/sz/zzjs/jxsyzx.htm\n"
     ]
    }
   ],
   "source": [
    "# 提取\n",
    "url = 'https://yqgdxy.buaa.edu.cn/sz/zzjs.htm'\n",
    "response = requests.get(url)\n",
    "soup = BeautifulSoup(response.content,'html.parser')\n",
    "\n",
    "orgs = soup.find('li',class_ = 'active on').find('ul').find_all('a')\n",
    "\n",
    "org_list = []\n",
    "for org in orgs:\n",
    "  org_list.append(pd.DataFrame({\n",
    "      '研究室':[org.get_text()],\n",
    "      'url':'https://yqgdxy.buaa.edu.cn/sz/'+org['href']\n",
    "  }))\n",
    "  \n",
    "org_pd = pd.concat(org_list,ignore_index=True)\n",
    "print(org_pd)"
   ],
   "metadata": {
    "collapsed": false,
    "ExecuteTime": {
     "end_time": "2024-04-24T02:50:13.594490Z",
     "start_time": "2024-04-24T02:50:13.000990Z"
    }
   },
   "id": "1e25793e0ff0ba2b",
   "execution_count": 23
  },
  {
   "cell_type": "code",
   "outputs": [
    {
     "ename": "KeyError",
     "evalue": "0",
     "output_type": "error",
     "traceback": [
      "\u001B[1;31m---------------------------------------------------------------------------\u001B[0m",
      "\u001B[1;31mKeyError\u001B[0m                                  Traceback (most recent call last)",
      "File \u001B[1;32m~\\anaconda3\\envs\\pandas_learning\\lib\\site-packages\\pandas\\core\\indexes\\base.py:3653\u001B[0m, in \u001B[0;36mIndex.get_loc\u001B[1;34m(self, key)\u001B[0m\n\u001B[0;32m   3652\u001B[0m \u001B[38;5;28;01mtry\u001B[39;00m:\n\u001B[1;32m-> 3653\u001B[0m     \u001B[38;5;28;01mreturn\u001B[39;00m \u001B[38;5;28;43mself\u001B[39;49m\u001B[38;5;241;43m.\u001B[39;49m\u001B[43m_engine\u001B[49m\u001B[38;5;241;43m.\u001B[39;49m\u001B[43mget_loc\u001B[49m\u001B[43m(\u001B[49m\u001B[43mcasted_key\u001B[49m\u001B[43m)\u001B[49m\n\u001B[0;32m   3654\u001B[0m \u001B[38;5;28;01mexcept\u001B[39;00m \u001B[38;5;167;01mKeyError\u001B[39;00m \u001B[38;5;28;01mas\u001B[39;00m err:\n",
      "File \u001B[1;32m~\\anaconda3\\envs\\pandas_learning\\lib\\site-packages\\pandas\\_libs\\index.pyx:147\u001B[0m, in \u001B[0;36mpandas._libs.index.IndexEngine.get_loc\u001B[1;34m()\u001B[0m\n",
      "File \u001B[1;32m~\\anaconda3\\envs\\pandas_learning\\lib\\site-packages\\pandas\\_libs\\index.pyx:176\u001B[0m, in \u001B[0;36mpandas._libs.index.IndexEngine.get_loc\u001B[1;34m()\u001B[0m\n",
      "File \u001B[1;32mpandas\\_libs\\hashtable_class_helper.pxi:7080\u001B[0m, in \u001B[0;36mpandas._libs.hashtable.PyObjectHashTable.get_item\u001B[1;34m()\u001B[0m\n",
      "File \u001B[1;32mpandas\\_libs\\hashtable_class_helper.pxi:7088\u001B[0m, in \u001B[0;36mpandas._libs.hashtable.PyObjectHashTable.get_item\u001B[1;34m()\u001B[0m\n",
      "\u001B[1;31mKeyError\u001B[0m: 0",
      "\nThe above exception was the direct cause of the following exception:\n",
      "\u001B[1;31mKeyError\u001B[0m                                  Traceback (most recent call last)",
      "Cell \u001B[1;32mIn[25], line 2\u001B[0m\n\u001B[0;32m      1\u001B[0m \u001B[38;5;28;01mfor\u001B[39;00m i \u001B[38;5;129;01min\u001B[39;00m \u001B[38;5;28mrange\u001B[39m(\u001B[38;5;28mlen\u001B[39m(org_pd)):\n\u001B[1;32m----> 2\u001B[0m     org \u001B[38;5;241m=\u001B[39m \u001B[43morg_pd\u001B[49m\u001B[43m[\u001B[49m\u001B[43mi\u001B[49m\u001B[43m]\u001B[49m\n\u001B[0;32m      3\u001B[0m     \u001B[38;5;28mprint\u001B[39m(org)\n\u001B[0;32m      4\u001B[0m     \u001B[38;5;28mprint\u001B[39m(\u001B[38;5;124m'\u001B[39m\u001B[38;5;124m+++++++++++++++\u001B[39m\u001B[38;5;124m'\u001B[39m)\n",
      "File \u001B[1;32m~\\anaconda3\\envs\\pandas_learning\\lib\\site-packages\\pandas\\core\\frame.py:3761\u001B[0m, in \u001B[0;36mDataFrame.__getitem__\u001B[1;34m(self, key)\u001B[0m\n\u001B[0;32m   3759\u001B[0m \u001B[38;5;28;01mif\u001B[39;00m \u001B[38;5;28mself\u001B[39m\u001B[38;5;241m.\u001B[39mcolumns\u001B[38;5;241m.\u001B[39mnlevels \u001B[38;5;241m>\u001B[39m \u001B[38;5;241m1\u001B[39m:\n\u001B[0;32m   3760\u001B[0m     \u001B[38;5;28;01mreturn\u001B[39;00m \u001B[38;5;28mself\u001B[39m\u001B[38;5;241m.\u001B[39m_getitem_multilevel(key)\n\u001B[1;32m-> 3761\u001B[0m indexer \u001B[38;5;241m=\u001B[39m \u001B[38;5;28;43mself\u001B[39;49m\u001B[38;5;241;43m.\u001B[39;49m\u001B[43mcolumns\u001B[49m\u001B[38;5;241;43m.\u001B[39;49m\u001B[43mget_loc\u001B[49m\u001B[43m(\u001B[49m\u001B[43mkey\u001B[49m\u001B[43m)\u001B[49m\n\u001B[0;32m   3762\u001B[0m \u001B[38;5;28;01mif\u001B[39;00m is_integer(indexer):\n\u001B[0;32m   3763\u001B[0m     indexer \u001B[38;5;241m=\u001B[39m [indexer]\n",
      "File \u001B[1;32m~\\anaconda3\\envs\\pandas_learning\\lib\\site-packages\\pandas\\core\\indexes\\base.py:3655\u001B[0m, in \u001B[0;36mIndex.get_loc\u001B[1;34m(self, key)\u001B[0m\n\u001B[0;32m   3653\u001B[0m     \u001B[38;5;28;01mreturn\u001B[39;00m \u001B[38;5;28mself\u001B[39m\u001B[38;5;241m.\u001B[39m_engine\u001B[38;5;241m.\u001B[39mget_loc(casted_key)\n\u001B[0;32m   3654\u001B[0m \u001B[38;5;28;01mexcept\u001B[39;00m \u001B[38;5;167;01mKeyError\u001B[39;00m \u001B[38;5;28;01mas\u001B[39;00m err:\n\u001B[1;32m-> 3655\u001B[0m     \u001B[38;5;28;01mraise\u001B[39;00m \u001B[38;5;167;01mKeyError\u001B[39;00m(key) \u001B[38;5;28;01mfrom\u001B[39;00m \u001B[38;5;21;01merr\u001B[39;00m\n\u001B[0;32m   3656\u001B[0m \u001B[38;5;28;01mexcept\u001B[39;00m \u001B[38;5;167;01mTypeError\u001B[39;00m:\n\u001B[0;32m   3657\u001B[0m     \u001B[38;5;66;03m# If we have a listlike key, _check_indexing_error will raise\u001B[39;00m\n\u001B[0;32m   3658\u001B[0m     \u001B[38;5;66;03m#  InvalidIndexError. Otherwise we fall through and re-raise\u001B[39;00m\n\u001B[0;32m   3659\u001B[0m     \u001B[38;5;66;03m#  the TypeError.\u001B[39;00m\n\u001B[0;32m   3660\u001B[0m     \u001B[38;5;28mself\u001B[39m\u001B[38;5;241m.\u001B[39m_check_indexing_error(key)\n",
      "\u001B[1;31mKeyError\u001B[0m: 0"
     ]
    }
   ],
   "source": [
    "for i in range(len(org_pd)):\n",
    "    org = org_pd[i]\n",
    "    print(org)\n",
    "    print('+++++++++++++++')"
   ],
   "metadata": {
    "collapsed": false,
    "ExecuteTime": {
     "end_time": "2024-04-24T02:55:32.796266Z",
     "start_time": "2024-04-24T02:55:30.582601Z"
    }
   },
   "id": "1097d8391fc84333",
   "execution_count": 25
  },
  {
   "cell_type": "code",
   "outputs": [],
   "source": [],
   "metadata": {
    "collapsed": false,
    "ExecuteTime": {
     "end_time": "2024-04-24T02:38:23.079292Z",
     "start_time": "2024-04-24T02:38:23.067101Z"
    }
   },
   "id": "2a1808347bbc1f0",
   "execution_count": 15
  },
  {
   "cell_type": "code",
   "outputs": [
    {
     "name": "stdout",
     "output_type": "stream",
     "text": [
      "zzjs/dkxzzyjy.htm\n",
      "大科学装置研究院\n",
      "zzjs/ckyxxjsx.htm\n",
      "测控与信息技术系\n",
      "zzjs/jmyqydhkzx.htm\n",
      "精密仪器与导航控制系\n",
      "zzjs/ygkxyjsx.htm\n",
      "遥感科学与技术系\n",
      "zzjs/gdgcx.htm\n",
      "光电工程系\n",
      "zzjs/zngzgcx.htm\n",
      "智能感知工程系\n",
      "zzjs/gdjsyjs.htm\n",
      "光电技术研究所\n",
      "zzjs/jxsyzx.htm\n",
      "教学实验中心\n"
     ]
    }
   ],
   "source": [
    "# print(li\n",
    "\n"
   ],
   "metadata": {
    "collapsed": false,
    "ExecuteTime": {
     "end_time": "2024-04-24T02:43:03.783969Z",
     "start_time": "2024-04-24T02:43:03.770123Z"
    }
   },
   "id": "e568fd12b1c04250",
   "execution_count": 18
  },
  {
   "cell_type": "code",
   "outputs": [
    {
     "name": "stdout",
     "output_type": "stream",
     "text": [
      "        研究室                                              url\n",
      "0  大科学装置研究院  https://yqgdxy.buaa.edu.cn/sz/zzjs/dkxzzyjy.htm\n"
     ]
    }
   ],
   "source": [],
   "metadata": {
    "collapsed": false,
    "ExecuteTime": {
     "end_time": "2024-04-24T02:43:54.405742Z",
     "start_time": "2024-04-24T02:43:54.400202Z"
    }
   },
   "id": "1542f1a5b3484c02",
   "execution_count": 20
  },
  {
   "cell_type": "code",
   "outputs": [
    {
     "name": "stdout",
     "output_type": "stream",
     "text": [
      "          研究室                                                url\n",
      "0    大科学装置研究院    https://yqgdxy.buaa.edu.cn/sz/zzjs/dkxzzyjy.htm\n",
      "1    测控与信息技术系    https://yqgdxy.buaa.edu.cn/sz/zzjs/ckyxxjsx.htm\n",
      "2  精密仪器与导航控制系  https://yqgdxy.buaa.edu.cn/sz/zzjs/jmyqydhkzx.htm\n",
      "3    遥感科学与技术系    https://yqgdxy.buaa.edu.cn/sz/zzjs/ygkxyjsx.htm\n",
      "4       光电工程系       https://yqgdxy.buaa.edu.cn/sz/zzjs/gdgcx.htm\n",
      "5     智能感知工程系     https://yqgdxy.buaa.edu.cn/sz/zzjs/zngzgcx.htm\n",
      "6     光电技术研究所     https://yqgdxy.buaa.edu.cn/sz/zzjs/gdjsyjs.htm\n",
      "7      教学实验中心      https://yqgdxy.buaa.edu.cn/sz/zzjs/jxsyzx.htm\n"
     ]
    }
   ],
   "source": [],
   "metadata": {
    "collapsed": false,
    "ExecuteTime": {
     "end_time": "2024-04-24T02:46:41.167512Z",
     "start_time": "2024-04-24T02:46:41.148814Z"
    }
   },
   "id": "3754f852ae23b2a3",
   "execution_count": 22
  },
  {
   "cell_type": "code",
   "outputs": [],
   "source": [],
   "metadata": {
    "collapsed": false
   },
   "id": "6b8f26a543a25b9b"
  }
 ],
 "metadata": {
  "kernelspec": {
   "display_name": "Python 3",
   "language": "python",
   "name": "python3"
  },
  "language_info": {
   "codemirror_mode": {
    "name": "ipython",
    "version": 2
   },
   "file_extension": ".py",
   "mimetype": "text/x-python",
   "name": "python",
   "nbconvert_exporter": "python",
   "pygments_lexer": "ipython2",
   "version": "2.7.6"
  }
 },
 "nbformat": 4,
 "nbformat_minor": 5
}
