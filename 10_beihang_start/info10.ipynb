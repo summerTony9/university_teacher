{
 "cells": [
  {
   "cell_type": "code",
   "execution_count": 15,
   "id": "initial_id",
   "metadata": {
    "collapsed": true,
    "ExecuteTime": {
     "end_time": "2024-06-05T13:30:04.314851Z",
     "start_time": "2024-06-05T13:30:04.286595Z"
    }
   },
   "outputs": [],
   "source": [
    "import pandas as pd\n",
    "import requests\n",
    "from bs4 import BeautifulSoup\n",
    "from fake_useragent import UserAgent"
   ]
  },
  {
   "cell_type": "code",
   "outputs": [
    {
     "name": "stdout",
     "output_type": "stream",
     "text": [
      "          研究室                                                url\n",
      "0    大科学装置研究院    https://yqgdxy.buaa.edu.cn/sz/zzjs/dkxzzyjy.htm\n",
      "1    测控与信息技术系    https://yqgdxy.buaa.edu.cn/sz/zzjs/ckyxxjsx.htm\n",
      "2  精密仪器与导航控制系  https://yqgdxy.buaa.edu.cn/sz/zzjs/jmyqydhkzx.htm\n",
      "3    遥感科学与技术系    https://yqgdxy.buaa.edu.cn/sz/zzjs/ygkxyjsx.htm\n",
      "4       光电工程系       https://yqgdxy.buaa.edu.cn/sz/zzjs/gdgcx.htm\n",
      "5     智能感知工程系     https://yqgdxy.buaa.edu.cn/sz/zzjs/zngzgcx.htm\n",
      "6     光电技术研究所     https://yqgdxy.buaa.edu.cn/sz/zzjs/gdjsyjs.htm\n",
      "7      教学实验中心      https://yqgdxy.buaa.edu.cn/sz/zzjs/jxsyzx.htm\n"
     ]
    }
   ],
   "source": [
    "# 提取\n",
    "url = 'https://yqgdxy.buaa.edu.cn/sz/zzjs.htm'\n",
    "response = requests.get(url)\n",
    "soup = BeautifulSoup(response.content,'html.parser')\n",
    "\n",
    "orgs = soup.find('li',class_ = 'active on').find('ul').find_all('a')\n",
    "\n",
    "org_list = []\n",
    "for org in orgs:\n",
    "  org_list.append(pd.DataFrame({\n",
    "      '研究室':[org.get_text()],\n",
    "      'url':'https://yqgdxy.buaa.edu.cn/sz/'+org['href']\n",
    "  }))\n",
    "\n",
    "org_pd = pd.concat(org_list,ignore_index=True)\n",
    "print(org_pd)"
   ],
   "metadata": {
    "collapsed": false,
    "ExecuteTime": {
     "end_time": "2024-06-05T11:41:07.227097Z",
     "start_time": "2024-06-05T11:41:06.962208Z"
    }
   },
   "id": "1e25793e0ff0ba2b",
   "execution_count": 6
  },
  {
   "cell_type": "code",
   "outputs": [],
   "source": [
    "org_pd['pages'] = [5, 5, 3, 2, 2, 1, 3, 1]\n",
    "org_pd.to_csv('dept.csv', index=False, encoding='utf-8-sig')"
   ],
   "metadata": {
    "collapsed": false,
    "ExecuteTime": {
     "end_time": "2024-06-05T13:17:01.126879Z",
     "start_time": "2024-06-05T13:17:01.117909Z"
    }
   },
   "id": "c98419cb424755f8",
   "execution_count": 12
  },
  {
   "cell_type": "code",
   "outputs": [
    {
     "ename": "SyntaxError",
     "evalue": "unexpected EOF while parsing (356368911.py, line 2)",
     "output_type": "error",
     "traceback": [
      "\u001B[1;36m  Cell \u001B[1;32mIn[23], line 2\u001B[1;36m\u001B[0m\n\u001B[1;33m    if i == 0:\u001B[0m\n\u001B[1;37m              ^\u001B[0m\n\u001B[1;31mSyntaxError\u001B[0m\u001B[1;31m:\u001B[0m unexpected EOF while parsing\n"
     ]
    }
   ],
   "source": [
    "for i in range(pages):\n",
    "    if i == 0:\n",
    "        url_new = url\n",
    "    else:\n",
    "        url_new = url[:-4]+ '/' + str(pages-1) + '.htm'\n",
    "    "
   ],
   "metadata": {
    "collapsed": false,
    "ExecuteTime": {
     "end_time": "2024-06-05T13:48:44.836076Z",
     "start_time": "2024-06-05T13:48:44.819133Z"
    }
   },
   "id": "1fcb30cab53127d9",
   "execution_count": 23
  },
  {
   "cell_type": "code",
   "outputs": [],
   "source": [
    "def get_infos(url):\n",
    "    html = requests.get(url, headers={'User-Agent': UserAgent().random}).content\n",
    "    bs0bj = BeautifulSoup(html, features='html.parser')\n",
    "    infos = bs0bj.find('div', {'class': \"ldtz\"}).find_all('li')\n",
    "    names = [info.find('h3').get_text().strip() for info in infos]\n",
    "    urls = [\"https://yqgdxy.buaa.edu.cn/\" + info.find('a').get('href')[7:] for info in infos]\n",
    "    return pd.DataFrame(\n",
    "        {'姓名': names,\n",
    "         'url': urls}\n",
    "    )"
   ],
   "metadata": {
    "collapsed": false
   },
   "id": "cf227686265f34f3"
  },
  {
   "cell_type": "code",
   "outputs": [
    {
     "name": "stdout",
     "output_type": "stream",
     "text": [
      "https://yqgdxy.buaa.edu.cn/sz/zzjs/dkxzzyjy.htm\n",
      "https://yqgdxy.buaa.edu.cn/sz/zzjs/ckyxxjsx.htm\n",
      "https://yqgdxy.buaa.edu.cn/sz/zzjs/jmyqydhkzx.htm\n",
      "https://yqgdxy.buaa.edu.cn/sz/zzjs/ygkxyjsx.htm\n",
      "https://yqgdxy.buaa.edu.cn/sz/zzjs/gdgcx.htm\n",
      "https://yqgdxy.buaa.edu.cn/sz/zzjs/zngzgcx.htm\n",
      "https://yqgdxy.buaa.edu.cn/sz/zzjs/gdjsyjs.htm\n",
      "https://yqgdxy.buaa.edu.cn/sz/zzjs/jxsyzx.htm\n"
     ]
    }
   ],
   "source": [
    "depts = pd.read_csv('dept.csv')\n",
    "df_list = []\n",
    "\n",
    "for index in range(len(depts)):\n",
    "    print(depts.loc[index, 'url'])\n",
    "    url = depts.loc[index, 'url']\n",
    "    dept = depts.loc[index, '研究室']\n",
    "    for i in range(depts[index, 'pages']):\n",
    "        if i == 0:\n",
    "            url_new = url\n",
    "        else:\n",
    "            url_new = url[:-4]+ '/' + str(i) + '.htm'\n",
    "        df = get_infos(url_new)\n",
    "        df['研究室'] = dept\n",
    "        df_list.append(df)\n",
    "\n",
    "        "
   ],
   "metadata": {
    "collapsed": false,
    "ExecuteTime": {
     "end_time": "2024-06-05T13:53:36.787202Z",
     "start_time": "2024-06-05T13:53:36.780226Z"
    }
   },
   "id": "eaeab40338eda2cc",
   "execution_count": 26
  },
  {
   "cell_type": "code",
   "outputs": [],
   "source": [],
   "metadata": {
    "collapsed": false,
    "ExecuteTime": {
     "end_time": "2024-06-05T13:57:03.358803Z",
     "start_time": "2024-06-05T13:57:03.344849Z"
    }
   },
   "id": "e4f08dfecd81ea7d",
   "execution_count": 27
  },
  {
   "cell_type": "code",
   "outputs": [
    {
     "data": {
      "text/plain": "    姓名                                        url\n0  房建成  https://yqgdxy.buaa.edu.cn//1017/5226.htm\n1   刘刚  https://yqgdxy.buaa.edu.cn//1017/5303.htm\n2  韩邦成  https://yqgdxy.buaa.edu.cn//1017/5234.htm\n3  全 伟  https://yqgdxy.buaa.edu.cn//1017/5228.htm\n4  宁晓琳  https://yqgdxy.buaa.edu.cn//1017/5257.htm\n5  李建利  https://yqgdxy.buaa.edu.cn//1017/4297.htm\n6  孙津济  https://yqgdxy.buaa.edu.cn//1017/5243.htm\n7  郑世强  https://yqgdxy.buaa.edu.cn//1017/5259.htm\n8  周新秀  https://yqgdxy.buaa.edu.cn//1017/5252.htm\n9   叶茂  https://yqgdxy.buaa.edu.cn//1017/5224.htm",
      "text/html": "<div>\n<style scoped>\n    .dataframe tbody tr th:only-of-type {\n        vertical-align: middle;\n    }\n\n    .dataframe tbody tr th {\n        vertical-align: top;\n    }\n\n    .dataframe thead th {\n        text-align: right;\n    }\n</style>\n<table border=\"1\" class=\"dataframe\">\n  <thead>\n    <tr style=\"text-align: right;\">\n      <th></th>\n      <th>姓名</th>\n      <th>url</th>\n    </tr>\n  </thead>\n  <tbody>\n    <tr>\n      <th>0</th>\n      <td>房建成</td>\n      <td>https://yqgdxy.buaa.edu.cn//1017/5226.htm</td>\n    </tr>\n    <tr>\n      <th>1</th>\n      <td>刘刚</td>\n      <td>https://yqgdxy.buaa.edu.cn//1017/5303.htm</td>\n    </tr>\n    <tr>\n      <th>2</th>\n      <td>韩邦成</td>\n      <td>https://yqgdxy.buaa.edu.cn//1017/5234.htm</td>\n    </tr>\n    <tr>\n      <th>3</th>\n      <td>全 伟</td>\n      <td>https://yqgdxy.buaa.edu.cn//1017/5228.htm</td>\n    </tr>\n    <tr>\n      <th>4</th>\n      <td>宁晓琳</td>\n      <td>https://yqgdxy.buaa.edu.cn//1017/5257.htm</td>\n    </tr>\n    <tr>\n      <th>5</th>\n      <td>李建利</td>\n      <td>https://yqgdxy.buaa.edu.cn//1017/4297.htm</td>\n    </tr>\n    <tr>\n      <th>6</th>\n      <td>孙津济</td>\n      <td>https://yqgdxy.buaa.edu.cn//1017/5243.htm</td>\n    </tr>\n    <tr>\n      <th>7</th>\n      <td>郑世强</td>\n      <td>https://yqgdxy.buaa.edu.cn//1017/5259.htm</td>\n    </tr>\n    <tr>\n      <th>8</th>\n      <td>周新秀</td>\n      <td>https://yqgdxy.buaa.edu.cn//1017/5252.htm</td>\n    </tr>\n    <tr>\n      <th>9</th>\n      <td>叶茂</td>\n      <td>https://yqgdxy.buaa.edu.cn//1017/5224.htm</td>\n    </tr>\n  </tbody>\n</table>\n</div>"
     },
     "execution_count": 28,
     "metadata": {},
     "output_type": "execute_result"
    }
   ],
   "source": [
    "get_infos('https://yqgdxy.buaa.edu.cn/sz/zzjs.htm')"
   ],
   "metadata": {
    "collapsed": false,
    "ExecuteTime": {
     "end_time": "2024-06-05T13:58:06.553341Z",
     "start_time": "2024-06-05T13:58:06.247880Z"
    }
   },
   "id": "a9987e66bfe88bf2",
   "execution_count": 28
  }
 ],
 "metadata": {
  "kernelspec": {
   "display_name": "Python 3",
   "language": "python",
   "name": "python3"
  },
  "language_info": {
   "codemirror_mode": {
    "name": "ipython",
    "version": 2
   },
   "file_extension": ".py",
   "mimetype": "text/x-python",
   "name": "python",
   "nbconvert_exporter": "python",
   "pygments_lexer": "ipython2",
   "version": "2.7.6"
  }
 },
 "nbformat": 4,
 "nbformat_minor": 5
}
