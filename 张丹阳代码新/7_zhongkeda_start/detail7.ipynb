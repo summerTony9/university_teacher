{
 "cells": [
  {
   "cell_type": "code",
   "execution_count": 1,
   "id": "initial_id",
   "metadata": {
    "collapsed": true,
    "ExecuteTime": {
     "end_time": "2024-04-23T13:22:27.151433Z",
     "start_time": "2024-04-23T13:22:26.551918Z"
    }
   },
   "source": [
    "import pandas as pd\n",
    "import requests\n",
    "from bs4 import BeautifulSoup"
   ],
   "outputs": []
  },
  {
   "cell_type": "code",
   "source": [
    "info_pd = pd.read_csv('info.csv')"
   ],
   "metadata": {
    "collapsed": false,
    "ExecuteTime": {
     "end_time": "2024-04-23T13:22:44.420232Z",
     "start_time": "2024-04-23T13:22:44.398436Z"
    }
   },
   "id": "8cf50070631b878a",
   "execution_count": 2,
   "outputs": []
  },
  {
   "cell_type": "code",
   "source": [
    "print(info_pd)"
   ],
   "metadata": {
    "collapsed": false,
    "ExecuteTime": {
     "end_time": "2024-04-23T13:22:49.131766Z",
     "start_time": "2024-04-23T13:22:49.124095Z"
    }
   },
   "id": "9dbcb5ebb66ed644",
   "execution_count": 3,
   "outputs": []
  },
  {
   "cell_type": "code",
   "source": [
    "url = info_pd.iloc[0]['url']\n",
    "response = requests.get(url)\n",
    "soup = BeautifulSoup(response.content,'html.parser')"
   ],
   "metadata": {
    "collapsed": false,
    "ExecuteTime": {
     "end_time": "2024-04-23T13:24:33.215479Z",
     "start_time": "2024-04-23T13:24:32.792357Z"
    }
   },
   "id": "8a869b02abce06c5",
   "execution_count": 10,
   "outputs": []
  },
  {
   "cell_type": "code",
   "source": [
    "content = soup.find('div',class_='wp_articlecontent')\n",
    "print(content)"
   ],
   "metadata": {
    "collapsed": false,
    "ExecuteTime": {
     "end_time": "2024-04-23T13:33:41.036263Z",
     "start_time": "2024-04-23T13:33:41.018417Z"
    }
   },
   "id": "1ccb468c5610732b",
   "execution_count": 15,
   "outputs": []
  },
  {
   "cell_type": "code",
   "source": [
    "up_contents = content.find_all('p',style = 'font-size:14px;line-height:1.5em;')"
   ],
   "metadata": {
    "collapsed": false,
    "ExecuteTime": {
     "end_time": "2024-04-23T13:34:39.578096Z",
     "start_time": "2024-04-23T13:34:39.571829Z"
    }
   },
   "id": "e7ca210a438bd3a2",
   "execution_count": 19,
   "outputs": []
  },
  {
   "cell_type": "code",
   "source": [
    "def merge_dicts_with_list_values(dict_list):\n",
    "    all_keys = set(key for d in dict_list for key in d.keys())\n",
    "\n",
    "    # 初始化最终的字典，每个键对应一个空列表\n",
    "    merged_dict = {key: [] for key in all_keys}\n",
    "\n",
    "    # 遍历每个字典和所有键\n",
    "    for key in all_keys:\n",
    "        for d in dict_list:\n",
    "            # 如果当前字典有这个键，则添加它的值；否则，添加一个空值\n",
    "            merged_dict[key].append(d.get(key, None))  # 用None作为空值，也可以用\"\"或其他\n",
    "\n",
    "    return merged_dict"
   ],
   "metadata": {
    "collapsed": false,
    "ExecuteTime": {
     "end_time": "2024-04-23T13:40:57.506298Z",
     "start_time": "2024-04-23T13:40:57.487737Z"
    }
   },
   "id": "c92955e888a54730",
   "execution_count": 23,
   "outputs": []
  },
  {
   "cell_type": "code",
   "source": [
    "for up_content in up_contents:\n",
    "    print(up_content.get_text())\n",
    "    print('+++++++')\n",
    "# print(up_content)"
   ],
   "metadata": {
    "collapsed": false,
    "ExecuteTime": {
     "end_time": "2024-04-23T13:35:13.162951Z",
     "start_time": "2024-04-23T13:35:13.155180Z"
    }
   },
   "id": "53065a1054725369",
   "execution_count": 22,
   "outputs": []
  },
  {
   "cell_type": "code",
   "source": [],
   "metadata": {
    "collapsed": false
   },
   "id": "ec2bc2f9d66681f0",
   "execution_count": null,
   "outputs": []
  }
 ],
 "metadata": {
  "kernelspec": {
   "display_name": "Python 3",
   "language": "python",
   "name": "python3"
  },
  "language_info": {
   "codemirror_mode": {
    "name": "ipython",
    "version": 2
   },
   "file_extension": ".py",
   "mimetype": "text/x-python",
   "name": "python",
   "nbconvert_exporter": "python",
   "pygments_lexer": "ipython2",
   "version": "2.7.6"
  }
 },
 "nbformat": 4,
 "nbformat_minor": 5
}
