{
 "cells": [
  {
   "cell_type": "code",
   "execution_count": 2,
   "id": "initial_id",
   "metadata": {
    "collapsed": true,
    "ExecuteTime": {
     "end_time": "2024-03-29T10:59:16.283621Z",
     "start_time": "2024-03-29T10:59:15.648016Z"
    }
   },
   "outputs": [
    {
     "ename": "ModuleNotFoundError",
     "evalue": "No module named 'openpyxl'",
     "output_type": "error",
     "traceback": [
      "\u001B[1;31m---------------------------------------------------------------------------\u001B[0m",
      "\u001B[1;31mModuleNotFoundError\u001B[0m                       Traceback (most recent call last)",
      "Cell \u001B[1;32mIn[2], line 4\u001B[0m\n\u001B[0;32m      2\u001B[0m \u001B[38;5;28;01mfrom\u001B[39;00m \u001B[38;5;21;01mbs4\u001B[39;00m \u001B[38;5;28;01mimport\u001B[39;00m BeautifulSoup\n\u001B[0;32m      3\u001B[0m \u001B[38;5;28;01mimport\u001B[39;00m \u001B[38;5;21;01mrequests\u001B[39;00m\n\u001B[1;32m----> 4\u001B[0m \u001B[38;5;28;01mimport\u001B[39;00m \u001B[38;5;21;01mopenpyxl\u001B[39;00m\n",
      "\u001B[1;31mModuleNotFoundError\u001B[0m: No module named 'openpyxl'"
     ]
    }
   ],
   "source": [
    "import pandas as pd\n",
    "from bs4 import BeautifulSoup\n",
    "import requests\n",
    "import openpyxl"
   ]
  },
  {
   "cell_type": "code",
   "outputs": [],
   "source": [
    "teacher_info_pd = pd.read_csv('teacher_info.csv')"
   ],
   "metadata": {
    "collapsed": false,
    "ExecuteTime": {
     "end_time": "2024-03-29T07:20:43.281407Z",
     "start_time": "2024-03-29T07:20:43.264617Z"
    }
   },
   "id": "26c5c597ceb727bd",
   "execution_count": 3
  },
  {
   "cell_type": "code",
   "outputs": [
    {
     "data": {
      "text/plain": "              dept_name name                                             url\n0    \\n超精密光电仪器工程研究所\\n\\n  王伟波                  http://homepage.hit.edu.cn/wwb\n1    \\n超精密光电仪器工程研究所\\n\\n  王绍凯          http://homepage.hit.edu.cn/wangshaokai\n2    \\n超精密光电仪器工程研究所\\n\\n  史维佳            http://homepage.hit.edu.cn/WeijiaShi\n3    \\n超精密光电仪器工程研究所\\n\\n  付海金             http://homepage.hit.edu.cn/fuhaijin\n4    \\n超精密光电仪器工程研究所\\n\\n  刘　杨                http://homepage.hit.edu.cn/lghit\n..                  ...  ...                                             ...\n97     \\n公差与仪器零件教研室\\n\\n  刘永猛          http://homepage.hit.edu.cn/liuyongmeng\n98    \\n空间激光信息传输研究室\\n\\n  于思源   http://homepage.hit.edu.cn/wangqisong?lang=zh\n99    \\n先进光电成像技术研究室\\n\\n  李浩宇      http://homepage.hit.edu.cn/lihaoyu?lang=zh\n100   \\n先进光电成像技术研究室\\n\\n  赵唯淞  http://homepage.hit.edu.cn/weisongzhao?lang=zh\n101   \\n先进光电成像技术研究室\\n\\n  尚关玉         https://homepage.hit.edu.cn/shangguanyu\n\n[102 rows x 3 columns]",
      "text/html": "<div>\n<style scoped>\n    .dataframe tbody tr th:only-of-type {\n        vertical-align: middle;\n    }\n\n    .dataframe tbody tr th {\n        vertical-align: top;\n    }\n\n    .dataframe thead th {\n        text-align: right;\n    }\n</style>\n<table border=\"1\" class=\"dataframe\">\n  <thead>\n    <tr style=\"text-align: right;\">\n      <th></th>\n      <th>dept_name</th>\n      <th>name</th>\n      <th>url</th>\n    </tr>\n  </thead>\n  <tbody>\n    <tr>\n      <th>0</th>\n      <td>\\n超精密光电仪器工程研究所\\n\\n</td>\n      <td>王伟波</td>\n      <td>http://homepage.hit.edu.cn/wwb</td>\n    </tr>\n    <tr>\n      <th>1</th>\n      <td>\\n超精密光电仪器工程研究所\\n\\n</td>\n      <td>王绍凯</td>\n      <td>http://homepage.hit.edu.cn/wangshaokai</td>\n    </tr>\n    <tr>\n      <th>2</th>\n      <td>\\n超精密光电仪器工程研究所\\n\\n</td>\n      <td>史维佳</td>\n      <td>http://homepage.hit.edu.cn/WeijiaShi</td>\n    </tr>\n    <tr>\n      <th>3</th>\n      <td>\\n超精密光电仪器工程研究所\\n\\n</td>\n      <td>付海金</td>\n      <td>http://homepage.hit.edu.cn/fuhaijin</td>\n    </tr>\n    <tr>\n      <th>4</th>\n      <td>\\n超精密光电仪器工程研究所\\n\\n</td>\n      <td>刘　杨</td>\n      <td>http://homepage.hit.edu.cn/lghit</td>\n    </tr>\n    <tr>\n      <th>...</th>\n      <td>...</td>\n      <td>...</td>\n      <td>...</td>\n    </tr>\n    <tr>\n      <th>97</th>\n      <td>\\n公差与仪器零件教研室\\n\\n</td>\n      <td>刘永猛</td>\n      <td>http://homepage.hit.edu.cn/liuyongmeng</td>\n    </tr>\n    <tr>\n      <th>98</th>\n      <td>\\n空间激光信息传输研究室\\n\\n</td>\n      <td>于思源</td>\n      <td>http://homepage.hit.edu.cn/wangqisong?lang=zh</td>\n    </tr>\n    <tr>\n      <th>99</th>\n      <td>\\n先进光电成像技术研究室\\n\\n</td>\n      <td>李浩宇</td>\n      <td>http://homepage.hit.edu.cn/lihaoyu?lang=zh</td>\n    </tr>\n    <tr>\n      <th>100</th>\n      <td>\\n先进光电成像技术研究室\\n\\n</td>\n      <td>赵唯淞</td>\n      <td>http://homepage.hit.edu.cn/weisongzhao?lang=zh</td>\n    </tr>\n    <tr>\n      <th>101</th>\n      <td>\\n先进光电成像技术研究室\\n\\n</td>\n      <td>尚关玉</td>\n      <td>https://homepage.hit.edu.cn/shangguanyu</td>\n    </tr>\n  </tbody>\n</table>\n<p>102 rows × 3 columns</p>\n</div>"
     },
     "execution_count": 4,
     "metadata": {},
     "output_type": "execute_result"
    }
   ],
   "source": [
    "teacher_info_pd"
   ],
   "metadata": {
    "collapsed": false,
    "ExecuteTime": {
     "end_time": "2024-03-29T07:20:43.294304Z",
     "start_time": "2024-03-29T07:20:43.282424Z"
    }
   },
   "id": "bbde5e0e449a050e",
   "execution_count": 4
  },
  {
   "cell_type": "code",
   "outputs": [],
   "source": [
    "index = 0\n",
    "url = teacher_info_pd['url'][index]\n",
    "request = requests.get(url)"
   ],
   "metadata": {
    "collapsed": false,
    "ExecuteTime": {
     "end_time": "2024-03-29T09:19:36.464652Z",
     "start_time": "2024-03-29T09:19:36.238117Z"
    }
   },
   "id": "1fc59e7de3fe75a",
   "execution_count": 122
  },
  {
   "cell_type": "code",
   "outputs": [],
   "source": [
    "request.content.decode('utf-8')\n",
    "soup = BeautifulSoup(request.content, 'html.parser')"
   ],
   "metadata": {
    "collapsed": false,
    "ExecuteTime": {
     "end_time": "2024-03-29T09:19:38.881770Z",
     "start_time": "2024-03-29T09:19:38.873622Z"
    }
   },
   "id": "bf0e26f92734f05c",
   "execution_count": 123
  },
  {
   "cell_type": "code",
   "outputs": [],
   "source": [
    "name = soup.find('h3', class_='tit chineseName').get_text()\n",
    "country = soup.find('em', class_='user-country').get_text()\n",
    "title = soup.find('div',class_ = 'tips').get_text()\n",
    "part = soup.find('div',class_ = 'part2 part').get_text().replace(' ','')\n",
    "position = soup.find('span',class_ = 'user-position').get_text()\n",
    "position_url = soup.find('div',class_ = 'part4 part').find('a').get('href') #目前就职\n",
    "# position_url\n",
    "discipline = soup.find('span',class_ = 'user-discipline').get_text() # 学科\n",
    "label = soup.find('span',class_ = 'user-label').get_text() #研究方向\n",
    "body_id = soup.find('div',class_ = 'col-l teacher-body').get('data-tid')\n",
    "# body_id\n",
    "\n",
    "is_teacher = requests.post(\"https://homepage.hit.edu.cn/TeacherHome/isTeacherUser.do\", data={'userid':body_id})\n",
    "modify_time = is_teacher.json().get('mDate')\n",
    "# soup_is = BeautifulSoup(is_teacher, 'html.parser')\n",
    "teacher_body = requests.post(url=\"https://homepage.hit.edu.cn/TeacherHome/teacherBody.do\",data = {'id':body_id})\n",
    "soup_body = BeautifulSoup(teacher_body.content,'html.parser')\n",
    "body_info = soup_body.find_all('li')"
   ],
   "metadata": {
    "collapsed": false,
    "ExecuteTime": {
     "end_time": "2024-03-29T09:19:43.651033Z",
     "start_time": "2024-03-29T09:19:41.841836Z"
    }
   },
   "id": "5062b71e25153167",
   "execution_count": 124
  },
  {
   "cell_type": "code",
   "outputs": [
    {
     "name": "stdout",
     "output_type": "stream",
     "text": []
    }
   ],
   "source": [
    "# 可以针对错误的html进行处理\n",
    "soup_body = BeautifulSoup(teacher_body.text.replace('\\\\',''),'html.parser')\n"
   ],
   "metadata": {
    "collapsed": false,
    "ExecuteTime": {
     "end_time": "2024-03-29T10:01:36.076873Z",
     "start_time": "2024-03-29T10:01:36.041176Z"
    }
   },
   "id": "9bb49ff5fa591655",
   "execution_count": 159
  },
  {
   "cell_type": "code",
   "outputs": [
    {
     "data": {
      "text/plain": "[<div class=\"part_t_l\"> <i class=\"title_svg template_icon999\"></i><em data-editor=\"1\" data-more=\"0\" id=\"999\">基本信息</em><i class=\"part_icon part_icon_e1\" style=\"display:flex;\"></i> </div>,\n <div class=\"part_t_l\"> <i class=\"title_svg template_icon999\"></i><em data-editor=\"1\" data-more=\"0\" id=\"999\">学术兼职</em><i class=\"part_icon part_icon_e1\" style=\"display:flex;\"></i> </div>,\n <div class=\"part_t_l\"> <i class=\"title_svg template_icon999\"></i><em data-editor=\"1\" data-more=\"0\" id=\"999\">奖励与荣誉</em><i class=\"part_icon part_icon_e1\" style=\"display:flex;\"></i> </div>,\n <div class=\"part_t_l\"> <i class=\"title_svg template_icon999\"></i><em data-editor=\"1\" data-more=\"0\" id=\"999\">招生信息</em><i class=\"part_icon part_icon_e1\" style=\"display:flex;\"></i> </div>,\n <div class=\"part_t_l\"> <i class=\"title_svg template_icon999\"></i><em data-editor=\"1\" data-more=\"0\" id=\"999\">工作经历</em><i class=\"part_icon part_icon_e1\" style=\"display:flex;\"></i> </div>,\n <div class=\"part_t_l\"> <i class=\"title_svg template_icon999\"></i><em data-editor=\"1\" data-more=\"0\" id=\"999\">教育经历</em><i class=\"part_icon part_icon_e1\" style=\"display:flex;\"></i> </div>,\n <div class=\"part_t_l\"> <i class=\"title_svg template_icon3101\"></i><em data-editor=\"1\" data-more=\"0\" id=\"3101\">研究领域</em><i class=\"part_icon part_icon_e1\" style=\"display:flex;\"></i> </div>,\n <div class=\"part_t_l\"> <i class=\"title_svg template_icon3101\"></i><em data-more=\"0\" id=\"3101\">面向智能制造的智能视觉检测与图像处理</em><i class=\"part_icon part_icon_e1\" style=\"display:flex;\"></i> </div>,\n <div class=\"part_t_l\"> <i class=\"title_svg template_icon3101\"></i><em data-more=\"0\" id=\"3101\">面向高端制造和科学仪器的超分辨显微测量与智能成像（工业、生物）</em><i class=\"part_icon part_icon_e1\" style=\"display:flex;\"></i> </div>,\n <div class=\"part_t_l\"> <i class=\"title_svg template_icon3101\"></i><em data-editor=\"1\" data-more=\"0\" id=\"3101\">面向高端制造的超精密光学传感与成像</em><i class=\"part_icon part_icon_e1\" style=\"display:flex;\"></i> </div>,\n <div class=\"part_t_l\"> <i class=\"title_svg template_icon3401\"></i><em data-more=\"1\" id=\"3401\">国际合作交流</em><i class=\"part_icon part_icon_e1\" style=\"display:flex;\"></i> </div>,\n <div class=\"part_t_l\"> <i class=\"title_svg template_icon3401\"></i><em data-editor=\"1\" data-more=\"1\" id=\"3401\">团队荣誉</em><i class=\"part_icon part_icon_e1\" style=\"display:flex;\"></i> </div>,\n <div class=\"part_t_l\"> <i class=\"title_svg template_icon3102\"></i><em data-editor=\"1\" data-more=\"0\" id=\"3102\">团队成员</em><i class=\"part_icon part_icon_e1\" style=\"display:flex;\"></i> </div>,\n <div class=\"part_t_l\"> <i class=\"title_svg template_icon3102\"></i><em data-editor=\"1\" data-more=\"0\" id=\"3102\">已毕业研究生</em><i class=\"part_icon part_icon_e1\" style=\"display:flex;\"></i> </div>,\n <div class=\"part_t_l\"> <i class=\"title_svg template_icon3202\"></i><em data-editor=\"1\" data-more=\"0\" id=\"3202\">指导本科毕业设计</em><i class=\"part_icon part_icon_e1\" style=\"display:flex;\"></i> </div>,\n <div class=\"part_t_l\"> <i class=\"title_svg template_icon999\"></i><em data-more=\"0\" id=\"999\">代表论文15篇</em><i class=\"part_icon part_icon_e1\" style=\"display:flex;\"></i> </div>]"
     },
     "execution_count": 164,
     "metadata": {},
     "output_type": "execute_result"
    }
   ],
   "source": [
    "soup_body.find_all('div',class_='part_t_l')"
   ],
   "metadata": {
    "collapsed": false,
    "ExecuteTime": {
     "end_time": "2024-03-29T10:06:53.358125Z",
     "start_time": "2024-03-29T10:06:53.333877Z"
    }
   },
   "id": "c225787f0520f109",
   "execution_count": 164
  },
  {
   "cell_type": "code",
   "outputs": [
    {
     "ename": "NameError",
     "evalue": "name 'unicode' is not defined",
     "output_type": "error",
     "traceback": [
      "\u001B[1;31m---------------------------------------------------------------------------\u001B[0m",
      "\u001B[1;31mNameError\u001B[0m                                 Traceback (most recent call last)",
      "Cell \u001B[1;32mIn[153], line 2\u001B[0m\n\u001B[0;32m      1\u001B[0m \u001B[38;5;66;03m# print(body_info)\u001B[39;00m\n\u001B[1;32m----> 2\u001B[0m unicode(body_info)\n",
      "\u001B[1;31mNameError\u001B[0m: name 'unicode' is not defined"
     ]
    }
   ],
   "source": [
    "# print(body_info)\n",
    "from bs4 import unicode\n",
    "unicode(body_info)"
   ],
   "metadata": {
    "collapsed": false,
    "ExecuteTime": {
     "end_time": "2024-03-29T09:54:01.011681Z",
     "start_time": "2024-03-29T09:54:00.984452Z"
    }
   },
   "id": "9a2ff6ed553bfc2e",
   "execution_count": 153
  },
  {
   "cell_type": "code",
   "outputs": [
    {
     "name": "stdout",
     "output_type": "stream",
     "text": [
      "   代表论文15篇                    名称               1. Shujiao Ye, Zheng Wang, Pengbo Xiong, Xinhao Xu, Lintong Du，Jiubin Tan, Weibo Wang*. Multi-stage few-shot micro-defect detection of patterned OLED panel using defect inpainting and multi-scale Siamese neural network. Journal of Intelligent Manufacturing. 2023. (SCI, IF= 8.3, JCR Q1, 中科院1区) 2. Xuefeng Sun, Baoyuan Zhang, Yushan Wang, Jialuo Mai, Jiubin Tan and Weibo Wang*. A multiscale attention mechanism super-resolution confocal microscopy for wafer defect detection. IEEE Transactions on Automation Science and Engineering. 2023(SCI, IF= 5.6,中科院1区) 3. Zhao Zhang, Weibo Wang*, Xiaoyan Tian. Semantic Segmentation of Metal Surface Defects and Corresponding Strategies. IEEE Transactions on Instrumentation and Measurement. 2023.(SCI, IF= 5.6, JCR Q1, 中科院2区) 4. Pengbo Xiong, Weibo Wang*, Shujiao Ye, Xuyang Zhou, Yubo Fang and Xinhao Xu. Depth-of-Field Expansion Method Based on Multidimensional Structure and Edge-Guided Correction. Optics Letters. 2023, 48, 14: 3757-3760.(SCI, IF=3.6, JCR Q2, 中科院2区) 5. Feng He, Jiubin Tan, Weibo Wang*, Shutian Liu, Yuemin Zhu？, Zhengjun Liu？. EFFNet: Element-wise feature fusion network for defect detection of display panels. Signal Processing: Image Communication. 2023, 119, 117043. (SCI, IF=3.5, JCR Q2, 中科院2区) 6. Baoyuan Zhang, Xuefeng Sun, Jialuo Mai, and Weibo Wang*. Deep learning-enhanced fluorescence microscopy via confocal physical imaging model. Optics Express, 2023, 31(12): 19048-19064 (SCI, IF=3.8, JCR Q2, 中科院2区) 7. Pengfei Liu, YuhanGuo, JiubinTan, WeiboWang*. Loss reweight in scale dimension: A simple while effective feature selection strategy for anchor-free detectors. Image and Vision Computing. 2022, 104593(SCI, IF= 4.7, JCR Q1, 中科院2区) 8. Cheng Guo, Xianming Liu, Feilong Zhang, Yongbin Du, Shenghao Zheng, Zehua Wang, Xiaoqing Zhang, Xinchi Kan, Zhengjun Liu, Weibo Wang*. Lensfree on-chip microscopy based on single-plane phase retrieval. Optics Express, 2022, 30(11), 19855-19870(SCI, IF=3.8, JCR Q2, 中科院2区) 9. Cheng Guo, Feilong Zhang, Xianming Liu, Qiang Li, Shenghao Zheng, Jiubin Tan, Zhengjun Liu, Weibo Wang*. Lensfree auto-focusing imaging using nuclear norm of gradient. Optics and Lasers in Engineering, 2022, 156, 107076: 1-12 (SCI, IF=4.6, JCR Q1, 中科院2区) 10. Baoyuan Zhang, Xuefeng Sun, Hongxia Yang, Cheng Guo, Biwei Wu, Jiubin Tan, and Weibo Wang*. Simulation-driven learning: a deep learning approach for image scanning microscopy via physical imaging models. Optics Express, 2022, 30(7): 11848-11860(SCI, IF=3.8, JCR Q2, 中科院2区) 11. Biwei Wu, Keyi Wu, Xuefeng Sun, Weibo Wang*, Jiubin Tan. Circular dichroism second-harmonic generation imaging of KTiOPO4 nanocrystal through stratified media. Frontiers in Chemistry, 2022, 10, 845311: 1-8 (SCI, IF=5.5, JCR Q2, 中科院3区) 12. Weibo Wang*, Biwei Wu, Baoyuan Zhang, Jie Ma, Jiubin Tan. Deep learning enables confocal laser-scanning microscopy with enhanced resolution. Optics Letters, 2021, 46(19): 4932-4935(SCI, IF=3.6, JCR Q2, 中科院2区) 13. Weibo Wang*, Baoyuan Zhang, Biwei Wu, Xiaojun Li, Jie Ma, Pengyu Sun, Shenghao Zheng, and Jiubin Tan. Image scanning microscopy with a long depth of focus generated by an annular radially polarized beam. Optics Express, 2020, 28(26): 39288-39298 (SCI, IF=3.8, JCR Q2, 中科院2区) 14. Weibo Wang*, Biwei Wu, Baoyuan Zhang, Xiaojun Li, Jiubin Tan. Correction of refractive index mismatch-induced aberrations under radially polarized illumination by deep learning. Optics Express, 2020, 28 (18): 26028-26040 (SCI, IF=3.8, JCR Q2, 中科院2区) 15. Weibo Wang, Biwei Wu, Shiyi Lin, Xiaojun Li, Jian Liu, Jiubin Tan*. Rigorous modelling of second harmonic generation imaging through stratified media focused by radially polarized beams. Optics Express, 2019, 27 (14): 19737-19747(SCI, IF=3.8, JCR Q2, 中科院2区)    \n"
     ]
    }
   ],
   "source": [
    "for body in body_info:\n",
    "    \n",
    "    body1 = body.get_text()\n",
    "    # print(body)\n",
    "    if '代表论文15篇' in body1:\n",
    "        body = body.get_text().replace('\\'',\"+\")\n",
    "        print(body)"
   ],
   "metadata": {
    "collapsed": false,
    "ExecuteTime": {
     "end_time": "2024-03-29T09:34:40.348421Z",
     "start_time": "2024-03-29T09:34:40.344224Z"
    }
   },
   "id": "d22942957d7f42a1",
   "execution_count": 150
  },
  {
   "cell_type": "code",
   "outputs": [
    {
     "name": "stdout",
     "output_type": "stream",
     "text": [
      "<!DOCTYPE html>\n",
      "<html><head> <meta charset=\"utf-8\"/> <meta content=\"text/html;charset=utf-8\" http-equiv=\"content-type\"/> <meta content=\"IE=edge, chrome=1\" http-equiv=\"X-UA-Compatible\"> <meta content=\"webkit\" name=\"renderer\"> <meta content=\"width=device-width, initial-scale=1, maximum-scale=1, minimum-scale=1, user-scalable=no\" name=\"viewport\"/> <meta content=\"telephone=no\" name=\"format-detection\"/> <meta content=\"哈尔滨工业大学教师个人主页, 王伟波, 国家级高层次青年人才\" name=\"keywords\"/> <meta content=\"哈尔滨工业大学教师个人主页, 王伟波, 国家级高层次青年人才, 仪器科学与工程学院, , 智能传感与成像\" name=\"description\"/> <title>王伟波 - 哈尔滨工业大学教师个人主页</title> <!-- <link href=\"https://cdn.bootcss.com/bootstrap/3.3.7/css/bootstrap.min.css\" rel=\"stylesheet\"> --> <link href=\"favicon.ico\" rel=\"shortcut icon\"/> <link href=\"inside-network/bootstrap.min.css\" rel=\"stylesheet\" type=\"text/css\"/> <link href=\"style/jquery.guide.css\" rel=\"stylesheet\" type=\"text/css\"> <link href=\"inside-network/sweetalert.min.css\" rel=\"stylesheet\" type=\"text/css\"/> <link href=\"inside-network/cropper.css\" rel=\"stylesheet\" type=\"text/css\"/> <link href=\"style/homepage/header-footer.css\" rel=\"stylesheet\" type=\"text/css\"> <link href=\"style/home-teacher-show.css\" rel=\"stylesheet\" type=\"text/css\"> <link href=\"style/style-3qi.css\" rel=\"stylesheet\" type=\"text/css\"> <link href=\"style/skin-3qi.css\" rel=\"stylesheet\" type=\"text/css\"/> <!-- <link href=\"font-awesome.min.css\" rel=\"stylesheet\">    <link rel=\"stylesheet\" type=\"text/css\" media=\"all\" href=\"daterangepicker-bs3.css\" /> --> <link href=\"style/template-default0.css\" rel=\"stylesheet\" type=\"text/css\"/> <style>        .m-per .tips em {        background-color: #204473;        }              .m-per .tips em::after{            /* border-right: 8px solid #204473; */        }        .header .row1 .wp,        .Buoy_tools .Buoy_tools_icon,        .Buoy_tools .Buoy_tools_text,        #teacherTabs .teacher_Tab.active,        #teacherTabs .teacher_Tab,        .submitTips,        .teacherTabs_util:nth-child(1){            background-color: #204473!important;        }        .user-country{            background-color: #D3AB51;        }        .submitTips .submitTips_btn,        .m-con .tit-g h3,        .m-con .ul-cont em {            color: #204473!important;        }        #teacherTabs .teacher_Tab:hover {            background: #204473!important;            box-shadow: 0px 2px 11px 2px #204473;        }        .home,        #logout,        #adminPanel,        #log,        #pulldown,        #log1,        #logout1,        #home1,        #adminPanel1,        .eng {            background: #204473!important;        }        .theme-fcolor {            color: #204473;        }        .theme-bcolor {            color: #112540;        }        ul#myTab {            background-color: #204473!important;        }        .bg-primary {            background-color: #112540;        }        ul#myTab li {            background-color: #204473;        }        .footer .f1_bg {            width: 100%;            height: 100%;            opacity: 0.8;            position: absolute;            top: 0;            left: 0;            z-index: 0;            background-color: #204473!important;        }                .footer .f1 dt {          border-color: #204473!important;        }                .footer .f2 {            background-color: #112540!important;        }        .d-two span,        .cur .teac,        .part2 em,        .m-per .part4 li .link,        .m-per .part4 li .copy,        .m-con .ul-cont em {            color: #112540!important;        }        .m-per .part4 li em {            color: #fff;        }        .ul#myTab li.active {            background: #0075F5 !important;            color: #fff !important;        }        ul#myTab li.active {            background: #0075F5 !important;            box-shadow: 0px 2px 11px 2px rgba(19, 110, 211, 0.4);            border-radius: 4px;        }        .m-con .tit-g {}        .m-per .part3 em,        .m-con .tit-g h3,        .suspendbox .name,        #myTabContent .lv1 .lv1-header {            color: #474747 !important;        }        .d-two .d2 span {            color: #f6a041 !important;        }        .srch1 {            background-color: #e1e1e1 !important;        }        .srch1 .two-input .input2,        .srch5 .start {            background-color: #112540!important;        }        .srch1 .number .txt em {            color: #204473!important;        }        .gundong-btn {            width: 5%;            padding: 13px 0px 18px;            background: #112540;            border-top:2px solid #204473;            border-bottom:2px solid #204473;            font-size:16px;            cursor:pointer;            color:#ffffff;        }        .gundong-btn:hover {            background: {{Backgound.fcolor }};        }        .gundong-btn:active {            background: #112540;        }        div.user-left-title>div.row {            background-color: #204473;            height:60px;        }        .m-per {}        .user-position,.user-discipline{          max-width: 170px;          display: -webkit-box;          overflow: hidden;          white-space: normal!important;          text-overflow: ellipsis;          word-wrap: break-word;          -webkit-line-clamp: 1;          -webkit-box-orient: vertical        }        .user-label{          max-width: 220px;          display: -webkit-box;          overflow: hidden;          white-space: normal!important;          text-overflow: ellipsis;          word-wrap: break-word;          -webkit-line-clamp: 1;          -webkit-box-orient: vertical        }        input {          -webkit-user-select: text!important;        }    </style></link></link></link></link></meta></meta></head><body id=\"\"> <!-- 顶部是读取其它html页面出来的，别乱动 --> <div class=\"header\"> <div class=\"row1\"></div> <div class=\"banner\"> <div class=\"item\"> <img alt=\"\" src=\"file/showImg.do?newName=26058046894651.jpg&amp;relativePath=2018-03-06&amp;descDir=fnewsUpload\"/> </div> </div> <!-- 个人信息 --> <div class=\"m-per\" id=\"teacher_info\"> <div class=\"wp part2_1_box\"> <div class=\"part1 part\"> <div class=\"pic user-img\"> <img class=\"img-thumbnail\" data-src=\"file/showHP.do?d=1441&amp;&amp;w=200&amp;&amp;h=204\" src=\"images/defult-login-img.jpg\"> </img></div> </div> <div class=\"part2_1\"> <div class=\"backgroundColor\"></div> <h3 class=\"tit chineseName\">王伟波</h3> <em class=\"user-country\">中国</em> </div> <div class=\"tips\"> <em class=\"user-post\">教授</em> <div id=\"teacher-honor\" style=\"display: none;\">博士生导师</div> <!--<em class=\"user-honor\" data-honor=\"\"></em>--> </div> </div> <div class=\"wp\" style=\"border-bottom:1px solid #ddd\"> <div class=\"part2 part\"> <p> <span class=\"user-describe\" title=\"国家级高层次青年人才\">国家级高层次青年人才</span> </p> <!-- <div ></div> --> </div> <div class=\"part4 part\"> <ul> <li> <em>目前就职</em> <span class=\"user-position\" title=\"仪器科学与工程学院\">仪器科学与工程学院</span> <a class=\"link\" href=\"school-dept?id=1&amp;browseName=校内单位&amp;browseEnName=UNIT&amp;deptName=000016\"> <span class=\"glyphicon glyphicon-link\"></span> </a> </li> <li> <em>学科</em> <span class=\"user-discipline\" title=\"\"></span> </li> <li> <em>研究方向</em> <span class=\"user-label\" title=\"智能传感与成像\">智能传感与成像</span> </li> <!-- <li>                            <em>主页地址</em>                            <a href=\"/wwb\" class=\"web\"><span                                    class=\"user-url\">http://homepage.hit.edu.cn/wwb</span></a>                            <span class=\"glyphicon glyphicon-copy\"></span>                            <a href=\"javascript:void(0);\" class=\"copy btnCopy\">复制地址</a>                        </li> --> </ul> </div> </div> </div> <div class=\"row2\"> <div class=\"wp\"> <ul class=\"ul-info\"> <li class=\"d-two\"> <div class=\"d1 d\"> <i></i> <em>更新日期</em> <!-- <span id=\"tModifyDate\">2024-03-10</span> --> <span id=\"tModifyDate\"></span> </div> <div class=\"d2 d\"> <i></i> <em>人气</em> <span id=\"visitNo\"></span> </div> <div class=\"d2 d\"> <em>主页地址</em> <a class=\"web\" href=\"wwb\"> <span class=\"user-url\">http://homepage.hit.edu.cn/wwb</span> </a> <a class=\"copy btnCopy\" href=\"javascript:void(0);\">复制地址</a> </div> </li> <li> <div class=\"so1\"> <div class=\"soInputBox\"> <input class=\"so_input\" placeholder=\"请输入关键字\" type=\"text\"/> <i class=\"i1\"></i> </div> <!-- <a href=\"javascript:void(0);\" class=\"js-moreso11\">教师检索</a> --> </div> </li> </ul> </div> </div> </div> <!-- 搜索区 --> <div class=\"m-srch\" id=\"sSearchPart\"> </div> <!-- 版本号显示区 --> <div class=\"versionInfo\" style=\"display:none\"> <div id=\"version\"></div> \t     \t<div id=\"status\"></div> </div> <!-- 浮标工具区 --> <div class=\"Buoy_tools\"> <div class=\"changeSkin Buoy_tools_btn\" style=\"display: none;\"> <span class=\"Buoy_tools_icon\"><i></i></span> <span class=\"Buoy_tools_text\" data-txt=\"更换皮肤\" onclick=\"BuoyToolsClick(this)\">更换皮肤</span> </div> <div class=\"compose Buoy_tools_btn\" style=\"display: none;\"> <span class=\"Buoy_tools_icon\"><i></i></span> <span class=\"Buoy_tools_text\" data-txt=\"版式\" onclick=\"BuoyToolsClick(this)\">版式</span> </div> <div class=\"preview Buoy_tools_btn\" style=\"display: none;\"> <span class=\"Buoy_tools_icon edit\"><i></i></span> <span class=\"Buoy_tools_icon view\"><i></i></span> <span class=\"Buoy_tools_text\" data-txt=\"预览\" onclick=\"BuoyToolsClick(this)\">预览</span> </div> <div class=\"feedback Buoy_tools_btn\" style=\"display: none;\"> <span class=\"Buoy_tools_icon\"><i></i></span> <span class=\"Buoy_tools_text\" data-txt=\"意见反馈\" onclick=\"BuoyToolsClick(this)\">提交</span> <div class=\"qrcodeShow\" id=\"qrcodeShow_yj\"> <div class=\"qr\"> <img height=\"203px\" src=\"images/qr-new.jpg\" width=\"145px\"/> </div> </div> </div> <div class=\"qrcodeView Buoy_tools_btn\"> <span class=\"Buoy_tools_icon\"><i></i></span> <span class=\"Buoy_tools_text\" data-txt=\"二维码\" onclick=\"BuoyToolsClick(this)\">二维码</span> <div class=\"qrcodeShow\" id=\"qrcodeShow\"> <div class=\"qr\"> <div class=\"pic\" id=\"qr\"></div> <p>手机扫描二维码</p> <p>访问本教师主页手机版</p> </div> </div> </div> <div class=\"scrollTop Buoy_tools_btn\"> <span class=\"Buoy_tools_icon\"><i></i></span> <span class=\"Buoy_tools_text\" data-txt=\"回到顶部\" onclick=\"BuoyToolsClick(this)\">回到顶部</span> </div></div> <!-- 内容区 --> <div class=\"home-teacher container-fluid\" style=\"min-height: calc(100% - 160px); background: url('file/showImg.do?newName=26045508908987.jpg&amp;relativePath=2018-03-06&amp;descDir=newsUpload') 0% 0% / 100% no-repeat;\"> <div class=\"m-con\"> <div class=\"wp\"> <!-- 左侧信息 --> <div class=\"col-l teacher-body\" data-tid=\"1441\"> </div> <!-- 右侧信息 --> <div class=\"col-r\" id=\"col-r\"> <!-- 联系方式 --> <div class=\"cont\"> <div class=\"tit-g\"> <h3>联系方式</h3> </div> <ul class=\"ul-cont\"> <li class=\"addr\"> <em><span class=\"glyphicon glyphicon-phone-alt\"></span>电话</em> <div><p>0451-86412041-815</p></div> </li> <li class=\"addr\"> <em><span class=\"glyphicon glyphicon-print\"></span>传真</em> <div><p>0451-86402258</p></div> </li> <li class=\"addr\"> <em><span class=\"glyphicon glyphicon-envelope\"></span>邮箱</em> <div><p class=\"EmailText\">nc.ude.tih@tihbww</p></div> </li> <li class=\"addr\"> <em><span class=\"glyphicon glyphicon-home\"></span>地址</em> <div> <p>哈尔滨工业大学科学园D栋415室</p> </div> </li> </ul> <div class=\"tit-g\" id=\"shnt01\"> <h3>学术网络</h3> </div> <ul class=\"ul-ico\" id=\"shnt02\"> </ul> </div> <!-- 相关教师 --> <div class=\"ateac\"> <div class=\"tit-g\"> <a class=\"re\" href=\"javascript:void(0);\" onclick=\"queryAllForUserByPage()\"></a> <h3>相关教师</h3> </div> <!--学院--> <div class=\"change-list-dept\"></div> <div class=\"home-title\" id=\"change-dept\"></div> <!--学科--> <div class=\"change-list-subject\"></div> <div class=\"home-title\" id=\"change-subject\"></div> <!--研究方向--> <div class=\"change-list-label\"></div> <div class=\"home-title\" id=\"change-label\"></div> </div> </div> </div> </div> </div> <div class=\"footer\"></div> <script charset=\"utf-8\" src=\"inside-network/jquery.min.js\" type=\"text/javascript\"></script> <script charset=\"utf-8\" src=\"inside-network/bootstrap.min.js\" type=\"text/javascript\"></script> <script charset=\"utf-8\" src=\"scripts/jquery-qrcode-0.14.0.min.js\" type=\"text/javascript\"></script> <script charset=\"utf-8\" src=\"common/ueditor/ueditor.config.js\" type=\"text/javascript\"></script> <script charset=\"utf-8\" src=\"common/ueditor/ueditor.all.min.js\" type=\"text/javascript\"></script> <script charset=\"utf-8\" src=\"scripts/global.js\" type=\"text/javascript\"></script> <script charset=\"utf-8\" src=\"scripts/cropper.js\" type=\"text/javascript\"></script> <script charset=\"utf-8\" src=\"scripts/lib.js\" type=\"text/javascript\"></script> <script charset=\"utf-8\" src=\"scripts/homepage/header-footer.js\" type=\"text/javascript\"></script> <script charset=\"utf-8\" src=\"scripts/homepage/home-teacher-show.js\" type=\"text/javascript\"></script> <script charset=\"utf-8\" src=\"scripts/base.js\" type=\"text/javascript\"></script> <script charset=\"utf-8\" src=\"scripts/clipboard.min.js\" type=\"text/javascript\"></script> <script charset=\"utf-8\" src=\"scripts/utils/htmlUtils.js\" type=\"text/javascript\"></script> <!-- <script type=\"text/javascript\" charset=\"utf-8\" src=\"scripts/utils/ddsort.js\"></script> --> <script charset=\"utf-8\" src=\"scripts/utils/newUtils.js\" type=\"text/javascript\"></script> <script charset=\"utf-8\" src=\"scripts/cryptoJS/core.js\" type=\"text/javascript\"></script> <script charset=\"utf-8\" src=\"scripts/cryptoJS/cipher-core.js\" type=\"text/javascript\"></script> <script charset=\"utf-8\" src=\"scripts/cryptoJS/aes.js\" type=\"text/javascript\"></script> <script charset=\"utf-8\" src=\"scripts/utils/cjsUtils.js\" type=\"text/javascript\"></script> <script charset=\"utf-8\" type=\"text/javascript\">        var clipboard = new ClipboardJS('.btnCopy', {            text: function () {                return 'http://homepage.hit.edu.cn/wwb';            }        });        clipboard.on('success', function (e) {            alert('复制成功');        });        clipboard.on('error', function (e) {            alert('复制失败');        });    </script></body></html>\n"
     ]
    }
   ],
   "source": [
    "print(soup)"
   ],
   "metadata": {
    "collapsed": false,
    "ExecuteTime": {
     "end_time": "2024-03-29T09:27:49.817569Z",
     "start_time": "2024-03-29T09:27:49.811680Z"
    }
   },
   "id": "8f3d5ee598ad6b37",
   "execution_count": 141
  },
  {
   "cell_type": "code",
   "outputs": [],
   "source": [
    "def tidy_text(text, text_name):\n",
    "    if text_name != '邮箱':\n",
    "        return text.replace(\" \", \"\").replace(text_name, \"\").replace(\"名称\", \"\").replace('标题','')\n",
    "    else:\n",
    "        return text.replace(\" \", \"\").replace(text_name, \"\").replace(\"名称\", \"\")[::-1]\n",
    "\n",
    "def extract_info(infos):\n",
    "    ret = {}\n",
    "    targets = ['基本信息', '学术兼职', '奖励与荣誉', '招生信息', '工作经历', '教育经历', '研究领域',\n",
    "               '团队成员', '已毕业研究生', '指导本科毕业设计', '论文']\n",
    "    for info in infos:\n",
    "        info = info.get_text()\n",
    "        for target in targets:\n",
    "            if target in info:\n",
    "                ret[target] = tidy_text(info, target)\n",
    "    return ret\n",
    "\n",
    "def extract_address(addrs):\n",
    "    addr_info = {}\n",
    "    for addr in addrs:\n",
    "        targets = ['电话','传真','邮箱','地址']\n",
    "        addr = addr.get_text()\n",
    "        for target in targets:\n",
    "            if target in addr:\n",
    "                addr_info[target] = tidy_text(addr,target)\n",
    "    return addr_info"
   ],
   "metadata": {
    "collapsed": false,
    "ExecuteTime": {
     "end_time": "2024-03-29T10:55:56.343322Z",
     "start_time": "2024-03-29T10:55:56.337086Z"
    }
   },
   "id": "1a12a7a3029f6cc5",
   "execution_count": 173
  },
  {
   "cell_type": "code",
   "outputs": [],
   "source": [],
   "metadata": {
    "collapsed": false,
    "ExecuteTime": {
     "end_time": "2024-03-29T07:28:54.782847Z",
     "start_time": "2024-03-29T07:28:54.778336Z"
    }
   },
   "id": "a57304d50f9ce480",
   "execution_count": 16
  },
  {
   "cell_type": "code",
   "outputs": [
    {
     "name": "stdout",
     "output_type": "stream",
     "text": [
      "王伟波，1983年生，教授/博导，国家级高层次青年人才，谭久彬院士头雁团队方向负责人、副所长，黑龙江省显微成像技术与仪器创新研究中心主任。研究领域包括但不限于：智能传感与成像技术超精密显微测量技术与仪器智能视觉感知技术\n"
     ]
    }
   ],
   "source": [
    "print(extract_info['基本信息'])"
   ],
   "metadata": {
    "collapsed": false,
    "ExecuteTime": {
     "end_time": "2024-03-29T07:29:21.982401Z",
     "start_time": "2024-03-29T07:29:21.978900Z"
    }
   },
   "id": "44f9ad010dc2b5cb",
   "execution_count": 18
  },
  {
   "cell_type": "code",
   "outputs": [
    {
     "ename": "KeyError",
     "evalue": "'index'",
     "output_type": "error",
     "traceback": [
      "\u001B[1;31m---------------------------------------------------------------------------\u001B[0m",
      "\u001B[1;31mTypeError\u001B[0m                                 Traceback (most recent call last)",
      "Cell \u001B[1;32mIn[93], line 41\u001B[0m\n\u001B[0;32m     40\u001B[0m body_info \u001B[38;5;241m=\u001B[39m soup_body\u001B[38;5;241m.\u001B[39mfind_all(\u001B[38;5;124m'\u001B[39m\u001B[38;5;124mli\u001B[39m\u001B[38;5;124m'\u001B[39m)\n\u001B[1;32m---> 41\u001B[0m extract_info \u001B[38;5;241m=\u001B[39m extract_info(body_info)\n\u001B[0;32m     42\u001B[0m extract_info\u001B[38;5;241m.\u001B[39mget(\u001B[38;5;124m'\u001B[39m\u001B[38;5;124m基本信息\u001B[39m\u001B[38;5;124m'\u001B[39m,\u001B[38;5;124m'\u001B[39m\u001B[38;5;124m'\u001B[39m)\n",
      "\u001B[1;31mTypeError\u001B[0m: 'dict' object is not callable",
      "\nDuring handling of the above exception, another exception occurred:\n",
      "\u001B[1;31mKeyError\u001B[0m                                  Traceback (most recent call last)",
      "File \u001B[1;32m~\\anaconda3\\envs\\paes\\Lib\\site-packages\\pandas\\core\\indexes\\base.py:3805\u001B[0m, in \u001B[0;36mIndex.get_loc\u001B[1;34m(self, key)\u001B[0m\n\u001B[0;32m   3804\u001B[0m \u001B[38;5;28;01mtry\u001B[39;00m:\n\u001B[1;32m-> 3805\u001B[0m     \u001B[38;5;28;01mreturn\u001B[39;00m \u001B[38;5;28mself\u001B[39m\u001B[38;5;241m.\u001B[39m_engine\u001B[38;5;241m.\u001B[39mget_loc(casted_key)\n\u001B[0;32m   3806\u001B[0m \u001B[38;5;28;01mexcept\u001B[39;00m \u001B[38;5;167;01mKeyError\u001B[39;00m \u001B[38;5;28;01mas\u001B[39;00m err:\n",
      "File \u001B[1;32mindex.pyx:167\u001B[0m, in \u001B[0;36mpandas._libs.index.IndexEngine.get_loc\u001B[1;34m()\u001B[0m\n",
      "File \u001B[1;32mindex.pyx:196\u001B[0m, in \u001B[0;36mpandas._libs.index.IndexEngine.get_loc\u001B[1;34m()\u001B[0m\n",
      "File \u001B[1;32mpandas\\\\_libs\\\\hashtable_class_helper.pxi:7081\u001B[0m, in \u001B[0;36mpandas._libs.hashtable.PyObjectHashTable.get_item\u001B[1;34m()\u001B[0m\n",
      "File \u001B[1;32mpandas\\\\_libs\\\\hashtable_class_helper.pxi:7089\u001B[0m, in \u001B[0;36mpandas._libs.hashtable.PyObjectHashTable.get_item\u001B[1;34m()\u001B[0m\n",
      "\u001B[1;31mKeyError\u001B[0m: 'index'",
      "\nThe above exception was the direct cause of the following exception:\n",
      "\u001B[1;31mKeyError\u001B[0m                                  Traceback (most recent call last)",
      "Cell \u001B[1;32mIn[93], line 66\u001B[0m\n\u001B[0;32m     61\u001B[0m \u001B[38;5;28;01mexcept\u001B[39;00m \u001B[38;5;167;01mException\u001B[39;00m \u001B[38;5;28;01mas\u001B[39;00m e:\n\u001B[0;32m     62\u001B[0m     error_index\u001B[38;5;241m.\u001B[39mappend(pd\u001B[38;5;241m.\u001B[39mDataFrame({\n\u001B[0;32m     63\u001B[0m         \u001B[38;5;124m'\u001B[39m\u001B[38;5;124m序号\u001B[39m\u001B[38;5;124m'\u001B[39m:[index],\n\u001B[0;32m     64\u001B[0m         \u001B[38;5;124m'\u001B[39m\u001B[38;5;124mname\u001B[39m\u001B[38;5;124m'\u001B[39m:[teacher_info_pd[\u001B[38;5;124m'\u001B[39m\u001B[38;5;124mname\u001B[39m\u001B[38;5;124m'\u001B[39m][index]]\n\u001B[0;32m     65\u001B[0m     }))\n\u001B[1;32m---> 66\u001B[0m     \u001B[38;5;28mprint\u001B[39m(teacher_info_pd[\u001B[38;5;124m'\u001B[39m\u001B[38;5;124mindex\u001B[39m\u001B[38;5;124m'\u001B[39m][index])\n",
      "File \u001B[1;32m~\\anaconda3\\envs\\paes\\Lib\\site-packages\\pandas\\core\\frame.py:4090\u001B[0m, in \u001B[0;36mDataFrame.__getitem__\u001B[1;34m(self, key)\u001B[0m\n\u001B[0;32m   4088\u001B[0m \u001B[38;5;28;01mif\u001B[39;00m \u001B[38;5;28mself\u001B[39m\u001B[38;5;241m.\u001B[39mcolumns\u001B[38;5;241m.\u001B[39mnlevels \u001B[38;5;241m>\u001B[39m \u001B[38;5;241m1\u001B[39m:\n\u001B[0;32m   4089\u001B[0m     \u001B[38;5;28;01mreturn\u001B[39;00m \u001B[38;5;28mself\u001B[39m\u001B[38;5;241m.\u001B[39m_getitem_multilevel(key)\n\u001B[1;32m-> 4090\u001B[0m indexer \u001B[38;5;241m=\u001B[39m \u001B[38;5;28mself\u001B[39m\u001B[38;5;241m.\u001B[39mcolumns\u001B[38;5;241m.\u001B[39mget_loc(key)\n\u001B[0;32m   4091\u001B[0m \u001B[38;5;28;01mif\u001B[39;00m is_integer(indexer):\n\u001B[0;32m   4092\u001B[0m     indexer \u001B[38;5;241m=\u001B[39m [indexer]\n",
      "File \u001B[1;32m~\\anaconda3\\envs\\paes\\Lib\\site-packages\\pandas\\core\\indexes\\base.py:3812\u001B[0m, in \u001B[0;36mIndex.get_loc\u001B[1;34m(self, key)\u001B[0m\n\u001B[0;32m   3807\u001B[0m     \u001B[38;5;28;01mif\u001B[39;00m \u001B[38;5;28misinstance\u001B[39m(casted_key, \u001B[38;5;28mslice\u001B[39m) \u001B[38;5;129;01mor\u001B[39;00m (\n\u001B[0;32m   3808\u001B[0m         \u001B[38;5;28misinstance\u001B[39m(casted_key, abc\u001B[38;5;241m.\u001B[39mIterable)\n\u001B[0;32m   3809\u001B[0m         \u001B[38;5;129;01mand\u001B[39;00m \u001B[38;5;28many\u001B[39m(\u001B[38;5;28misinstance\u001B[39m(x, \u001B[38;5;28mslice\u001B[39m) \u001B[38;5;28;01mfor\u001B[39;00m x \u001B[38;5;129;01min\u001B[39;00m casted_key)\n\u001B[0;32m   3810\u001B[0m     ):\n\u001B[0;32m   3811\u001B[0m         \u001B[38;5;28;01mraise\u001B[39;00m InvalidIndexError(key)\n\u001B[1;32m-> 3812\u001B[0m     \u001B[38;5;28;01mraise\u001B[39;00m \u001B[38;5;167;01mKeyError\u001B[39;00m(key) \u001B[38;5;28;01mfrom\u001B[39;00m \u001B[38;5;21;01merr\u001B[39;00m\n\u001B[0;32m   3813\u001B[0m \u001B[38;5;28;01mexcept\u001B[39;00m \u001B[38;5;167;01mTypeError\u001B[39;00m:\n\u001B[0;32m   3814\u001B[0m     \u001B[38;5;66;03m# If we have a listlike key, _check_indexing_error will raise\u001B[39;00m\n\u001B[0;32m   3815\u001B[0m     \u001B[38;5;66;03m#  InvalidIndexError. Otherwise we fall through and re-raise\u001B[39;00m\n\u001B[0;32m   3816\u001B[0m     \u001B[38;5;66;03m#  the TypeError.\u001B[39;00m\n\u001B[0;32m   3817\u001B[0m     \u001B[38;5;28mself\u001B[39m\u001B[38;5;241m.\u001B[39m_check_indexing_error(key)\n",
      "\u001B[1;31mKeyError\u001B[0m: 'index'"
     ]
    }
   ],
   "source": [
    "df_basic = []\n",
    "# 基本信息\n",
    "df_basic_info = []\n",
    "# 学术兼职\n",
    "df_partjob = []\n",
    "# 奖励荣誉\n",
    "df_award = []\n",
    "# 招生信息\n",
    "df_admission = []\n",
    "# 工作经历\n",
    "df_work = []\n",
    "# 教育经历\n",
    "df_edu = []\n",
    "# 研究领域\n",
    "df_study_field = []\n",
    "# 团队成员\n",
    "df_member = []\n",
    "# 已毕业毕业生\n",
    "df_student= []\n",
    "# 指导本科毕业设计\n",
    "\n",
    "error_index = []\n",
    "for index in range(len(teacher_info_pd)):\n",
    "    try:\n",
    "        url = teacher_info_pd['url'][index]\n",
    "        request = requests.get(url)\n",
    "        request.content.decode('utf-8')\n",
    "        soup = BeautifulSoup(request.content, 'html.parser')\n",
    "        name = soup.find('h3', class_='tit chineseName').get_text()\n",
    "        country = soup.find('em', class_='user-country').get_text()\n",
    "        title = soup.find('div', class_='tips').get_text()\n",
    "        part = soup.find('div', class_='part2 part').get_text().replace(' ', '')\n",
    "        position = soup.find('span', class_='user-position').get_text()\n",
    "        position_url = soup.find('div', class_='part4 part').find('a').get('href')  #目前就职\n",
    "        # position_url\n",
    "        discipline = soup.find('span', class_='user-discipline').get_text()  # 学科\n",
    "        label = soup.find('span', class_='user-label').get_text()  #研究方向\n",
    "        body_id = soup.find('div', class_='col-l teacher-body').get('data-tid')\n",
    "        # body_id\n",
    "        \n",
    "        is_teacher = requests.post(\"https://homepage.hit.edu.cn/TeacherHome/isTeacherUser.do\", data={'userid': body_id})\n",
    "        modify_time = is_teacher.json().get('mDate')\n",
    "        \n",
    "        # soup_is = BeautifulSoup(is_teacher, 'html.parser')\n",
    "        teacher_body = requests.post(url=\"https://homepage.hit.edu.cn/TeacherHome/teacherBody.do\", data={'id': body_id})\n",
    "        soup_body = BeautifulSoup(teacher_body.content, 'html.parser')\n",
    "        # print(teacher_body.content.decode('utf-8'))\n",
    "        body_info = soup_body.find_all('li')\n",
    "        body_info = extract_info(body_info)\n",
    "        # extract_info.get('基本信息','')\n",
    "        \n",
    "        addrs = soup.find_all('li', class_='addr')\n",
    "        addr_info = extract_address(addrs)\n",
    "        df_basic.append(pd.DataFrame({\n",
    "            '姓名':[name],\n",
    "            '国家':[country],\n",
    "            '职称':[title],\n",
    "            '类型':[part],\n",
    "            '学院':[position],\n",
    "            '学院官网':[position_url],\n",
    "            '学科':[discipline],\n",
    "            '研究方向':[label],\n",
    "            '最后修改时间':[modify_time],\n",
    "            '电话':[addr_info['电话']],\n",
    "            '传真':[addr_info['传真']],\n",
    "            '邮箱':[addr_info['邮箱']],\n",
    "            '地址':[addr_info['地址']]\n",
    "        }))\n",
    "    except Exception as e:\n",
    "        error_index.append(pd.DataFrame({\n",
    "            '序号':[index],\n",
    "            'name':[teacher_info_pd['name'][index]]\n",
    "        }))\n",
    "        print(index)\n"
   ],
   "metadata": {
    "collapsed": false,
    "ExecuteTime": {
     "end_time": "2024-03-29T09:01:11.045452Z",
     "start_time": "2024-03-29T09:01:08.571599Z"
    }
   },
   "id": "1214ac2647546656",
   "execution_count": 93
  },
  {
   "cell_type": "code",
   "outputs": [],
   "source": [
    "col_basic = ['姓名','国家','职称','类型','学院','学院官网','学科','研究方向','最后修改时间','电话','传真','邮箱','地址']\n",
    "# basic = {}\n",
    "# basic[col_basic[0]] = list(len(teacher_info_pd))\n",
    "df_basic.append(pd.DataFrame({\n",
    "    '姓名':[name],\n",
    "    '国家':[country],\n",
    "    '职称':[title],\n",
    "    '类型':[part],\n",
    "    '学院':[position],\n",
    "    '学院官网':[position_url],\n",
    "    '学科':[discipline],\n",
    "    '研究方向':[label],\n",
    "    '最后修改时间':[modify_time],\n",
    "    '电话':[addr_info['电话']],\n",
    "    '传真':[addr_info['传真']],\n",
    "    '邮箱':[addr_info['邮箱']],\n",
    "    '地址':[addr_info['地址']]\n",
    "}))"
   ],
   "metadata": {
    "collapsed": false,
    "ExecuteTime": {
     "end_time": "2024-03-29T08:41:50.105520Z",
     "start_time": "2024-03-29T08:41:50.099481Z"
    }
   },
   "id": "6d6917f1089ee367",
   "execution_count": 86
  },
  {
   "cell_type": "code",
   "outputs": [
    {
     "data": {
      "text/plain": "[    姓名  国家           职称          类型         学院  \\\n 0  王伟波  中国   教授 博士生导师    国家级高层次青年人才  仪器科学与工程学院   \n \n                                                 学院官网 学科     研究方向      最后修改时间  \\\n 0  school-dept?id=1&browseName=校内单位&browseEnName=...     智能传感与成像  2024-03-15   \n \n                   电话             传真                 邮箱                地址  \n 0  0451-86412041-815  0451-86402258  wwbhit@hit.edu.cn  哈尔滨工业大学科学园D栋415室  ]"
     },
     "execution_count": 90,
     "metadata": {},
     "output_type": "execute_result"
    }
   ],
   "source": [
    "df_basic"
   ],
   "metadata": {
    "collapsed": false,
    "ExecuteTime": {
     "end_time": "2024-03-29T08:49:32.139840Z",
     "start_time": "2024-03-29T08:49:32.134214Z"
    }
   },
   "id": "a7783d0c8a750da3",
   "execution_count": 90
  },
  {
   "cell_type": "code",
   "outputs": [
    {
     "name": "stdout",
     "output_type": "stream",
     "text": [
      "{'电话': '0451-86412041-815', '传真': '0451-86402258', '邮箱': 'wwbhit@hit.edu.cn', '地址': '哈尔滨工业大学科学园D栋415室'}\n"
     ]
    },
    {
     "data": {
      "text/plain": "'wwbhit@hit.edu.cn'"
     },
     "execution_count": 88,
     "metadata": {},
     "output_type": "execute_result"
    }
   ],
   "source": [
    "df_basic = []\n",
    "print(addr_info)\n",
    "addr_info['邮箱']"
   ],
   "metadata": {
    "collapsed": false,
    "ExecuteTime": {
     "end_time": "2024-03-29T08:41:56.978760Z",
     "start_time": "2024-03-29T08:41:56.971796Z"
    }
   },
   "id": "549d4c8599e7667",
   "execution_count": 88
  },
  {
   "cell_type": "code",
   "outputs": [
    {
     "name": "stdout",
     "output_type": "stream",
     "text": [
      "  nc.ude.tih@tihbww \n"
     ]
    }
   ],
   "source": [
    "addr = addrs[2]\n",
    "mail = addr.get_text().replace('邮箱','')\n",
    "print(mail)"
   ],
   "metadata": {
    "collapsed": false,
    "ExecuteTime": {
     "end_time": "2024-03-29T08:08:21.380920Z",
     "start_time": "2024-03-29T08:08:21.377055Z"
    }
   },
   "id": "34c6c5f72561e66b",
   "execution_count": 63
  },
  {
   "cell_type": "code",
   "outputs": [
    {
     "data": {
      "text/plain": "' wwbhit@hit.edu.cn  '"
     },
     "execution_count": 64,
     "metadata": {},
     "output_type": "execute_result"
    }
   ],
   "source": [
    "mail[::-1]"
   ],
   "metadata": {
    "collapsed": false,
    "ExecuteTime": {
     "end_time": "2024-03-29T08:08:29.011881Z",
     "start_time": "2024-03-29T08:08:29.007787Z"
    }
   },
   "id": "b698170ea30edece",
   "execution_count": 64
  },
  {
   "cell_type": "code",
   "outputs": [
    {
     "name": "stdout",
     "output_type": "stream",
     "text": [
      "[<li class='\\\"con_parts\\\"' style='\\\"display:block;\\\"'> <div 122,=\"\" 149);\\\"=\"\" class='\\\"part_t\\\"' style='\\\"background-color:rgb(87,'> <div class='\\\"part_t_l\\\"'> <i class='\\\"title_svg' template_icon999\\\"=\"\"></i><em data-editor='\\\"1\\\"' data-more='\\\"0\\\"' id='\\\"999\\\"'>基本信息</em><i class='\\\"part_icon' part_icon_e1\\\"=\"\" style='\\\"display:flex;\\\"'></i> </div> <div class='\\\"part_r\\\"'> <a id='\\\"part_card_top\\\"' onclick='\\\"part_card_top(this)\\\"' title='\\\"置顶\\\"'><i class='\\\"part_icon1' part_icon_top\\\"=\"\" style='\\\"display:flex;\\\"'></i></a><a id='\\\"part_card_up\\\"' onclick='\\\"part_card_up(this)\\\"' title='\\\"上移\\\"'><i class='\\\"part_icon1' part_icon_up\\\"=\"\" style='\\\"display:flex;\\\"'></i></a><a id='\\\"part_card_down\\\"' onclick='\\\"part_card_down(this)\\\"' title='\\\"下移\\\"'><i class='\\\"part_icon1' part_icon_down\\\"=\"\" style='\\\"display:flex;\\\"'></i></a><a id='\\\"part_card_bottom\\\"' onclick='\\\"part_card_bottom(this)\\\"' title='\\\"置底\\\"'><i class='\\\"part_icon1' part_icon_bottom\\\"=\"\" style='\\\"display:flex;\\\"'></i></a><a id='\\\"part_icon_d\\\"' title='\\\"删除\\\"'><i class='\\\"part_icon1' part_icon_d\\\"=\"\" style='\\\"display:flex;\\\"'></i></a> </div> </div> <dl style='\\\"\\\"'> <ol 70px;\\\"=\"\" id='\\\"9f630db6e62846498cbf29126b08d7c7\\\"' style='\\\"padding-left:'> <div class='\\\"card_view\\\"' data-domtype='\\\"input\\\"' data-olname='\\\"olName\\\"' style='\\\"display:none;\\\"'> <div class='\\\"model_title\\\"' data-en='\\\"名称\\\"' data-zh='\\\"名称\\\"'>            名称           </div> <div class='\\\"ol_value\\\"'></div> </div> <div class='\\\"card_view\\\"' data-domtype='\\\"editor_controls\\\"' style='\\\"display:none;\\\"'> <div class='\\\"editor_content\\\"' id='\\\"4dc0496058d84f46908adfb10219300b\\\"'> <p>添加基本信息</p> </div> </div> </ol> </dl></li>, <li class='\\\"con_parts\\\"' style='\\\"display:block;\\\"'> <div 122,=\"\" 149);\\\"=\"\" class='\\\"part_t\\\"' style='\\\"background-color:rgb(87,'> <div class='\\\"part_t_l\\\"'> <i class='\\\"title_svg' template_icon3003\\\"=\"\"></i><em data-more='\\\"0\\\"' id='\\\"3003\\\"'>工作经历</em><i class='\\\"part_icon' part_icon_e1\\\"=\"\" style='\\\"display:flex;\\\"'></i> </div> <div class='\\\"part_r\\\"'> <a id='\\\"part_card_top\\\"' onclick='\\\"part_card_top(this)\\\"' title='\\\"置顶\\\"'><i class='\\\"part_icon1' part_icon_top\\\"=\"\" style='\\\"display:flex;\\\"'></i></a><a id='\\\"part_card_up\\\"' onclick='\\\"part_card_up(this)\\\"' title='\\\"上移\\\"'><i class='\\\"part_icon1' part_icon_up\\\"=\"\" style='\\\"display:flex;\\\"'></i></a><a id='\\\"part_card_down\\\"' onclick='\\\"part_card_down(this)\\\"' title='\\\"下移\\\"'><i class='\\\"part_icon1' part_icon_down\\\"=\"\" style='\\\"display:flex;\\\"'></i></a><a id='\\\"part_card_bottom\\\"' onclick='\\\"part_card_bottom(this)\\\"' title='\\\"置底\\\"'><i class='\\\"part_icon1' part_icon_bottom\\\"=\"\" style='\\\"display:flex;\\\"'></i></a><a id='\\\"part_icon_d\\\"' title='\\\"删除\\\"'><i class='\\\"part_icon1' part_icon_d\\\"=\"\" style='\\\"display:flex;\\\"'></i></a> </div> </div> <dl> <ol id='\\\"476e648d14354167a5f6dda1d208ea84\\\"' style='\\\"padding-left:70px;\\\"'> <div class='\\\"card_view\\\"' data-domtype='\\\"input\\\"' data-olname='\\\"olName\\\"' style='\\\"display:none;\\\"'> <div class='\\\"model_title\\\"' data-en='\\\"标题\\\"' data-zh='\\\"标题\\\"'>            标题           </div> <div class='\\\"ol_value\\\"'>           哈尔滨工业大学          </div> </div> <div class='\\\"card_view\\\"' data-domtype='\\\"input\\\"' data-olname='\\\"\\\"' style='\\\"display:none;\\\"'> <div class='\\\"model_title\\\"' data-en='\\\"起讫时间\\\"' data-zh='\\\"起讫时间\\\"'>            起讫时间           </div> <div class='\\\"ol_value\\\"'>           2017.06至今          </div> </div> <div class='\\\"card_view\\\"' data-domtype='\\\"input\\\"' data-olname='\\\"\\\"' style='\\\"display:none;\\\"'> <div class='\\\"model_title\\\"' data-en='\\\"职位/职称\\\"' data-zh='\\\"职位/职称\\\"'>            职位/职称           </div> <div class='\\\"ol_value\\\"'>           副研究员          </div> </div> <div class='\\\"card_view\\\"' data-domtype='\\\"input\\\"' data-olname='\\\"\\\"' style='\\\"display:none;\\\"'> <div class='\\\"model_title\\\"' data-en='\\\"工作单位\\\"' data-zh='\\\"工作单位\\\"'>            工作单位           </div> <div class='\\\"ol_value\\\"'>           哈尔滨工业大学超精密光电仪器工程研究所          </div> </div> <div class='\\\"card_view\\\"' data-domtype='\\\"textarea\\\"' data-olname='\\\"\\\"' style='\\\"display:none;\\\"'> <div class='\\\"model_title\\\"' data-en='\\\"\\\"' data-zh='\\\"简单介绍\\\"'>            简单介绍           </div> <div class='\\\"ol_value\\\"'></div> </div> </ol> </dl></li>, <li class='\\\"con_parts\\\"' style='\\\"display:block;\\\"'> <div 122,=\"\" 149);\\\"=\"\" class='\\\"part_t\\\"' style='\\\"background-color:rgb(87,'> <div class='\\\"part_t_l\\\"'> <i class='\\\"title_svg' template_icon3004\\\"=\"\"></i><em data-editor='\\\"0\\\"' data-more='\\\"0\\\"' id='\\\"3004\\\"'>教育经历</em><i class='\\\"part_icon' part_icon_e1\\\"=\"\" style='\\\"display:flex;\\\"'></i> </div> <div class='\\\"part_r\\\"'> <a id='\\\"part_card_top\\\"' onclick='\\\"part_card_top(this)\\\"' title='\\\"置顶\\\"'><i class='\\\"part_icon1' part_icon_top\\\"=\"\" style='\\\"display:flex;\\\"'></i></a><a id='\\\"part_card_up\\\"' onclick='\\\"part_card_up(this)\\\"' title='\\\"上移\\\"'><i class='\\\"part_icon1' part_icon_up\\\"=\"\" style='\\\"display:flex;\\\"'></i></a><a id='\\\"part_card_down\\\"' onclick='\\\"part_card_down(this)\\\"' title='\\\"下移\\\"'><i class='\\\"part_icon1' part_icon_down\\\"=\"\" style='\\\"display:flex;\\\"'></i></a><a id='\\\"part_card_bottom\\\"' onclick='\\\"part_card_bottom(this)\\\"' title='\\\"置底\\\"'><i class='\\\"part_icon1' part_icon_bottom\\\"=\"\" style='\\\"display:flex;\\\"'></i></a><a id='\\\"part_icon_d\\\"' title='\\\"删除\\\"'><i class='\\\"part_icon1' part_icon_d\\\"=\"\" style='\\\"display:flex;\\\"'></i></a> </div> </div> <dl> <ol id='\\\"4e39ad63ae914817ae476b08d9d5cd73\\\"' style='\\\"padding-left:70px;\\\"'> <div class='\\\"card_view\\\"' data-domtype='\\\"input\\\"' data-olname='\\\"olName\\\"' style='\\\"display:none;\\\"'> <div class='\\\"model_title\\\"' data-en='\\\"标题\\\"' data-zh='\\\"标题\\\"'>            标题           </div> <div class='\\\"ol_value\\\"'>           博士          </div> </div> <div class='\\\"card_view\\\"' data-domtype='\\\"input\\\"' data-olname='\\\"\\\"' style='\\\"display:none;\\\"'> <div class='\\\"model_title\\\"' data-en='\\\"起讫时间\\\"' data-zh='\\\"起讫时间\\\"'>            起讫时间           </div> <div class='\\\"ol_value\\\"'>           2011.03-2017.03          </div> </div> <div class='\\\"card_view\\\"' data-domtype='\\\"input\\\"' data-olname='\\\"\\\"' style='\\\"display:none;\\\"'> <div class='\\\"model_title\\\"' data-en='\\\"所学专业\\\"' data-zh='\\\"所学专业\\\"'>            所学专业           </div> <div class='\\\"ol_value\\\"'>           仪器科学与技术          </div> </div> <div class='\\\"card_view\\\"' data-domtype='\\\"input\\\"' data-olname='\\\"\\\"' style='\\\"display:none;\\\"'> <div class='\\\"model_title\\\"' data-en='\\\"学习机构\\\"' data-zh='\\\"学习机构\\\"'>            学习机构           </div> <div class='\\\"ol_value\\\"'>           哈尔滨工业大学          </div> </div> <div class='\\\"card_view\\\"' data-domtype='\\\"input\\\"' data-olname='\\\"\\\"' style='\\\"display:none;\\\"'> <div class='\\\"model_title\\\"' data-en='\\\"学历\\\"' data-zh='\\\"学历\\\"'>            学历           </div> <div class='\\\"ol_value\\\"'>           博士          </div> </div> <div class='\\\"card_view\\\"' data-domtype='\\\"textarea\\\"' data-olname='\\\"\\\"' style='\\\"display:none;\\\"'> <div class='\\\"model_title\\\"' data-en='\\\"\\\"' data-zh='\\\"简单介绍\\\"'>            简单介绍           </div> <div class='\\\"ol_value\\\"'></div> </div> </ol> <ol id='\\\"2e9188be0cd34d249f3b93c09e67d2a4\\\"' style='\\\"padding-left:70px;\\\"'> <div class='\\\"card_view\\\"' data-domtype='\\\"input\\\"' data-olname='\\\"olName\\\"' style='\\\"display:none;\\\"'> <div class='\\\"model_title\\\"' data-en='\\\"标题\\\"' data-zh='\\\"标题\\\"'>            标题           </div> <div class='\\\"ol_value\\\"'>           硕士          </div> </div> <div class='\\\"card_view\\\"' data-domtype='\\\"input\\\"' data-olname='\\\"\\\"' style='\\\"display:none;\\\"'> <div class='\\\"model_title\\\"' data-en='\\\"起讫时间\\\"' data-zh='\\\"起讫时间\\\"'>            起讫时间           </div> <div class='\\\"ol_value\\\"'>           2009.08-2010.07          </div> </div> <div class='\\\"card_view\\\"' data-domtype='\\\"input\\\"' data-olname='\\\"\\\"' style='\\\"display:none;\\\"'> <div class='\\\"model_title\\\"' data-en='\\\"所学专业\\\"' data-zh='\\\"所学专业\\\"'>            所学专业           </div> <div class='\\\"ol_value\\\"'>           机械制造          </div> </div> <div class='\\\"card_view\\\"' data-domtype='\\\"input\\\"' data-olname='\\\"\\\"' style='\\\"display:none;\\\"'> <div class='\\\"model_title\\\"' data-en='\\\"学习机构\\\"' data-zh='\\\"学习机构\\\"'>            学习机构           </div> <div class='\\\"ol_value\\\"'>           悉尼科技大学          </div> </div> <div class='\\\"card_view\\\"' data-domtype='\\\"input\\\"' data-olname='\\\"\\\"' style='\\\"display:none;\\\"'> <div class='\\\"model_title\\\"' data-en='\\\"学历\\\"' data-zh='\\\"学历\\\"'>            学历           </div> <div class='\\\"ol_value\\\"'>           硕士          </div> </div> <div class='\\\"card_view\\\"' data-domtype='\\\"textarea\\\"' data-olname='\\\"\\\"' style='\\\"display:none;\\\"'> <div class='\\\"model_title\\\"' data-en='\\\"\\\"' data-zh='\\\"简单介绍\\\"'>            简单介绍           </div> <div class='\\\"ol_value\\\"'></div> </div> </ol> <ol id='\\\"2b5933f16f66480c93668888f239c30f\\\"' style='\\\"padding-left:70px;\\\"'> <div class='\\\"card_view\\\"' data-domtype='\\\"input\\\"' data-olname='\\\"olName\\\"' style='\\\"display:none;\\\"'> <div class='\\\"model_title\\\"' data-en='\\\"标题\\\"' data-zh='\\\"标题\\\"'>            标题           </div> <div class='\\\"ol_value\\\"'>           硕士          </div> </div> <div class='\\\"card_view\\\"' data-domtype='\\\"input\\\"' data-olname='\\\"\\\"' style='\\\"display:none;\\\"'> <div class='\\\"model_title\\\"' data-en='\\\"起讫时间\\\"' data-zh='\\\"起讫时间\\\"'>            起讫时间           </div> <div class='\\\"ol_value\\\"'>           2008.08-2009.07          </div> </div> <div class='\\\"card_view\\\"' data-domtype='\\\"input\\\"' data-olname='\\\"\\\"' style='\\\"display:none;\\\"'> <div class='\\\"model_title\\\"' data-en='\\\"所学专业\\\"' data-zh='\\\"所学专业\\\"'>            所学专业           </div> <div class='\\\"ol_value\\\"'>           机械设计          </div> </div> <div class='\\\"card_view\\\"' data-domtype='\\\"input\\\"' data-olname='\\\"\\\"' style='\\\"display:none;\\\"'> <div class='\\\"model_title\\\"' data-en='\\\"学习机构\\\"' data-zh='\\\"学习机构\\\"'>            学习机构           </div> <div class='\\\"ol_value\\\"'>           新南威尔士大学          </div> </div> <div class='\\\"card_view\\\"' data-domtype='\\\"input\\\"' data-olname='\\\"\\\"' style='\\\"display:none;\\\"'> <div class='\\\"model_title\\\"' data-en='\\\"学历\\\"' data-zh='\\\"学历\\\"'>            学历           </div> <div class='\\\"ol_value\\\"'>           硕士          </div> </div> <div class='\\\"card_view\\\"' data-domtype='\\\"textarea\\\"' data-olname='\\\"\\\"' style='\\\"display:none;\\\"'> <div class='\\\"model_title\\\"' data-en='\\\"\\\"' data-zh='\\\"简单介绍\\\"'>            简单介绍           </div> <div class='\\\"ol_value\\\"'></div> </div> </ol> </dl></li>, <li class='\\\"con_parts\\\"' style='\\\"display:block;\\\"'> <div 122,=\"\" 149);\\\"=\"\" class='\\\"part_t\\\"' style='\\\"background-color:rgb(87,'> <div class='\\\"part_t_l\\\"'> <i class='\\\"title_svg' template_icon999\\\"=\"\"></i><em data-editor='\\\"1\\\"' data-more='\\\"0\\\"' id='\\\"999\\\"'>研究领域</em><i class='\\\"part_icon' part_icon_e1\\\"=\"\" style='\\\"display:flex;\\\"'></i> </div> <div class='\\\"part_r\\\"'> <a id='\\\"part_card_top\\\"' onclick='\\\"part_card_top(this)\\\"' title='\\\"置顶\\\"'><i class='\\\"part_icon1' part_icon_top\\\"=\"\" style='\\\"display:flex;\\\"'></i></a><a id='\\\"part_card_up\\\"' onclick='\\\"part_card_up(this)\\\"' title='\\\"上移\\\"'><i class='\\\"part_icon1' part_icon_up\\\"=\"\" style='\\\"display:flex;\\\"'></i></a><a id='\\\"part_card_down\\\"' onclick='\\\"part_card_down(this)\\\"' title='\\\"下移\\\"'><i class='\\\"part_icon1' part_icon_down\\\"=\"\" style='\\\"display:flex;\\\"'></i></a><a id='\\\"part_card_bottom\\\"' onclick='\\\"part_card_bottom(this)\\\"' title='\\\"置底\\\"'><i class='\\\"part_icon1' part_icon_bottom\\\"=\"\" style='\\\"display:flex;\\\"'></i></a><a id='\\\"part_icon_d\\\"' title='\\\"删除\\\"'><i class='\\\"part_icon1' part_icon_d\\\"=\"\" style='\\\"display:flex;\\\"'></i></a> </div> </div> <dl style='\\\"\\\"'> <ol 70px;\\\"=\"\" id='\\\"6de733b3ef1d467c94c7ca9b4153df06\\\"' style='\\\"padding-left:'> <div class='\\\"card_view\\\"' data-domtype='\\\"input\\\"' data-olname='\\\"olName\\\"' style='\\\"display:none;\\\"'> <div class='\\\"model_title\\\"' data-en='\\\"名称\\\"' data-zh='\\\"名称\\\"'>            名称           </div> <div class='\\\"ol_value\\\"'></div> </div> <div class='\\\"card_view\\\"' data-domtype='\\\"editor_controls\\\"' style='\\\"display:none;\\\"'> <div class='\\\"editor_content\\\"' id='\\\"5ee147208e0344808afb8d3dda597d63\\\"'> <p><br/></p> <p>空间直线运动基准技术；超精密多自由度测量与运动技术；超声检测</p> <p><br/></p> </div> </div> </ol> </dl></li>, <li class='\\\"con_parts\\\"' style='\\\"display:block;\\\"'> <div 122,=\"\" 149);\\\"=\"\" class='\\\"part_t\\\"' style='\\\"background-color:rgb(87,'> <div class='\\\"part_t_l\\\"'> <i class='\\\"title_svg' template_icon3105\\\"=\"\"></i><em data-editor='\\\"0\\\"' data-more='\\\"1\\\"' id='\\\"3105\\\"'>科研项目</em><i class='\\\"part_icon' part_icon_e1\\\"=\"\" style='\\\"display:flex;\\\"'></i> </div> <div class='\\\"part_r\\\"'> <a id='\\\"part_icon_add\\\"' title='\\\"新增\\\"'><i class='\\\"part_icon1' part_icon_add\\\"=\"\" style='\\\"display:flex;\\\"'></i></a><i class='\\\"part_icon_solid\\\"'></i><a id='\\\"part_card_top\\\"' onclick='\\\"part_card_top(this)\\\"' title='\\\"置顶\\\"'><i class='\\\"part_icon1' part_icon_top\\\"=\"\" style='\\\"display:flex;\\\"'></i></a><a id='\\\"part_card_up\\\"' onclick='\\\"part_card_up(this)\\\"' title='\\\"上移\\\"'><i class='\\\"part_icon1' part_icon_up\\\"=\"\" style='\\\"display:flex;\\\"'></i></a><a id='\\\"part_card_down\\\"' onclick='\\\"part_card_down(this)\\\"' title='\\\"下移\\\"'><i class='\\\"part_icon1' part_icon_down\\\"=\"\" style='\\\"display:flex;\\\"'></i></a><a id='\\\"part_card_bottom\\\"' onclick='\\\"part_card_bottom(this)\\\"' title='\\\"置底\\\"'><i class='\\\"part_icon1' part_icon_bottom\\\"=\"\" style='\\\"display:flex;\\\"'></i></a><a id='\\\"part_icon_d\\\"' title='\\\"删除\\\"'><i class='\\\"part_icon1' part_icon_d\\\"=\"\" style='\\\"display:flex;\\\"'></i></a> </div> </div> <dl> <ol id='\\\"c28b6583e2a949efb8baa8c104b634c5\\\"' style='\\\"padding-left:70px;\\\"'> <div class='\\\"card_view\\\"' data-domtype='\\\"input\\\"' data-olname='\\\"olName\\\"' style='\\\"display:none;\\\"'> <div class='\\\"model_title\\\"' data-en='\\\"项目名称\\\"' data-zh='\\\"项目名称\\\"'>            项目名称           </div> <div class='\\\"ol_value\\\"'>           国家级项目          </div> </div> <div class='\\\"card_view\\\"' data-domtype='\\\"input\\\"' data-olname='\\\"\\\"' style='\\\"display:none;\\\"'> <div class='\\\"model_title\\\"' data-en='\\\"项目来源\\\"' data-zh='\\\"项目来源\\\"'>            项目来源           </div> <div class='\\\"ol_value\\\"'>           科技部          </div> </div> <div class='\\\"card_view\\\"' data-domtype='\\\"input\\\"' data-olname='\\\"\\\"' style='\\\"display:none;\\\"'> <div class='\\\"model_title\\\"' data-en='\\\"开始时间\\\"' data-zh='\\\"开始时间\\\"'>            开始时间           </div> <div class='\\\"ol_value\\\"'>           2009          </div> </div> <div class='\\\"card_view\\\"' data-domtype='\\\"input\\\"' data-olname='\\\"\\\"' style='\\\"display:none;\\\"'> <div class='\\\"model_title\\\"' data-en='\\\"结束时间\\\"' data-zh='\\\"结束时间\\\"'>            结束时间           </div> <div class='\\\"ol_value\\\"'>           2019          </div> </div> <div class='\\\"card_view\\\"' data-domtype='\\\"input\\\"' data-olname='\\\"\\\"' style='\\\"display:none;\\\"'> <div class='\\\"model_title\\\"' data-en='\\\"项目经费\\\"' data-zh='\\\"项目经费\\\"'>            项目经费           </div> <div class='\\\"ol_value\\\"'></div> </div> <div class='\\\"card_view\\\"' data-domtype='\\\"form_radio\\\"' data-label='\\\"担任角色\\\"' data-lis-zh='\\\"负责,参与\\\"' style='\\\"display:none;\\\"'> <div class='\\\"model_title\\\"' data-en='\\\"负责,参与\\\"' data-zh='\\\"担任角色\\\"'>            担任角色           </div> <div class='\\\"ol_value\\\"'>           参与          </div> </div> <div class='\\\"card_view\\\"' data-domtype='\\\"form_radio\\\"' data-label='\\\"项目类别\\\"' data-lis-zh='\\\"横向项目,纵向项目\\\"' style='\\\"display:none;\\\"'> <div class='\\\"model_title\\\"' data-en='\\\"横向项目,纵向项目\\\"' data-zh='\\\"项目类别\\\"'>            项目类别           </div> <div class='\\\"ol_value\\\"'>           纵向项目          </div> </div> <div class='\\\"card_view\\\"' data-domtype='\\\"form_radio\\\"' data-label='\\\"项目状态\\\"' data-lis-zh='\\\"完成,进行中\\\"' style='\\\"display:none;\\\"'> <div class='\\\"model_title\\\"' data-en='\\\"完成,进行中\\\"' data-zh='\\\"项目状态\\\"'>            项目状态           </div> <div class='\\\"ol_value\\\"'>           完成          </div> </div> <div class='\\\"card_view\\\"' data-domtype='\\\"textarea\\\"' data-olname='\\\"\\\"' style='\\\"display:none;\\\"'> <div class='\\\"model_title\\\"' data-en='\\\"\\\"' data-zh='\\\"简单介绍\\\"'>            简单介绍           </div> <div class='\\\"ol_value\\\"'></div> </div> </ol> <ol id='\\\"7ecbe6d91d0d426ab2c2f1a9f01aac76\\\"' style='\\\"padding-left:70px;\\\"'> <div class='\\\"card_view\\\"' data-domtype='\\\"input\\\"' data-olname='\\\"olName\\\"' style='\\\"display:none;\\\"'> <div class='\\\"model_title\\\"' data-en='\\\"项目名称\\\"' data-zh='\\\"项目名称\\\"'>            项目名称           </div> <div class='\\\"ol_value\\\"'>           国家重点研发计划重大科学仪器设备开发重点专项课题          </div> </div> <div class='\\\"card_view\\\"' data-domtype='\\\"input\\\"' data-olname='\\\"\\\"' style='\\\"display:none;\\\"'> <div class='\\\"model_title\\\"' data-en='\\\"项目来源\\\"' data-zh='\\\"项目来源\\\"'>            项目来源           </div> <div class='\\\"ol_value\\\"'></div> </div> <div class='\\\"card_view\\\"' data-domtype='\\\"input\\\"' data-olname='\\\"\\\"' style='\\\"display:none;\\\"'> <div class='\\\"model_title\\\"' data-en='\\\"开始时间\\\"' data-zh='\\\"开始时间\\\"'>            开始时间           </div> <div class='\\\"ol_value\\\"'>           2018          </div> </div> <div class='\\\"card_view\\\"' data-domtype='\\\"input\\\"' data-olname='\\\"\\\"' style='\\\"display:none;\\\"'> <div class='\\\"model_title\\\"' data-en='\\\"结束时间\\\"' data-zh='\\\"结束时间\\\"'>            结束时间           </div> <div class='\\\"ol_value\\\"'>           2021          </div> </div> <div class='\\\"card_view\\\"' data-domtype='\\\"input\\\"' data-olname='\\\"\\\"' style='\\\"display:none;\\\"'> <div class='\\\"model_title\\\"' data-en='\\\"项目经费\\\"' data-zh='\\\"项目经费\\\"'>            项目经费           </div> <div class='\\\"ol_value\\\"'></div> </div> <div class='\\\"card_view\\\"' data-domtype='\\\"form_radio\\\"' data-label='\\\"担任角色\\\"' data-lis-zh='\\\"负责,参与\\\"' style='\\\"display:none;\\\"'> <div class='\\\"model_title\\\"' data-en='\\\"负责,参与\\\"' data-zh='\\\"担任角色\\\"'>            担任角色           </div> <div class='\\\"ol_value\\\"'>           参与          </div> </div> <div class='\\\"card_view\\\"' data-domtype='\\\"form_radio\\\"' data-label='\\\"项目类别\\\"' data-lis-zh='\\\"横向项目,纵向项目\\\"' style='\\\"display:none;\\\"'> <div class='\\\"model_title\\\"' data-en='\\\"横向项目,纵向项目\\\"' data-zh='\\\"项目类别\\\"'>            项目类别           </div> <div class='\\\"ol_value\\\"'>           纵向项目          </div> </div> <div class='\\\"card_view\\\"' data-domtype='\\\"form_radio\\\"' data-label='\\\"项目状态\\\"' data-lis-zh='\\\"完成,进行中\\\"' style='\\\"display:none;\\\"'> <div class='\\\"model_title\\\"' data-en='\\\"完成,进行中\\\"' data-zh='\\\"项目状态\\\"'>            项目状态           </div> <div class='\\\"ol_value\\\"'>           完成          </div> </div> <div class='\\\"card_view\\\"' data-domtype='\\\"textarea\\\"' data-olname='\\\"\\\"' style='\\\"display:none;\\\"'> <div class='\\\"model_title\\\"' data-en='\\\"\\\"' data-zh='\\\"简单介绍\\\"'>            简单介绍           </div> <div class='\\\"ol_value\\\"'></div> </div> </ol> <ol id='\\\"479e19c0bcd043f3a459a2b3b6ba19c8\\\"' style='\\\"padding-left:70px;\\\"'> <div class='\\\"card_view\\\"' data-domtype='\\\"input\\\"' data-olname='\\\"olName\\\"' style='\\\"display:none;\\\"'> <div class='\\\"model_title\\\"' data-en='\\\"项目名称\\\"' data-zh='\\\"项目名称\\\"'>            项目名称           </div> <div class='\\\"ol_value\\\"'>           纳米三坐标测量机大范围高精度6DOF测量和运动方法研究          </div> </div> <div class='\\\"card_view\\\"' data-domtype='\\\"input\\\"' data-olname='\\\"\\\"' style='\\\"display:none;\\\"'> <div class='\\\"model_title\\\"' data-en='\\\"项目来源\\\"' data-zh='\\\"项目来源\\\"'>            项目来源           </div> <div class='\\\"ol_value\\\"'>           省博士后资助项目          </div> </div> <div class='\\\"card_view\\\"' data-domtype='\\\"input\\\"' data-olname='\\\"\\\"' style='\\\"display:none;\\\"'> <div class='\\\"model_title\\\"' data-en='\\\"开始时间\\\"' data-zh='\\\"开始时间\\\"'>            开始时间           </div> <div class='\\\"ol_value\\\"'>           2018          </div> </div> <div class='\\\"card_view\\\"' data-domtype='\\\"input\\\"' data-olname='\\\"\\\"' style='\\\"display:none;\\\"'> <div class='\\\"model_title\\\"' data-en='\\\"结束时间\\\"' data-zh='\\\"结束时间\\\"'>            结束时间           </div> <div class='\\\"ol_value\\\"'>           2019          </div> </div> <div class='\\\"card_view\\\"' data-domtype='\\\"input\\\"' data-olname='\\\"\\\"' style='\\\"display:none;\\\"'> <div class='\\\"model_title\\\"' data-en='\\\"项目经费\\\"' data-zh='\\\"项目经费\\\"'>            项目经费           </div> <div class='\\\"ol_value\\\"'></div> </div> <div class='\\\"card_view\\\"' data-domtype='\\\"form_radio\\\"' data-label='\\\"担任角色\\\"' data-lis-zh='\\\"负责,参与\\\"' style='\\\"display:none;\\\"'> <div class='\\\"model_title\\\"' data-en='\\\"负责,参与\\\"' data-zh='\\\"担任角色\\\"'>            担任角色           </div> <div class='\\\"ol_value\\\"'>            负责           </div> </div> <div class='\\\"card_view\\\"' data-domtype='\\\"form_radio\\\"' data-label='\\\"项目类别\\\"' data-lis-zh='\\\"横向项目,纵向项目\\\"' style='\\\"display:none;\\\"'> <div class='\\\"model_title\\\"' data-en='\\\"横向项目,纵向项目\\\"' data-zh='\\\"项目类别\\\"'>            项目类别           </div> <div class='\\\"ol_value\\\"'>            纵向项目           </div> </div> <div class='\\\"card_view\\\"' data-domtype='\\\"form_radio\\\"' data-label='\\\"项目状态\\\"' data-lis-zh='\\\"完成,进行中\\\"' style='\\\"display:none;\\\"'> <div class='\\\"model_title\\\"' data-en='\\\"完成,进行中\\\"' data-zh='\\\"项目状态\\\"'>            项目状态           </div> <div class='\\\"ol_value\\\"'>            进行中           </div> </div> <div class='\\\"card_view\\\"' data-domtype='\\\"textarea\\\"' data-olname='\\\"\\\"' style='\\\"display:none;\\\"'> <div class='\\\"model_title\\\"' data-en='\\\"\\\"' data-zh='\\\"简单介绍\\\"'>            简单介绍           </div> <div class='\\\"ol_value\\\"'></div> </div> </ol> <ol id='\\\"331bf820aa1b438805ee5165eb0f0031\\\"' style='\\\"padding-left:70px;\\\"'> <div class='\\\"card_view\\\"' data-domtype='\\\"input\\\"' data-olname='\\\"olName\\\"' style='\\\"display:none;\\\"'> <div class='\\\"model_title\\\"' data-en='\\\"project' data-zh='\\\"项目名称\\\"' name\\\"=\"\">           项目名称          </div> <div class='\\\"ol_value\\\"'>           化改进的KL121/5型调距桨装置可靠性试验过程中关键零件、部件的载荷测试技术研究          </div> </div> <div class='\\\"card_view\\\"' data-domtype='\\\"input\\\"' data-olname='\\\"olName\\\"' style='\\\"display:none;\\\"'> <div class='\\\"model_title\\\"' data-en='\\\"project' data-zh='\\\"项目来源\\\"' source\\\"=\"\">           项目来源          </div> <div class='\\\"ol_value\\\"'>           中船重工704研究所          </div> </div> <div class='\\\"card_view\\\"' data-domtype='\\\"input\\\"' data-olname='\\\"olName\\\"' style='\\\"display:none;\\\"'> <div class='\\\"model_title\\\"' data-en='\\\"start' data-zh='\\\"开始时间\\\"' time\\\"=\"\">           开始时间          </div> <div class='\\\"ol_value\\\"'>           2022          </div> </div> <div class='\\\"card_view\\\"' data-domtype='\\\"input\\\"' data-olname='\\\"olName\\\"' style='\\\"display:none;\\\"'> <div class='\\\"model_title\\\"' data-en='\\\"end' data-zh='\\\"结束时间\\\"' time\\\"=\"\">           结束时间          </div> <div class='\\\"ol_value\\\"'>           2025          </div> </div> <div class='\\\"card_view\\\"' data-domtype='\\\"input\\\"' data-olname='\\\"olName\\\"' style='\\\"display:none;\\\"'> <div class='\\\"model_title\\\"' data-en='\\\"project' data-zh='\\\"项目经费\\\"' fund\\\"=\"\">           项目经费          </div> <div class='\\\"ol_value\\\"'></div> </div> <div class='\\\"card_view\\\"' data-domtype='\\\"form_radio\\\"' data-label='\\\"担任角色\\\"' data-lis-zh='\\\"负责,参与\\\"' style='\\\"display:none;\\\"'> <div class='\\\"model_title\\\"' data-en='\\\"role\\\"' data-zh='\\\"担任角色\\\"'>           担任角色          </div> <div class='\\\"ol_value\\\"'>           负责          </div> </div> <div class='\\\"card_view\\\"' data-domtype='\\\"form_radio\\\"' data-label='\\\"项目类别\\\"' data-lis-zh='\\\"横向项目,纵向项目\\\"' style='\\\"display:none;\\\"'> <div class='\\\"model_title\\\"' data-en='\\\"classification\\\"' data-zh='\\\"项目类别\\\"'>           项目类别          </div> <div class='\\\"ol_value\\\"'>           横向项目          </div> </div> <div class='\\\"card_view\\\"' data-domtype='\\\"form_radio\\\"' data-label='\\\"项目状态\\\"' data-lis-zh='\\\"完成,进行中\\\"' style='\\\"display:none;\\\"'> <div class='\\\"model_title\\\"' data-en='\\\"status\\\"' data-zh='\\\"项目状态\\\"'>           项目状态          </div> <div class='\\\"ol_value\\\"'>           进行中          </div> </div> <div class='\\\"card_view\\\"' data-domtype='\\\"textarea\\\"' data-olname='\\\"\\\"' style='\\\"display:none;\\\"'> <div class='\\\"model_title\\\"' data-en='\\\"introduction\\\"' data-zh='\\\"简单介绍\\\"'>           简单介绍          </div> <div class='\\\"ol_value\\\"'></div> </div> </ol> <ol id='\\\"726c135d4c15e742328e5d66d2340059\\\"' style='\\\"padding-left:70px;\\\"'> <div class='\\\"card_view\\\"' data-domtype='\\\"input\\\"' data-olname='\\\"olName\\\"' style='\\\"display:none;\\\"'> <div class='\\\"model_title\\\"' data-en='\\\"project' data-zh='\\\"项目名称\\\"' name\\\"=\"\">           项目名称          </div> <div class='\\\"ol_value\\\"'>           基于虚拟直线基准的空间直线运动方法与测量模型研究          </div> </div> <div class='\\\"card_view\\\"' data-domtype='\\\"input\\\"' data-olname='\\\"olName\\\"' style='\\\"display:none;\\\"'> <div class='\\\"model_title\\\"' data-en='\\\"project' data-zh='\\\"项目来源\\\"' source\\\"=\"\">           项目来源          </div> <div class='\\\"ol_value\\\"'>           国家青年自然科学基金          </div> </div> <div class='\\\"card_view\\\"' data-domtype='\\\"input\\\"' data-olname='\\\"olName\\\"' style='\\\"display:none;\\\"'> <div class='\\\"model_title\\\"' data-en='\\\"start' data-zh='\\\"开始时间\\\"' time\\\"=\"\">           开始时间          </div> <div class='\\\"ol_value\\\"'>           2019          </div> </div> <div class='\\\"card_view\\\"' data-domtype='\\\"input\\\"' data-olname='\\\"olName\\\"' style='\\\"display:none;\\\"'> <div class='\\\"model_title\\\"' data-en='\\\"end' data-zh='\\\"结束时间\\\"' time\\\"=\"\">           结束时间          </div> <div class='\\\"ol_value\\\"'>           2022          </div> </div> <div class='\\\"card_view\\\"' data-domtype='\\\"input\\\"' data-olname='\\\"olName\\\"' style='\\\"display:none;\\\"'> <div class='\\\"model_title\\\"' data-en='\\\"project' data-zh='\\\"项目经费\\\"' fund\\\"=\"\">           项目经费          </div> <div class='\\\"ol_value\\\"'></div> </div> <div class='\\\"card_view\\\"' data-domtype='\\\"form_radio\\\"' data-label='\\\"担任角色\\\"' data-lis-zh='\\\"负责,参与\\\"' style='\\\"display:none;\\\"'> <div class='\\\"model_title\\\"' data-en='\\\"role\\\"' data-zh='\\\"担任角色\\\"'>           担任角色          </div> <div class='\\\"ol_value\\\"'>           负责          </div> </div> <div class='\\\"card_view\\\"' data-domtype='\\\"form_radio\\\"' data-label='\\\"项目类别\\\"' data-lis-zh='\\\"横向项目,纵向项目\\\"' style='\\\"display:none;\\\"'> <div class='\\\"model_title\\\"' data-en='\\\"classification\\\"' data-zh='\\\"项目类别\\\"'>           项目类别          </div> <div class='\\\"ol_value\\\"'>           纵向项目          </div> </div> <div class='\\\"card_view\\\"' data-domtype='\\\"form_radio\\\"' data-label='\\\"项目状态\\\"' data-lis-zh='\\\"完成,进行中\\\"' style='\\\"display:none;\\\"'> <div class='\\\"model_title\\\"' data-en='\\\"status\\\"' data-zh='\\\"项目状态\\\"'>           项目状态          </div> <div class='\\\"ol_value\\\"'>           完成          </div> </div> <div class='\\\"card_view\\\"' data-domtype='\\\"textarea\\\"' data-olname='\\\"\\\"' style='\\\"display:none;\\\"'> <div class='\\\"model_title\\\"' data-en='\\\"introduction\\\"' data-zh='\\\"简单介绍\\\"'>           简单介绍          </div> <div class='\\\"ol_value\\\"'></div> </div> </ol> <ol id='\\\"090fca08c65d06f6119e1883c4fa0164\\\"' style='\\\"padding-left:70px;\\\"'> <div class='\\\"card_view\\\"' data-domtype='\\\"input\\\"' data-olname='\\\"olName\\\"' style='\\\"display:none;\\\"'> <div class='\\\"model_title\\\"' data-en='\\\"project' data-zh='\\\"项目名称\\\"' name\\\"=\"\">           项目名称          </div> <div class='\\\"ol_value\\\"'>           多源扰动下热场动态构建和高精度温控方法          </div> </div> <div class='\\\"card_view\\\"' data-domtype='\\\"input\\\"' data-olname='\\\"olName\\\"' style='\\\"display:none;\\\"'> <div class='\\\"model_title\\\"' data-en='\\\"project' data-zh='\\\"项目来源\\\"' source\\\"=\"\">           项目来源          </div> <div class='\\\"ol_value\\\"'>           国家重点研发          </div> </div> <div class='\\\"card_view\\\"' data-domtype='\\\"input\\\"' data-olname='\\\"olName\\\"' style='\\\"display:none;\\\"'> <div class='\\\"model_title\\\"' data-en='\\\"start' data-zh='\\\"开始时间\\\"' time\\\"=\"\">           开始时间          </div> <div class='\\\"ol_value\\\"'>           2022          </div> </div> <div class='\\\"card_view\\\"' data-domtype='\\\"input\\\"' data-olname='\\\"olName\\\"' style='\\\"display:none;\\\"'> <div class='\\\"model_title\\\"' data-en='\\\"end' data-zh='\\\"结束时间\\\"' time\\\"=\"\">           结束时间          </div> <div class='\\\"ol_value\\\"'>           2027          </div> </div> <div class='\\\"card_view\\\"' data-domtype='\\\"input\\\"' data-olname='\\\"olName\\\"' style='\\\"display:none;\\\"'> <div class='\\\"model_title\\\"' data-en='\\\"project' data-zh='\\\"项目经费\\\"' fund\\\"=\"\">           项目经费          </div> <div class='\\\"ol_value\\\"'></div> </div> <div class='\\\"card_view\\\"' data-domtype='\\\"form_radio\\\"' data-label='\\\"担任角色\\\"' data-lis-zh='\\\"负责,参与\\\"' style='\\\"display:none;\\\"'> <div class='\\\"model_title\\\"' data-en='\\\"role\\\"' data-zh='\\\"担任角色\\\"'>           担任角色          </div> <div class='\\\"ol_value\\\"'>           参与          </div> </div> <div class='\\\"card_view\\\"' data-domtype='\\\"form_radio\\\"' data-label='\\\"项目类别\\\"' data-lis-zh='\\\"横向项目,纵向项目\\\"' style='\\\"display:none;\\\"'> <div class='\\\"model_title\\\"' data-en='\\\"classification\\\"' data-zh='\\\"项目类别\\\"'>           项目类别          </div> <div class='\\\"ol_value\\\"'>           纵向项目          </div> </div> <div class='\\\"card_view\\\"' data-domtype='\\\"form_radio\\\"' data-label='\\\"项目状态\\\"' data-lis-zh='\\\"完成,进行中\\\"' style='\\\"display:none;\\\"'> <div class='\\\"model_title\\\"' data-en='\\\"status\\\"' data-zh='\\\"项目状态\\\"'>           项目状态          </div> <div class='\\\"ol_value\\\"'>           进行中          </div> </div> <div class='\\\"card_view\\\"' data-domtype='\\\"textarea\\\"' data-olname='\\\"\\\"' style='\\\"display:none;\\\"'> <div class='\\\"model_title\\\"' data-en='\\\"introduction\\\"' data-zh='\\\"简单介绍\\\"'>           简单介绍          </div> <div class='\\\"ol_value\\\"'></div> </div> </ol> <ol id='\\\"1e19a0de7a5d1df1d1cf52e230c8e928\\\"' style='\\\"padding-left:70px;\\\"'> <div class='\\\"card_view\\\"' data-domtype='\\\"input\\\"' data-olname='\\\"olName\\\"' style='\\\"display:none;\\\"'> <div class='\\\"model_title\\\"' data-en='\\\"project' data-zh='\\\"项目名称\\\"' name\\\"=\"\">           项目名称          </div> <div class='\\\"ol_value\\\"'>           国家级项目          </div> </div> <div class='\\\"card_view\\\"' data-domtype='\\\"input\\\"' data-olname='\\\"olName\\\"' style='\\\"display:none;\\\"'> <div class='\\\"model_title\\\"' data-en='\\\"project' data-zh='\\\"项目来源\\\"' source\\\"=\"\">           项目来源          </div> <div class='\\\"ol_value\\\"'>           国家重大工程项目          </div> </div> <div class='\\\"card_view\\\"' data-domtype='\\\"input\\\"' data-olname='\\\"olName\\\"' style='\\\"display:none;\\\"'> <div class='\\\"model_title\\\"' data-en='\\\"start' data-zh='\\\"开始时间\\\"' time\\\"=\"\">           开始时间          </div> <div class='\\\"ol_value\\\"'>           2020          </div> </div> <div class='\\\"card_view\\\"' data-domtype='\\\"input\\\"' data-olname='\\\"olName\\\"' style='\\\"display:none;\\\"'> <div class='\\\"model_title\\\"' data-en='\\\"end' data-zh='\\\"结束时间\\\"' time\\\"=\"\">           结束时间          </div> <div class='\\\"ol_value\\\"'>           2024          </div> </div> <div class='\\\"card_view\\\"' data-domtype='\\\"input\\\"' data-olname='\\\"olName\\\"' style='\\\"display:none;\\\"'> <div class='\\\"model_title\\\"' data-en='\\\"project' data-zh='\\\"项目经费\\\"' fund\\\"=\"\">           项目经费          </div> <div class='\\\"ol_value\\\"'></div> </div> <div class='\\\"card_view\\\"' data-domtype='\\\"form_radio\\\"' data-label='\\\"担任角色\\\"' data-lis-zh='\\\"负责,参与\\\"' style='\\\"display:none;\\\"'> <div class='\\\"model_title\\\"' data-en='\\\"role\\\"' data-zh='\\\"担任角色\\\"'>           担任角色          </div> <div class='\\\"ol_value\\\"'>           参与          </div> </div> <div class='\\\"card_view\\\"' data-domtype='\\\"form_radio\\\"' data-label='\\\"项目类别\\\"' data-lis-zh='\\\"横向项目,纵向项目\\\"' style='\\\"display:none;\\\"'> <div class='\\\"model_title\\\"' data-en='\\\"classification\\\"' data-zh='\\\"项目类别\\\"'>           项目类别          </div> <div class='\\\"ol_value\\\"'>           纵向项目          </div> </div> <div class='\\\"card_view\\\"' data-domtype='\\\"form_radio\\\"' data-label='\\\"项目状态\\\"' data-lis-zh='\\\"完成,进行中\\\"' style='\\\"display:none;\\\"'> <div class='\\\"model_title\\\"' data-en='\\\"status\\\"' data-zh='\\\"项目状态\\\"'>           项目状态          </div> <div class='\\\"ol_value\\\"'>           进行中          </div> </div> <div class='\\\"card_view\\\"' data-domtype='\\\"textarea\\\"' data-olname='\\\"\\\"' style='\\\"display:none;\\\"'> <div class='\\\"model_title\\\"' data-en='\\\"introduction\\\"' data-zh='\\\"简单介绍\\\"'>           简单介绍          </div> <div class='\\\"ol_value\\\"'></div> </div> </ol> </dl></li>, <li class='\\\"con_parts\\\"' style='\\\"display:block;\\\"'> <div 122,=\"\" 149);\\\"=\"\" class='\\\"part_t\\\"' style='\\\"background-color:rgb(87,'> <div class='\\\"part_t_l\\\"'> <i class='\\\"title_svg' template_icon3302\\\"=\"\"></i><em data-editor='\\\"0\\\"' data-more='\\\"1\\\"' id='\\\"3302\\\"'>论文期刊</em><i class='\\\"part_icon' part_icon_e1\\\"=\"\" style='\\\"display:flex;\\\"'></i> </div> <div class='\\\"part_r\\\"'> <a id='\\\"part_icon_add\\\"' title='\\\"新增\\\"'><i class='\\\"part_icon1' part_icon_add\\\"=\"\" style='\\\"display:flex;\\\"'></i></a><i class='\\\"part_icon_solid\\\"'></i><a id='\\\"part_card_top\\\"' onclick='\\\"part_card_top(this)\\\"' title='\\\"置顶\\\"'><i class='\\\"part_icon1' part_icon_top\\\"=\"\" style='\\\"display:flex;\\\"'></i></a><a id='\\\"part_card_up\\\"' onclick='\\\"part_card_up(this)\\\"' title='\\\"上移\\\"'><i class='\\\"part_icon1' part_icon_up\\\"=\"\" style='\\\"display:flex;\\\"'></i></a><a id='\\\"part_card_down\\\"' onclick='\\\"part_card_down(this)\\\"' title='\\\"下移\\\"'><i class='\\\"part_icon1' part_icon_down\\\"=\"\" style='\\\"display:flex;\\\"'></i></a><a id='\\\"part_card_bottom\\\"' onclick='\\\"part_card_bottom(this)\\\"' title='\\\"置底\\\"'><i class='\\\"part_icon1' part_icon_bottom\\\"=\"\" style='\\\"display:flex;\\\"'></i></a><a id='\\\"part_icon_d\\\"' title='\\\"删除\\\"'><i class='\\\"part_icon1' part_icon_d\\\"=\"\" style='\\\"display:flex;\\\"'></i></a> </div> </div> <dl></dl></li>, <li class='\\\"con_parts\\\"' style='\\\"display:block;\\\"'> <div 122,=\"\" 149);\\\"=\"\" class='\\\"part_t\\\"' style='\\\"background-color:rgb(87,'> <div class='\\\"part_t_l\\\"'> <i class='\\\"title_svg' template_icon\\\"=\"\"></i><em data-editor='\\\"0\\\"' data-more='\\\"1\\\"' id='\\\"\\\"'>专利</em><i class='\\\"part_icon' part_icon_e1\\\"=\"\" style='\\\"display:flex;\\\"'></i> </div> <div class='\\\"part_r\\\"'> <a id='\\\"part_icon_add\\\"' title='\\\"新增\\\"'><i class='\\\"part_icon1' part_icon_add\\\"=\"\" style='\\\"display:flex;\\\"'></i></a><i class='\\\"part_icon_solid\\\"'></i><a id='\\\"part_card_top\\\"' onclick='\\\"part_card_top(this)\\\"' title='\\\"置顶\\\"'><i class='\\\"part_icon1' part_icon_top\\\"=\"\" style='\\\"display:flex;\\\"'></i></a><a id='\\\"part_card_up\\\"' onclick='\\\"part_card_up(this)\\\"' title='\\\"上移\\\"'><i class='\\\"part_icon1' part_icon_up\\\"=\"\" style='\\\"display:flex;\\\"'></i></a><a id='\\\"part_card_down\\\"' onclick='\\\"part_card_down(this)\\\"' title='\\\"下移\\\"'><i class='\\\"part_icon1' part_icon_down\\\"=\"\" style='\\\"display:flex;\\\"'></i></a><a id='\\\"part_card_bottom\\\"' onclick='\\\"part_card_bottom(this)\\\"' title='\\\"置底\\\"'><i class='\\\"part_icon1' part_icon_bottom\\\"=\"\" style='\\\"display:flex;\\\"'></i></a><a id='\\\"part_icon_d\\\"' title='\\\"删除\\\"'><i class='\\\"part_icon1' part_icon_d\\\"=\"\" style='\\\"display:flex;\\\"'></i></a> </div> </div> <dl></dl></li>]\n"
     ]
    }
   ],
   "source": [
    "print(body_info)"
   ],
   "metadata": {
    "collapsed": false,
    "ExecuteTime": {
     "end_time": "2024-03-29T09:15:42.988768Z",
     "start_time": "2024-03-29T09:15:42.976196Z"
    }
   },
   "id": "97c512564692c14c",
   "execution_count": 117
  },
  {
   "cell_type": "code",
   "outputs": [],
   "source": [
    "# body_info = soup_body.find_all('li')\n",
    "# print(body_info)\n",
    "extract_body_info = extract_info(body_info)\n",
    "# extract_info.get('基本信息','')\n",
    "\n",
    "addrs = soup.find_all('li', class_='addr')\n",
    "addr_info = extract_address(addrs)\n",
    "df_basic.append(pd.DataFrame({\n",
    "    '姓名':[name],\n",
    "    '国家':[country],\n",
    "    '职称':[title],\n",
    "    '类型':[part],\n",
    "    '学院':[position],\n",
    "    '学院官网':[position_url],\n",
    "    '学科':[discipline],\n",
    "    '研究方向':[label],\n",
    "    '最后修改时间':[modify_time],\n",
    "    '电话':[addr_info['电话']],\n",
    "    '传真':[addr_info['传真']],\n",
    "    '邮箱':[addr_info['邮箱']],\n",
    "    '地址':[addr_info['地址']]\n",
    "}))"
   ],
   "metadata": {
    "collapsed": false,
    "ExecuteTime": {
     "end_time": "2024-03-29T10:56:04.248014Z",
     "start_time": "2024-03-29T10:56:04.241269Z"
    }
   },
   "id": "bea5eea32437d996",
   "execution_count": 174
  },
  {
   "cell_type": "code",
   "outputs": [],
   "source": [
    "# def extract_info(infos):\n",
    "infos = body_info\n",
    "ret = {}\n",
    "targets = ['基本信息', '学术兼职', '奖励与荣誉', '招生信息', '工作经历', '教育经历', '研究领域',\n",
    "          '团队成员', '已毕业研究生', '指导本科毕业设计', '代表论文']\n",
    "for info in infos:\n",
    "    info = info.get_text()\n",
    "    for target in targets:\n",
    "        if target in info:\n",
    "            ret[target] = tidy_text(info, target)\n",
    "    # return ret"
   ],
   "metadata": {
    "collapsed": false,
    "ExecuteTime": {
     "end_time": "2024-03-29T09:09:12.881761Z",
     "start_time": "2024-03-29T09:09:12.876505Z"
    }
   },
   "id": "9223f4399d79dbd9",
   "execution_count": 112
  },
  {
   "cell_type": "code",
   "outputs": [],
   "source": [
    "extract_body_info = extract_info(body_info)\n",
    "targets = ['基本信息', '学术兼职', '奖励与荣誉', '招生信息', '工作经历', '教育经历', '研究领域',\n",
    "               '团队成员', '已毕业研究生', '指导本科毕业设计', '论文']\n",
    "\n",
    "df = [[] for _ in range(len(targets))]\n",
    "for i in range(len(targets)):\n",
    "    df[i].append(pd.DataFrame({\n",
    "        '姓名':[name],\n",
    "        targets[i]:[extract_body_info[targets[i]]]\n",
    "    }))"
   ],
   "metadata": {
    "collapsed": false,
    "ExecuteTime": {
     "end_time": "2024-03-29T10:21:19.830747Z",
     "start_time": "2024-03-29T10:21:19.824500Z"
    }
   },
   "id": "58c2aa7eeb124783",
   "execution_count": 167
  },
  {
   "cell_type": "code",
   "outputs": [
    {
     "data": {
      "text/plain": "[[    姓名                                               基本信息\n  0  王伟波  王伟波，1983年生，教授/博导，国家级高层次青年人才，谭久彬院士头雁团队方向负责人、副所长...],\n [    姓名                                               学术兼职\n  0  王伟波  1.学术组织兼职：中国光学学会，理事中国仪器仪表学会，理事全国微机电技术标准化技术委员会TC...],\n [    姓名                                              奖励与荣誉\n  0  王伟波  1.立德树人2023年，宝钢优秀教师奖2023年，全国青年文明号，号长2023年，全国高校黄...],\n [    姓名                                               招生信息\n  0  王伟波  招收仪器科学、光学工程相关专业硕士研究生、博士研究生，虚位以待。毕业学生去向：就业：华为、中...],\n [    姓名                                               工作经历\n  0  王伟波  2021.12-今哈尔滨工业大学仪器科学与技术学科教授2018.04-今哈尔滨工业大学仪器科...],\n [    姓名                                               教育经历\n  0  王伟波  1.2005.09-2011.06，哈尔滨工业大学，仪器科学与技术学科，硕博连读，工学博士。...],\n [    姓名                                               研究领域\n  0  王伟波  围绕相关研究方向，主持国家重点研发技术项目、国家重大科学仪器设备开发专项子课题、国家科技重大...],\n [    姓名                                               团队成员\n  0  王伟波  团队教师：黄向东研究员唐圭新副教授吴必伟：助理教授，入选春雁英才计划在读博士研究生：何峰：2...],\n [    姓名                                             已毕业研究生\n  0  王伟波  王超：2011级博士研究生，研究方向：超长工作距低遮挡反射显微成像技术与理论研究，毕业去向：...],\n [    姓名                                           指导本科毕业设计\n  0  王伟波  麦家洛：2023届本科生，题目：基于微透镜阵列聚焦的光波前传感方法研究，毕业去向：本校保研陈...],\n [    姓名                                                 论文\n  0  王伟波  代表15篇1.ShujiaoYe,ZhengWang,PengboXiong,XinhaoX...]]"
     },
     "execution_count": 168,
     "metadata": {},
     "output_type": "execute_result"
    }
   ],
   "source": [
    "df"
   ],
   "metadata": {
    "collapsed": false,
    "ExecuteTime": {
     "end_time": "2024-03-29T10:21:25.557362Z",
     "start_time": "2024-03-29T10:21:25.548884Z"
    }
   },
   "id": "47531d6dc387b558",
   "execution_count": 168
  },
  {
   "cell_type": "code",
   "outputs": [
    {
     "ename": "NameError",
     "evalue": "name 'df' is not defined",
     "output_type": "error",
     "traceback": [
      "\u001B[1;31m---------------------------------------------------------------------------\u001B[0m",
      "\u001B[1;31mNameError\u001B[0m                                 Traceback (most recent call last)",
      "Cell \u001B[1;32mIn[1], line 2\u001B[0m\n\u001B[0;32m      1\u001B[0m \u001B[38;5;66;03m# df_basic = pd.concat(df_basic)\u001B[39;00m\n\u001B[1;32m----> 2\u001B[0m dfs \u001B[38;5;241m=\u001B[39m [pd\u001B[38;5;241m.\u001B[39mconcat(df) \u001B[38;5;28;01mfor\u001B[39;00m df \u001B[38;5;129;01min\u001B[39;00m df]\n\u001B[0;32m      3\u001B[0m \u001B[38;5;28;01mimport\u001B[39;00m \u001B[38;5;21;01mopenpyxl\u001B[39;00m\n\u001B[0;32m      4\u001B[0m \u001B[38;5;28;01mwith\u001B[39;00m pd\u001B[38;5;241m.\u001B[39mExcelWriter(\u001B[38;5;124m'\u001B[39m\u001B[38;5;124moutput.xlsx\u001B[39m\u001B[38;5;124m'\u001B[39m) \u001B[38;5;28;01mas\u001B[39;00m writer:\n",
      "\u001B[1;31mNameError\u001B[0m: name 'df' is not defined"
     ]
    }
   ],
   "source": [
    "# df_basic = pd.concat(df_basic)\n",
    "dfs = [pd.concat(df) for df in df]\n",
    "import openpyxl\n",
    "with pd.ExcelWriter('output.xlsx') as writer:\n",
    "    df_basic.to_excel(writer, sheet_name='Sheet_name_1')\n",
    "    for i in range(len(dfs)):\n",
    "        dfs[i].to_excel(writer, sheet_name=targets[i])"
   ],
   "metadata": {
    "collapsed": false,
    "ExecuteTime": {
     "end_time": "2024-03-29T10:58:52.982976Z",
     "start_time": "2024-03-29T10:58:52.660910Z"
    }
   },
   "id": "b22661bd315a2b7e",
   "execution_count": 1
  },
  {
   "cell_type": "code",
   "outputs": [
    {
     "data": {
      "text/plain": "    姓名  国家           职称          类型         学院  \\\n0  王伟波  中国   教授 博士生导师    国家级高层次青年人才  仪器科学与工程学院   \n0  王伟波  中国   教授 博士生导师    国家级高层次青年人才  仪器科学与工程学院   \n\n                                                学院官网 学科     研究方向      最后修改时间  \\\n0  school-dept?id=1&browseName=校内单位&browseEnName=...     智能传感与成像  2024-03-15   \n0  school-dept?id=1&browseName=校内单位&browseEnName=...     智能传感与成像  2024-03-15   \n\n                  电话             传真                 邮箱                地址  \n0  0451-86412041-815  0451-86402258  wwbhit@hit.edu.cn  哈尔滨工业大学科学园D栋415室  \n0  0451-86412041-815  0451-86402258  wwbhit@hit.edu.cn  哈尔滨工业大学科学园D栋415室  ",
      "text/html": "<div>\n<style scoped>\n    .dataframe tbody tr th:only-of-type {\n        vertical-align: middle;\n    }\n\n    .dataframe tbody tr th {\n        vertical-align: top;\n    }\n\n    .dataframe thead th {\n        text-align: right;\n    }\n</style>\n<table border=\"1\" class=\"dataframe\">\n  <thead>\n    <tr style=\"text-align: right;\">\n      <th></th>\n      <th>姓名</th>\n      <th>国家</th>\n      <th>职称</th>\n      <th>类型</th>\n      <th>学院</th>\n      <th>学院官网</th>\n      <th>学科</th>\n      <th>研究方向</th>\n      <th>最后修改时间</th>\n      <th>电话</th>\n      <th>传真</th>\n      <th>邮箱</th>\n      <th>地址</th>\n    </tr>\n  </thead>\n  <tbody>\n    <tr>\n      <th>0</th>\n      <td>王伟波</td>\n      <td>中国</td>\n      <td>教授 博士生导师</td>\n      <td>国家级高层次青年人才</td>\n      <td>仪器科学与工程学院</td>\n      <td>school-dept?id=1&amp;browseName=校内单位&amp;browseEnName=...</td>\n      <td></td>\n      <td>智能传感与成像</td>\n      <td>2024-03-15</td>\n      <td>0451-86412041-815</td>\n      <td>0451-86402258</td>\n      <td>wwbhit@hit.edu.cn</td>\n      <td>哈尔滨工业大学科学园D栋415室</td>\n    </tr>\n    <tr>\n      <th>0</th>\n      <td>王伟波</td>\n      <td>中国</td>\n      <td>教授 博士生导师</td>\n      <td>国家级高层次青年人才</td>\n      <td>仪器科学与工程学院</td>\n      <td>school-dept?id=1&amp;browseName=校内单位&amp;browseEnName=...</td>\n      <td></td>\n      <td>智能传感与成像</td>\n      <td>2024-03-15</td>\n      <td>0451-86412041-815</td>\n      <td>0451-86402258</td>\n      <td>wwbhit@hit.edu.cn</td>\n      <td>哈尔滨工业大学科学园D栋415室</td>\n    </tr>\n  </tbody>\n</table>\n</div>"
     },
     "execution_count": 179,
     "metadata": {},
     "output_type": "execute_result"
    }
   ],
   "source": [
    "df_basic"
   ],
   "metadata": {
    "collapsed": false,
    "ExecuteTime": {
     "end_time": "2024-03-29T10:57:52.576839Z",
     "start_time": "2024-03-29T10:57:52.568905Z"
    }
   },
   "id": "c33ce0542e3bbb0b",
   "execution_count": 179
  }
 ],
 "metadata": {
  "kernelspec": {
   "display_name": "Python 3",
   "language": "python",
   "name": "python3"
  },
  "language_info": {
   "codemirror_mode": {
    "name": "ipython",
    "version": 2
   },
   "file_extension": ".py",
   "mimetype": "text/x-python",
   "name": "python",
   "nbconvert_exporter": "python",
   "pygments_lexer": "ipython2",
   "version": "2.7.6"
  }
 },
 "nbformat": 4,
 "nbformat_minor": 5
}
