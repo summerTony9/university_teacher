{
 "cells": [
  {
   "cell_type": "code",
   "execution_count": 44,
   "id": "initial_id",
   "metadata": {
    "collapsed": true,
    "ExecuteTime": {
     "end_time": "2024-06-11T16:22:28.002302Z",
     "start_time": "2024-06-11T16:22:27.988926Z"
    }
   },
   "outputs": [],
   "source": [
    "import re\n",
    "\n",
    "from bs4 import BeautifulSoup\n",
    "import requests\n",
    "from fake_useragent import UserAgent\n",
    "import pandas as pd\n",
    "\n",
    "df = pd.read_csv('teacher_info.csv')\n",
    "i = 1"
   ]
  },
  {
   "cell_type": "code",
   "outputs": [],
   "source": [
    "dict_list = {}\n",
    "url = 'https://jyxy.xaut.edu.cn/info/1108/1139.htm'\n",
    "html = requests.get(url, headers={'User-Agent': UserAgent().random}).content\n",
    "bs0bj = BeautifulSoup(html, 'html.parser')"
   ],
   "metadata": {
    "collapsed": false,
    "ExecuteTime": {
     "end_time": "2024-06-11T16:39:07.589443Z",
     "start_time": "2024-06-11T16:39:07.310810Z"
    }
   },
   "id": "17ef9de7a565f82e",
   "execution_count": 56
  },
  {
   "cell_type": "code",
   "outputs": [
    {
     "name": "stdout",
     "output_type": "stream",
     "text": [
      "\n",
      "\n",
      "性 别: 男籍 贯: 山西临县政治面貌: 中共党员出生日期: 1976.7职 称: 教授职 务: 实验室管理处处长E-Mail: gaoxinqin@xaut.edu.cn联系电话: 029-82312873\n"
     ]
    }
   ],
   "source": [
    "body = bs0bj.find('div', {'class': 'v_news_content'})\n",
    "infos = body.find('table').find_all('tr')\n",
    "dict_list['姓名'] = df.loc[i, '姓名']\n",
    "dict_list['url'] = url\n",
    "for info in infos:\n",
    "    print(info.get_text())\n",
    "    key, value = info.get_text().replace('\\n', '').replace('：', ':').split(':', 1)\n",
    "    dict_list[key] = value\n",
    "all_keys = dict_list.keys()\n",
    "\n",
    "# 找到所有的 strong 标签\n",
    "strong_tags = body.find_all('strong')\n",
    "\n",
    "# 提取内容\n",
    "content = {}\n",
    "for strong_tag in strong_tags:\n",
    "    section_title = strong_tag.get_text()\n",
    "    content[section_title] = []\n",
    "    next_sibling = strong_tag.find_next('p')\n",
    "    while next_sibling and next_sibling.name == 'p':\n",
    "        content[section_title].append(next_sibling.get_text())\n",
    "        next_sibling = next_sibling.find_next_sibling('p')\n",
    "        if next_sibling and next_sibling.find('strong'):\n",
    "            break\n",
    "\n",
    "# 打印提取的内容\n",
    "for section, texts in content.items():\n",
    "    # print(f\"Section: {section}\")\n",
    "    # for text in texts:\n",
    "    #     print(f\" - {text}\")\n",
    "        if section in all_keys:\n",
    "            continue\n",
    "        else:\n",
    "            dict_list[section] = ''.join(texts)"
   ],
   "metadata": {
    "collapsed": false,
    "ExecuteTime": {
     "end_time": "2024-06-11T16:41:43.381655Z",
     "start_time": "2024-06-11T16:41:43.360291Z"
    }
   },
   "id": "6caffd06d9b6a0a5",
   "execution_count": 59
  },
  {
   "cell_type": "code",
   "outputs": [
    {
     "name": "stdout",
     "output_type": "stream",
     "text": [
      "dict_keys(['姓名', 'url', '性 别', '籍 贯', '政治面貌', '出生日期', '职 称', '职 务', 'E-Mail', '联系电话'])\n",
      "e\n"
     ]
    }
   ],
   "source": [
    "# details = body.find_all('p')\n",
    "print(dict_list.keys())\n",
    "if '姓名' in dict_list.keys():\n",
    "    print('e')"
   ],
   "metadata": {
    "collapsed": false,
    "ExecuteTime": {
     "end_time": "2024-06-11T16:25:24.671196Z",
     "start_time": "2024-06-11T16:25:24.655048Z"
    }
   },
   "id": "e9771371c0c7f7e0",
   "execution_count": 52
  },
  {
   "cell_type": "code",
   "outputs": [],
   "source": [
    "# 找到所有的 strong 标签\n",
    "strong_tags = body.find_all('strong')\n",
    "\n",
    "# 提取内容\n",
    "content = {}\n",
    "for strong_tag in strong_tags:\n",
    "    section_title = strong_tag.get_text()\n",
    "    content[section_title] = []\n",
    "    next_sibling = strong_tag.find_next('p')\n",
    "    while next_sibling and next_sibling.name == 'p':\n",
    "        content[section_title].append(next_sibling.get_text())\n",
    "        next_sibling = next_sibling.find_next_sibling('p')\n",
    "        if next_sibling and next_sibling.find('strong'):\n",
    "            break\n",
    "\n",
    "# 打印提取的内容\n",
    "for section, texts in content.items():\n",
    "    # print(f\"Section: {section}\")\n",
    "    # for text in texts:\n",
    "    #     print(f\" - {text}\")\n",
    "    if section in all_keys:\n",
    "        continue\n",
    "    else:\n",
    "        dict_list[section] = ''.join(texts)"
   ],
   "metadata": {
    "collapsed": false,
    "ExecuteTime": {
     "end_time": "2024-06-11T16:27:39.084464Z",
     "start_time": "2024-06-11T16:27:39.064518Z"
    }
   },
   "id": "b100002477fa6b0e",
   "execution_count": 54
  },
  {
   "cell_type": "code",
   "outputs": [
    {
     "name": "stdout",
     "output_type": "stream",
     "text": [
      "{'姓名': '华灯鑫', 'url': 'https://jyxy.xaut.edu.cn/info/1108/1152.htm', '性 别': '男', '籍 贯': '浙江萧山', '政治面貌': '中共党员', '出生日期': ' 1964-11', '职 称': '教授', '职 务': '西安理工大学副校长', 'E-Mail': 'xauthdx@163.com', '联系电话': ' 029-82312212', '性 别:': '籍 贯:浙江萧山', '籍 贯:': '政治面貌:中共党员', '政治面貌:': '出生日期: 1964-11', '出生日期: ': '职 称:教授', '职 称:': '职 务:西安理工大学副校长', '职 务:': 'E-Mail:xauthdx@163.com', 'E-Mail:': '联系电话: 029-82312212', '联系电话: ': '个人简历男，浙江杭州市人，日本国立福井大学工学博士，特聘教授，博士生导师，中共党员，归国华侨。《仪器科学与技术》一级博士学科与《光学工程》一级硕士学科的学科带头人，院学位委员会主任，校学术委员会委员，校学位委员会委员，西安理工大学激光雷达遥测研究中心负责人。Journal of Quantitative Spectroscopy and Radiative Transfer（国际期刊，影响因子1.7-1.9），Special Issue Guest Editor. 任西安理工大学侨联主席，陕西省侨联常委。', '个人简历': '男，浙江杭州市人，日本国立福井大学工学博士，特聘教授，博士生导师，中共党员，归国华侨。《仪器科学与技术》一级博士学科与《光学工程》一级硕士学科的学科带头人，院学位委员会主任，校学术委员会委员，校学位委员会委员，西安理工大学激光雷达遥测研究中心负责人。Journal of Quantitative Spectroscopy and Radiative Transfer（国际期刊，影响因子1.7-1.9），Special Issue Guest Editor. 任西安理工大学侨联主席，陕西省侨联常委。', '教育经历': '1983.09~1987.07：陕西机械学院（现西安理工大学）精密仪器工程系本科，学士学位。1987.09~1990.04：陕西机械学院精密计量仪器专业硕士研究生，工学硕士。1993.10~1994.03：日本国立福井大学工学部访问进修。1994.04~1998.03：日本国立福井大学大学院系统设计专业博士研究生，工学博士。', '工作经历': '1998.04~2000.12：日本有田商事株式会社主任2001.01~2005.07：日本英弘精机株式会社技术研究所主任研究员、项目负责人，兼日本福井大学工学部研究员2005.09~2005.09：任中国海洋大学教育部遥感重点实验室短期客座访问学者2005.07~2006.06：任日本日本英弘精机株式会社技术研究所顾问2005.10~现在：西安理工大学特聘教授，博士生导师', '获奖荣誉': '2003年获日本英弘精机株式会社授予“努力奖”；2004年获得《东京都知事奖》；2005年获日本新技术开发优秀奖；2006年被西安理工大学授予“优秀教师”，“优秀共产党员”称号；2009年被陕西省教工委授予“陕西省高等学校优秀共产党员”；2009年被陕西省委组织部、人事厅、教育厅及科技厅授予“陕西省优秀留学回国人员”称号；2010年获陕西高等学校科学技术奖壹等奖；2010年被中国侨联授予“中国侨界贡献奖（创新人才奖）”；2010年被西安理工大学授予“优秀教师”称号；2011年 获陕西省科学技术奖贰等奖；2011年被陕西省教工委授予“陕西省高等学校优秀共产党员”；', '教学工作': '本科生课程：专业英语（仪）研究生课程：激光大气遥感技术、光谱分析技术，光学工程新进展', '研究方向': '主要从事激光雷达大气探测技术、光电测试技术及仪器的理论研究与技术研发。研究内容主要涉及机械、电子与光电子、光学与激光、计算机测控，大气科学，雷达雷达遥感等多学科交叉技术。', '科研项目': '主持及参与科研项目20余项，其中主持国家重大基础研究项目（973计划）1项，国家自然科学基金重点类项目1项，面上项目2项，省部级项目5项；研究成果已在与中科院大气物理所，解放军某基地的合作项目中得到应用。', '1.': '2.国家自然科学基金：大气边界层温度、湿度及气溶胶拉曼激光精细探测的研究（40675015）。研究期限：2007年1月-2009年12月', '国家自然科学基金科学仪器基础研究专项（重点类）': '2.国家自然科学基金：大气边界层温度、湿度及气溶胶拉曼激光精细探测的研究（40675015）。研究期限：2007年1月-2009年12月', '2.': '3.国家自然科学基金：新型全光纤分光大气温度探测拉曼激光雷达的关键技术与方法研究（60878050）研究期限：2009年1月-2011年12月', '国家自然科学基金': '研究期限：2009年1月-2011年12月', '3.': '研究期限：2009年1月-2011年12月', '4.': '5.中国与斯洛文尼亚政府间国际合作项目：基于拉曼激光雷达和GPS技术的海陆交界地带水蒸气的联合探测研究（2011-174-9-3），研究期限：2011年7月-2013年6月', '国家重大基础研究计划（973计划）：': '5.中国与斯洛文尼亚政府间国际合作项目：基于拉曼激光雷达和GPS技术的海陆交界地带水蒸气的联合探测研究（2011-174-9-3），研究期限：2011年7月-2013年6月', '5.': '6.教育部科学技术研究重点项目：西安城市气溶胶及沙尘的时空剖面激光雷达监测技术研究（207117）研究期限：2007年1月-2008年12月', '中国与斯洛文尼亚政府间国际合作项目：': '6.教育部科学技术研究重点项目：西安城市气溶胶及沙尘的时空剖面激光雷达监测技术研究（207117）研究期限：2007年1月-2008年12月', '6.': '研究期限：2007年1月-2008年12月', '教育部科学技术研究重点项目': '研究期限：2007年1月-2008年12月', '7.': '8.教育部“高等学校博士学科点专项科研基金（博导类）”：米散射激光雷达的标定技术研究（20106118110005），研究期限：2010年1月-2011年12月', '教育部留学归国人员科研设备专项': '8.教育部“高等学校博士学科点专项科研基金（博导类）”：米散射激光雷达的标定技术研究（20106118110005），研究期限：2010年1月-2011年12月', '8.': '9. 总装某基地国防预研项目：激光瑞利##试验预研，研究期限：2007年1月-2007年12月', '教育部“高等学校博士学科点专项科研基金（博导类）”': '9. 总装某基地国防预研项目：激光瑞利##试验预研，研究期限：2007年1月-2007年12月', '9. ': '10.中国海洋大学：水汽云探测激光雷达光栅分光子系统（102-231201）。研究期限：2012年1月-2012年12月', '总装某基地国防预研项目：': '10.中国海洋大学：水汽云探测激光雷达光栅分光子系统（102-231201）。研究期限：2012年1月-2012年12月', '10.': '学术及科研成果从1993年开始在日本的大学（4年博士）及公司的技术研究所（8年研发）从事了12年之久的激光雷达大气遥感测量的基础理论研究及产品研发工作，具有完整的理论研究及工程研发经历。在日本工作期间负责研发的《气象观测激光雷达系统》，在世界上首次实现白天5公里内大气温、湿度高精度激光遥感技术，研究成果被日本的2大主要报纸报道及东京MX电视台专题放送。2005年回国后在西安理工大学筹建了西北第一家激光雷达遥感研究中心，开展多参量、多学科交叉的激光雷达遥感新技术、新原理及实验研究、新产品研发，该中心拥有国内先进的激光雷达技术研究所需的实验设备及条件，目前已有5台不同型号的脉冲激光器及全套国内外最新光电探测设备，拥有4个激光雷达实验研究平台用于硕博研究生的培养。近年研发的《大气温湿度及气溶胶精细探测的拉曼激光雷达》，已经实现对边界层内大气温、湿度的全天时探测技术，趋于国际领先水平；研发的适合国内大气环境的《微脉米散射冲激光雷达》已经实现高度15公里内的大气气溶胶及云的探测，并用于中科院大气所的大气气溶胶探测研究中。近年来在国内外期刊及国际会议上发表论文60余篇，其中SCI收录15篇，EI收录30余篇；获国际发明专利1项，日本发明专利2项，国内发明专利授权5项，获陕西省科学技术二等奖1项。已培养博士2名，硕士23名，目前在读博士12名、硕士20余名。加强国际交流与合作，目前推荐2名博士生（全额奖学金）在国外联合培养，与日本福井大学，日本国立环境研究所，斯洛文尼亚新戈里察大学等建立长期稳定的学术交流与人才培养合作关系，每年邀请2-4名国外专家来研究中心讲学，派遣硕博学生出国进行学术交流，提高人才培养的国际化水平。', '中国海洋大学：': '学术及科研成果从1993年开始在日本的大学（4年博士）及公司的技术研究所（8年研发）从事了12年之久的激光雷达大气遥感测量的基础理论研究及产品研发工作，具有完整的理论研究及工程研发经历。在日本工作期间负责研发的《气象观测激光雷达系统》，在世界上首次实现白天5公里内大气温、湿度高精度激光遥感技术，研究成果被日本的2大主要报纸报道及东京MX电视台专题放送。2005年回国后在西安理工大学筹建了西北第一家激光雷达遥感研究中心，开展多参量、多学科交叉的激光雷达遥感新技术、新原理及实验研究、新产品研发，该中心拥有国内先进的激光雷达技术研究所需的实验设备及条件，目前已有5台不同型号的脉冲激光器及全套国内外最新光电探测设备，拥有4个激光雷达实验研究平台用于硕博研究生的培养。近年研发的《大气温湿度及气溶胶精细探测的拉曼激光雷达》，已经实现对边界层内大气温、湿度的全天时探测技术，趋于国际领先水平；研发的适合国内大气环境的《微脉米散射冲激光雷达》已经实现高度15公里内的大气气溶胶及云的探测，并用于中科院大气所的大气气溶胶探测研究中。近年来在国内外期刊及国际会议上发表论文60余篇，其中SCI收录15篇，EI收录30余篇；获国际发明专利1项，日本发明专利2项，国内发明专利授权5项，获陕西省科学技术二等奖1项。已培养博士2名，硕士23名，目前在读博士12名、硕士20余名。加强国际交流与合作，目前推荐2名博士生（全额奖学金）在国外联合培养，与日本福井大学，日本国立环境研究所，斯洛文尼亚新戈里察大学等建立长期稳定的学术交流与人才培养合作关系，每年邀请2-4名国外专家来研究中心讲学，派遣硕博学生出国进行学术交流，提高人才培养的国际化水平。', '学术及科研成果': '从1993年开始在日本的大学（4年博士）及公司的技术研究所（8年研发）从事了12年之久的激光雷达大气遥感测量的基础理论研究及产品研发工作，具有完整的理论研究及工程研发经历。在日本工作期间负责研发的《气象观测激光雷达系统》，在世界上首次实现白天5公里内大气温、湿度高精度激光遥感技术，研究成果被日本的2大主要报纸报道及东京MX电视台专题放送。2005年回国后在西安理工大学筹建了西北第一家激光雷达遥感研究中心，开展多参量、多学科交叉的激光雷达遥感新技术、新原理及实验研究、新产品研发，该中心拥有国内先进的激光雷达技术研究所需的实验设备及条件，目前已有5台不同型号的脉冲激光器及全套国内外最新光电探测设备，拥有4个激光雷达实验研究平台用于硕博研究生的培养。近年研发的《大气温湿度及气溶胶精细探测的拉曼激光雷达》，已经实现对边界层内大气温、湿度的全天时探测技术，趋于国际领先水平；研发的适合国内大气环境的《微脉米散射冲激光雷达》已经实现高度15公里内的大气气溶胶及云的探测，并用于中科院大气所的大气气溶胶探测研究中。近年来在国内外期刊及国际会议上发表论文60余篇，其中SCI收录15篇，EI收录30余篇；获国际发明专利1项，日本发明专利2项，国内发明专利授权5项，获陕西省科学技术二等奖1项。已培养博士2名，硕士23名，目前在读博士12名、硕士20余名。加强国际交流与合作，目前推荐2名博士生（全额奖学金）在国外联合培养，与日本福井大学，日本国立环境研究所，斯洛文尼亚新戈里察大学等建立长期稳定的学术交流与人才培养合作关系，每年邀请2-4名国外专家来研究中心讲学，派遣硕博学生出国进行学术交流，提高人才培养的国际化水平。'}\n"
     ]
    }
   ],
   "source": [
    "print(dict_list)"
   ],
   "metadata": {
    "collapsed": false,
    "ExecuteTime": {
     "end_time": "2024-06-11T16:27:46.670283Z",
     "start_time": "2024-06-11T16:27:46.658770Z"
    }
   },
   "id": "2c9acdae02f5b71b",
   "execution_count": 55
  },
  {
   "cell_type": "code",
   "outputs": [
    {
     "data": {
      "text/plain": "<div class=\"v_news_content\">\n<table align=\"center\" cellpadding=\"0\" cellspacing=\"0\">\n<tbody>\n<tr class=\"firstRow\">\n<td rowspan=\"5\" style=\"word-break: break-all;\" valign=\"top\" width=\"35\"><p class=\"vsbcontent_img\">\n<img class=\"img_vsb_content\" orisrc=\"/__local/4/2B/73/D3209B7E9F7AFC78FEA39BE5537_BC30DD6F_25B4.jpg?e=.jpg\" src=\"/__local/4/2B/73/D3209B7E9F7AFC78FEA39BE5537_BC30DD6F_25B4.jpg?e=.jpg\" style=\"width: 144px;height: 200px\" vheight=\" 200px\" vsbhref=\"vurl\" vurl=\"/_vsl/42B73D3209B7E9F7AFC78FEA39BE5537/BC30DD6F/25B4?e=.jpg\" vwidth=\" 144px\"/></p></td>\n<td width=\"100\"><p>职称:</p></td>\n<td width=\"149.33333333333334\"><p>教授</p></td>\n</tr>\n<tr>\n<td width=\"100\"><p>硕导/博导:</p></td>\n<td width=\"153.66666666666666\"><p>博导</p></td>\n</tr>\n<tr>\n<td width=\"100\"><p>电子信箱:</p></td>\n<td width=\"163.33333333333334\"><p>jyxy-ly@xaut.edu.cn</p></td>\n</tr>\n<tr>\n<td width=\"100\"><p>政治面貌:</p></td>\n<td width=\"141.66666666666666\"><p>中共党员</p></td>\n</tr>\n<tr>\n<td width=\"100\"><p>职务:</p></td>\n<td style=\"word-break: break-all;\" width=\"153.66666666666666\"><p><br/></p></td>\n</tr>\n</tbody>\n</table>\n<p><br/></p>\n<p style=\"text-indent: 0em;\"><strong>个人简历</strong></p>\n<p style=\"text-align: justify;\">1960年6月，陕西彬县人，博士毕业，博士学位，教授，博士生导师，机械工程学科带头人。1995-2001年担任西安理工大学机械与精密仪器工程副院长，2002-2010年担任西安理工大学机械与精密仪器工程院长，2011年-今担任西安理工大学副校长。2006担任陕西省机械基础实验示范中心主任，2007任西安理工大学国家级实验教学（综合工程训练）示范中心主任。1992年被评为机械电子工业部优秀科技青年，1996获陕西省首届青年科技奖，1996获机械工业青年科技专家，1997年入选国家“百千万人才工程”，1998年享受国务院政府特殊津贴，2001年入选陕西省三五人才第一层次，兼任陕西省机械工程学会理事、陕西省机械工程学会生产工程分会理事长等。</p>\n<p style=\"text-indent: 0em;\"><strong>教育经历</strong></p>\n<p>1. 西北工业大学，航空宇航制造工程专业，1990-1995，博士学位；</p>\n<p>2. 陕西机械学院，机械设计及制造专业，1985-1988，硕士学位；</p>\n<p>3. 陕西机械学院，机械设计及制造专业，1979-1983，学士学位。</p>\n<p style=\"text-indent: 0em;\"><strong>教学工作</strong></p>\n<p>主讲本科课程《机械制造技术》、《机械工程导论》、《现代管理技术》、《机械工程系列讲座》。</p>\n<p>主讲研究生课程《机械工程前沿与技术》、《先进制造技术》、《现代加工技术》。</p>\n<p style=\"text-indent: 0em;\"><strong>研究方向</strong></p>\n<p class=\"vsbcontent_end\">先进制造技术；精密加工方法；制造过程状态监控；机电系统测试与控制技术。</p>\n</div>"
     },
     "execution_count": 42,
     "metadata": {},
     "output_type": "execute_result"
    }
   ],
   "source": [
    "body"
   ],
   "metadata": {
    "collapsed": false,
    "ExecuteTime": {
     "end_time": "2024-06-11T16:20:14.658618Z",
     "start_time": "2024-06-11T16:20:14.636951Z"
    }
   },
   "id": "f7d81cb371a2f191",
   "execution_count": 42
  },
  {
   "cell_type": "code",
   "outputs": [],
   "source": [
    "body.clear('table')"
   ],
   "metadata": {
    "collapsed": false,
    "ExecuteTime": {
     "end_time": "2024-06-11T16:07:38.512515Z",
     "start_time": "2024-06-11T16:07:38.493228Z"
    }
   },
   "id": "7940adc68783f915",
   "execution_count": 25
  },
  {
   "cell_type": "code",
   "outputs": [
    {
     "name": "stdout",
     "output_type": "stream",
     "text": [
      "<div class=\"v_news_content\"></div>\n"
     ]
    }
   ],
   "source": [
    "print(body)"
   ],
   "metadata": {
    "collapsed": false,
    "ExecuteTime": {
     "end_time": "2024-06-11T16:07:49.893942Z",
     "start_time": "2024-06-11T16:07:49.885438Z"
    }
   },
   "id": "1855fd49b6f46a2b",
   "execution_count": 27
  },
  {
   "cell_type": "code",
   "outputs": [],
   "source": [],
   "metadata": {
    "collapsed": false
   },
   "id": "340610adacc90fdb"
  }
 ],
 "metadata": {
  "kernelspec": {
   "display_name": "Python 3",
   "language": "python",
   "name": "python3"
  },
  "language_info": {
   "codemirror_mode": {
    "name": "ipython",
    "version": 2
   },
   "file_extension": ".py",
   "mimetype": "text/x-python",
   "name": "python",
   "nbconvert_exporter": "python",
   "pygments_lexer": "ipython2",
   "version": "2.7.6"
  }
 },
 "nbformat": 4,
 "nbformat_minor": 5
}
