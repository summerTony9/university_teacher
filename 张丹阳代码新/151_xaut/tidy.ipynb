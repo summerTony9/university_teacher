{
 "cells": [
  {
   "cell_type": "code",
   "execution_count": 25,
   "id": "initial_id",
   "metadata": {
    "collapsed": true,
    "ExecuteTime": {
     "end_time": "2024-06-11T17:17:36.345602Z",
     "start_time": "2024-06-11T17:17:36.339196Z"
    }
   },
   "outputs": [],
   "source": [
    "import pandas as pd"
   ]
  },
  {
   "cell_type": "code",
   "outputs": [],
   "source": [
    "result_df = pd.read_csv('teacher_detail.csv')"
   ],
   "metadata": {
    "collapsed": false,
    "ExecuteTime": {
     "end_time": "2024-06-11T17:17:40.336326Z",
     "start_time": "2024-06-11T17:17:40.305102Z"
    }
   },
   "id": "620f3219cd2deec4",
   "execution_count": 26
  },
  {
   "cell_type": "code",
   "outputs": [],
   "source": [
    "for col in result_df.columns:\n",
    "    not_missing = result_df[col].notnull().sum()\n",
    "    if not_missing <= 10:\n",
    "        result_df.drop(columns=col, inplace=True)"
   ],
   "metadata": {
    "collapsed": false,
    "ExecuteTime": {
     "end_time": "2024-06-11T17:17:42.111449Z",
     "start_time": "2024-06-11T17:17:41.885676Z"
    }
   },
   "id": "372d5cfb4a96d728",
   "execution_count": 27
  },
  {
   "cell_type": "code",
   "outputs": [
    {
     "name": "stdout",
     "output_type": "stream",
     "text": [
      "['Unnamed: 0', '职 称:', '籍 贯:', '政治面貌:', 'E-Mail:', '联系电话: ', '职 务:', '出生日期: ', '性 别:']\n"
     ]
    }
   ],
   "source": [
    "colnames = [name for name in result_df.columns if ':' in name]\n",
    "print(colnames)"
   ],
   "metadata": {
    "collapsed": false,
    "ExecuteTime": {
     "end_time": "2024-06-11T17:17:45.828536Z",
     "start_time": "2024-06-11T17:17:45.819566Z"
    }
   },
   "id": "5da9d0883264e659",
   "execution_count": 28
  },
  {
   "cell_type": "code",
   "outputs": [],
   "source": [
    "result_df.drop(columns = colnames, inplace=True)"
   ],
   "metadata": {
    "collapsed": false,
    "ExecuteTime": {
     "end_time": "2024-06-11T17:17:48.448227Z",
     "start_time": "2024-06-11T17:17:48.435313Z"
    }
   },
   "id": "59a349e6390a9327",
   "execution_count": 29
  },
  {
   "cell_type": "code",
   "outputs": [
    {
     "data": {
      "text/plain": "                                                  个人简历  \\\n0    1960年6月，陕西彬县人，博士毕业，博士学位，教授，博士生导师，机械工程学科带头人。199...   \n1    男，浙江杭州市人，日本国立福井大学工学博士，特聘教授，博士生导师，中共党员，归国华侨。《仪器...   \n2    刘凯：男，汉族，1957年11月生，西安市人，日本国近畿大学工学博士，西安理工大学教授，博士...   \n3    1963年10月生，河北省石家庄市人。1998年博士研究生毕业，1999年获工学博士学位。教...   \n4    焦明星，1962年6月生，陕西高陵人，博士研究生学历，博士，博士生导师，博士学科学术带头人；...   \n..                                                 ...   \n201  陕西省宁强人，工学博士。本科毕业于西安电子科技大学光信息科学与技术专业；硕士毕业于西安电子科...   \n202  陕西省西安市人，工学博士。本科毕业于西北工业大学，测控技术与仪器专业、硕士、博士毕业于西北工...   \n203  内蒙古自治区呼和浩特人，工学博士。本、硕、博均毕业于西安理工大学。2016年博士毕业留校工作...   \n204  刘晶晶，1987年生，博士，硕士生导师，陕西省科协托举计划人才，教育部首批“全国高校黄大年式...   \n205        山西省太原人，工学博士。2019年毕业于西安交通大学，2019年进入西安理工大学工作。   \n\n                                             url 硕导/博导      出生日期 个人主页  \\\n0    https://jyxy.xaut.edu.cn/info/1108/1146.htm    博导       NaN  NaN   \n1    https://jyxy.xaut.edu.cn/info/1108/1152.htm   NaN   1964-11  NaN   \n2    https://jyxy.xaut.edu.cn/info/1108/1140.htm   NaN   1958-12  NaN   \n3    https://jyxy.xaut.edu.cn/info/1108/1157.htm   NaN   1963-12  NaN   \n4    https://jyxy.xaut.edu.cn/info/1108/1145.htm   NaN   1962-06  NaN   \n..                                           ...   ...       ...  ...   \n201  https://jyxy.xaut.edu.cn/info/1179/3072.htm    硕导       NaN  NaN   \n202  https://jyxy.xaut.edu.cn/info/1179/2852.htm    硕导       NaN  NaN   \n203  https://jyxy.xaut.edu.cn/info/1179/2854.htm    硕导       NaN  NaN   \n204  https://jyxy.xaut.edu.cn/info/1179/3281.htm    硕导       NaN  NaN   \n205  https://jyxy.xaut.edu.cn/info/1179/3057.htm    硕导       NaN  NaN   \n\n                                                  教学工作  \\\n0    主讲本科课程《机械制造技术》、《机械工程导论》、《现代管理技术》、《机械工程系列讲座》。主讲...   \n1           本科生课程：专业英语（仪）研究生课程：激光大气遥感技术、光谱分析技术，光学工程新进展   \n2    为本科生和研究生教授机械原理、机械设计、机械设计基础，机械无级变速传动等课程的教学工作，指导...   \n3         本科生：《机械原理》《机械设计》课程主讲，《机械原理课程设计》《机械设计课程设计》指导。   \n4    近年来先后为本科生和研究生讲授《激光光电检测技术》、《激光原理与技术》、《激光与信息光电子学...   \n..                                                 ...   \n201                主要承担本科生课程《激光原理》、研究生课程《光学陀螺技术》的教学工作。   \n202                            主要承担课程《控制工程基础A》的本科教学工作。   \n203         主要承担课程《精密机械设计》、《精密仪器设计》和《生产实习（光信）》等本科教学工作。   \n204      主要承担课程《图像检测与处理》、《图像与光电检测》和《视觉感知与图像处理》的本科教学工作。   \n205           主要承担课程《误差理论与数据处理》和《计算机综合实践与创新训练》的本科教学工作。   \n\n                                               学术及科研成果 工作经历：  性 别  \\\n0                                                  NaN   NaN  NaN   \n1    从1993年开始在日本的大学（4年博士）及公司的技术研究所（8年研发）从事了12年之久的激光...   NaN    男   \n2    近几年在国内外学术期刊《WAER》、《TRIBOLOGY INTERNATIONAL》 《S...   NaN    男   \n3    近年来先后在《机械工程学报》《中国机械工程》等刊物上公开发表了四十余篇学术论文，获专利两项，...   NaN    男   \n4    在国内外重要期刊和国际会议上发表学术论文40余篇（其中SCI、EI收录近20篇），获国家发明...   NaN    男   \n..                                                 ...   ...  ...   \n201  近年来，在国内外学术刊物及国际会议上发表文章10余篇，全部论文均被SCI或EI收录。授权发明...   NaN  NaN   \n202  在国内外学术刊物及国际会议上，1作发表文章14余篇，其中SCI收录3篇，EI收录8篇。出版教...   NaN  NaN   \n203  获陕西省科学技术二等奖1项，中国光学学会科技创新奖二等奖2项，发明奖三等奖1项，陕西省高等学...   NaN  NaN   \n204                                                NaN   NaN  NaN   \n205  近年来，在国内外学术刊物以第一作者及参与发表论文14篇，其中SCI收录12篇，国家授权发明专...   NaN  NaN   \n\n                        电子信箱  ...         办公室  政治面貌  \\\n0        jyxy-ly@xaut.edu.cn  ...         NaN  中共党员   \n1                        NaN  ...         NaN  中共党员   \n2                        NaN  ...         NaN  中共党员   \n3                        NaN  ...         NaN    其他   \n4                        NaN  ...         NaN  中共党员   \n..                       ...  ...         ...   ...   \n201  liujianning@xaut.edu.cn  ...     教一楼141室   NaN   \n202     npu_wengjun@sina.com  ...      教1-420   NaN   \n203      yanqing@xaut.edu.cn  ...  学科2号楼-303B   NaN   \n204  jingjingliu@xaut.edu.cn  ...    学科2-303B   NaN   \n205     wangxian@xaut.edu.cn  ...     学科2-309   NaN   \n\n                                                  研究方向  \\\n0                  先进制造技术；精密加工方法；制造过程状态监控；机电系统测试与控制技术。   \n1    主要从事激光雷达大气探测技术、光电测试技术及仪器的理论研究与技术研发。研究内容主要涉及机械、...   \n2              主要从事机械传动的理论和应用研究，MEMS的理论与应用研究，车辆工程的研究等。   \n3    (1)新型机械传动装置及理论：以机械无级变速传动及功率分汇流行星复合传动等现代新型传动技术为...   \n4    经过长期的教学和科研工作积累，形成了全固态双频激光技术与器件、激光传感与测量技术、光机电系统...   \n..                                                 ...   \n201                        1. 光电子技术2. 光学陀螺技术3. 新型激光器技术   \n202  1. 高精度惯性导航与系统级标定技术2. 车载自主定位定向技术3. 惯性导航与多传感器组合导...   \n203                  1.激光雷达大气遥感探测技术2.光电检测技术3.光电仪器开发与应用   \n204  1. 气溶胶微物理特性主被动遥感探测技术及算法研究2. 边界层-云参数的综合遥感探测技术及应...   \n205                     1. 激光干涉精密测量2. 光纤传感测量3. 齿轮非接触测量   \n\n                                                  工作经历                 E-Mail  \\\n0                                                  NaN                    NaN   \n1    1998.04~2000.12：日本有田商事株式会社主任2001.01~2005.07：日本...        xauthdx@163.com   \n2                                                  NaN  kliu@mail.xaut.edu.cn   \n3                                                  NaN                    NaN   \n4                                                  NaN     jiaomx@xaut.edu.cn   \n..                                                 ...                    ...   \n201  2020.12-至今：西安理工大学 机械与精密仪器工程学院 精密仪器系 副教授2014.12...                    NaN   \n202                                                NaN                    NaN   \n203                                                NaN                    NaN   \n204  2015-至今  讲师/副教授2010-2015    兰州大学大气科学学院  大气物理学与...                    NaN   \n205         2012-2015：艾默生网络能源有限公司 工程师2019-至今：西安理工大学 讲师                    NaN   \n\n                 联系电话      籍 贯  \\\n0                 NaN      NaN   \n1        029-82312212     浙江萧山   \n2                 NaN      NaN   \n3                      河北省石家庄市   \n4     029-82312052(办)       陕西   \n..                ...      ...   \n201               NaN      NaN   \n202       13891878524      NaN   \n203               NaN      NaN   \n204               NaN      NaN   \n205               NaN      NaN   \n\n                                                  科研项目   姓名  职 称  \n0                                                  NaN   李言  NaN  \n1    主持及参与科研项目20余项，其中主持国家重大基础研究项目（973计划）1项，国家自然科学基金...  华灯鑫   教授  \n2    完成了原机械工业部基金“非园轮链传动的设计研究”和“轴承离合器研究”，“九五”“十五”“十一...   刘凯   教授  \n3    多轮转向系统的设计理论及关键技术研究，西安理工大学创新基金出土弩的机械原理与仿真研究，陕西省...  崔亚辉   教授  \n4    近几年主持的代表性纵向科研项目如下：1. 双频固体激光亚微米精度绝对距离干涉测量技术研究（项...  焦明星   教授  \n..                                                 ...  ...  ...  \n201  主持科研项目7项。包括国家自然科学基金面上项目1项，国家自然科学基金青年项目1项，陕西省自然...  刘健宁  副教授  \n202                      主持科研项目2项。包括国家基金青年项目1项，横向课题1项。   翁浚   讲师  \n203  主持科研项目10项。包括国家自然科学基金面上项目1项，青年基金1项，重点研发计划子项1项，省...   闫庆   讲师  \n204                                                NaN  刘晶晶  副教授  \n205  主持科研项目6项。包括国家自然科学基金1项，省部级项目2项，厅局级项目2项，博士科研启动项目1项。   王晛   讲师  \n\n[206 rows x 24 columns]",
      "text/html": "<div>\n<style scoped>\n    .dataframe tbody tr th:only-of-type {\n        vertical-align: middle;\n    }\n\n    .dataframe tbody tr th {\n        vertical-align: top;\n    }\n\n    .dataframe thead th {\n        text-align: right;\n    }\n</style>\n<table border=\"1\" class=\"dataframe\">\n  <thead>\n    <tr style=\"text-align: right;\">\n      <th></th>\n      <th>个人简历</th>\n      <th>url</th>\n      <th>硕导/博导</th>\n      <th>出生日期</th>\n      <th>个人主页</th>\n      <th>教学工作</th>\n      <th>学术及科研成果</th>\n      <th>工作经历：</th>\n      <th>性 别</th>\n      <th>电子信箱</th>\n      <th>...</th>\n      <th>办公室</th>\n      <th>政治面貌</th>\n      <th>研究方向</th>\n      <th>工作经历</th>\n      <th>E-Mail</th>\n      <th>联系电话</th>\n      <th>籍 贯</th>\n      <th>科研项目</th>\n      <th>姓名</th>\n      <th>职 称</th>\n    </tr>\n  </thead>\n  <tbody>\n    <tr>\n      <th>0</th>\n      <td>1960年6月，陕西彬县人，博士毕业，博士学位，教授，博士生导师，机械工程学科带头人。199...</td>\n      <td>https://jyxy.xaut.edu.cn/info/1108/1146.htm</td>\n      <td>博导</td>\n      <td>NaN</td>\n      <td>NaN</td>\n      <td>主讲本科课程《机械制造技术》、《机械工程导论》、《现代管理技术》、《机械工程系列讲座》。主讲...</td>\n      <td>NaN</td>\n      <td>NaN</td>\n      <td>NaN</td>\n      <td>jyxy-ly@xaut.edu.cn</td>\n      <td>...</td>\n      <td>NaN</td>\n      <td>中共党员</td>\n      <td>先进制造技术；精密加工方法；制造过程状态监控；机电系统测试与控制技术。</td>\n      <td>NaN</td>\n      <td>NaN</td>\n      <td>NaN</td>\n      <td>NaN</td>\n      <td>NaN</td>\n      <td>李言</td>\n      <td>NaN</td>\n    </tr>\n    <tr>\n      <th>1</th>\n      <td>男，浙江杭州市人，日本国立福井大学工学博士，特聘教授，博士生导师，中共党员，归国华侨。《仪器...</td>\n      <td>https://jyxy.xaut.edu.cn/info/1108/1152.htm</td>\n      <td>NaN</td>\n      <td>1964-11</td>\n      <td>NaN</td>\n      <td>本科生课程：专业英语（仪）研究生课程：激光大气遥感技术、光谱分析技术，光学工程新进展</td>\n      <td>从1993年开始在日本的大学（4年博士）及公司的技术研究所（8年研发）从事了12年之久的激光...</td>\n      <td>NaN</td>\n      <td>男</td>\n      <td>NaN</td>\n      <td>...</td>\n      <td>NaN</td>\n      <td>中共党员</td>\n      <td>主要从事激光雷达大气探测技术、光电测试技术及仪器的理论研究与技术研发。研究内容主要涉及机械、...</td>\n      <td>1998.04~2000.12：日本有田商事株式会社主任2001.01~2005.07：日本...</td>\n      <td>xauthdx@163.com</td>\n      <td>029-82312212</td>\n      <td>浙江萧山</td>\n      <td>主持及参与科研项目20余项，其中主持国家重大基础研究项目（973计划）1项，国家自然科学基金...</td>\n      <td>华灯鑫</td>\n      <td>教授</td>\n    </tr>\n    <tr>\n      <th>2</th>\n      <td>刘凯：男，汉族，1957年11月生，西安市人，日本国近畿大学工学博士，西安理工大学教授，博士...</td>\n      <td>https://jyxy.xaut.edu.cn/info/1108/1140.htm</td>\n      <td>NaN</td>\n      <td>1958-12</td>\n      <td>NaN</td>\n      <td>为本科生和研究生教授机械原理、机械设计、机械设计基础，机械无级变速传动等课程的教学工作，指导...</td>\n      <td>近几年在国内外学术期刊《WAER》、《TRIBOLOGY INTERNATIONAL》 《S...</td>\n      <td>NaN</td>\n      <td>男</td>\n      <td>NaN</td>\n      <td>...</td>\n      <td>NaN</td>\n      <td>中共党员</td>\n      <td>主要从事机械传动的理论和应用研究，MEMS的理论与应用研究，车辆工程的研究等。</td>\n      <td>NaN</td>\n      <td>kliu@mail.xaut.edu.cn</td>\n      <td>NaN</td>\n      <td>NaN</td>\n      <td>完成了原机械工业部基金“非园轮链传动的设计研究”和“轴承离合器研究”，“九五”“十五”“十一...</td>\n      <td>刘凯</td>\n      <td>教授</td>\n    </tr>\n    <tr>\n      <th>3</th>\n      <td>1963年10月生，河北省石家庄市人。1998年博士研究生毕业，1999年获工学博士学位。教...</td>\n      <td>https://jyxy.xaut.edu.cn/info/1108/1157.htm</td>\n      <td>NaN</td>\n      <td>1963-12</td>\n      <td>NaN</td>\n      <td>本科生：《机械原理》《机械设计》课程主讲，《机械原理课程设计》《机械设计课程设计》指导。</td>\n      <td>近年来先后在《机械工程学报》《中国机械工程》等刊物上公开发表了四十余篇学术论文，获专利两项，...</td>\n      <td>NaN</td>\n      <td>男</td>\n      <td>NaN</td>\n      <td>...</td>\n      <td>NaN</td>\n      <td>其他</td>\n      <td>(1)新型机械传动装置及理论：以机械无级变速传动及功率分汇流行星复合传动等现代新型传动技术为...</td>\n      <td>NaN</td>\n      <td>NaN</td>\n      <td></td>\n      <td>河北省石家庄市</td>\n      <td>多轮转向系统的设计理论及关键技术研究，西安理工大学创新基金出土弩的机械原理与仿真研究，陕西省...</td>\n      <td>崔亚辉</td>\n      <td>教授</td>\n    </tr>\n    <tr>\n      <th>4</th>\n      <td>焦明星，1962年6月生，陕西高陵人，博士研究生学历，博士，博士生导师，博士学科学术带头人；...</td>\n      <td>https://jyxy.xaut.edu.cn/info/1108/1145.htm</td>\n      <td>NaN</td>\n      <td>1962-06</td>\n      <td>NaN</td>\n      <td>近年来先后为本科生和研究生讲授《激光光电检测技术》、《激光原理与技术》、《激光与信息光电子学...</td>\n      <td>在国内外重要期刊和国际会议上发表学术论文40余篇（其中SCI、EI收录近20篇），获国家发明...</td>\n      <td>NaN</td>\n      <td>男</td>\n      <td>NaN</td>\n      <td>...</td>\n      <td>NaN</td>\n      <td>中共党员</td>\n      <td>经过长期的教学和科研工作积累，形成了全固态双频激光技术与器件、激光传感与测量技术、光机电系统...</td>\n      <td>NaN</td>\n      <td>jiaomx@xaut.edu.cn</td>\n      <td>029-82312052(办)</td>\n      <td>陕西</td>\n      <td>近几年主持的代表性纵向科研项目如下：1. 双频固体激光亚微米精度绝对距离干涉测量技术研究（项...</td>\n      <td>焦明星</td>\n      <td>教授</td>\n    </tr>\n    <tr>\n      <th>...</th>\n      <td>...</td>\n      <td>...</td>\n      <td>...</td>\n      <td>...</td>\n      <td>...</td>\n      <td>...</td>\n      <td>...</td>\n      <td>...</td>\n      <td>...</td>\n      <td>...</td>\n      <td>...</td>\n      <td>...</td>\n      <td>...</td>\n      <td>...</td>\n      <td>...</td>\n      <td>...</td>\n      <td>...</td>\n      <td>...</td>\n      <td>...</td>\n      <td>...</td>\n      <td>...</td>\n    </tr>\n    <tr>\n      <th>201</th>\n      <td>陕西省宁强人，工学博士。本科毕业于西安电子科技大学光信息科学与技术专业；硕士毕业于西安电子科...</td>\n      <td>https://jyxy.xaut.edu.cn/info/1179/3072.htm</td>\n      <td>硕导</td>\n      <td>NaN</td>\n      <td>NaN</td>\n      <td>主要承担本科生课程《激光原理》、研究生课程《光学陀螺技术》的教学工作。</td>\n      <td>近年来，在国内外学术刊物及国际会议上发表文章10余篇，全部论文均被SCI或EI收录。授权发明...</td>\n      <td>NaN</td>\n      <td>NaN</td>\n      <td>liujianning@xaut.edu.cn</td>\n      <td>...</td>\n      <td>教一楼141室</td>\n      <td>NaN</td>\n      <td>1. 光电子技术2. 光学陀螺技术3. 新型激光器技术</td>\n      <td>2020.12-至今：西安理工大学 机械与精密仪器工程学院 精密仪器系 副教授2014.12...</td>\n      <td>NaN</td>\n      <td>NaN</td>\n      <td>NaN</td>\n      <td>主持科研项目7项。包括国家自然科学基金面上项目1项，国家自然科学基金青年项目1项，陕西省自然...</td>\n      <td>刘健宁</td>\n      <td>副教授</td>\n    </tr>\n    <tr>\n      <th>202</th>\n      <td>陕西省西安市人，工学博士。本科毕业于西北工业大学，测控技术与仪器专业、硕士、博士毕业于西北工...</td>\n      <td>https://jyxy.xaut.edu.cn/info/1179/2852.htm</td>\n      <td>硕导</td>\n      <td>NaN</td>\n      <td>NaN</td>\n      <td>主要承担课程《控制工程基础A》的本科教学工作。</td>\n      <td>在国内外学术刊物及国际会议上，1作发表文章14余篇，其中SCI收录3篇，EI收录8篇。出版教...</td>\n      <td>NaN</td>\n      <td>NaN</td>\n      <td>npu_wengjun@sina.com</td>\n      <td>...</td>\n      <td>教1-420</td>\n      <td>NaN</td>\n      <td>1. 高精度惯性导航与系统级标定技术2. 车载自主定位定向技术3. 惯性导航与多传感器组合导...</td>\n      <td>NaN</td>\n      <td>NaN</td>\n      <td>13891878524</td>\n      <td>NaN</td>\n      <td>主持科研项目2项。包括国家基金青年项目1项，横向课题1项。</td>\n      <td>翁浚</td>\n      <td>讲师</td>\n    </tr>\n    <tr>\n      <th>203</th>\n      <td>内蒙古自治区呼和浩特人，工学博士。本、硕、博均毕业于西安理工大学。2016年博士毕业留校工作...</td>\n      <td>https://jyxy.xaut.edu.cn/info/1179/2854.htm</td>\n      <td>硕导</td>\n      <td>NaN</td>\n      <td>NaN</td>\n      <td>主要承担课程《精密机械设计》、《精密仪器设计》和《生产实习（光信）》等本科教学工作。</td>\n      <td>获陕西省科学技术二等奖1项，中国光学学会科技创新奖二等奖2项，发明奖三等奖1项，陕西省高等学...</td>\n      <td>NaN</td>\n      <td>NaN</td>\n      <td>yanqing@xaut.edu.cn</td>\n      <td>...</td>\n      <td>学科2号楼-303B</td>\n      <td>NaN</td>\n      <td>1.激光雷达大气遥感探测技术2.光电检测技术3.光电仪器开发与应用</td>\n      <td>NaN</td>\n      <td>NaN</td>\n      <td>NaN</td>\n      <td>NaN</td>\n      <td>主持科研项目10项。包括国家自然科学基金面上项目1项，青年基金1项，重点研发计划子项1项，省...</td>\n      <td>闫庆</td>\n      <td>讲师</td>\n    </tr>\n    <tr>\n      <th>204</th>\n      <td>刘晶晶，1987年生，博士，硕士生导师，陕西省科协托举计划人才，教育部首批“全国高校黄大年式...</td>\n      <td>https://jyxy.xaut.edu.cn/info/1179/3281.htm</td>\n      <td>硕导</td>\n      <td>NaN</td>\n      <td>NaN</td>\n      <td>主要承担课程《图像检测与处理》、《图像与光电检测》和《视觉感知与图像处理》的本科教学工作。</td>\n      <td>NaN</td>\n      <td>NaN</td>\n      <td>NaN</td>\n      <td>jingjingliu@xaut.edu.cn</td>\n      <td>...</td>\n      <td>学科2-303B</td>\n      <td>NaN</td>\n      <td>1. 气溶胶微物理特性主被动遥感探测技术及算法研究2. 边界层-云参数的综合遥感探测技术及应...</td>\n      <td>2015-至今  讲师/副教授2010-2015    兰州大学大气科学学院  大气物理学与...</td>\n      <td>NaN</td>\n      <td>NaN</td>\n      <td>NaN</td>\n      <td>NaN</td>\n      <td>刘晶晶</td>\n      <td>副教授</td>\n    </tr>\n    <tr>\n      <th>205</th>\n      <td>山西省太原人，工学博士。2019年毕业于西安交通大学，2019年进入西安理工大学工作。</td>\n      <td>https://jyxy.xaut.edu.cn/info/1179/3057.htm</td>\n      <td>硕导</td>\n      <td>NaN</td>\n      <td>NaN</td>\n      <td>主要承担课程《误差理论与数据处理》和《计算机综合实践与创新训练》的本科教学工作。</td>\n      <td>近年来，在国内外学术刊物以第一作者及参与发表论文14篇，其中SCI收录12篇，国家授权发明专...</td>\n      <td>NaN</td>\n      <td>NaN</td>\n      <td>wangxian@xaut.edu.cn</td>\n      <td>...</td>\n      <td>学科2-309</td>\n      <td>NaN</td>\n      <td>1. 激光干涉精密测量2. 光纤传感测量3. 齿轮非接触测量</td>\n      <td>2012-2015：艾默生网络能源有限公司 工程师2019-至今：西安理工大学 讲师</td>\n      <td>NaN</td>\n      <td>NaN</td>\n      <td>NaN</td>\n      <td>主持科研项目6项。包括国家自然科学基金1项，省部级项目2项，厅局级项目2项，博士科研启动项目1项。</td>\n      <td>王晛</td>\n      <td>讲师</td>\n    </tr>\n  </tbody>\n</table>\n<p>206 rows × 24 columns</p>\n</div>"
     },
     "execution_count": 30,
     "metadata": {},
     "output_type": "execute_result"
    }
   ],
   "source": [
    "result_df"
   ],
   "metadata": {
    "collapsed": false,
    "ExecuteTime": {
     "end_time": "2024-06-11T17:17:52.002870Z",
     "start_time": "2024-06-11T17:17:51.981645Z"
    }
   },
   "id": "6b214e3cd2bfa082",
   "execution_count": 30
  },
  {
   "cell_type": "code",
   "outputs": [],
   "source": [
    "df = pd.read_csv('teacher_detail1.csv')"
   ],
   "metadata": {
    "collapsed": false,
    "ExecuteTime": {
     "end_time": "2024-06-11T17:18:25.892976Z",
     "start_time": "2024-06-11T17:18:25.875874Z"
    }
   },
   "id": "1e0c45257a779678",
   "execution_count": 31
  },
  {
   "cell_type": "code",
   "outputs": [],
   "source": [
    "final_df = pd.concat([result_df, df])"
   ],
   "metadata": {
    "collapsed": false,
    "ExecuteTime": {
     "end_time": "2024-06-11T17:18:29.283627Z",
     "start_time": "2024-06-11T17:18:29.270003Z"
    }
   },
   "id": "9190beb67c2c17a2",
   "execution_count": 32
  },
  {
   "cell_type": "code",
   "outputs": [
    {
     "data": {
      "text/plain": "                                                 个人简历  \\\n0   1960年6月，陕西彬县人，博士毕业，博士学位，教授，博士生导师，机械工程学科带头人。199...   \n1   男，浙江杭州市人，日本国立福井大学工学博士，特聘教授，博士生导师，中共党员，归国华侨。《仪器...   \n2   刘凯：男，汉族，1957年11月生，西安市人，日本国近畿大学工学博士，西安理工大学教授，博士...   \n3   1963年10月生，河北省石家庄市人。1998年博士研究生毕业，1999年获工学博士学位。教...   \n4   焦明星，1962年6月生，陕西高陵人，博士研究生学历，博士，博士生导师，博士学科学术带头人；...   \n..                                                ...   \n22                                                NaN   \n23                                                NaN   \n24                                                NaN   \n25                                                NaN   \n26                                                NaN   \n\n                                            url 硕导/博导      出生日期 个人主页  \\\n0   https://jyxy.xaut.edu.cn/info/1108/1146.htm    博导       NaN  NaN   \n1   https://jyxy.xaut.edu.cn/info/1108/1152.htm   NaN   1964-11  NaN   \n2   https://jyxy.xaut.edu.cn/info/1108/1140.htm   NaN   1958-12  NaN   \n3   https://jyxy.xaut.edu.cn/info/1108/1157.htm   NaN   1963-12  NaN   \n4   https://jyxy.xaut.edu.cn/info/1108/1145.htm   NaN   1962-06  NaN   \n..                                          ...   ...       ...  ...   \n22  https://jyxy.xaut.edu.cn/info/1108/2531.htm    博导       NaN  NaN   \n23  https://jyxy.xaut.edu.cn/info/1179/2002.htm    硕导       NaN  NaN   \n24  https://jyxy.xaut.edu.cn/info/1179/1103.htm   NaN       NaN  NaN   \n25  https://jyxy.xaut.edu.cn/info/1179/2003.htm    硕导       NaN  NaN   \n26  https://jyxy.xaut.edu.cn/info/1179/2853.htm    硕导       NaN  NaN   \n\n                                                 教学工作  \\\n0   主讲本科课程《机械制造技术》、《机械工程导论》、《现代管理技术》、《机械工程系列讲座》。主讲...   \n1          本科生课程：专业英语（仪）研究生课程：激光大气遥感技术、光谱分析技术，光学工程新进展   \n2   为本科生和研究生教授机械原理、机械设计、机械设计基础，机械无级变速传动等课程的教学工作，指导...   \n3        本科生：《机械原理》《机械设计》课程主讲，《机械原理课程设计》《机械设计课程设计》指导。   \n4   近年来先后为本科生和研究生讲授《激光光电检测技术》、《激光原理与技术》、《激光与信息光电子学...   \n..                                                ...   \n22                                                NaN   \n23                                                NaN   \n24                                                NaN   \n25                                                NaN   \n26                                                NaN   \n\n                                              学术及科研成果 工作经历：  性 别  \\\n0                                                 NaN   NaN  NaN   \n1   从1993年开始在日本的大学（4年博士）及公司的技术研究所（8年研发）从事了12年之久的激光...   NaN    男   \n2   近几年在国内外学术期刊《WAER》、《TRIBOLOGY INTERNATIONAL》 《S...   NaN    男   \n3   近年来先后在《机械工程学报》《中国机械工程》等刊物上公开发表了四十余篇学术论文，获专利两项，...   NaN    男   \n4   在国内外重要期刊和国际会议上发表学术论文40余篇（其中SCI、EI收录近20篇），获国家发明...   NaN    男   \n..                                                ...   ...  ...   \n22                                                NaN   NaN  NaN   \n23                                                NaN   NaN  NaN   \n24                                                NaN   NaN  NaN   \n25                                                NaN   NaN  NaN   \n26                                                NaN   NaN  NaN   \n\n                      电子信箱  ...  \\\n0      jyxy-ly@xaut.edu.cn  ...   \n1                      NaN  ...   \n2                      NaN  ...   \n3                      NaN  ...   \n4                      NaN  ...   \n..                     ...  ...   \n22  tingyao.he@xaut.edu.cn  ...   \n23     xjh3729@xaut.edu.cn  ...   \n24                     NaN  ...   \n25        lyun@xaut.edu.cn  ...   \n26   xxuxxiang@xaut.edu.cn  ...   \n\n                                                 研究方向  \\\n0                 先进制造技术；精密加工方法；制造过程状态监控；机电系统测试与控制技术。   \n1   主要从事激光雷达大气探测技术、光电测试技术及仪器的理论研究与技术研发。研究内容主要涉及机械、...   \n2             主要从事机械传动的理论和应用研究，MEMS的理论与应用研究，车辆工程的研究等。   \n3   (1)新型机械传动装置及理论：以机械无级变速传动及功率分汇流行星复合传动等现代新型传动技术为...   \n4   经过长期的教学和科研工作积累，形成了全固态双频激光技术与器件、激光传感与测量技术、光机电系统...   \n..                                                ...   \n22                                                NaN   \n23                                                NaN   \n24                                                NaN   \n25                                                NaN   \n26                                                NaN   \n\n                                                 工作经历                 E-Mail  \\\n0                                                 NaN                    NaN   \n1   1998.04~2000.12：日本有田商事株式会社主任2001.01~2005.07：日本...        xauthdx@163.com   \n2                                                 NaN  kliu@mail.xaut.edu.cn   \n3                                                 NaN                    NaN   \n4                                                 NaN     jiaomx@xaut.edu.cn   \n..                                                ...                    ...   \n22                                                NaN                    NaN   \n23                                                NaN                    NaN   \n24                                                NaN                    NaN   \n25                                                NaN                    NaN   \n26                                                NaN                    NaN   \n\n                联系电话      籍 贯  \\\n0                NaN      NaN   \n1       029-82312212     浙江萧山   \n2                NaN      NaN   \n3                     河北省石家庄市   \n4    029-82312052(办)       陕西   \n..               ...      ...   \n22               NaN      NaN   \n23               NaN      NaN   \n24               NaN      NaN   \n25               NaN      NaN   \n26               NaN      NaN   \n\n                                                 科研项目   姓名  职 称   职称   籍贯  \n0                                                 NaN   李言  NaN  NaN  NaN  \n1   主持及参与科研项目20余项，其中主持国家重大基础研究项目（973计划）1项，国家自然科学基金...  华灯鑫   教授  NaN  NaN  \n2   完成了原机械工业部基金“非园轮链传动的设计研究”和“轴承离合器研究”，“九五”“十五”“十一...   刘凯   教授  NaN  NaN  \n3   多轮转向系统的设计理论及关键技术研究，西安理工大学创新基金出土弩的机械原理与仿真研究，陕西省...  崔亚辉   教授  NaN  NaN  \n4   近几年主持的代表性纵向科研项目如下：1. 双频固体激光亚微米精度绝对距离干涉测量技术研究（项...  焦明星   教授  NaN  NaN  \n..                                                ...  ...  ...  ...  ...  \n22                                                NaN  何廷尧  副教授  NaN  NaN  \n23                                                NaN  邢俊红  副教授  NaN  NaN  \n24                                                NaN  高鹤明  NaN  NaN  NaN  \n25                                                NaN   刘芸  副教授  NaN  NaN  \n26                                                NaN   徐翔   讲师  NaN  NaN  \n\n[233 rows x 26 columns]",
      "text/html": "<div>\n<style scoped>\n    .dataframe tbody tr th:only-of-type {\n        vertical-align: middle;\n    }\n\n    .dataframe tbody tr th {\n        vertical-align: top;\n    }\n\n    .dataframe thead th {\n        text-align: right;\n    }\n</style>\n<table border=\"1\" class=\"dataframe\">\n  <thead>\n    <tr style=\"text-align: right;\">\n      <th></th>\n      <th>个人简历</th>\n      <th>url</th>\n      <th>硕导/博导</th>\n      <th>出生日期</th>\n      <th>个人主页</th>\n      <th>教学工作</th>\n      <th>学术及科研成果</th>\n      <th>工作经历：</th>\n      <th>性 别</th>\n      <th>电子信箱</th>\n      <th>...</th>\n      <th>研究方向</th>\n      <th>工作经历</th>\n      <th>E-Mail</th>\n      <th>联系电话</th>\n      <th>籍 贯</th>\n      <th>科研项目</th>\n      <th>姓名</th>\n      <th>职 称</th>\n      <th>职称</th>\n      <th>籍贯</th>\n    </tr>\n  </thead>\n  <tbody>\n    <tr>\n      <th>0</th>\n      <td>1960年6月，陕西彬县人，博士毕业，博士学位，教授，博士生导师，机械工程学科带头人。199...</td>\n      <td>https://jyxy.xaut.edu.cn/info/1108/1146.htm</td>\n      <td>博导</td>\n      <td>NaN</td>\n      <td>NaN</td>\n      <td>主讲本科课程《机械制造技术》、《机械工程导论》、《现代管理技术》、《机械工程系列讲座》。主讲...</td>\n      <td>NaN</td>\n      <td>NaN</td>\n      <td>NaN</td>\n      <td>jyxy-ly@xaut.edu.cn</td>\n      <td>...</td>\n      <td>先进制造技术；精密加工方法；制造过程状态监控；机电系统测试与控制技术。</td>\n      <td>NaN</td>\n      <td>NaN</td>\n      <td>NaN</td>\n      <td>NaN</td>\n      <td>NaN</td>\n      <td>李言</td>\n      <td>NaN</td>\n      <td>NaN</td>\n      <td>NaN</td>\n    </tr>\n    <tr>\n      <th>1</th>\n      <td>男，浙江杭州市人，日本国立福井大学工学博士，特聘教授，博士生导师，中共党员，归国华侨。《仪器...</td>\n      <td>https://jyxy.xaut.edu.cn/info/1108/1152.htm</td>\n      <td>NaN</td>\n      <td>1964-11</td>\n      <td>NaN</td>\n      <td>本科生课程：专业英语（仪）研究生课程：激光大气遥感技术、光谱分析技术，光学工程新进展</td>\n      <td>从1993年开始在日本的大学（4年博士）及公司的技术研究所（8年研发）从事了12年之久的激光...</td>\n      <td>NaN</td>\n      <td>男</td>\n      <td>NaN</td>\n      <td>...</td>\n      <td>主要从事激光雷达大气探测技术、光电测试技术及仪器的理论研究与技术研发。研究内容主要涉及机械、...</td>\n      <td>1998.04~2000.12：日本有田商事株式会社主任2001.01~2005.07：日本...</td>\n      <td>xauthdx@163.com</td>\n      <td>029-82312212</td>\n      <td>浙江萧山</td>\n      <td>主持及参与科研项目20余项，其中主持国家重大基础研究项目（973计划）1项，国家自然科学基金...</td>\n      <td>华灯鑫</td>\n      <td>教授</td>\n      <td>NaN</td>\n      <td>NaN</td>\n    </tr>\n    <tr>\n      <th>2</th>\n      <td>刘凯：男，汉族，1957年11月生，西安市人，日本国近畿大学工学博士，西安理工大学教授，博士...</td>\n      <td>https://jyxy.xaut.edu.cn/info/1108/1140.htm</td>\n      <td>NaN</td>\n      <td>1958-12</td>\n      <td>NaN</td>\n      <td>为本科生和研究生教授机械原理、机械设计、机械设计基础，机械无级变速传动等课程的教学工作，指导...</td>\n      <td>近几年在国内外学术期刊《WAER》、《TRIBOLOGY INTERNATIONAL》 《S...</td>\n      <td>NaN</td>\n      <td>男</td>\n      <td>NaN</td>\n      <td>...</td>\n      <td>主要从事机械传动的理论和应用研究，MEMS的理论与应用研究，车辆工程的研究等。</td>\n      <td>NaN</td>\n      <td>kliu@mail.xaut.edu.cn</td>\n      <td>NaN</td>\n      <td>NaN</td>\n      <td>完成了原机械工业部基金“非园轮链传动的设计研究”和“轴承离合器研究”，“九五”“十五”“十一...</td>\n      <td>刘凯</td>\n      <td>教授</td>\n      <td>NaN</td>\n      <td>NaN</td>\n    </tr>\n    <tr>\n      <th>3</th>\n      <td>1963年10月生，河北省石家庄市人。1998年博士研究生毕业，1999年获工学博士学位。教...</td>\n      <td>https://jyxy.xaut.edu.cn/info/1108/1157.htm</td>\n      <td>NaN</td>\n      <td>1963-12</td>\n      <td>NaN</td>\n      <td>本科生：《机械原理》《机械设计》课程主讲，《机械原理课程设计》《机械设计课程设计》指导。</td>\n      <td>近年来先后在《机械工程学报》《中国机械工程》等刊物上公开发表了四十余篇学术论文，获专利两项，...</td>\n      <td>NaN</td>\n      <td>男</td>\n      <td>NaN</td>\n      <td>...</td>\n      <td>(1)新型机械传动装置及理论：以机械无级变速传动及功率分汇流行星复合传动等现代新型传动技术为...</td>\n      <td>NaN</td>\n      <td>NaN</td>\n      <td></td>\n      <td>河北省石家庄市</td>\n      <td>多轮转向系统的设计理论及关键技术研究，西安理工大学创新基金出土弩的机械原理与仿真研究，陕西省...</td>\n      <td>崔亚辉</td>\n      <td>教授</td>\n      <td>NaN</td>\n      <td>NaN</td>\n    </tr>\n    <tr>\n      <th>4</th>\n      <td>焦明星，1962年6月生，陕西高陵人，博士研究生学历，博士，博士生导师，博士学科学术带头人；...</td>\n      <td>https://jyxy.xaut.edu.cn/info/1108/1145.htm</td>\n      <td>NaN</td>\n      <td>1962-06</td>\n      <td>NaN</td>\n      <td>近年来先后为本科生和研究生讲授《激光光电检测技术》、《激光原理与技术》、《激光与信息光电子学...</td>\n      <td>在国内外重要期刊和国际会议上发表学术论文40余篇（其中SCI、EI收录近20篇），获国家发明...</td>\n      <td>NaN</td>\n      <td>男</td>\n      <td>NaN</td>\n      <td>...</td>\n      <td>经过长期的教学和科研工作积累，形成了全固态双频激光技术与器件、激光传感与测量技术、光机电系统...</td>\n      <td>NaN</td>\n      <td>jiaomx@xaut.edu.cn</td>\n      <td>029-82312052(办)</td>\n      <td>陕西</td>\n      <td>近几年主持的代表性纵向科研项目如下：1. 双频固体激光亚微米精度绝对距离干涉测量技术研究（项...</td>\n      <td>焦明星</td>\n      <td>教授</td>\n      <td>NaN</td>\n      <td>NaN</td>\n    </tr>\n    <tr>\n      <th>...</th>\n      <td>...</td>\n      <td>...</td>\n      <td>...</td>\n      <td>...</td>\n      <td>...</td>\n      <td>...</td>\n      <td>...</td>\n      <td>...</td>\n      <td>...</td>\n      <td>...</td>\n      <td>...</td>\n      <td>...</td>\n      <td>...</td>\n      <td>...</td>\n      <td>...</td>\n      <td>...</td>\n      <td>...</td>\n      <td>...</td>\n      <td>...</td>\n      <td>...</td>\n      <td>...</td>\n    </tr>\n    <tr>\n      <th>22</th>\n      <td>NaN</td>\n      <td>https://jyxy.xaut.edu.cn/info/1108/2531.htm</td>\n      <td>博导</td>\n      <td>NaN</td>\n      <td>NaN</td>\n      <td>NaN</td>\n      <td>NaN</td>\n      <td>NaN</td>\n      <td>NaN</td>\n      <td>tingyao.he@xaut.edu.cn</td>\n      <td>...</td>\n      <td>NaN</td>\n      <td>NaN</td>\n      <td>NaN</td>\n      <td>NaN</td>\n      <td>NaN</td>\n      <td>NaN</td>\n      <td>何廷尧</td>\n      <td>副教授</td>\n      <td>NaN</td>\n      <td>NaN</td>\n    </tr>\n    <tr>\n      <th>23</th>\n      <td>NaN</td>\n      <td>https://jyxy.xaut.edu.cn/info/1179/2002.htm</td>\n      <td>硕导</td>\n      <td>NaN</td>\n      <td>NaN</td>\n      <td>NaN</td>\n      <td>NaN</td>\n      <td>NaN</td>\n      <td>NaN</td>\n      <td>xjh3729@xaut.edu.cn</td>\n      <td>...</td>\n      <td>NaN</td>\n      <td>NaN</td>\n      <td>NaN</td>\n      <td>NaN</td>\n      <td>NaN</td>\n      <td>NaN</td>\n      <td>邢俊红</td>\n      <td>副教授</td>\n      <td>NaN</td>\n      <td>NaN</td>\n    </tr>\n    <tr>\n      <th>24</th>\n      <td>NaN</td>\n      <td>https://jyxy.xaut.edu.cn/info/1179/1103.htm</td>\n      <td>NaN</td>\n      <td>NaN</td>\n      <td>NaN</td>\n      <td>NaN</td>\n      <td>NaN</td>\n      <td>NaN</td>\n      <td>NaN</td>\n      <td>NaN</td>\n      <td>...</td>\n      <td>NaN</td>\n      <td>NaN</td>\n      <td>NaN</td>\n      <td>NaN</td>\n      <td>NaN</td>\n      <td>NaN</td>\n      <td>高鹤明</td>\n      <td>NaN</td>\n      <td>NaN</td>\n      <td>NaN</td>\n    </tr>\n    <tr>\n      <th>25</th>\n      <td>NaN</td>\n      <td>https://jyxy.xaut.edu.cn/info/1179/2003.htm</td>\n      <td>硕导</td>\n      <td>NaN</td>\n      <td>NaN</td>\n      <td>NaN</td>\n      <td>NaN</td>\n      <td>NaN</td>\n      <td>NaN</td>\n      <td>lyun@xaut.edu.cn</td>\n      <td>...</td>\n      <td>NaN</td>\n      <td>NaN</td>\n      <td>NaN</td>\n      <td>NaN</td>\n      <td>NaN</td>\n      <td>NaN</td>\n      <td>刘芸</td>\n      <td>副教授</td>\n      <td>NaN</td>\n      <td>NaN</td>\n    </tr>\n    <tr>\n      <th>26</th>\n      <td>NaN</td>\n      <td>https://jyxy.xaut.edu.cn/info/1179/2853.htm</td>\n      <td>硕导</td>\n      <td>NaN</td>\n      <td>NaN</td>\n      <td>NaN</td>\n      <td>NaN</td>\n      <td>NaN</td>\n      <td>NaN</td>\n      <td>xxuxxiang@xaut.edu.cn</td>\n      <td>...</td>\n      <td>NaN</td>\n      <td>NaN</td>\n      <td>NaN</td>\n      <td>NaN</td>\n      <td>NaN</td>\n      <td>NaN</td>\n      <td>徐翔</td>\n      <td>讲师</td>\n      <td>NaN</td>\n      <td>NaN</td>\n    </tr>\n  </tbody>\n</table>\n<p>233 rows × 26 columns</p>\n</div>"
     },
     "execution_count": 33,
     "metadata": {},
     "output_type": "execute_result"
    }
   ],
   "source": [
    "final_df"
   ],
   "metadata": {
    "collapsed": false,
    "ExecuteTime": {
     "end_time": "2024-06-11T17:18:43.857354Z",
     "start_time": "2024-06-11T17:18:43.836310Z"
    }
   },
   "id": "52c393962c561378",
   "execution_count": 33
  },
  {
   "cell_type": "code",
   "outputs": [],
   "source": [
    "name = final_df.columns.tolist()\n",
    "cols = sorted(name, key=lambda x: final_df[x].notnull().sum(), reverse=True)"
   ],
   "metadata": {
    "collapsed": false,
    "ExecuteTime": {
     "end_time": "2024-06-11T17:18:50.252541Z",
     "start_time": "2024-06-11T17:18:50.239907Z"
    }
   },
   "id": "b4395e2899fdbee1",
   "execution_count": 34
  },
  {
   "cell_type": "code",
   "outputs": [],
   "source": [
    "final_df = final_df[cols]"
   ],
   "metadata": {
    "collapsed": false,
    "ExecuteTime": {
     "end_time": "2024-06-11T17:19:04.356657Z",
     "start_time": "2024-06-11T17:19:04.341996Z"
    }
   },
   "id": "2cc44213c9b3be85",
   "execution_count": 36
  },
  {
   "cell_type": "code",
   "outputs": [],
   "source": [
    "final_df.to_csv('final_details.csv', index=False, encoding='utf-8-sig')"
   ],
   "metadata": {
    "collapsed": false,
    "ExecuteTime": {
     "end_time": "2024-06-11T17:19:41.533552Z",
     "start_time": "2024-06-11T17:19:41.513861Z"
    }
   },
   "id": "993127b745f08571",
   "execution_count": 37
  },
  {
   "cell_type": "code",
   "outputs": [],
   "source": [],
   "metadata": {
    "collapsed": false
   },
   "id": "8293b647bc05c3d"
  }
 ],
 "metadata": {
  "kernelspec": {
   "display_name": "Python 3",
   "language": "python",
   "name": "python3"
  },
  "language_info": {
   "codemirror_mode": {
    "name": "ipython",
    "version": 2
   },
   "file_extension": ".py",
   "mimetype": "text/x-python",
   "name": "python",
   "nbconvert_exporter": "python",
   "pygments_lexer": "ipython2",
   "version": "2.7.6"
  }
 },
 "nbformat": 4,
 "nbformat_minor": 5
}
