{
 "cells": [
  {
   "cell_type": "code",
   "execution_count": 23,
   "id": "initial_id",
   "metadata": {
    "collapsed": true,
    "ExecuteTime": {
     "end_time": "2024-04-23T08:49:06.189523Z",
     "start_time": "2024-04-23T08:49:06.164880Z"
    }
   },
   "outputs": [],
   "source": [
    "import pandas as pd\n",
    "import requests\n",
    "from bs4 import BeautifulSoup"
   ]
  },
  {
   "cell_type": "code",
   "outputs": [],
   "source": [
    "url = 'https://pmpi.ustc.edu.cn/js_19780/list.htm'\n",
    "response = requests.get(url)\n",
    "soup = BeautifulSoup(response.content, 'html.parser')"
   ],
   "metadata": {
    "collapsed": false,
    "ExecuteTime": {
     "end_time": "2024-04-23T09:19:05.759446Z",
     "start_time": "2024-04-23T09:19:05.388823Z"
    }
   },
   "id": "8d2819616dab0d75",
   "execution_count": 55
  },
  {
   "cell_type": "code",
   "outputs": [
    {
     "name": "stdout",
     "output_type": "stream",
     "text": [
      "[<a class=\"col_item_link selected\" href=\"/js_19780/list.htm\" title=\"教授\"><span class=\"column-name\">教授</span></a>, <a class=\"col_item_link\" href=\"/fjs_19781/list.htm\" title=\"副教授\"><span class=\"column-name\">副教授</span></a>, <a class=\"col_item_link\" href=\"/js_19782/list.htm\" title=\"讲师\"><span class=\"column-name\">讲师</span></a>, <a class=\"col_item_link\" href=\"/rxjs_19783/list.htm\" title=\"荣休教师\"><span class=\"column-name\">荣休教师</span></a>, <a class=\"col_item_link\" href=\"/sxjhjs_19784/list.htm\" title=\"所系结合教师\"><span class=\"column-name\">所系结合教师</span></a>, <a class=\"col_item_link\" href=\"/kzygjfwjs_19785/list.htm\" title=\"兼职教授\"><span class=\"column-name\">兼职教授</span></a>, <a class=\"col_item_link\" href=\"/trfyjy/list.htm\" title=\"特任副研究员\"><span class=\"column-name\">特任副研究员</span></a>, <a class=\"col_item_link\" href=\"/bsh_19786/list.htm\" title=\"博士后\"><span class=\"column-name\">博士后</span></a>]\n"
     ]
    }
   ],
   "source": [
    "# print(soup) # 打印下来看一看\n",
    "# link_list = soup.find_all('a',class_='sub-link')\n",
    "link_list = soup.find('div',class_='col_menu_con').find_all('a',class_='col_item_link')\n",
    "print(link_list)"
   ],
   "metadata": {
    "collapsed": false,
    "ExecuteTime": {
     "end_time": "2024-04-23T09:22:52.886002Z",
     "start_time": "2024-04-23T09:22:52.870791Z"
    }
   },
   "id": "23482c548e7e8589",
   "execution_count": 62
  },
  {
   "cell_type": "code",
   "outputs": [
    {
     "name": "stdout",
     "output_type": "stream",
     "text": [
      "[    姓名  职称     资格                                                url  \\\n",
      "0  褚家如  教授  博士生导师  https://pmpi.ustc.edu.cn//2020/0304/c19780a414...   \n",
      "\n",
      "                    研究方向  \n",
      "0  微机电系统技术、超精密测量、超精密天文仪器  ,     姓名  职称     资格                                                url  \\\n",
      "0  陈向军  教授  博士生导师  https://pmpi.ustc.edu.cn//2020/0307/c19780a414...   \n",
      "\n",
      "                                                研究方向  \n",
      "0  电子碰撞谱学和扫描探针电子能谱学、电子碰撞谱学和扫描探针电子能谱学，开展电子与气相原子分子碰...  ,    姓名  职称     资格                                                url  \\\n",
      "0  陈杨  教授  博士生导师  https://pmpi.ustc.edu.cn//2022/0415/c19780a552...   \n",
      "\n",
      "                  研究方向  \n",
      "0  微纳光学、微纳光电器件、超材料与超表面  ,     姓名  职称     资格                                                url  \\\n",
      "0  付绍军  教授  博士生导师  https://pmpi.ustc.edu.cn//2020/0307/c19780a414...   \n",
      "\n",
      "                                                研究方向  \n",
      "0  短波光学、微光学技术和超微细加工技术研究、软X射线和真空紫外波段的衍射元件研究、无衬底自支撑...  ,     姓名  职称     资格                                                url  \\\n",
      "0  冯志华  教授  博士生导师  https://pmpi.ustc.edu.cn//2020/0304/c19780a414...   \n",
      "\n",
      "        研究方向  \n",
      "0  精密传感与致动、、  ,     姓名  职称     资格                                                url 研究方向\n",
      "0  洪义麟  教授  硕士生导师  https://pmpi.ustc.edu.cn//2020/0307/c19780a414...   、、,     姓名  职称     资格                                                url  \\\n",
      "0  胡衍雷  教授  博士生导师  https://pmpi.ustc.edu.cn//2021/1222/c19780a540...   \n",
      "\n",
      "                            研究方向  \n",
      "0  超快激光微纳加工技术、超精密光学制造、微纳机械与微纳机器人  ,     姓名  职称     资格                                                url  \\\n",
      "0  刘之光  教授  博士生导师  https://pmpi.ustc.edu.cn//2024/0226/c19780a630...   \n",
      "\n",
      "                研究方向  \n",
      "0  先进纳米制造、3D打印、微纳光子学  ,    姓名  职称     资格                                                url  \\\n",
      "0  刘诚  教授  博士生导师  https://pmpi.ustc.edu.cn//2020/0304/c19780a414...   \n",
      "\n",
      "                                         研究方向  \n",
      "0  光学遥感算法原理、光学遥感仪器光机电设计、基于天空一体化超光谱遥感的人工智能系统开发  ,    姓名     职称     资格                                                url  \\\n",
      "0  毛磊  特任研究员  博士生导师  https://pmpi.ustc.edu.cn//2020/0304/c19780a414...   \n",
      "\n",
      "                                               研究方向  \n",
      "0  基于振动的故障诊断技术、基于人工智能手段的故障诊断和寿命预测、燃料电池电堆的测试和运行可靠性分析  ,     姓名     职称     资格                                                url  \\\n",
      "0  倪劲成  特任研究员  博士生导师  https://pmpi.ustc.edu.cn//2023/0314/c19780a595...   \n",
      "\n",
      "               研究方向  \n",
      "0  奇点光学、激光微纳加工、微纳光学  ,     姓名  职称     资格                                                url 研究方向\n",
      "0  潘挺睿  教授  博士生导师  https://pmpi.ustc.edu.cn//2022/0505/c19780a553...   、、,     姓名  职称     资格                                                url  \\\n",
      "0  孙帅帅  教授  博士生导师  https://pmpi.ustc.edu.cn//2020/0922/c19780a450...   \n",
      "\n",
      "                    研究方向  \n",
      "0  智能材料与结构、振动与噪声控制、系统动力学  ,    姓名  职称     资格                                                url  \\\n",
      "0  盛东  教授  博士生导师  https://pmpi.ustc.edu.cn//2020/0304/c19780a414...   \n",
      "\n",
      "                   研究方向  \n",
      "0  基本物理对称性测量、原子磁力仪、共磁力仪  ]\n"
     ]
    }
   ],
   "source": [
    "# info_list = []\n",
    "# col_right = soup.find('div', class_='col_news_con')\n",
    "# # print(target)\n",
    "# # for i in range(1,)\n",
    "# targets = col_right.find_all('div', class_='con1')\n",
    "#     # i = 1\n",
    "#     # classType = 'news n'+ str(i) + ' clearfix'\n",
    "#     # print(classType)\n",
    "# for target in targets:\n",
    "#     # target = col_right.find_all('div', class_='col1')\n",
    "#     \n",
    "#     name = target.find('span', class_ = 'news_tt').get_text()\n",
    "#     # print(name)\n",
    "#     link = 'https://pmpi.ustc.edu.cn/' + target.find('span',class_ = 'news_tt').find('a')['href']\n",
    "#     # print(link)\n",
    "#     title = target.find('span', class_ = 'news_yx').get_text()\n",
    "#     # print(title)\n",
    "#     zige = target.find('span', class_ = 'news_fj').get_text()\n",
    "#     # print(zige)\n",
    "#     research = target.find('span', class_ = 'news_zw').get_text() + '、' + target.find('span', class_ = 'news_zz').get_text() + '、' + target.find('span', class_ = 'news_gl').get_text()\n",
    "#     # print(research)\n",
    "#     info_list.append(pd.DataFrame({\n",
    "#         # '研究所':[classType],\n",
    "#         '姓名':[name],\n",
    "#         '职称':[title],\n",
    "#         '资格':[zige],\n",
    "#         'url':[link],\n",
    "#         '研究方向':[research]\n",
    "#     }))\n",
    "# \n",
    "# print(info_list)"
   ],
   "metadata": {
    "collapsed": false,
    "ExecuteTime": {
     "end_time": "2024-04-23T09:06:34.615Z",
     "start_time": "2024-04-23T09:06:34.580490Z"
    }
   },
   "id": "92d7b1e86676fb64",
   "execution_count": 45
  },
  {
   "cell_type": "code",
   "outputs": [
    {
     "name": "stdout",
     "output_type": "stream",
     "text": [
      "[]\n"
     ]
    }
   ],
   "source": [
    "# print(targets)\n",
    "# print(col_right)"
   ],
   "metadata": {
    "collapsed": false,
    "ExecuteTime": {
     "end_time": "2024-04-23T09:06:06.744608Z",
     "start_time": "2024-04-23T09:06:06.726278Z"
    }
   },
   "id": "ae6b1b8c0ec5aea4",
   "execution_count": 43
  },
  {
   "cell_type": "code",
   "outputs": [
    {
     "name": "stdout",
     "output_type": "stream",
     "text": [
      "[<div class=\"con1\"><div class=\"introduce clearfix\">\n",
      "<div class=\"\"><span class=\"news_tt\"><a href=\"/2020/0304/c19780a414013/page.htm\" target=\"_blank\" title=\"褚家如\">褚家如</a></span>\n",
      "<span class=\"news_yx\"><b style=\"font-size:14px;color:#353535;\"></b>教授</span>\n",
      "<span class=\"news_fj\"><b style=\"font-size:14px;color:#353535;\"></b>博士生导师</span>\n",
      "<span class=\"news_dh\"><b style=\"font-size:14px;color:#353535;\">研究方向：</b><br/><span></span></span></div>\n",
      "<span class=\"news_zw\">微机电系统技术</span>\n",
      "<span class=\"news_zz\"><b style=\"font-size:14px;color:#353535;\"></b><span>超精密测量</span></span>\n",
      "<span class=\"news_gl\"><b style=\"font-size:14px;color:#353535;\"></b><span>超精密天文仪器</span></span>\n",
      "<span class=\"news_xq\"><a href=\"/2020/0304/c19780a414013/page.htm\">查看更多</a></span></div></div>, <div class=\"con1\"><div class=\"introduce clearfix\">\n",
      "<div class=\"\"><span class=\"news_tt\"><a href=\"/2020/0307/c19780a414125/page.htm\" target=\"_blank\" title=\"陈向军\">陈向军</a></span>\n",
      "<span class=\"news_yx\"><b style=\"font-size:14px;color:#353535;\"></b>教授</span>\n",
      "<span class=\"news_fj\"><b style=\"font-size:14px;color:#353535;\"></b>博士生导师</span>\n",
      "<span class=\"news_dh\"><b style=\"font-size:14px;color:#353535;\">研究方向：</b><br/><span></span></span></div>\n",
      "<span class=\"news_zw\">电子碰撞谱学和扫描探针电子能谱学</span>\n",
      "<span class=\"news_zz\"><b style=\"font-size:14px;color:#353535;\"></b><span>电子碰撞谱学和扫描探针电子能谱学，开展电子与气相原子分子碰撞的结构与动力学</span></span>\n",
      "<span class=\"news_gl\"><b style=\"font-size:14px;color:#353535;\"></b><span>高分辨分子轨道成像</span></span>\n",
      "<span class=\"news_xq\"><a href=\"/2020/0307/c19780a414125/page.htm\">查看更多</a></span></div></div>, <div class=\"con1\"><div class=\"introduce clearfix\">\n",
      "<div class=\"\"><span class=\"news_tt\"><a href=\"/2022/0415/c19780a552008/page.htm\" target=\"_blank\" title=\"陈杨\">陈杨</a></span>\n",
      "<span class=\"news_yx\"><b style=\"font-size:14px;color:#353535;\"></b>教授</span>\n",
      "<span class=\"news_fj\"><b style=\"font-size:14px;color:#353535;\"></b>博士生导师</span>\n",
      "<span class=\"news_dh\"><b style=\"font-size:14px;color:#353535;\">研究方向：</b><br/><span></span></span></div>\n",
      "<span class=\"news_zw\">微纳光学</span>\n",
      "<span class=\"news_zz\"><b style=\"font-size:14px;color:#353535;\"></b><span>微纳光电器件</span></span>\n",
      "<span class=\"news_gl\"><b style=\"font-size:14px;color:#353535;\"></b><span>超材料与超表面</span></span>\n",
      "<span class=\"news_xq\"><a href=\"/2022/0415/c19780a552008/page.htm\">查看更多</a></span></div></div>, <div class=\"con1\"><div class=\"introduce clearfix\">\n",
      "<div class=\"\"><span class=\"news_tt\"><a href=\"/2020/0307/c19780a414126/page.htm\" target=\"_blank\" title=\"付绍军\">付绍军</a></span>\n",
      "<span class=\"news_yx\"><b style=\"font-size:14px;color:#353535;\"></b>教授</span>\n",
      "<span class=\"news_fj\"><b style=\"font-size:14px;color:#353535;\"></b>博士生导师</span>\n",
      "<span class=\"news_dh\"><b style=\"font-size:14px;color:#353535;\">研究方向：</b><br/><span></span></span></div>\n",
      "<span class=\"news_zw\">短波光学、微光学技术和超微细加工技术研究</span>\n",
      "<span class=\"news_zz\"><b style=\"font-size:14px;color:#353535;\"></b><span>软X射线和真空紫外波段的衍射元件研究</span></span>\n",
      "<span class=\"news_gl\"><b style=\"font-size:14px;color:#353535;\"></b><span>无衬底自支撑的软X射线透射光栅研制</span></span>\n",
      "<span class=\"news_xq\"><a href=\"/2020/0307/c19780a414126/page.htm\">查看更多</a></span></div></div>, <div class=\"con1\"><div class=\"introduce clearfix\">\n",
      "<div class=\"\"><span class=\"news_tt\"><a href=\"/2020/0304/c19780a414014/page.htm\" target=\"_blank\" title=\"冯志华\">冯志华</a></span>\n",
      "<span class=\"news_yx\"><b style=\"font-size:14px;color:#353535;\"></b>教授</span>\n",
      "<span class=\"news_fj\"><b style=\"font-size:14px;color:#353535;\"></b>博士生导师</span>\n",
      "<span class=\"news_dh\"><b style=\"font-size:14px;color:#353535;\">研究方向：</b><br/><span></span></span></div>\n",
      "<span class=\"news_zw\">精密传感与致动</span>\n",
      "<span class=\"news_zz\"><b style=\"font-size:14px;color:#353535;\"></b><span></span></span>\n",
      "<span class=\"news_gl\"><b style=\"font-size:14px;color:#353535;\"></b><span></span></span>\n",
      "<span class=\"news_xq\"><a href=\"/2020/0304/c19780a414014/page.htm\">查看更多</a></span></div></div>, <div class=\"con1\"><div class=\"introduce clearfix\">\n",
      "<div class=\"\"><span class=\"news_tt\"><a href=\"/2020/0307/c19780a414128/page.htm\" target=\"_blank\" title=\"洪义麟\">洪义麟</a></span>\n",
      "<span class=\"news_yx\"><b style=\"font-size:14px;color:#353535;\"></b>教授</span>\n",
      "<span class=\"news_fj\"><b style=\"font-size:14px;color:#353535;\"></b>硕士生导师</span>\n",
      "<span class=\"news_dh\"><b style=\"font-size:14px;color:#353535;\">研究方向：</b><br/><span></span></span></div>\n",
      "<span class=\"news_zw\"></span>\n",
      "<span class=\"news_zz\"><b style=\"font-size:14px;color:#353535;\"></b><span></span></span>\n",
      "<span class=\"news_gl\"><b style=\"font-size:14px;color:#353535;\"></b><span></span></span>\n",
      "<span class=\"news_xq\"><a href=\"/2020/0307/c19780a414128/page.htm\">查看更多</a></span></div></div>, <div class=\"con1\"><div class=\"introduce clearfix\">\n",
      "<div class=\"\"><span class=\"news_tt\"><a href=\"/2021/1222/c19780a540342/page.htm\" target=\"_blank\" title=\"胡衍雷\">胡衍雷</a></span>\n",
      "<span class=\"news_yx\"><b style=\"font-size:14px;color:#353535;\"></b>教授</span>\n",
      "<span class=\"news_fj\"><b style=\"font-size:14px;color:#353535;\"></b>博士生导师</span>\n",
      "<span class=\"news_dh\"><b style=\"font-size:14px;color:#353535;\">研究方向：</b><br/><span></span></span></div>\n",
      "<span class=\"news_zw\">超快激光微纳加工技术</span>\n",
      "<span class=\"news_zz\"><b style=\"font-size:14px;color:#353535;\"></b><span>超精密光学制造</span></span>\n",
      "<span class=\"news_gl\"><b style=\"font-size:14px;color:#353535;\"></b><span>微纳机械与微纳机器人</span></span>\n",
      "<span class=\"news_xq\"><a href=\"/2021/1222/c19780a540342/page.htm\">查看更多</a></span></div></div>, <div class=\"con1\"><div class=\"introduce clearfix\">\n",
      "<div class=\"\"><span class=\"news_tt\"><a href=\"/2024/0226/c19780a630577/page.htm\" target=\"_blank\" title=\"刘之光\">刘之光</a></span>\n",
      "<span class=\"news_yx\"><b style=\"font-size:14px;color:#353535;\"></b>教授</span>\n",
      "<span class=\"news_fj\"><b style=\"font-size:14px;color:#353535;\"></b>博士生导师</span>\n",
      "<span class=\"news_dh\"><b style=\"font-size:14px;color:#353535;\">研究方向：</b><br/><span></span></span></div>\n",
      "<span class=\"news_zw\">先进纳米制造</span>\n",
      "<span class=\"news_zz\"><b style=\"font-size:14px;color:#353535;\"></b><span>3D打印</span></span>\n",
      "<span class=\"news_gl\"><b style=\"font-size:14px;color:#353535;\"></b><span>微纳光子学</span></span>\n",
      "<span class=\"news_xq\"><a href=\"/2024/0226/c19780a630577/page.htm\">查看更多</a></span></div></div>, <div class=\"con1\"><div class=\"introduce clearfix\">\n",
      "<div class=\"\"><span class=\"news_tt\"><a href=\"/2020/0304/c19780a414015/page.htm\" target=\"_blank\" title=\"刘诚\">刘诚</a></span>\n",
      "<span class=\"news_yx\"><b style=\"font-size:14px;color:#353535;\"></b>教授</span>\n",
      "<span class=\"news_fj\"><b style=\"font-size:14px;color:#353535;\"></b>博士生导师</span>\n",
      "<span class=\"news_dh\"><b style=\"font-size:14px;color:#353535;\">研究方向：</b><br/><span></span></span></div>\n",
      "<span class=\"news_zw\">光学遥感算法原理</span>\n",
      "<span class=\"news_zz\"><b style=\"font-size:14px;color:#353535;\"></b><span>光学遥感仪器光机电设计</span></span>\n",
      "<span class=\"news_gl\"><b style=\"font-size:14px;color:#353535;\"></b><span>基于天空一体化超光谱遥感的人工智能系统开发</span></span>\n",
      "<span class=\"news_xq\"><a href=\"/2020/0304/c19780a414015/page.htm\">查看更多</a></span></div></div>, <div class=\"con1\"><div class=\"introduce clearfix\">\n",
      "<div class=\"\"><span class=\"news_tt\"><a href=\"/2020/0304/c19780a414016/page.htm\" target=\"_blank\" title=\"毛磊\">毛磊</a></span>\n",
      "<span class=\"news_yx\"><b style=\"font-size:14px;color:#353535;\"></b>特任研究员</span>\n",
      "<span class=\"news_fj\"><b style=\"font-size:14px;color:#353535;\"></b>博士生导师</span>\n",
      "<span class=\"news_dh\"><b style=\"font-size:14px;color:#353535;\">研究方向：</b><br/><span></span></span></div>\n",
      "<span class=\"news_zw\">基于振动的故障诊断技术</span>\n",
      "<span class=\"news_zz\"><b style=\"font-size:14px;color:#353535;\"></b><span>基于人工智能手段的故障诊断和寿命预测</span></span>\n",
      "<span class=\"news_gl\"><b style=\"font-size:14px;color:#353535;\"></b><span>燃料电池电堆的测试和运行可靠性分析</span></span>\n",
      "<span class=\"news_xq\"><a href=\"/2020/0304/c19780a414016/page.htm\">查看更多</a></span></div></div>, <div class=\"con1\"><div class=\"introduce clearfix\">\n",
      "<div class=\"\"><span class=\"news_tt\"><a href=\"/2023/0314/c19780a595060/page.htm\" target=\"_blank\" title=\"倪劲成\">倪劲成</a></span>\n",
      "<span class=\"news_yx\"><b style=\"font-size:14px;color:#353535;\"></b>特任研究员</span>\n",
      "<span class=\"news_fj\"><b style=\"font-size:14px;color:#353535;\"></b>博士生导师</span>\n",
      "<span class=\"news_dh\"><b style=\"font-size:14px;color:#353535;\">研究方向：</b><br/><span></span></span></div>\n",
      "<span class=\"news_zw\">奇点光学</span>\n",
      "<span class=\"news_zz\"><b style=\"font-size:14px;color:#353535;\"></b><span>激光微纳加工</span></span>\n",
      "<span class=\"news_gl\"><b style=\"font-size:14px;color:#353535;\"></b><span>微纳光学</span></span>\n",
      "<span class=\"news_xq\"><a href=\"/2023/0314/c19780a595060/page.htm\">查看更多</a></span></div></div>, <div class=\"con1\"><div class=\"introduce clearfix\">\n",
      "<div class=\"\"><span class=\"news_tt\"><a href=\"/2022/0505/c19780a553577/page.htm\" target=\"_blank\" title=\"潘挺睿\">潘挺睿</a></span>\n",
      "<span class=\"news_yx\"><b style=\"font-size:14px;color:#353535;\"></b>教授</span>\n",
      "<span class=\"news_fj\"><b style=\"font-size:14px;color:#353535;\"></b>博士生导师</span>\n",
      "<span class=\"news_dh\"><b style=\"font-size:14px;color:#353535;\">研究方向：</b><br/><span></span></span></div>\n",
      "<span class=\"news_zw\"></span>\n",
      "<span class=\"news_zz\"><b style=\"font-size:14px;color:#353535;\"></b><span></span></span>\n",
      "<span class=\"news_gl\"><b style=\"font-size:14px;color:#353535;\"></b><span></span></span>\n",
      "<span class=\"news_xq\"><a href=\"/2022/0505/c19780a553577/page.htm\">查看更多</a></span></div></div>, <div class=\"con1\"><div class=\"introduce clearfix\">\n",
      "<div class=\"\"><span class=\"news_tt\"><a href=\"/2020/0922/c19780a450379/page.htm\" target=\"_blank\" title=\"孙帅帅\">孙帅帅</a></span>\n",
      "<span class=\"news_yx\"><b style=\"font-size:14px;color:#353535;\"></b>教授</span>\n",
      "<span class=\"news_fj\"><b style=\"font-size:14px;color:#353535;\"></b>博士生导师</span>\n",
      "<span class=\"news_dh\"><b style=\"font-size:14px;color:#353535;\">研究方向：</b><br/><span></span></span></div>\n",
      "<span class=\"news_zw\">智能材料与结构</span>\n",
      "<span class=\"news_zz\"><b style=\"font-size:14px;color:#353535;\"></b><span>振动与噪声控制</span></span>\n",
      "<span class=\"news_gl\"><b style=\"font-size:14px;color:#353535;\"></b><span>系统动力学</span></span>\n",
      "<span class=\"news_xq\"><a href=\"/2020/0922/c19780a450379/page.htm\">查看更多</a></span></div></div>, <div class=\"con1\"><div class=\"introduce clearfix\">\n",
      "<div class=\"\"><span class=\"news_tt\"><a href=\"/2020/0304/c19780a414017/page.htm\" target=\"_blank\" title=\"盛东\">盛东</a></span>\n",
      "<span class=\"news_yx\"><b style=\"font-size:14px;color:#353535;\"></b>教授</span>\n",
      "<span class=\"news_fj\"><b style=\"font-size:14px;color:#353535;\"></b>博士生导师</span>\n",
      "<span class=\"news_dh\"><b style=\"font-size:14px;color:#353535;\">研究方向：</b><br/><span></span></span></div>\n",
      "<span class=\"news_zw\">基本物理对称性测量</span>\n",
      "<span class=\"news_zz\"><b style=\"font-size:14px;color:#353535;\"></b><span>原子磁力仪</span></span>\n",
      "<span class=\"news_gl\"><b style=\"font-size:14px;color:#353535;\"></b><span>共磁力仪</span></span>\n",
      "<span class=\"news_xq\"><a href=\"/2020/0304/c19780a414017/page.htm\">查看更多</a></span></div></div>]\n"
     ]
    }
   ],
   "source": [
    "# temp = col_right.find_all('div', class_='col1')\n",
    "# print(len(temp))"
   ],
   "metadata": {
    "collapsed": false,
    "ExecuteTime": {
     "end_time": "2024-04-23T09:02:38.098987Z",
     "start_time": "2024-04-23T09:02:38.085822Z"
    }
   },
   "id": "2d488377685bba56",
   "execution_count": 40
  },
  {
   "cell_type": "code",
   "outputs": [
    {
     "name": "stdout",
     "output_type": "stream",
     "text": [
      "https://pmpi.ustc.edu.cn//2020/0308/c19783a414208/page.htm\n"
     ]
    }
   ],
   "source": [
    "# i = 2\n",
    "info_list = []\n",
    "for link in link_list:\n",
    "    # if i == 5:\n",
    "    #     break;\n",
    "    # url = 'https://pmpi.ustc.edu.cn/js_1978' + str(i) + '/list.htm'\n",
    "    url = 'https://pmpi.ustc.edu.cn/' + link['href']\n",
    "    try:\n",
    "        response = requests.get(url)\n",
    "        soup = BeautifulSoup(response.content, 'html.parser')\n",
    "        \n",
    "        \n",
    "        col_right = soup.find('div', class_='col_news_con')\n",
    "        # print(target)\n",
    "        # for i in range(1,)\n",
    "        targets = col_right.find_all('div', class_='con1')\n",
    "            # i = 1\n",
    "            # classType = 'news n'+ str(i) + ' clearfix'\n",
    "            # print(classType)\n",
    "        for target in targets:\n",
    "            # target = col_right.find_all('div', class_='col1')\n",
    "            \n",
    "            name = target.find('span', class_ = 'news_tt').get_text()\n",
    "            # print(name)\n",
    "            link = 'https://pmpi.ustc.edu.cn/' + target.find('span',class_ = 'news_tt').find('a')['href']\n",
    "            # print(link)\n",
    "            title = target.find('span', class_ = 'news_yx').get_text()\n",
    "            # print(title)\n",
    "            zige = target.find('span', class_ = 'news_fj').get_text()\n",
    "            # print(zige)\n",
    "            research = target.find('span', class_ = 'news_zw').get_text() + ' ' + target.find('span', class_ = 'news_zz').get_text() + ' ' + target.find('span', class_ = 'news_gl').get_text()\n",
    "            # print(research)\n",
    "            info_list.append(pd.DataFrame({\n",
    "                # '研究所':[classType],\n",
    "                '姓名':[name],\n",
    "                '职称':[title],\n",
    "                '资格':[zige],\n",
    "                'url':[link],\n",
    "                '研究方向':[research]\n",
    "            }))\n",
    "    except Exception as e:\n",
    "        print(link)\n",
    "# print(info_list)"
   ],
   "metadata": {
    "collapsed": false,
    "ExecuteTime": {
     "end_time": "2024-04-23T09:25:08.645594Z",
     "start_time": "2024-04-23T09:25:05.134023Z"
    }
   },
   "id": "df0c24002de5b926",
   "execution_count": 64
  },
  {
   "cell_type": "code",
   "outputs": [
    {
     "name": "stdout",
     "output_type": "stream",
     "text": [
      "[    姓名  职称     资格                                                url  \\\n",
      "0  褚家如  教授  博士生导师  https://pmpi.ustc.edu.cn//2020/0304/c19780a414...   \n",
      "\n",
      "                    研究方向  \n",
      "0  微机电系统技术 超精密测量 超精密天文仪器  ,     姓名  职称     资格                                                url  \\\n",
      "0  陈向军  教授  博士生导师  https://pmpi.ustc.edu.cn//2020/0307/c19780a414...   \n",
      "\n",
      "                                                研究方向  \n",
      "0  电子碰撞谱学和扫描探针电子能谱学 电子碰撞谱学和扫描探针电子能谱学，开展电子与气相原子分子碰...  ,    姓名  职称     资格                                                url  \\\n",
      "0  陈杨  教授  博士生导师  https://pmpi.ustc.edu.cn//2022/0415/c19780a552...   \n",
      "\n",
      "                  研究方向  \n",
      "0  微纳光学 微纳光电器件 超材料与超表面  ,     姓名  职称     资格                                                url  \\\n",
      "0  付绍军  教授  博士生导师  https://pmpi.ustc.edu.cn//2020/0307/c19780a414...   \n",
      "\n",
      "                                                研究方向  \n",
      "0  短波光学、微光学技术和超微细加工技术研究 软X射线和真空紫外波段的衍射元件研究 无衬底自支撑...  ,     姓名  职称     资格                                                url  \\\n",
      "0  冯志华  教授  博士生导师  https://pmpi.ustc.edu.cn//2020/0304/c19780a414...   \n",
      "\n",
      "        研究方向  \n",
      "0  精密传感与致动    ,     姓名  职称     资格                                                url 研究方向\n",
      "0  洪义麟  教授  硕士生导师  https://pmpi.ustc.edu.cn//2020/0307/c19780a414...     ,     姓名  职称     资格                                                url  \\\n",
      "0  胡衍雷  教授  博士生导师  https://pmpi.ustc.edu.cn//2021/1222/c19780a540...   \n",
      "\n",
      "                            研究方向  \n",
      "0  超快激光微纳加工技术 超精密光学制造 微纳机械与微纳机器人  ,     姓名  职称     资格                                                url  \\\n",
      "0  刘之光  教授  博士生导师  https://pmpi.ustc.edu.cn//2024/0226/c19780a630...   \n",
      "\n",
      "                研究方向  \n",
      "0  先进纳米制造 3D打印 微纳光子学  ,    姓名  职称     资格                                                url  \\\n",
      "0  刘诚  教授  博士生导师  https://pmpi.ustc.edu.cn//2020/0304/c19780a414...   \n",
      "\n",
      "                                         研究方向  \n",
      "0  光学遥感算法原理 光学遥感仪器光机电设计 基于天空一体化超光谱遥感的人工智能系统开发  ,    姓名     职称     资格                                                url  \\\n",
      "0  毛磊  特任研究员  博士生导师  https://pmpi.ustc.edu.cn//2020/0304/c19780a414...   \n",
      "\n",
      "                                               研究方向  \n",
      "0  基于振动的故障诊断技术 基于人工智能手段的故障诊断和寿命预测 燃料电池电堆的测试和运行可靠性分析  ,     姓名     职称     资格                                                url  \\\n",
      "0  倪劲成  特任研究员  博士生导师  https://pmpi.ustc.edu.cn//2023/0314/c19780a595...   \n",
      "\n",
      "               研究方向  \n",
      "0  奇点光学 激光微纳加工 微纳光学  ,     姓名  职称     资格                                                url 研究方向\n",
      "0  潘挺睿  教授  博士生导师  https://pmpi.ustc.edu.cn//2022/0505/c19780a553...     ,     姓名  职称     资格                                                url  \\\n",
      "0  孙帅帅  教授  博士生导师  https://pmpi.ustc.edu.cn//2020/0922/c19780a450...   \n",
      "\n",
      "                    研究方向  \n",
      "0  智能材料与结构 振动与噪声控制 系统动力学  ,    姓名  职称     资格                                                url  \\\n",
      "0  盛东  教授  博士生导师  https://pmpi.ustc.edu.cn//2020/0304/c19780a414...   \n",
      "\n",
      "                   研究方向  \n",
      "0  基本物理对称性测量 原子磁力仪 共磁力仪  ,     姓名   职称     资格                                                url  \\\n",
      "0  陈宇航  副教授  硕士生导师  https://pmpi.ustc.edu.cn//2020/0307/c19781a414...   \n",
      "\n",
      "                              研究方向  \n",
      "0  新型原子力显微术及其纳米表征应用 微纳米测量技术以及微纳加工   ,     姓名   职称     资格                                                url  \\\n",
      "0  董二宝  副教授  硕士生导师  https://pmpi.ustc.edu.cn//2020/0307/c19781a414...   \n",
      "\n",
      "                         研究方向  \n",
      "0  人工肌肉与仿生机器人 智能移动机器人 双臂协作机器人  ,     姓名   职称     资格                                                url  \\\n",
      "0  干方建  副教授  硕士生导师  https://pmpi.ustc.edu.cn//2020/0307/c19781a414...   \n",
      "\n",
      "        研究方向  \n",
      "0  机械系统动力学    ,     姓名   职称 资格                                                url 研究方向\n",
      "0  顾永刚  副教授     https://pmpi.ustc.edu.cn//2020/0308/c19781a414...     ,     姓名   职称     资格                                                url  \\\n",
      "0  胡红专  副教授  硕士生导师  https://pmpi.ustc.edu.cn//2020/0307/c19781a414...   \n",
      "\n",
      "                                            研究方向  \n",
      "0  LAMOST高精度光纤定位单元关键技术研究 双回转光纤单元定位装置 并行可控式光纤定位系统  ,    姓名   职称 资格                                                url  \\\n",
      "0  金一  副教授     https://pmpi.ustc.edu.cn//2020/0719/c19781a439...   \n",
      "\n",
      "                    研究方向  \n",
      "0  计算机视觉 机器视觉与控制 智能检测及诊断  ,    姓名 职称 资格                                                url 研究方向\n",
      "0  金熠        https://pmpi.ustc.edu.cn//2020/0307/c19781a414...     ,    姓名 职称 资格                                                url 研究方向\n",
      "0  金虎        https://pmpi.ustc.edu.cn//2024/0119/c19781a628...     ,     姓名     职称     资格                                                url  \\\n",
      "0  刘志刚  高级工程师  硕士生导师  https://pmpi.ustc.edu.cn//2020/0307/c19781a414...   \n",
      "\n",
      "                  研究方向  \n",
      "0  精密天文仪器 机器视觉测量 计算机软件  ,     姓名   职称     资格                                                url  \\\n",
      "0  李为民  副教授  硕士生导师  https://pmpi.ustc.edu.cn//2020/0307/c19781a414...   \n",
      "\n",
      "                                                研究方向  \n",
      "0  机器视觉测量：三维坐标测量 机器人视觉：无人自主小车的视觉导航、机械手视觉定位 图像处理： ...  ,     姓名   职称     资格                                                url  \\\n",
      "0  李保庆  副教授  硕士生导师  https://pmpi.ustc.edu.cn//2020/0307/c19781a414...   \n",
      "\n",
      "                                                研究方向  \n",
      "0  高通量微流控皮升液滴打印技术及其在数字PCR中的应用研究 新型高带宽高空间频率复合式压电变形...  ,     姓名   职称     资格                                                url  \\\n",
      "0  李家文  副教授  硕士生导师  https://pmpi.ustc.edu.cn//2020/0307/c19781a414...   \n",
      "\n",
      "                               研究方向  \n",
      "0  飞秒激光加工技术 三维生物打印技术及应用 微纳功能表面及功能器件  ,     姓名   职称     资格                                                url  \\\n",
      "0  李木军  副教授  硕士生导师  https://pmpi.ustc.edu.cn//2020/0307/c19781a414...   \n",
      "\n",
      "                                      研究方向  \n",
      "0  微纳结构设计、应用及其非常规加工技术 非接触式滚压印技术及其动态压模机理研究   ,     姓名   职称     资格                                                url  \\\n",
      "0  李永新  副教授  硕士生导师  https://pmpi.ustc.edu.cn//2020/0307/c19781a414...   \n",
      "\n",
      "                研究方向  \n",
      "0  智能机器人 机械设计 精密计量技术  ,     姓名  职称 资格                                                url 研究方向\n",
      "0  李晓峰  讲师     https://pmpi.ustc.edu.cn//2020/0308/c19782a414...     ,     姓名  职称 资格                                                url 研究方向\n",
      "0  刘维来  讲师     https://pmpi.ustc.edu.cn//2020/0308/c19782a414...     ,     姓名   职称 资格                                                url 研究方向\n",
      "0  储建华  研究员     https://pmpi.ustc.edu.cn//2020/0311/c19784a414...     ,     姓名   职称     资格                                                url  \\\n",
      "0  陈结祥  研究员  博士生导师  https://pmpi.ustc.edu.cn//2020/0310/c19784a414...   \n",
      "\n",
      "                   研究方向  \n",
      "0  光学工程技术 激光测高和激光连续波测距   ,     姓名     职称 资格                                                url  \\\n",
      "0  冯宝林  助理研究员     https://pmpi.ustc.edu.cn//2020/0311/c19784a414...   \n",
      "\n",
      "                     研究方向  \n",
      "0  机械系统虚拟样机设计 机电产品的全寿命设计   ,     姓名   职称     资格                                                url  \\\n",
      "0  甘为群  研究员  博士生导师  https://pmpi.ustc.edu.cn//2020/0311/c19784a414...   \n",
      "\n",
      "               研究方向  \n",
      "0  太阳高能物理 空间天文探测仪器   ,     姓名   职称     资格                                                url  研究方向\n",
      "0  侯再红  研究员  博士生导师  https://pmpi.ustc.edu.cn//2020/0310/c19784a414...  光学  ,    姓名   职称     资格                                                url  \\\n",
      "0  洪津  研究员  博士生导师  https://pmpi.ustc.edu.cn//2020/0311/c19784a414...   \n",
      "\n",
      "               研究方向  \n",
      "0  光电技术 图像仿真及其场景模拟   ,     姓名   职称     资格                                                url  \\\n",
      "0  胡明勇  研究员  博士生导师  https://pmpi.ustc.edu.cn//2020/0310/c19784a414...   \n",
      "\n",
      "          研究方向  \n",
      "0  光学机械设计及检测    ,     姓名   职称     资格                                                url  \\\n",
      "0  孔德义  研究员  博士生导师  https://pmpi.ustc.edu.cn//2020/0310/c19784a414...   \n",
      "\n",
      "                             研究方向  \n",
      "0  MEMS微传感器 痕量快速检测微系统 仿生降噪功能结构与器件  ,    姓名   职称     资格                                                url  \\\n",
      "0  刘东  研究员  博士生导师  https://pmpi.ustc.edu.cn//2020/0310/c19784a414...   \n",
      "\n",
      "                                                研究方向  \n",
      "0  激光雷达探测新技术研发及数据应用 机载、星载激光雷达系统研制 A-Train卫星序列数据分析和应用  ,     姓名   职称     资格                                                url  \\\n",
      "0  刘文清  研究员  博士生导师  https://pmpi.ustc.edu.cn//2020/0310/c19784a414...   \n",
      "\n",
      "       研究方向  \n",
      "0  环境光学监测    ,    姓名    职称     资格                                                url  \\\n",
      "0  李婧  副研究员  硕士生导师  https://pmpi.ustc.edu.cn//2020/0311/c19784a414...   \n",
      "\n",
      "               研究方向  \n",
      "0  天体物理 太赫兹探测 超导电子学  ,    姓名 职称 资格                                                url 研究方向\n",
      "0  李涛        https://pmpi.ustc.edu.cn//2020/0311/c19784a414...     ,    姓名   职称 资格                                                url 研究方向\n",
      "0  李露  研究员     https://pmpi.ustc.edu.cn//2020/0310/c19784a414...     ,     姓名   职称     资格                                                url  \\\n",
      "0  骆敏舟  研究员  博士生导师  https://pmpi.ustc.edu.cn//2020/0310/c19784a414...   \n",
      "\n",
      "          研究方向  \n",
      "0  机器人技术 先进制造   ,    姓名      职称 资格                                                url 研究方向\n",
      "0  陈超  特任副研究员     https://pmpi.ustc.edu.cn//2021/0408/c25536a479...     ,    姓名      职称 资格                                                url 研究方向\n",
      "0  金虎  特任副研究员     https://pmpi.ustc.edu.cn//2021/0408/c25536a479...     ,     姓名      职称 资格                                                url  \\\n",
      "0  马成福  特任副研究员     https://pmpi.ustc.edu.cn//2021/0408/c25536a479...   \n",
      "\n",
      "                   研究方向  \n",
      "0  原子力显微镜 纳米力学表征 纳米无损检测  ,     姓名      职称 资格                                                url 研究方向\n",
      "0  于亚军  特任副研究员     https://pmpi.ustc.edu.cn//2021/0408/c25536a479...     ,    姓名      职称 资格                                                url  \\\n",
      "0  张磊  特任副研究员     https://pmpi.ustc.edu.cn//2021/0514/c25536a506...   \n",
      "\n",
      "                          研究方向  \n",
      "0  光辐射定标技术 偏振成像机理与技术 光学微腔技术与应用  ,    姓名      职称 资格                                                url 研究方向\n",
      "0  张磊  特任副研究员     https://pmpi.ustc.edu.cn//2021/0408/c25536a479...     ,     姓名      职称 资格                                                url 研究方向\n",
      "0  朱志强  特任副研究员     https://pmpi.ustc.edu.cn//2021/0408/c25536a479...     ,     姓名      职称 资格                                                url 研究方向\n",
      "0  朱苏皖  特任副研究员     https://pmpi.ustc.edu.cn//2021/0408/c25536a479...     ,     姓名   职称 资格                                                url 研究方向\n",
      "0  贠国霖  博士后     https://pmpi.ustc.edu.cn//2021/0408/c19786a479...     ,     姓名   职称 资格                                                url 研究方向\n",
      "0  刘松德  博士后     https://pmpi.ustc.edu.cn//2021/0408/c19786a479...     ,    姓名   职称 资格                                                url 研究方向\n",
      "0  卢昀  博士后     https://pmpi.ustc.edu.cn//2021/0408/c19786a479...     ,     姓名   职称 资格                                                url 研究方向\n",
      "0  戴一川  博士后     https://pmpi.ustc.edu.cn//2021/0408/c19786a479...     ,    姓名   职称 资格                                                url 研究方向\n",
      "0  马托  博士后     https://pmpi.ustc.edu.cn//2021/0408/c19786a479...     ,     姓名   职称 资格                                                url 研究方向\n",
      "0  姬生云  博士后     https://pmpi.ustc.edu.cn//2021/0408/c19786a479...     ,     姓名   职称 资格                                                url 研究方向\n",
      "0  戴念维  博士后     https://pmpi.ustc.edu.cn//2021/0408/c19786a479...     ,     姓名   职称 资格                                                url 研究方向\n",
      "0  张成歆  博士后     https://pmpi.ustc.edu.cn//2021/0408/c19786a479...     ,     姓名   职称 资格                                                url 研究方向\n",
      "0  邢金玉  博士后     https://pmpi.ustc.edu.cn//2021/0408/c19786a479...     ,     姓名   职称 资格                                                url 研究方向\n",
      "0  张亚超  博士后     https://pmpi.ustc.edu.cn//2021/0408/c19786a479...     ,    姓名   职称 资格                                                url 研究方向\n",
      "0  高纬  博士后     https://pmpi.ustc.edu.cn//2021/0408/c19786a479...     ,     姓名   职称 资格                                                url 研究方向\n",
      "0  刘炳瑞  博士后     https://pmpi.ustc.edu.cn//2021/0408/c19786a479...     ,    姓名   职称 资格                                                url 研究方向\n",
      "0  杨浩  博士后     https://pmpi.ustc.edu.cn//2021/0408/c19786a479...     ,    姓名      职称 资格                                                url 研究方向\n",
      "0  刘鹏  博士后研究员     https://pmpi.ustc.edu.cn//2021/0408/c19786a479...     ]\n"
     ]
    }
   ],
   "source": [
    "print(info_list)"
   ],
   "metadata": {
    "collapsed": false,
    "ExecuteTime": {
     "end_time": "2024-04-23T09:25:10.814110Z",
     "start_time": "2024-04-23T09:25:10.738948Z"
    }
   },
   "id": "b9478dd01ee924ce",
   "execution_count": 65
  },
  {
   "cell_type": "code",
   "outputs": [],
   "source": [
    "info_df = pd.concat(info_list, ignore_index=True)"
   ],
   "metadata": {
    "collapsed": false,
    "ExecuteTime": {
     "end_time": "2024-04-23T09:26:05.760924Z",
     "start_time": "2024-04-23T09:26:05.754248Z"
    }
   },
   "id": "ee6cf1aa6f2321df",
   "execution_count": 69
  },
  {
   "cell_type": "code",
   "outputs": [
    {
     "name": "stdout",
     "output_type": "stream",
     "text": [
      "     姓名      职称     资格                                                url  \\\n",
      "0   褚家如      教授  博士生导师  https://pmpi.ustc.edu.cn//2020/0304/c19780a414...   \n",
      "1   陈向军      教授  博士生导师  https://pmpi.ustc.edu.cn//2020/0307/c19780a414...   \n",
      "2    陈杨      教授  博士生导师  https://pmpi.ustc.edu.cn//2022/0415/c19780a552...   \n",
      "3   付绍军      教授  博士生导师  https://pmpi.ustc.edu.cn//2020/0307/c19780a414...   \n",
      "4   冯志华      教授  博士生导师  https://pmpi.ustc.edu.cn//2020/0304/c19780a414...   \n",
      "..  ...     ...    ...                                                ...   \n",
      "61  张亚超     博士后         https://pmpi.ustc.edu.cn//2021/0408/c19786a479...   \n",
      "62   高纬     博士后         https://pmpi.ustc.edu.cn//2021/0408/c19786a479...   \n",
      "63  刘炳瑞     博士后         https://pmpi.ustc.edu.cn//2021/0408/c19786a479...   \n",
      "64   杨浩     博士后         https://pmpi.ustc.edu.cn//2021/0408/c19786a479...   \n",
      "65   刘鹏  博士后研究员         https://pmpi.ustc.edu.cn//2021/0408/c19786a479...   \n",
      "\n",
      "                                                 研究方向  \n",
      "0                               微机电系统技术 超精密测量 超精密天文仪器  \n",
      "1   电子碰撞谱学和扫描探针电子能谱学 电子碰撞谱学和扫描探针电子能谱学，开展电子与气相原子分子碰...  \n",
      "2                                 微纳光学 微纳光电器件 超材料与超表面  \n",
      "3   短波光学、微光学技术和超微细加工技术研究 软X射线和真空紫外波段的衍射元件研究 无衬底自支撑...  \n",
      "4                                           精密传感与致动    \n",
      "..                                                ...  \n",
      "61                                                     \n",
      "62                                                     \n",
      "63                                                     \n",
      "64                                                     \n",
      "65                                                     \n",
      "\n",
      "[66 rows x 5 columns]\n"
     ]
    }
   ],
   "source": [
    "print(info_df)\n",
    "info_df.to_csv('info.csv')"
   ],
   "metadata": {
    "collapsed": false,
    "ExecuteTime": {
     "end_time": "2024-04-23T09:26:45.975533Z",
     "start_time": "2024-04-23T09:26:45.947155Z"
    }
   },
   "id": "601faa7f69eae30",
   "execution_count": 71
  },
  {
   "cell_type": "code",
   "outputs": [],
   "source": [],
   "metadata": {
    "collapsed": false
   },
   "id": "119caf0d36a9ed41"
  }
 ],
 "metadata": {
  "kernelspec": {
   "display_name": "Python 3",
   "language": "python",
   "name": "python3"
  },
  "language_info": {
   "codemirror_mode": {
    "name": "ipython",
    "version": 2
   },
   "file_extension": ".py",
   "mimetype": "text/x-python",
   "name": "python",
   "nbconvert_exporter": "python",
   "pygments_lexer": "ipython2",
   "version": "2.7.6"
  }
 },
 "nbformat": 4,
 "nbformat_minor": 5
}
