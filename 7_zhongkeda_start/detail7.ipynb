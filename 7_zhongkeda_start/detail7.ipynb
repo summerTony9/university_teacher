{
 "cells": [
  {
   "cell_type": "code",
   "execution_count": 1,
   "id": "initial_id",
   "metadata": {
    "collapsed": true,
    "ExecuteTime": {
     "end_time": "2024-04-23T13:22:27.151433Z",
     "start_time": "2024-04-23T13:22:26.551918Z"
    }
   },
   "outputs": [],
   "source": [
    "import pandas as pd\n",
    "import requests\n",
    "from bs4 import BeautifulSoup"
   ]
  },
  {
   "cell_type": "code",
   "outputs": [],
   "source": [
    "info_pd = pd.read_csv('info.csv')"
   ],
   "metadata": {
    "collapsed": false,
    "ExecuteTime": {
     "end_time": "2024-04-23T13:22:44.420232Z",
     "start_time": "2024-04-23T13:22:44.398436Z"
    }
   },
   "id": "8cf50070631b878a",
   "execution_count": 2
  },
  {
   "cell_type": "code",
   "outputs": [
    {
     "name": "stdout",
     "output_type": "stream",
     "text": [
      "    Unnamed: 0   姓名      职称     资格  \\\n",
      "0            0  褚家如      教授  博士生导师   \n",
      "1            1  陈向军      教授  博士生导师   \n",
      "2            2   陈杨      教授  博士生导师   \n",
      "3            3  付绍军      教授  博士生导师   \n",
      "4            4  冯志华      教授  博士生导师   \n",
      "..         ...  ...     ...    ...   \n",
      "61          61  张亚超     博士后    NaN   \n",
      "62          62   高纬     博士后    NaN   \n",
      "63          63  刘炳瑞     博士后    NaN   \n",
      "64          64   杨浩     博士后    NaN   \n",
      "65          65   刘鹏  博士后研究员    NaN   \n",
      "\n",
      "                                                  url  \\\n",
      "0   https://pmpi.ustc.edu.cn//2020/0304/c19780a414...   \n",
      "1   https://pmpi.ustc.edu.cn//2020/0307/c19780a414...   \n",
      "2   https://pmpi.ustc.edu.cn//2022/0415/c19780a552...   \n",
      "3   https://pmpi.ustc.edu.cn//2020/0307/c19780a414...   \n",
      "4   https://pmpi.ustc.edu.cn//2020/0304/c19780a414...   \n",
      "..                                                ...   \n",
      "61  https://pmpi.ustc.edu.cn//2021/0408/c19786a479...   \n",
      "62  https://pmpi.ustc.edu.cn//2021/0408/c19786a479...   \n",
      "63  https://pmpi.ustc.edu.cn//2021/0408/c19786a479...   \n",
      "64  https://pmpi.ustc.edu.cn//2021/0408/c19786a479...   \n",
      "65  https://pmpi.ustc.edu.cn//2021/0408/c19786a479...   \n",
      "\n",
      "                                                 研究方向  \n",
      "0                               微机电系统技术 超精密测量 超精密天文仪器  \n",
      "1   电子碰撞谱学和扫描探针电子能谱学 电子碰撞谱学和扫描探针电子能谱学，开展电子与气相原子分子碰...  \n",
      "2                                 微纳光学 微纳光电器件 超材料与超表面  \n",
      "3   短波光学、微光学技术和超微细加工技术研究 软X射线和真空紫外波段的衍射元件研究 无衬底自支撑...  \n",
      "4                                           精密传感与致动    \n",
      "..                                                ...  \n",
      "61                                                     \n",
      "62                                                     \n",
      "63                                                     \n",
      "64                                                     \n",
      "65                                                     \n",
      "\n",
      "[66 rows x 6 columns]\n"
     ]
    }
   ],
   "source": [
    "print(info_pd)"
   ],
   "metadata": {
    "collapsed": false,
    "ExecuteTime": {
     "end_time": "2024-04-23T13:22:49.131766Z",
     "start_time": "2024-04-23T13:22:49.124095Z"
    }
   },
   "id": "9dbcb5ebb66ed644",
   "execution_count": 3
  },
  {
   "cell_type": "code",
   "outputs": [],
   "source": [
    "url = info_pd.iloc[0]['url']\n",
    "response = requests.get(url)\n",
    "soup = BeautifulSoup(response.content,'html.parser')"
   ],
   "metadata": {
    "collapsed": false,
    "ExecuteTime": {
     "end_time": "2024-04-23T13:24:33.215479Z",
     "start_time": "2024-04-23T13:24:32.792357Z"
    }
   },
   "id": "8a869b02abce06c5",
   "execution_count": 10
  },
  {
   "cell_type": "code",
   "outputs": [
    {
     "name": "stdout",
     "output_type": "stream",
     "text": [
      "<div class=\"wp_articlecontent\"><p style=\"line-height:1.5em;\"><img border=\"0\" height=\"172\" hspace=\"0\" src=\"/_upload/article/images/a1/98/c5443b35472e9a442fcf4fd10426/9c1a0255-f92a-4d9f-b634-2d7643738337.png\" style=\"float:left;width:149px;height:172px;padding-right:10px;\" vspace=\"0\" width=\"149\"/><span style=\"line-height:1.5em;font-size:16px;\">褚家如 教授 博士生导师</span></p><p style=\"line-height:1.5em;\"><span style=\"line-height:1.5em;font-size:16px;\"></span></p><p style=\"font-size:14px;line-height:1.5em;\"><span style=\"line-height:1.5em;font-size:16px;\"><span style=\"line-height:1.5em;\"><span style=\"line-height:1.5em;font-family:宋体, serif;\"><span style=\"line-height:1.5em;font-family:宋体;\">办公电话：</span><span style=\"line-height:1.5em;\">0551-3607504</span><span style=\"line-height:1.5em;font-family:宋体;\">，</span><span style=\"line-height:1.5em;\">3602544</span></span></span></span></p><p style=\"font-size:14px;line-height:1.5em;\"><span style=\"line-height:1.5em;font-size:16px;\"><span style=\"line-height:1.5em;\"><span style=\"line-height:1.5em;font-family:宋体, serif;\"><span style=\"line-height:1.5em;\"><span style=\"line-height:1.5em;font-family:宋体;\">传真：</span><span style=\"line-height:1.5em;\">0551-3600550</span></span></span></span></span></p><p style=\"font-size:14px;line-height:1.5em;\"><span style=\"line-height:1.5em;font-size:16px;\"><span style=\"line-height:1.5em;\"><span style=\"line-height:1.5em;font-family:宋体, serif;\"><span style=\"line-height:1.5em;\"><span style=\"line-height:1.5em;\"><span style=\"line-height:1.5em;\"><span style=\"line-height:1.5em;\"><span style=\"line-height:1.5em;\">邮箱: jrchu@ustc.edu.cn</span></span></span></span></span></span></span></span></p><p style=\"font-size:14px;line-height:1.5em;\"><span style=\"line-height:1.5em;font-size:16px;\"><span style=\"line-height:1.5em;\"><span style=\"line-height:1.5em;font-family:宋体, serif;\"><span style=\"line-height:1.5em;\"><span style=\"line-height:1.5em;\"><span style=\"line-height:1.5em;\"><span style=\"line-height:1.5em;\"><span style=\"line-height:1.5em;\"><span style=\"font-size:16px;line-height:1.5em;\">实验室主页：</span><span style=\"font-family:宋体, serif;font-size:16px;color:#0000ff;line-height:1.5em;\"><span style=\"line-height:1.5em;\"><a href=\"http://mane.ustc.edu.cn/\" style=\"font-family:宋体, serif;font-size:16px;\">http://mane.ustc.edu.cn/</a></span></span></span></span></span></span></span></span></span></span></p><p class=\"MsoNormal\"><strong><span style=\"font-size:16px;\"><br/></span></strong></p><p class=\"MsoNormal\"><strong><span style=\"font-size:16px;\">个人简介：</span></strong></p><p class=\"MsoNormal\"><span lang=\"EN-US\" style=\"font-size:21px;\"></span></p><p style=\"font-size:14px;margin-bottom:0in;\"><span style=\"font-family:新宋体;font-size:16px;\"><span style=\"font-family:宋体, simsun;\">中国科学技术大学毕业（</span><span style=\"font-family:宋体, simsun;\">85年学士</span><span style=\"font-family:宋体, simsun;\">\\88年硕士</span><span style=\"font-family:宋体, simsun;\">\\97年博士）</span><span style=\"font-family:宋体, simsun;\">,1988年起留校任教。</span></span><span style=\"font-size:16px;font-family:宋体, simsun;\">曾任日本东京大学工学部访问学者（</span><span style=\"font-size:16px;font-family:宋体, simsun;\">90</span><span style=\"font-size:16px;font-family:宋体, simsun;\">年</span><span style=\"font-size:16px;font-family:宋体, simsun;\">10</span><span style=\"font-size:16px;font-family:宋体, simsun;\">月</span><span style=\"font-size:16px;font-family:宋体, simsun;\">-91</span><span style=\"font-size:16px;font-family:宋体, simsun;\">年</span><span style=\"font-size:16px;font-family:宋体, simsun;\">3</span><span style=\"font-size:16px;font-family:宋体, simsun;\">月、</span><span style=\"font-size:16px;font-family:宋体, simsun;\">94</span><span style=\"font-size:16px;font-family:宋体, simsun;\">年</span><span style=\"font-size:16px;font-family:宋体, simsun;\">9</span><span style=\"font-size:16px;font-family:宋体, simsun;\">月</span><span style=\"font-size:16px;font-family:宋体, simsun;\">-12</span><span style=\"font-size:16px;font-family:宋体, simsun;\">月）</span><span style=\"font-size:16px;font-family:宋体, simsun;\">;</span><span style=\"font-size:16px;font-family:宋体, simsun;\">西班牙马德里自治大学访问学者（</span><span style=\"font-size:16px;font-family:宋体, simsun;\">94</span><span style=\"font-size:16px;font-family:宋体, simsun;\">年</span><span style=\"font-size:16px;font-family:宋体, simsun;\">1</span><span style=\"font-size:16px;font-family:宋体, simsun;\">月</span><span style=\"font-size:16px;font-family:宋体, simsun;\">-2</span><span style=\"font-size:16px;font-family:宋体, simsun;\">月）</span><span style=\"font-size:16px;font-family:宋体, simsun;\">;</span><span style=\"font-size:16px;font-family:宋体, simsun;\">日本学术振兴会研究员（</span><span style=\"font-size:16px;font-family:宋体, simsun;\">JSPS Fellow,97</span><span style=\"font-size:16px;font-family:宋体, simsun;\">年</span><span style=\"font-size:16px;font-family:宋体, simsun;\">6</span><span style=\"font-size:16px;font-family:宋体, simsun;\">月</span><span style=\"font-size:16px;font-family:宋体, simsun;\">-98</span><span style=\"font-size:16px;font-family:宋体, simsun;\">年</span><span style=\"font-size:16px;font-family:宋体, simsun;\">3</span><span style=\"font-size:16px;font-family:宋体, simsun;\">月）和日本国立机械技术研究所</span><span style=\"font-size:16px;font-family:宋体, simsun;\">NEDO</span><span style=\"font-size:16px;font-family:宋体, simsun;\">产业技术研究员（</span><span style=\"font-size:16px;font-family:宋体, simsun;\">98</span><span style=\"font-size:16px;font-family:宋体, simsun;\">年</span><span style=\"font-size:16px;font-family:宋体, simsun;\">4</span><span style=\"font-size:16px;font-family:宋体, simsun;\">月</span><span style=\"font-size:16px;font-family:宋体, simsun;\">-00</span><span style=\"font-size:16px;font-family:宋体, simsun;\">年</span><span style=\"font-size:16px;font-family:宋体, simsun;\">9</span><span style=\"font-size:16px;font-family:宋体, simsun;\">月）。</span></p><p style=\"font-size:14px;margin-top:0.05in;margin-bottom:0.05in;\"><span style=\"font-size:16px;font-family:宋体, simsun;\">2000</span><span style=\"font-size:16px;font-family:宋体, simsun;\">年回到中国科技大学担任教授</span><span style=\"font-size:16px;font-family:宋体, simsun;\">/</span><span style=\"font-size:16px;font-family:宋体, simsun;\">博士生导师。曾任精密机械与精密仪器系常务副主任、工程科学学院分党委书记、副院长；现任微系统技术科学研究中心主任，兼任中国科学技术大学超精密工程研究所所长、校学位委员会委员，中国科学院南京天文光学技术研究所兼职研究员</span><span style=\"font-size:16px;font-family:宋体, simsun;\">/</span><span style=\"font-size:16px;font-family:宋体, simsun;\">博士生导师。学术服务包括担任中国微米纳米技术学会理事、中国仪器仪表学会理事、精密机械学会副秘书长、安徽省仪器仪表学会常务副理事长，担任《传感技术学报》、《光学精密工程》和《中国科学技术大学学报》等期刊编委，并曾应邀担任《</span><span style=\"font-size:16px;font-family:宋体, simsun;\">J. Micromechanics and Micro-engineering</span><span style=\"font-size:16px;font-family:宋体, simsun;\">》 </span><span style=\"font-size:16px;font-family:宋体, simsun;\">guest editor</span><span style=\"font-size:16px;font-family:宋体, simsun;\">主编</span><span style=\"font-size:16px;font-family:宋体, simsun;\">IWMF</span><span style=\"font-size:16px;font-family:宋体, simsun;\">特辑。入选国家教育部“优秀青年教师资助计划”</span><span style=\"font-size:16px;font-family:宋体, simsun;\">,“</span><span style=\"font-size:16px;font-family:宋体, simsun;\">安徽省高校优秀共产党员”</span><span style=\"font-size:16px;font-family:宋体, simsun;\">,</span><span style=\"font-size:16px;font-family:宋体, simsun;\">中国电子学会优秀论文奖</span><span style=\"font-size:16px;font-family:宋体, simsun;\">,</span><span style=\"font-size:16px;font-family:宋体, simsun;\">享受国务院政府特殊津贴。</span></p><p class=\"MsoNormal\"><strong><span style=\"font-size:16px;\">研究方向：</span></strong><strong style=\"font-size:16px;\"><span style=\"font-family:宋体, simsun;\"> </span></strong></p><p style=\"font-size:14px;text-align:left;margin-top:0.05in;margin-bottom:0.05in;\"><span style=\"font-size:16px;text-indent:0.33in;font-family:宋体, simsun;\">微机电系统技术</span></p><p style=\"font-size:14px;text-align:left;margin-top:0.05in;margin-bottom:0.05in;\"><span style=\"font-size:16px;font-family:宋体, simsun;\">超精密测量</span></p><p style=\"font-size:14px;text-align:left;margin-bottom:0in;\"><span style=\"font-size:16px;font-family:宋体, simsun;\">超精密天文仪器</span></p><p class=\"MsoNormal\"><strong><span style=\"font-size:16px;\">学习经历：</span></strong><span style=\"font-size:16px;\"> </span></p><p class=\"MsoNormal\"><strong><span style=\"font-size:16px;\">工作经历：</span></strong></p><p class=\"MsoNormal\"><strong><span style=\"font-size:16px;\">学术任职：</span></strong></p><p style=\"margin:0cm;margin-bottom:0px;\"><strong><span style=\"font-size:16px;\">招生信息：</span></strong></p><p style=\"margin:0cm;margin-bottom:0px;\"><strong><span style=\"font-size:16px;\">发表文章：</span></strong></p><p style=\"margin-top:0.05in;margin-bottom:0.05in;\"><span style=\"font-family:宋体, simsun;font-size:16px;\">1、</span><span style=\"font-family:宋体, simsun;font-size:16px;\">Corrosion mechanism and surface passivation strategues of polycrystalline silicon electrodes.Sensors and Actuators A: Physical, 2010.</span><span style=\"font-family:calibri;\"></span><span style=\"font-family:calibri;\"></span><span style=\"font-family:宋体, simsun;font-size:16px;\"> </span></p><p style=\"margin-top:0.05in;margin-bottom:0.05in;\"><span style=\"font-family:宋体, simsun;font-size:16px;\">2、Fabrication of cantilever arrays with nano-aperture hollow tips for parallel microplasma etching.，</span><span style=\"font-family:宋体, simsun;font-size:16px;\">Microelectronic Engineering, 2010. 87(12): p. 2475-2481</span></p><p style=\"margin-top:0.05in;margin-bottom:0.05in;\"><span style=\"font-family:宋体, simsun;font-size:16px;\">3、Research on the resolution of micro stereo lithography，</span><span style=\"font-family:宋体, simsun;font-size:16px;\">Chinese Optics Letters, 2009. 7(8): p. 724-727.</span></p><p style=\"margin-top:0.05in;margin-bottom:0.05in;\"><span style=\"font-family:宋体, simsun;font-size:16px;\">4、Residual stress characterization of polycrystalline 3C-SiC films on Si(100) deposited from methylsilane, Journal of Applied Physics, v106, 2009, 013505.</span></p><p style=\"margin-top:0.05in;margin-bottom:0.05in;\"><span style=\"font-family:宋体, simsun;font-size:16px;\">5、Anodic Oxidation of Polycrystalline 3C-silicon Carbide Thin Films during MEMS Operation, J. Micromech.Microeng.v19, 2009,035024.</span></p><p style=\"margin-top:0.05in;margin-bottom:0.05in;\"><span style=\"font-family:宋体, simsun;font-size:16px;\">6、Integration of displacement sensor into bulk PZT thick film actuator for MEMS deformable mirror, Sensors and Actuators,A: Physical, v 147, n 1, Sep 15, 2008, p 242-247</span></p><p style=\"text-align:left;margin-top:0.05in;margin-bottom:0.05in;\"><span style=\"font-family:宋体, simsun;font-size:16px;\">7、Preparation of a high-quality PZT thick film with performance comparable to those of bulk materials for applications in MEMS, Journal of Micromechanics and Microengineering, v 18, n 6, Jun 1, 2008, p 065001</span></p><p style=\"text-align:left;margin-top:0.05in;margin-bottom:0.05in;\"><span style=\"font-family:宋体, simsun;font-size:16px;\">8、Influences of environmental humidity on micro object handling efficiency, Journal of Micromechanics and Microengineering,v 17, n 2, Feb 1, 2007, p 187-192</span></p><p style=\"text-align:left;margin-top:0.05in;margin-bottom:0.05in;\"><span style=\"font-family:宋体, simsun;font-size:16px;\">9、Design,fabrication and characterization of a bulk-PZT-actuated MEMS deformable mirror, Journal of Micromechanics and Microengineering, v 17, n 12, Dec 1, 2007, p 2439-2446</span></p><p style=\"text-align:left;margin-top:0.05in;margin-bottom:0.05in;\"><span style=\"font-family:宋体, simsun;font-size:16px;\">10、Microdevice assembling by adhesive type probe in humid environment, Review of Scientific Instruments, 76,085104, 2005.</span></p><p style=\"text-align:left;margin-top:0.05in;margin-bottom:0.05in;\"><span style=\"font-family:宋体, simsun;font-size:16px;\">11、A novel wet etching process for PZT thin film for application in MEMS, Jpn. J. Appl. Phys., Vol. 43, No. 6B, 2004</span></p><p style=\"text-align:left;margin-top:0.05in;margin-bottom:0.05in;\"><span style=\"font-family:宋体, simsun;font-size:16px;\">12、Design and Simulation of Microheater Actuated by A PZT Microcantilever for High Density Data Storage; Sensors and Actuators A108(2003), pp7-11;</span></p><p style=\"text-align:left;margin-top:0.05in;margin-bottom:0.05in;\"><span style=\"font-family:宋体, simsun;font-size:16px;\">13、Microstructure and electrical properties of PZT thick film prepared by electrostatic spray deposition; Sensors and Actuators A108(2003)，</span><span style=\"font-family:宋体, simsun;font-size:16px;\">pp2-6;</span></p><p style=\"text-align:left;margin-top:0.05in;margin-bottom:0.05in;\"><span style=\"font-family:宋体, simsun;font-size:16px;\">14、Effect of bottom electrodes on microstructures and electric properties of sol-gel derived Pb(Zr0.53,Ti0.47)O3 thin films, Thin Solid Films, 416(2002)，</span><span style=\"font-family:宋体, simsun;font-size:16px;\">pp66-67</span></p><p style=\"text-align:left;margin-top:0.05in;margin-bottom:0.05in;\"><span style=\"font-family:宋体, simsun;font-size:16px;\">15、ESD method for Thick PZT film preparation, Jpn. J. Appl. Phys., Vol. 41(2002), Pt.1, No.6B，</span><span style=\"font-family:宋体, simsun;font-size:16px;\">pp4317-4320</span></p><p style=\"text-align:left;margin-top:0.05in;margin-bottom:0.05in;\"><span style=\"font-family:宋体, simsun;font-size:16px;\">16、Novel multi-bridge structured piezoelectric micro-device for scanning force microscopy, J. Vac. Sci. Technol.B.18(6), pp. 3604-3607, Nov/Dec 2000</span></p><p><br/></p><p><br/></p></div>\n"
     ]
    }
   ],
   "source": [
    "content = soup.find('div',class_='wp_articlecontent')\n",
    "print(content)"
   ],
   "metadata": {
    "collapsed": false,
    "ExecuteTime": {
     "end_time": "2024-04-23T13:33:41.036263Z",
     "start_time": "2024-04-23T13:33:41.018417Z"
    }
   },
   "id": "1ccb468c5610732b",
   "execution_count": 15
  },
  {
   "cell_type": "code",
   "outputs": [],
   "source": [
    "up_contents = content.find_all('p',style = 'font-size:14px;line-height:1.5em;')"
   ],
   "metadata": {
    "collapsed": false,
    "ExecuteTime": {
     "end_time": "2024-04-23T13:34:39.578096Z",
     "start_time": "2024-04-23T13:34:39.571829Z"
    }
   },
   "id": "e7ca210a438bd3a2",
   "execution_count": 19
  },
  {
   "cell_type": "code",
   "outputs": [],
   "source": [
    "def merge_dicts_with_list_values(dict_list):\n",
    "    all_keys = set(key for d in dict_list for key in d.keys())\n",
    "\n",
    "    # 初始化最终的字典，每个键对应一个空列表\n",
    "    merged_dict = {key: [] for key in all_keys}\n",
    "\n",
    "    # 遍历每个字典和所有键\n",
    "    for key in all_keys:\n",
    "        for d in dict_list:\n",
    "            # 如果当前字典有这个键，则添加它的值；否则，添加一个空值\n",
    "            merged_dict[key].append(d.get(key, None))  # 用None作为空值，也可以用\"\"或其他\n",
    "\n",
    "    return merged_dict"
   ],
   "metadata": {
    "collapsed": false,
    "ExecuteTime": {
     "end_time": "2024-04-23T13:40:57.506298Z",
     "start_time": "2024-04-23T13:40:57.487737Z"
    }
   },
   "id": "c92955e888a54730",
   "execution_count": 23
  },
  {
   "cell_type": "code",
   "outputs": [
    {
     "name": "stdout",
     "output_type": "stream",
     "text": [
      "办公电话：0551-3607504，3602544\n",
      "+++++++\n",
      "传真：0551-3600550\n",
      "+++++++\n",
      "邮箱: jrchu@ustc.edu.cn\n",
      "+++++++\n",
      "实验室主页：http://mane.ustc.edu.cn/\n",
      "+++++++\n"
     ]
    }
   ],
   "source": [
    "for up_content in up_contents:\n",
    "    print(up_content.get_text())\n",
    "    print('+++++++')\n",
    "# print(up_content)"
   ],
   "metadata": {
    "collapsed": false,
    "ExecuteTime": {
     "end_time": "2024-04-23T13:35:13.162951Z",
     "start_time": "2024-04-23T13:35:13.155180Z"
    }
   },
   "id": "53065a1054725369",
   "execution_count": 22
  },
  {
   "cell_type": "code",
   "outputs": [],
   "source": [],
   "metadata": {
    "collapsed": false
   },
   "id": "ec2bc2f9d66681f0"
  }
 ],
 "metadata": {
  "kernelspec": {
   "display_name": "Python 3",
   "language": "python",
   "name": "python3"
  },
  "language_info": {
   "codemirror_mode": {
    "name": "ipython",
    "version": 2
   },
   "file_extension": ".py",
   "mimetype": "text/x-python",
   "name": "python",
   "nbconvert_exporter": "python",
   "pygments_lexer": "ipython2",
   "version": "2.7.6"
  }
 },
 "nbformat": 4,
 "nbformat_minor": 5
}
