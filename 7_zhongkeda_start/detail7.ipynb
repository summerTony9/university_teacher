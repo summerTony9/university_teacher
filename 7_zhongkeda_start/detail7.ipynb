{
 "cells": [
  {
   "cell_type": "code",
   "execution_count": 1,
   "id": "initial_id",
   "metadata": {
    "collapsed": true,
    "ExecuteTime": {
     "end_time": "2024-04-25T13:53:18.714231Z",
     "start_time": "2024-04-25T13:53:18.209633Z"
    }
   },
   "outputs": [],
   "source": [
    "import pandas as pd\n",
    "import requests\n",
    "from bs4 import BeautifulSoup"
   ]
  },
  {
   "cell_type": "code",
   "outputs": [],
   "source": [
    "info_pd = pd.read_csv('info.csv')"
   ],
   "metadata": {
    "collapsed": false,
    "ExecuteTime": {
     "end_time": "2024-04-25T13:53:19.576057Z",
     "start_time": "2024-04-25T13:53:19.555489Z"
    }
   },
   "id": "8cf50070631b878a",
   "execution_count": 2
  },
  {
   "cell_type": "code",
   "outputs": [
    {
     "name": "stdout",
     "output_type": "stream",
     "text": [
      "     姓名      职称     资格                                                url  \\\n",
      "0   褚家如      教授  博士生导师  https://pmpi.ustc.edu.cn//2020/0304/c19780a414...   \n",
      "1   陈向军      教授  博士生导师  https://pmpi.ustc.edu.cn//2020/0307/c19780a414...   \n",
      "2    陈杨      教授  博士生导师  https://pmpi.ustc.edu.cn//2022/0415/c19780a552...   \n",
      "3   付绍军      教授  博士生导师  https://pmpi.ustc.edu.cn//2020/0307/c19780a414...   \n",
      "4   冯志华      教授  博士生导师  https://pmpi.ustc.edu.cn//2020/0304/c19780a414...   \n",
      "..  ...     ...    ...                                                ...   \n",
      "61  张亚超     博士后    NaN  https://pmpi.ustc.edu.cn//2021/0408/c19786a479...   \n",
      "62   高纬     博士后    NaN  https://pmpi.ustc.edu.cn//2021/0408/c19786a479...   \n",
      "63  刘炳瑞     博士后    NaN  https://pmpi.ustc.edu.cn//2021/0408/c19786a479...   \n",
      "64   杨浩     博士后    NaN  https://pmpi.ustc.edu.cn//2021/0408/c19786a479...   \n",
      "65   刘鹏  博士后研究员    NaN  https://pmpi.ustc.edu.cn//2021/0408/c19786a479...   \n",
      "\n",
      "                                                 研究方向  \n",
      "0                               微机电系统技术 超精密测量 超精密天文仪器  \n",
      "1   电子碰撞谱学和扫描探针电子能谱学 电子碰撞谱学和扫描探针电子能谱学，开展电子与气相原子分子碰...  \n",
      "2                                 微纳光学 微纳光电器件 超材料与超表面  \n",
      "3   短波光学、微光学技术和超微细加工技术研究 软X射线和真空紫外波段的衍射元件研究 无衬底自支撑...  \n",
      "4                                           精密传感与致动    \n",
      "..                                                ...  \n",
      "61                                                     \n",
      "62                                                     \n",
      "63                                                     \n",
      "64                                                     \n",
      "65                                                     \n",
      "\n",
      "[66 rows x 5 columns]\n"
     ]
    }
   ],
   "source": [
    "print(info_pd)"
   ],
   "metadata": {
    "collapsed": false,
    "ExecuteTime": {
     "end_time": "2024-04-25T13:53:20.226219Z",
     "start_time": "2024-04-25T13:53:20.209885Z"
    }
   },
   "id": "9dbcb5ebb66ed644",
   "execution_count": 3
  },
  {
   "cell_type": "code",
   "outputs": [],
   "source": [
    "url = info_pd.iloc[0]['url']\n",
    "response = requests.get(url)\n",
    "soup = BeautifulSoup(response.content,'html.parser')\n",
    "content = soup.find('div',class_='wp_articlecontent')"
   ],
   "metadata": {
    "collapsed": false,
    "ExecuteTime": {
     "end_time": "2024-04-25T13:53:22.501856Z",
     "start_time": "2024-04-25T13:53:22.113862Z"
    }
   },
   "id": "8a869b02abce06c5",
   "execution_count": 4
  },
  {
   "cell_type": "code",
   "outputs": [
    {
     "name": "stdout",
     "output_type": "stream",
     "text": [
      "<div class=\"wp_articlecontent\"><p style=\"line-height:1.5em;\"><img border=\"0\" height=\"172\" hspace=\"0\" src=\"/_upload/article/images/a1/98/c5443b35472e9a442fcf4fd10426/9c1a0255-f92a-4d9f-b634-2d7643738337.png\" style=\"float:left;width:149px;height:172px;padding-right:10px;\" vspace=\"0\" width=\"149\"/><span style=\"line-height:1.5em;font-size:16px;\">褚家如 教授 博士生导师</span></p><p style=\"line-height:1.5em;\"><span style=\"line-height:1.5em;font-size:16px;\"></span></p><p style=\"font-size:14px;line-height:1.5em;\"><span style=\"line-height:1.5em;font-size:16px;\"><span style=\"line-height:1.5em;\"><span style=\"line-height:1.5em;font-family:宋体, serif;\"><span style=\"line-height:1.5em;font-family:宋体;\">办公电话：</span><span style=\"line-height:1.5em;\">0551-3607504</span><span style=\"line-height:1.5em;font-family:宋体;\">，</span><span style=\"line-height:1.5em;\">3602544</span></span></span></span></p><p style=\"font-size:14px;line-height:1.5em;\"><span style=\"line-height:1.5em;font-size:16px;\"><span style=\"line-height:1.5em;\"><span style=\"line-height:1.5em;font-family:宋体, serif;\"><span style=\"line-height:1.5em;\"><span style=\"line-height:1.5em;font-family:宋体;\">传真：</span><span style=\"line-height:1.5em;\">0551-3600550</span></span></span></span></span></p><p style=\"font-size:14px;line-height:1.5em;\"><span style=\"line-height:1.5em;font-size:16px;\"><span style=\"line-height:1.5em;\"><span style=\"line-height:1.5em;font-family:宋体, serif;\"><span style=\"line-height:1.5em;\"><span style=\"line-height:1.5em;\"><span style=\"line-height:1.5em;\"><span style=\"line-height:1.5em;\"><span style=\"line-height:1.5em;\">邮箱: jrchu@ustc.edu.cn</span></span></span></span></span></span></span></span></p><p style=\"font-size:14px;line-height:1.5em;\"><span style=\"line-height:1.5em;font-size:16px;\"><span style=\"line-height:1.5em;\"><span style=\"line-height:1.5em;font-family:宋体, serif;\"><span style=\"line-height:1.5em;\"><span style=\"line-height:1.5em;\"><span style=\"line-height:1.5em;\"><span style=\"line-height:1.5em;\"><span style=\"line-height:1.5em;\"><span style=\"font-size:16px;line-height:1.5em;\">实验室主页：</span><span style=\"font-family:宋体, serif;font-size:16px;color:#0000ff;line-height:1.5em;\"><span style=\"line-height:1.5em;\"><a href=\"http://mane.ustc.edu.cn/\" style=\"font-family:宋体, serif;font-size:16px;\">http://mane.ustc.edu.cn/</a></span></span></span></span></span></span></span></span></span></span></p><p class=\"MsoNormal\"><strong><span style=\"font-size:16px;\"><br/></span></strong></p><p class=\"MsoNormal\"><strong><span style=\"font-size:16px;\">个人简介：</span></strong></p><p class=\"MsoNormal\"><span lang=\"EN-US\" style=\"font-size:21px;\"></span></p><p style=\"font-size:14px;margin-bottom:0in;\"><span style=\"font-family:新宋体;font-size:16px;\"><span style=\"font-family:宋体, simsun;\">中国科学技术大学毕业（</span><span style=\"font-family:宋体, simsun;\">85年学士</span><span style=\"font-family:宋体, simsun;\">\\88年硕士</span><span style=\"font-family:宋体, simsun;\">\\97年博士）</span><span style=\"font-family:宋体, simsun;\">,1988年起留校任教。</span></span><span style=\"font-size:16px;font-family:宋体, simsun;\">曾任日本东京大学工学部访问学者（</span><span style=\"font-size:16px;font-family:宋体, simsun;\">90</span><span style=\"font-size:16px;font-family:宋体, simsun;\">年</span><span style=\"font-size:16px;font-family:宋体, simsun;\">10</span><span style=\"font-size:16px;font-family:宋体, simsun;\">月</span><span style=\"font-size:16px;font-family:宋体, simsun;\">-91</span><span style=\"font-size:16px;font-family:宋体, simsun;\">年</span><span style=\"font-size:16px;font-family:宋体, simsun;\">3</span><span style=\"font-size:16px;font-family:宋体, simsun;\">月、</span><span style=\"font-size:16px;font-family:宋体, simsun;\">94</span><span style=\"font-size:16px;font-family:宋体, simsun;\">年</span><span style=\"font-size:16px;font-family:宋体, simsun;\">9</span><span style=\"font-size:16px;font-family:宋体, simsun;\">月</span><span style=\"font-size:16px;font-family:宋体, simsun;\">-12</span><span style=\"font-size:16px;font-family:宋体, simsun;\">月）</span><span style=\"font-size:16px;font-family:宋体, simsun;\">;</span><span style=\"font-size:16px;font-family:宋体, simsun;\">西班牙马德里自治大学访问学者（</span><span style=\"font-size:16px;font-family:宋体, simsun;\">94</span><span style=\"font-size:16px;font-family:宋体, simsun;\">年</span><span style=\"font-size:16px;font-family:宋体, simsun;\">1</span><span style=\"font-size:16px;font-family:宋体, simsun;\">月</span><span style=\"font-size:16px;font-family:宋体, simsun;\">-2</span><span style=\"font-size:16px;font-family:宋体, simsun;\">月）</span><span style=\"font-size:16px;font-family:宋体, simsun;\">;</span><span style=\"font-size:16px;font-family:宋体, simsun;\">日本学术振兴会研究员（</span><span style=\"font-size:16px;font-family:宋体, simsun;\">JSPS Fellow,97</span><span style=\"font-size:16px;font-family:宋体, simsun;\">年</span><span style=\"font-size:16px;font-family:宋体, simsun;\">6</span><span style=\"font-size:16px;font-family:宋体, simsun;\">月</span><span style=\"font-size:16px;font-family:宋体, simsun;\">-98</span><span style=\"font-size:16px;font-family:宋体, simsun;\">年</span><span style=\"font-size:16px;font-family:宋体, simsun;\">3</span><span style=\"font-size:16px;font-family:宋体, simsun;\">月）和日本国立机械技术研究所</span><span style=\"font-size:16px;font-family:宋体, simsun;\">NEDO</span><span style=\"font-size:16px;font-family:宋体, simsun;\">产业技术研究员（</span><span style=\"font-size:16px;font-family:宋体, simsun;\">98</span><span style=\"font-size:16px;font-family:宋体, simsun;\">年</span><span style=\"font-size:16px;font-family:宋体, simsun;\">4</span><span style=\"font-size:16px;font-family:宋体, simsun;\">月</span><span style=\"font-size:16px;font-family:宋体, simsun;\">-00</span><span style=\"font-size:16px;font-family:宋体, simsun;\">年</span><span style=\"font-size:16px;font-family:宋体, simsun;\">9</span><span style=\"font-size:16px;font-family:宋体, simsun;\">月）。</span></p><p style=\"font-size:14px;margin-top:0.05in;margin-bottom:0.05in;\"><span style=\"font-size:16px;font-family:宋体, simsun;\">2000</span><span style=\"font-size:16px;font-family:宋体, simsun;\">年回到中国科技大学担任教授</span><span style=\"font-size:16px;font-family:宋体, simsun;\">/</span><span style=\"font-size:16px;font-family:宋体, simsun;\">博士生导师。曾任精密机械与精密仪器系常务副主任、工程科学学院分党委书记、副院长；现任微系统技术科学研究中心主任，兼任中国科学技术大学超精密工程研究所所长、校学位委员会委员，中国科学院南京天文光学技术研究所兼职研究员</span><span style=\"font-size:16px;font-family:宋体, simsun;\">/</span><span style=\"font-size:16px;font-family:宋体, simsun;\">博士生导师。学术服务包括担任中国微米纳米技术学会理事、中国仪器仪表学会理事、精密机械学会副秘书长、安徽省仪器仪表学会常务副理事长，担任《传感技术学报》、《光学精密工程》和《中国科学技术大学学报》等期刊编委，并曾应邀担任《</span><span style=\"font-size:16px;font-family:宋体, simsun;\">J. Micromechanics and Micro-engineering</span><span style=\"font-size:16px;font-family:宋体, simsun;\">》 </span><span style=\"font-size:16px;font-family:宋体, simsun;\">guest editor</span><span style=\"font-size:16px;font-family:宋体, simsun;\">主编</span><span style=\"font-size:16px;font-family:宋体, simsun;\">IWMF</span><span style=\"font-size:16px;font-family:宋体, simsun;\">特辑。入选国家教育部“优秀青年教师资助计划”</span><span style=\"font-size:16px;font-family:宋体, simsun;\">,“</span><span style=\"font-size:16px;font-family:宋体, simsun;\">安徽省高校优秀共产党员”</span><span style=\"font-size:16px;font-family:宋体, simsun;\">,</span><span style=\"font-size:16px;font-family:宋体, simsun;\">中国电子学会优秀论文奖</span><span style=\"font-size:16px;font-family:宋体, simsun;\">,</span><span style=\"font-size:16px;font-family:宋体, simsun;\">享受国务院政府特殊津贴。</span></p><p class=\"MsoNormal\"><strong><span style=\"font-size:16px;\">研究方向：</span></strong><strong style=\"font-size:16px;\"><span style=\"font-family:宋体, simsun;\"> </span></strong></p><p style=\"font-size:14px;text-align:left;margin-top:0.05in;margin-bottom:0.05in;\"><span style=\"font-size:16px;text-indent:0.33in;font-family:宋体, simsun;\">微机电系统技术</span></p><p style=\"font-size:14px;text-align:left;margin-top:0.05in;margin-bottom:0.05in;\"><span style=\"font-size:16px;font-family:宋体, simsun;\">超精密测量</span></p><p style=\"font-size:14px;text-align:left;margin-bottom:0in;\"><span style=\"font-size:16px;font-family:宋体, simsun;\">超精密天文仪器</span></p><p class=\"MsoNormal\"><strong><span style=\"font-size:16px;\">学习经历：</span></strong><span style=\"font-size:16px;\"> </span></p><p class=\"MsoNormal\"><strong><span style=\"font-size:16px;\">工作经历：</span></strong></p><p class=\"MsoNormal\"><strong><span style=\"font-size:16px;\">学术任职：</span></strong></p><p style=\"margin:0cm;margin-bottom:0px;\"><strong><span style=\"font-size:16px;\">招生信息：</span></strong></p><p style=\"margin:0cm;margin-bottom:0px;\"><strong><span style=\"font-size:16px;\">发表文章：</span></strong></p><p style=\"margin-top:0.05in;margin-bottom:0.05in;\"><span style=\"font-family:宋体, simsun;font-size:16px;\">1、</span><span style=\"font-family:宋体, simsun;font-size:16px;\">Corrosion mechanism and surface passivation strategues of polycrystalline silicon electrodes.Sensors and Actuators A: Physical, 2010.</span><span style=\"font-family:calibri;\"></span><span style=\"font-family:calibri;\"></span><span style=\"font-family:宋体, simsun;font-size:16px;\"> </span></p><p style=\"margin-top:0.05in;margin-bottom:0.05in;\"><span style=\"font-family:宋体, simsun;font-size:16px;\">2、Fabrication of cantilever arrays with nano-aperture hollow tips for parallel microplasma etching.，</span><span style=\"font-family:宋体, simsun;font-size:16px;\">Microelectronic Engineering, 2010. 87(12): p. 2475-2481</span></p><p style=\"margin-top:0.05in;margin-bottom:0.05in;\"><span style=\"font-family:宋体, simsun;font-size:16px;\">3、Research on the resolution of micro stereo lithography，</span><span style=\"font-family:宋体, simsun;font-size:16px;\">Chinese Optics Letters, 2009. 7(8): p. 724-727.</span></p><p style=\"margin-top:0.05in;margin-bottom:0.05in;\"><span style=\"font-family:宋体, simsun;font-size:16px;\">4、Residual stress characterization of polycrystalline 3C-SiC films on Si(100) deposited from methylsilane, Journal of Applied Physics, v106, 2009, 013505.</span></p><p style=\"margin-top:0.05in;margin-bottom:0.05in;\"><span style=\"font-family:宋体, simsun;font-size:16px;\">5、Anodic Oxidation of Polycrystalline 3C-silicon Carbide Thin Films during MEMS Operation, J. Micromech.Microeng.v19, 2009,035024.</span></p><p style=\"margin-top:0.05in;margin-bottom:0.05in;\"><span style=\"font-family:宋体, simsun;font-size:16px;\">6、Integration of displacement sensor into bulk PZT thick film actuator for MEMS deformable mirror, Sensors and Actuators,A: Physical, v 147, n 1, Sep 15, 2008, p 242-247</span></p><p style=\"text-align:left;margin-top:0.05in;margin-bottom:0.05in;\"><span style=\"font-family:宋体, simsun;font-size:16px;\">7、Preparation of a high-quality PZT thick film with performance comparable to those of bulk materials for applications in MEMS, Journal of Micromechanics and Microengineering, v 18, n 6, Jun 1, 2008, p 065001</span></p><p style=\"text-align:left;margin-top:0.05in;margin-bottom:0.05in;\"><span style=\"font-family:宋体, simsun;font-size:16px;\">8、Influences of environmental humidity on micro object handling efficiency, Journal of Micromechanics and Microengineering,v 17, n 2, Feb 1, 2007, p 187-192</span></p><p style=\"text-align:left;margin-top:0.05in;margin-bottom:0.05in;\"><span style=\"font-family:宋体, simsun;font-size:16px;\">9、Design,fabrication and characterization of a bulk-PZT-actuated MEMS deformable mirror, Journal of Micromechanics and Microengineering, v 17, n 12, Dec 1, 2007, p 2439-2446</span></p><p style=\"text-align:left;margin-top:0.05in;margin-bottom:0.05in;\"><span style=\"font-family:宋体, simsun;font-size:16px;\">10、Microdevice assembling by adhesive type probe in humid environment, Review of Scientific Instruments, 76,085104, 2005.</span></p><p style=\"text-align:left;margin-top:0.05in;margin-bottom:0.05in;\"><span style=\"font-family:宋体, simsun;font-size:16px;\">11、A novel wet etching process for PZT thin film for application in MEMS, Jpn. J. Appl. Phys., Vol. 43, No. 6B, 2004</span></p><p style=\"text-align:left;margin-top:0.05in;margin-bottom:0.05in;\"><span style=\"font-family:宋体, simsun;font-size:16px;\">12、Design and Simulation of Microheater Actuated by A PZT Microcantilever for High Density Data Storage; Sensors and Actuators A108(2003), pp7-11;</span></p><p style=\"text-align:left;margin-top:0.05in;margin-bottom:0.05in;\"><span style=\"font-family:宋体, simsun;font-size:16px;\">13、Microstructure and electrical properties of PZT thick film prepared by electrostatic spray deposition; Sensors and Actuators A108(2003)，</span><span style=\"font-family:宋体, simsun;font-size:16px;\">pp2-6;</span></p><p style=\"text-align:left;margin-top:0.05in;margin-bottom:0.05in;\"><span style=\"font-family:宋体, simsun;font-size:16px;\">14、Effect of bottom electrodes on microstructures and electric properties of sol-gel derived Pb(Zr0.53,Ti0.47)O3 thin films, Thin Solid Films, 416(2002)，</span><span style=\"font-family:宋体, simsun;font-size:16px;\">pp66-67</span></p><p style=\"text-align:left;margin-top:0.05in;margin-bottom:0.05in;\"><span style=\"font-family:宋体, simsun;font-size:16px;\">15、ESD method for Thick PZT film preparation, Jpn. J. Appl. Phys., Vol. 41(2002), Pt.1, No.6B，</span><span style=\"font-family:宋体, simsun;font-size:16px;\">pp4317-4320</span></p><p style=\"text-align:left;margin-top:0.05in;margin-bottom:0.05in;\"><span style=\"font-family:宋体, simsun;font-size:16px;\">16、Novel multi-bridge structured piezoelectric micro-device for scanning force microscopy, J. Vac. Sci. Technol.B.18(6), pp. 3604-3607, Nov/Dec 2000</span></p><p><br/></p><p><br/></p></div>\n"
     ]
    }
   ],
   "source": [
    "\n",
    "print(content)"
   ],
   "metadata": {
    "collapsed": false,
    "ExecuteTime": {
     "end_time": "2024-04-25T13:53:23.729710Z",
     "start_time": "2024-04-25T13:53:23.717728Z"
    }
   },
   "id": "1ccb468c5610732b",
   "execution_count": 5
  },
  {
   "cell_type": "code",
   "outputs": [],
   "source": [],
   "metadata": {
    "collapsed": false,
    "ExecuteTime": {
     "end_time": "2024-04-23T13:34:39.578096Z",
     "start_time": "2024-04-23T13:34:39.571829Z"
    }
   },
   "id": "e7ca210a438bd3a2",
   "execution_count": 19
  },
  {
   "cell_type": "code",
   "outputs": [],
   "source": [
    "def merge_dicts_with_list_values(dict_list):\n",
    "    all_keys = set(key for d in dict_list for key in d.keys())\n",
    "\n",
    "    # 初始化最终的字典，每个键对应一个空列表\n",
    "    merged_dict = {key: [] for key in all_keys}\n",
    "\n",
    "    # 遍历每个字典和所有键\n",
    "    for key in all_keys:\n",
    "        for d in dict_list:\n",
    "            # 如果当前字典有这个键，则添加它的值；否则，添加一个空值\n",
    "            merged_dict[key].append(d.get(key, None))  # 用None作为空值，也可以用\"\"或其他\n",
    "\n",
    "    return merged_dict"
   ],
   "metadata": {
    "collapsed": false,
    "ExecuteTime": {
     "end_time": "2024-04-23T13:40:57.506298Z",
     "start_time": "2024-04-23T13:40:57.487737Z"
    }
   },
   "id": "c92955e888a54730",
   "execution_count": 23
  },
  {
   "cell_type": "code",
   "outputs": [],
   "source": [
    "keys_target_list = ['电话','邮箱']\n",
    "def split_values(line_up):\n",
    "    line_up = line_up.get_text()\n",
    "    if '：' in line_up:\n",
    "        [key,value] = line_up.split('：')\n",
    "    elif ':' in line_up:\n",
    "        [key,value] = line_up.split(':')\n",
    "    for target_key in keys_target_list:\n",
    "        if target_key in key:\n",
    "            key = target_key\n",
    "    return [key,value]"
   ],
   "metadata": {
    "collapsed": false,
    "ExecuteTime": {
     "end_time": "2024-04-23T13:46:57.214607Z",
     "start_time": "2024-04-23T13:46:57.194620Z"
    }
   },
   "id": "629f0cd0e1d4e9e9",
   "execution_count": 26
  },
  {
   "cell_type": "code",
   "outputs": [
    {
     "name": "stdout",
     "output_type": "stream",
     "text": [
      "办公电话：0551-3607504，3602544\n",
      "传真：0551-3600550\n",
      "邮箱: jrchu@ustc.edu.cn\n",
      "实验室主页：http://mane.ustc.edu.cn/\n"
     ]
    }
   ],
   "source": [
    "detail_dict = {}\n",
    "up_contents = content.find_all('p',style = 'font-size:14px;line-height:1.5em;')\n",
    "for up_content in up_contents:\n",
    "    print(up_content.get_text())\n",
    "    [key, value] = split_values(up_content)\n",
    "    detail_dict[key] = value\n",
    "    \n",
    "# print(up_content)"
   ],
   "metadata": {
    "collapsed": false,
    "ExecuteTime": {
     "end_time": "2024-04-23T13:53:40.273131Z",
     "start_time": "2024-04-23T13:53:40.265952Z"
    }
   },
   "id": "53065a1054725369",
   "execution_count": 28
  },
  {
   "cell_type": "code",
   "outputs": [
    {
     "name": "stdout",
     "output_type": "stream",
     "text": [
      "{'电话': '0551-3607504，3602544', '传真': '0551-3600550', '邮箱': ' jrchu@ustc.edu.cn', '实验室主页': 'http://mane.ustc.edu.cn/'}\n"
     ]
    }
   ],
   "source": [
    "print(detail_dict)"
   ],
   "metadata": {
    "collapsed": false,
    "ExecuteTime": {
     "end_time": "2024-04-23T13:53:45.776661Z",
     "start_time": "2024-04-23T13:53:45.762905Z"
    }
   },
   "id": "ec2bc2f9d66681f0",
   "execution_count": 29
  },
  {
   "cell_type": "code",
   "outputs": [
    {
     "name": "stdout",
     "output_type": "stream",
     "text": [
      "17\n",
      "https://pmpi.ustc.edu.cn//2020/0308/c19781a414205/page.htm\n"
     ]
    }
   ],
   "source": [
    "detail_list = []\n",
    "for i in range(0, 44):\n",
    "    detail = ''\n",
    "    url = info_pd.iloc[i]['url']\n",
    "    try:\n",
    "        response = requests.get(url)\n",
    "        soup = BeautifulSoup(response.content,'html.parser')\n",
    "        content = soup.find('div',class_='wp_articlecontent')\n",
    "        # detail_dict = {}\n",
    "        for detail_content in content:\n",
    "            detail += detail_content.get_text()\n",
    "    except Exception as e:\n",
    "        print(i)\n",
    "        print(url)\n",
    "    detail_list.append(pd.DataFrame({\n",
    "        '姓名':[info_pd.iloc[i]['姓名']],\n",
    "        '详细信息':detail\n",
    "    }))\n",
    "    # print(detail)\n",
    "    # for up_content in up_contents:\n",
    "    #     print(up_content.get_text())\n",
    "    #     [key, value] = split_values(up_content)\n",
    "    #     detail_dict[key] = value\n",
    "    # detail_list.append(detail_dict)"
   ],
   "metadata": {
    "collapsed": false,
    "ExecuteTime": {
     "end_time": "2024-04-25T13:54:16.926478Z",
     "start_time": "2024-04-25T13:54:00.957927Z"
    }
   },
   "id": "ab541987d9ae5b84",
   "execution_count": 6
  },
  {
   "cell_type": "code",
   "outputs": [],
   "source": [
    "detail_df = pd.concat(detail_list,ignore_index=True)\n",
    "detail_df = info_pd.merge(detail_df,on='姓名',how='left')"
   ],
   "metadata": {
    "collapsed": false,
    "ExecuteTime": {
     "end_time": "2024-04-25T13:58:37.419628Z",
     "start_time": "2024-04-25T13:58:37.399848Z"
    }
   },
   "id": "924f9289a245e4c5",
   "execution_count": 12
  },
  {
   "cell_type": "code",
   "outputs": [],
   "source": [
    "# print(detail_list)\n",
    "# detail_df = pd.concat(detail_list,ignore_index=True)\n",
    "# detail_df.to_csv('detail.csv',encoding= 'utf-8-sig', index=False)\n",
    "# response = requests.get(url)\n",
    "detail_df.to_excel('detail.xlsx',index=False)"
   ],
   "metadata": {
    "collapsed": false,
    "ExecuteTime": {
     "end_time": "2024-04-25T13:58:56.769534Z",
     "start_time": "2024-04-25T13:58:56.721208Z"
    }
   },
   "id": "55070b5983cf193c",
   "execution_count": 13
  },
  {
   "cell_type": "code",
   "outputs": [],
   "source": [],
   "metadata": {
    "collapsed": false
   },
   "id": "81edff19f2848e3f"
  },
  {
   "cell_type": "code",
   "outputs": [
    {
     "name": "stdout",
     "output_type": "stream",
     "text": [
      "<!DOCTYPE html>\n",
      "\n",
      "<html>\n",
      "<head>\n",
      "<meta charset=\"utf-8\"/>\n",
      "<meta content=\"webkit\" name=\"renderer\">\n",
      "<meta content=\"IE=edge,chrome=1\" http-equiv=\"X-UA-Compatible\"/>\n",
      "<meta content=\"width=1000\" name=\"viewport\">\n",
      "<title>付绍军</title>\n",
      "<meta content=\"中国科学技术大学\" name=\"keywords\"/>\n",
      "<meta content=\"精密机械与精密仪器系\" name=\"description\"/>\n",
      "<meta content=\"width=1000\" name=\"viewport\">\n",
      "<meta content=\"IE=edge,chrome=1\" http-equiv=\"X-UA-Compatible\"/>\n",
      "<meta content=\"付绍军 教授 博士生导师办公电话：邮箱：个人简介：1977年中国科技大学物理系毕业，同时留校从事教学和科研工作。1984年初从物理系调入国家同步辐射实验室，1998年被聘为教授级高级工程师，2000年担任博士生导师。现任国家同步辐射实验室学术委员会委员，中国科技大学光子技术研究所副所长，《光电子技术与信息》和《光学精密工程》杂志编委。1989年起负责建设同步辐射光学实验室，在短波光学、微光学技术和超微细加工技术研究方面取得了一系列成果。率先在国内组织开展了软X射线和真空紫外波\" name=\"description\">\n",
      "<link href=\"/_css/_system/system.css\" rel=\"stylesheet\" type=\"text/css\"/>\n",
      "<link href=\"/_upload/site/1/style/1/1.css\" rel=\"stylesheet\" type=\"text/css\"/>\n",
      "<link href=\"/_upload/site/01/93/403/style/434/434.css\" rel=\"stylesheet\" type=\"text/css\"/>\n",
      "<link href=\"/_js/_portletPlugs/sudyNavi/css/sudyNav.css\" rel=\"stylesheet\" type=\"text/css\"/>\n",
      "<link href=\"/_js/_portletPlugs/datepicker/css/datepicker.css\" rel=\"stylesheet\" type=\"text/css\"/>\n",
      "<link href=\"/_js/_portletPlugs/simpleNews/css/simplenews.css\" rel=\"stylesheet\" type=\"text/css\"/>\n",
      "<script language=\"javascript\" src=\"/_js/jquery.min.js\" sudy-wp-context=\"\" sudy-wp-siteid=\"403\"></script>\n",
      "<script language=\"javascript\" src=\"/_js/jquery.sudy.wp.visitcount.js\"></script>\n",
      "<script src=\"/_js/_portletPlugs/sudyNavi/jquery.sudyNav.js\" type=\"text/javascript\"></script>\n",
      "<script src=\"/_js/_portletPlugs/wp_photos/layer/layer.min.js\" type=\"text/javascript\"></script>\n",
      "<script src=\"/_js/_portletPlugs/datepicker/js/jquery.datepicker.js\" type=\"text/javascript\"></script>\n",
      "<script src=\"/_js/_portletPlugs/datepicker/js/datepicker_lang_HK.js\" type=\"text/javascript\"></script>\n",
      "<link href=\"/_upload/tpl/06/40/1600/template1600/favicon.ico\" rel=\"shortcut icon\" type=\"image/x-icon\"/>\n",
      "<script src=\"/_upload/tpl/06/40/1600/template1600/extends/extends.js\" type=\"text/javascript\"></script>\n",
      "<link href=\"/_upload/tpl/06/40/1600/template1600/style.css\" rel=\"stylesheet\" type=\"text/css\"/>\n",
      "<!--[if lt IE 9]>\r\n",
      "\t<script src=\"/_upload/tpl/06/40/1600/template1600/extends/libs/html5.js\"></script>\r\n",
      "<![endif]-->\n",
      "</meta></meta></meta></meta></head>\n",
      "<body class=\"list\">\n",
      "<!--Start||head-->\n",
      "<div class=\"wrapper header\" id=\"header\">\n",
      "<div class=\"inner\">\n",
      "<div class=\"mod clearfix\">\n",
      "<div class=\"head-left\" frag=\"面板01\">\n",
      "<!--logo开始-->\n",
      "<div class=\"sitelogo\" frag=\"窗口01\" portletmode=\"simpleSiteAttri\">\n",
      "<a href=\"/main.htm\" title=\"返回精密机械与精密仪器系首页\"><img src=\"/_upload/tpl/06/40/1600/template1600/images/logo.png\"/></a>\n",
      "</div>\n",
      "<!--//logo结束-->\n",
      "</div>\n",
      "</div>\n",
      "<!--Start||nav-->\n",
      "<div class=\"nav wp-navi\" id=\"nav\">\n",
      "<div class=\"inner clearfix\">\n",
      "<div class=\"searchbox\" frag=\"窗口03\" portletmode=\"search\">\n",
      "<form action=\"/_web/_search/api/search/new.rst?locale=zh_CN&amp;request_locale=zh_CN&amp;_p=YXM9NDAzJnQ9MTYwMCZkPTExMzgxJnA9MyZmPTE2NTkxJmE9MCZtPVNOJnxibm5Db2x1bW5WaXJ0dWFsTmFtZT0xNjU5MSY_\" method=\"POST\" onsubmit=\"if ($('#keyword').val() === '请输入关键字') { $('#keyword').val(''); }\" target=\"_blank\">\n",
      "<div class=\"wp_search\">\n",
      "<table>\n",
      "<tr>\n",
      "<td height=\"25px\">\n",
      "<input class=\"keyword\" id=\"keyword\" name=\"keyword\" onblur=\"if (this.value === '') { this.value = '请输入关键字'; }\" onfocus=\"if (this.value === '请输入关键字') { this.value = ''; }\" style=\"width: 150px\" type=\"text\" value=\"请输入关键字\"/>\n",
      "</td>\n",
      "<td>\n",
      "<input class=\"search\" name=\"btnsearch\" type=\"submit\" value=\"\"/>\n",
      "</td>\n",
      "</tr>\n",
      "</table>\n",
      "</div>\n",
      "</form>\n",
      "</div>\n",
      "<div class=\"wp-panel\">\n",
      "<div class=\"wp-window\" frag=\"窗口1\">\n",
      "<ul class=\"wp-menu\">\n",
      "<li class=\"menu-item i1\"><a class=\"menu-link\" href=\"http://pmpi.ustc.edu.cn\" target=\"_self\">首页</a>\n",
      "</li>\n",
      "<li class=\"menu-item i2\"><a class=\"menu-link\" href=\"/xkjj/list.htm\" target=\"_self\">系况简介</a>\n",
      "<ul class=\"sub-menu\">\n",
      "<li class=\"sub-item i2-1\"><a class=\"sub-link\" href=\"/lsyg_16669/list.htm\" target=\"_self\">系况简介</a>\n",
      "</li>\n",
      "<li class=\"sub-item i2-2\"><a class=\"sub-link\" href=\"/xrld/list.htm\" target=\"_self\">现任领导</a>\n",
      "</li>\n",
      "<li class=\"sub-item i2-3\"><a class=\"sub-link\" href=\"/xdzz/list.htm\" target=\"_self\">系党总支</a>\n",
      "</li>\n",
      "<li class=\"sub-item i2-4\"><a class=\"sub-link\" href=\"/xxzjg/list.htm\" target=\"_self\">系行政办公室</a>\n",
      "</li>\n",
      "</ul>\n",
      "</li>\n",
      "<li class=\"menu-item i3\"><a class=\"menu-link\" href=\"/szdw_19779/list.htm\" target=\"_self\">师资队伍</a>\n",
      "<ul class=\"sub-menu\">\n",
      "<li class=\"sub-item i3-1\"><a class=\"sub-link\" href=\"/js_19780/list.htm\" target=\"_self\">教授</a>\n",
      "</li>\n",
      "<li class=\"sub-item i3-2\"><a class=\"sub-link\" href=\"/fjs_19781/list.htm\" target=\"_self\">副教授</a>\n",
      "</li>\n",
      "<li class=\"sub-item i3-3\"><a class=\"sub-link\" href=\"/js_19782/list.htm\" target=\"_self\">讲师</a>\n",
      "</li>\n",
      "<li class=\"sub-item i3-4\"><a class=\"sub-link\" href=\"/rxjs_19783/list.htm\" target=\"_self\">荣休教师</a>\n",
      "</li>\n",
      "<li class=\"sub-item i3-5\"><a class=\"sub-link\" href=\"/sxjhjs_19784/list.htm\" target=\"_self\">所系结合教师</a>\n",
      "</li>\n",
      "<li class=\"sub-item i3-6\"><a class=\"sub-link\" href=\"/kzygjfwjs_19785/list.htm\" target=\"_self\">兼职教授</a>\n",
      "</li>\n",
      "<li class=\"sub-item i3-7\"><a class=\"sub-link\" href=\"/trfyjy/list.htm\" target=\"_self\">特任副研究员</a>\n",
      "</li>\n",
      "<li class=\"sub-item i3-8\"><a class=\"sub-link\" href=\"/bsh_19786/list.htm\" target=\"_self\">博士后</a>\n",
      "</li>\n",
      "</ul>\n",
      "</li>\n",
      "<li class=\"menu-item i4\"><a class=\"menu-link\" href=\"/kxyj/list.htm\" target=\"_self\">科学研究</a>\n",
      "<ul class=\"sub-menu\">\n",
      "<li class=\"sub-item i4-1\"><a class=\"sub-link\" href=\"/kcddmtjmkxcl/list.htm\" target=\"_self\">多尺度多模态精密测量</a>\n",
      "</li>\n",
      "<li class=\"sub-item i4-2\"><a class=\"sub-link\" href=\"/wnmcljxt/list.htm\" target=\"_self\">微纳米技术及仪器</a>\n",
      "</li>\n",
      "<li class=\"sub-item i4-3\"><a class=\"sub-link\" href=\"/smylyqyjs/list.htm\" target=\"_self\">生命科学仪器</a>\n",
      "</li>\n",
      "<li class=\"sub-item i4-4\"><a class=\"sub-link\" href=\"/hjjcydtcs/list.htm\" target=\"_self\">环境遥感仪器科学与技...</a>\n",
      "</li>\n",
      "<li class=\"sub-item i4-5\"><a class=\"sub-link\" href=\"/jdhjxznjcjqr/list.htm\" target=\"_self\">智能机械与机器人</a>\n",
      "</li>\n",
      "</ul>\n",
      "</li>\n",
      "<li class=\"menu-item i5\"><a class=\"menu-link\" href=\"/jypy/list.htm\" target=\"_self\">教育培养</a>\n",
      "<ul class=\"sub-menu\">\n",
      "<li class=\"sub-item i5-1\"><a class=\"sub-link\" href=\"/xkjs/list.htm\" target=\"_self\">学科建设</a>\n",
      "</li>\n",
      "<li class=\"sub-item i5-2\"><a class=\"sub-link\" href=\"/jxsys/list.htm\" target=\"_self\">教学实验室</a>\n",
      "</li>\n",
      "<li class=\"sub-item i5-3\"><a class=\"sub-link\" href=\"/pyfa/list.htm\" target=\"_self\">培养方案</a>\n",
      "</li>\n",
      "<li class=\"sub-item i5-4\"><a class=\"sub-link\" href=\"/yjsjy/list.htm\" target=\"_self\">研究生教育</a>\n",
      "</li>\n",
      "<li class=\"sub-item i5-5\"><a class=\"sub-link\" href=\"/bksjy/list.htm\" target=\"_self\">本科生教育</a>\n",
      "</li>\n",
      "<li class=\"sub-item i5-6\"><a class=\"sub-link\" href=\"/ycbjy/list.htm\" target=\"_self\">英才班教育</a>\n",
      "</li>\n",
      "<li class=\"sub-item i5-7\"><a class=\"sub-link\" href=\"/tskc/list.htm\" target=\"_self\">特色课程</a>\n",
      "</li>\n",
      "</ul>\n",
      "</li>\n",
      "<li class=\"menu-item i6\"><a class=\"menu-link\" href=\"/djgz/list.htm\" target=\"_self\">党建工作</a>\n",
      "</li>\n",
      "<li class=\"menu-item i7\"><a class=\"menu-link\" href=\"/xsfc/list.htm\" target=\"_self\">学生工作</a>\n",
      "</li>\n",
      "<li class=\"menu-item i8\"><a class=\"menu-link\" href=\"/rczp/list.htm\" target=\"_self\">人才招聘</a>\n",
      "<ul class=\"sub-menu\">\n",
      "<li class=\"sub-item i8-1\"><a class=\"sub-link\" href=\"https://employment.ustc.edu.cn/cn/\" target=\"_self\">人才招聘</a>\n",
      "</li>\n",
      "</ul>\n",
      "</li>\n",
      "<li class=\"menu-item i9\"><a class=\"menu-link\" href=\"/xyfc/list.htm\" target=\"_self\">系友风采</a>\n",
      "<ul class=\"sub-menu\">\n",
      "<li class=\"sub-item i9-1\"><a class=\"sub-link\" href=\"/xyjz/list.htm\" target=\"_self\">系友讲座</a>\n",
      "</li>\n",
      "<li class=\"sub-item i9-2\"><a class=\"sub-link\" href=\"/xyxw/list.htm\" target=\"_self\">系友新闻</a>\n",
      "</li>\n",
      "<li class=\"sub-item i9-3\"><a class=\"sub-link\" href=\"/jzxj/list.htm\" target=\"_self\">奖助学金</a>\n",
      "</li>\n",
      "</ul>\n",
      "</li>\n",
      "<li class=\"menu-item i10\"><a class=\"menu-link\" href=\"/wdxz/list.htm\" target=\"_self\">文档下载</a>\n",
      "</li>\n",
      "</ul>\n",
      "</div>\n",
      "</div>\n",
      "</div>\n",
      "</div>\n",
      "<!--End||nav-->\n",
      "</div>\n",
      "</div>\n",
      "<!--End||head-->\n",
      "<!--Start||content-->\n",
      "<div class=\"wrapper\" id=\"d-container\">\n",
      "<div class=\"inner clearfix\">\n",
      "<div class=\"infobox\">\n",
      "<div class=\"article\" frag=\"窗口3\" portletmode=\"simpleArticleAttri\">\n",
      "<h1 class=\"arti_title\">付绍军</h1>\n",
      "<h2 class=\"arti_title\"></h2>\n",
      "<div class=\"entry\">\n",
      "<div class=\"read\"><div class=\"wp_articlecontent\"><div class=\"Custom_UnionStyle\"><p><img border=\"0\" data-layer=\"photo\" height=\"172\" hspace=\"0\" src=\"/_upload/article/images/07/35/532227134f06afdb5c117bf738d8/4aba7985-d0f0-4a74-9aaf-cf658f4d6482.png\" style=\"font-size:14px;float:left;width:149px;height:172px;padding-right:10px;\" sudyfile-attr=\"{'title':'W020160730404161425862.png'}\" vspace=\"0\" width=\"149\"/></p><p><span style=\"font-size:16px;\">付绍军 教授 </span><span style=\"font-size:16px;\">博士生导师</span><span style=\"font-size:16px;\"></span></p><p><span style=\"font-size:16px;\">办公电话：</span></p><p style=\"font-size:16px;\">邮箱：</p><p><br/></p><p><br/></p><p><strong style=\"font-size:14px;\"><span style=\"font-size:16px;\">个人简介：</span></strong></p><p><span style=\"font-size:16px;\">1977年中国科技大学物理系毕业，同时留校从事教学和科研工作。1984年初从物理系调入国家同步辐射实验室，1998年被聘为教授级高级工程师，2000年担任博士生导师。现任国家同步辐射实验室学术委员会委员，中国科技大学光子技术研究所副所长，《光电子技术与信息》和《光学精密工程》杂志编委。</span><span style=\"font-size:16px;\">1989年起负责建设同步辐射光学实验室，在短波光学、微光学技术和超微细加工技术研究方面取得了一系列成果。率先在国内组织开展了软X射线和真空紫外波段的衍射元件研究工作，研制的软X射线聚焦波带片、软X射线位相型Lnminar光栅和真空紫外全息-离子束刻蚀闪耀光栅已经达到实用水平，替代进口产品使用在同步辐射光束线上；研制的一系列无衬底自支撑的软X射线透射光栅已在惯性约束激光核聚变研究中发挥了重要作用。在国内外学术刊物上发表论文200多篇，获省部级成果奖4项，申请和授权国家发明专利20项。目前承担国家重大科技专项XX专项、军口863等科研项目多项。</span></p><p class=\"MsoNormal\"><strong><span style=\"font-size:16px;\">研究方向：</span></strong></p><p style=\"font-size:16px;\">衍射光栅技术</p><p style=\"font-size:16px;\">微细加工技术</p><p class=\"MsoNormal\"><strong><span style=\"font-size:16px;\">学习经历：</span></strong></p><p class=\"MsoNormal\"><strong><span style=\"font-size:16px;\">工作经历：</span></strong></p><p class=\"MsoNormal\"><strong><span style=\"font-size:16px;\">学术任职：</span></strong></p><p style=\"font-size:14px;\"><span style=\"font-size:16px;\">仪器科学与技术学科点博导</span><br/></p><p style=\"font-size:16px;\">国家同步辐射实验室教授级高级工程师</p><p style=\"margin:0cm;margin-bottom:0px;\"><strong><span style=\"font-size:16px;\">招生信息：</span></strong></p><p style=\"margin:0cm;margin-bottom:0px;\"><strong><span style=\"font-size:16px;\">发表文章：</span></strong></p><p><br/></p></div><div><p><br/></p><p style=\"font-size:16px;\">　 </p><p style=\"font-size:16px;\"><br/></p><p style=\"font-size:16px;\"><br/></p><p style=\"font-size:16px;\"><br/></p><p style=\"font-size:16px;\"><br/></p><p style=\"font-size:16px;\"><br/></p><p><br/></p><p style=\"font-size:18px;\"><br/></p></div><p style=\"font-size:14px;\"><br/></p></div></div>\n",
      "</div>\n",
      "</div>\n",
      "</div>\n",
      "</div>\n",
      "</div>\n",
      "<!--End||content-->\n",
      "<!--Start||footer-->\n",
      "<div class=\"wrapper footer\" id=\"footer\">\n",
      "<div class=\"inner\">\n",
      "<div class=\"mod clearfix\">\n",
      "<div class=\"foot-left\" frag=\"窗口90\" portletmode=\"simpleSiteAttri\">\n",
      "<p class=\"copyright\"><span>欢迎光临本站！</span></p>\n",
      "<p class=\"copyright\"><span>地址：安徽省合肥市蜀山区稻香村街道 黄山路443号 |</span><span>电话：63606164 |</span><span>Email：hclsusie@ustc.edu.cn</span></p>\n",
      "<p class=\"copyright\"><span>版权所有：中国科学技术大学精密机械与精密仪器系</span></p>\n",
      "</div>\n",
      "<div class=\"foot-right\" frag=\"窗口91\">\n",
      "<div class=\"shares\">\n",
      "</div>\n",
      "</div>\n",
      "</div>\n",
      "</div>\n",
      "</div>\n",
      "<!--End||footer-->\n",
      "</body>\n",
      "<script src=\"/_upload/tpl/06/40/1600/template1600/js/comcus.js\" type=\"text/javascript\"></script>\n",
      "<script src=\"/_upload/tpl/06/40/1600/template1600/js/list.js\" type=\"text/javascript\"></script>\n",
      "</html>\n",
      "<img height=\"0\" src=\"/_visitcount?siteId=403&amp;type=3&amp;articleId=414126\" style=\"display:none\" width=\"0\"/>\n"
     ]
    }
   ],
   "source": [
    "print(soup)"
   ],
   "metadata": {
    "collapsed": false,
    "ExecuteTime": {
     "end_time": "2024-04-23T13:59:14.393473Z",
     "start_time": "2024-04-23T13:59:14.379751Z"
    }
   },
   "id": "3313b5863d47ad67",
   "execution_count": 37
  },
  {
   "cell_type": "code",
   "outputs": [],
   "source": [
    "up_contents = content.find_all('p',style = '')"
   ],
   "metadata": {
    "collapsed": false
   },
   "id": "bb44d8e7980baf7b"
  }
 ],
 "metadata": {
  "kernelspec": {
   "display_name": "Python 3",
   "language": "python",
   "name": "python3"
  },
  "language_info": {
   "codemirror_mode": {
    "name": "ipython",
    "version": 2
   },
   "file_extension": ".py",
   "mimetype": "text/x-python",
   "name": "python",
   "nbconvert_exporter": "python",
   "pygments_lexer": "ipython2",
   "version": "2.7.6"
  }
 },
 "nbformat": 4,
 "nbformat_minor": 5
}
