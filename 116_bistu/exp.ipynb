{
 "cells": [
  {
   "cell_type": "code",
   "id": "initial_id",
   "metadata": {
    "collapsed": true,
    "ExecuteTime": {
     "end_time": "2024-06-12T10:17:15.171916Z",
     "start_time": "2024-06-12T10:17:15.151946Z"
    }
   },
   "source": [
    "import pandas as pd\n",
    "\n",
    "df = pd.read_csv('teacher_detail.csv')\n",
    "cols = df.columns.tolist()\n",
    "\n",
    "arranged_cols = sorted(\n",
    "    cols, \n",
    "    key=lambda x: df[x].isnull().sum()\n",
    ")\n",
    "\n",
    "df = df[arranged_cols]\n",
    "df.to_csv('teacher_detail.csv', index=False, encoding='utf-8-sig')"
   ],
   "outputs": [],
   "execution_count": 3
  },
  {
   "metadata": {
    "ExecuteTime": {
     "end_time": "2024-06-12T10:17:15.174979Z",
     "start_time": "2024-06-12T10:17:15.173328Z"
    }
   },
   "cell_type": "code",
   "source": "",
   "id": "ad90c048472003",
   "outputs": [],
   "execution_count": 3
  }
 ],
 "metadata": {
  "kernelspec": {
   "display_name": "Python 3",
   "language": "python",
   "name": "python3"
  },
  "language_info": {
   "codemirror_mode": {
    "name": "ipython",
    "version": 2
   },
   "file_extension": ".py",
   "mimetype": "text/x-python",
   "name": "python",
   "nbconvert_exporter": "python",
   "pygments_lexer": "ipython2",
   "version": "2.7.6"
  }
 },
 "nbformat": 4,
 "nbformat_minor": 5
}
