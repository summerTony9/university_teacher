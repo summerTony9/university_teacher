{
 "cells": [
  {
   "cell_type": "code",
   "execution_count": 164,
   "id": "initial_id",
   "metadata": {
    "collapsed": true,
    "ExecuteTime": {
     "end_time": "2024-04-07T16:48:27.532666Z",
     "start_time": "2024-04-07T16:48:27.529138Z"
    }
   },
   "outputs": [],
   "source": [
    "import pandas as pd\n",
    "import requests\n",
    "from bs4 import BeautifulSoup\n",
    "import re"
   ]
  },
  {
   "cell_type": "code",
   "outputs": [],
   "source": [
    "teacher_info = pd.read_csv('teacher_info.csv')"
   ],
   "metadata": {
    "collapsed": false,
    "ExecuteTime": {
     "end_time": "2024-04-07T13:25:55.942412Z",
     "start_time": "2024-04-07T13:25:55.932861Z"
    }
   },
   "id": "3ef9f67b22867a54",
   "execution_count": 3
  },
  {
   "cell_type": "code",
   "outputs": [],
   "source": [
    "index = 0\n",
    "url = teacher_info['link'][index]\n",
    "response = requests.get(url)\n",
    "soup = BeautifulSoup(response.content, 'html.parser')"
   ],
   "metadata": {
    "collapsed": false,
    "ExecuteTime": {
     "end_time": "2024-04-07T13:34:56.222697Z",
     "start_time": "2024-04-07T13:34:55.812844Z"
    }
   },
   "id": "a632b136fc402f5f",
   "execution_count": 26
  },
  {
   "cell_type": "code",
   "outputs": [
    {
     "name": "stdout",
     "output_type": "stream",
     "text": [
      "<!DOCTYPE html>\n",
      "\n",
      "<head>\n",
      "<meta charset=\"utf-8\"/>\n",
      "<meta content=\"清华大学精密仪器系\" name=\"keywords\">\n",
      "<meta content=\"清华大学精密仪器\r\n",
      "\" name=\"description\"/>\n",
      "<meta content=\"http://www.fractal-technology.com/\" name=\"author\"/>\n",
      "<title>金国藩 - 清华大学精密仪器 -清华大学精密仪器系</title>\n",
      "<link href=\"/Public/static/themes/css/globalbd.css\" rel=\"stylesheet\" type=\"text/css\"/>\n",
      "<link href=\"/Public/static/themes/css/by.css\" rel=\"stylesheet\" type=\"text/css\"/>\n",
      "<script src=\"/Public/static/themes/js/jquery.js\"></script>\n",
      "<script>\r\n",
      "var CONFIG = {\r\n",
      "    UID: 0,\r\n",
      "    THEME: '/Public/static/themes/',\r\n",
      "    BASE_URL: ''\r\n",
      "};\r\n",
      "function logon_out() {\r\n",
      "    $.get(\"/passport/logout.html\",'',function(){\r\n",
      "        window.location.reload();\r\n",
      "    })\r\n",
      "}\r\n",
      "</script>\n",
      "</meta></head>\n",
      "<body>\n",
      "<div class=\"wrap\">\n",
      "<div class=\"head\">\n",
      "<div class=\"headtop\">\n",
      "<a href=\"http://www.tsinghua.edu.cn/publish/newthu/index.html\" target=\"_blank\">清华主页</a>|<a href=\"https://id.tsinghua.edu.cn/do/off/ui/auth/login/form/6ce3fb0fbb501e2c7e87411b80785b0b/0?/ftadmin2017/Public/tacher_login\" target=\"_blank\">教师登录</a>|<a href=\"/index_en\" id=\"dongzhi\">English</a>\n",
      "</div>\n",
      "</div>\n",
      "<script>\r\n",
      "$(function(){\r\n",
      "\tvar url = window.location.pathname;\r\n",
      "\r\n",
      "\t\tvar strs = new Array();\r\n",
      "\t    strs = url.split(\"/\");\r\n",
      "\t\t\t\r\n",
      "\tif(strs[1].indexOf('index')>-1){\r\n",
      "\r\n",
      "\t\t}else{\r\n",
      "\t\tstrs[1] = 'en_' + strs[1];\r\n",
      "\t\tconsole.log(strs);\r\n",
      "\t\tvar now  = strs.join(\"/\");\r\n",
      "\t\r\n",
      "\t\tconsole.log(now);\r\n",
      "\t\t$('#dongzhi').attr(\"href\",now);\r\n",
      "\t\r\n",
      "\t}\r\n",
      "})\r\n",
      "\r\n",
      "\tfunction myalert( title, url) {\r\n",
      "\t\t$('#myalert').show();\r\n",
      "\t\t$('#myalert .myalert div').html(title);\r\n",
      "\t\tif(url){\r\n",
      "\t\t\t$('#my_ok').click(function(){\r\n",
      "\t\t\t\twindow.location.href=url;\r\n",
      "\t\t\t});\r\n",
      "\r\n",
      "\t\t}else{\r\n",
      "\t\t\t$('#my_ok').click(function(){\r\n",
      "\t\t\t\t$('#myalert').hide();\r\n",
      "\t\t\t});\r\n",
      "\t\t}\r\n",
      "\t}\r\n",
      "\tfunction myalert_hide(){\r\n",
      "\t\t$('#myalert').hide();\r\n",
      "\t}\r\n",
      "</script>\n",
      "<style>\r\n",
      "\t.layer{background:rgba(0,0,0,0.5);filter: progid:DXImageTransform.Microsoft.gradient(startcolorstr=#7F000000,endcolorstr=#7F000000);position:fixed;left:0;top:0;width:100%;height:100%;z-index: 1000000;}\r\n",
      "\t.layer .myalert{padding:30px;background:#fff;width:240px;position:absolute;margin-top:-100px;top:50%;left:50%;margin-left:-120px;text-align:center; z-index: 100000}\r\n",
      "\t.layer .close{background:url(/Public/static/images/clos.png) no-repeat center; display:block;width:23px;height:23px;position:absolute;top:10px;right:10px;}\r\n",
      "\t.layer .text{padding-bottom:15px;font-size:18px;color:#474747;}\r\n",
      "\t.layer .button{background:none;border:1px solid #bbbbbb;width:91px;height:29px;font:14px/100% \"Microsoft YaHei\", Arial, Tahoma, Helvetica, sans-serif;color: #707070;cursor: pointer;}\r\n",
      "</style>\n",
      "<div class=\"layer\" id=\"myalert\" style=\"display: none;\">\n",
      "<div class=\"myalert\">\n",
      "<a class=\"guan\" href=\"javascript:;\" onclick=\"myalert_hide();\"></a>\n",
      "<div class=\"text\"></div>\n",
      "<button class=\"button\" id=\"my_ok\">确定</button>\n",
      "</div>\n",
      "</div>\n",
      "<div><div class=\"headbottom\">\n",
      "<div>\n",
      "<a class=\"marglf\" href=\"https://www.dpi.tsinghua.edu.cn/\">首页</a><a href=\"https://www.dpi.tsinghua.edu.cn/jygl/xzrjy.htm\">精仪概览</a><a href=\"https://www.dpi.tsinghua.edu.cn/szrc/szgk.htm\">师资人才</a><a href=\"https://www.dpi.tsinghua.edu.cn/jyjx/gs.htm\">教育教学</a><a href=\"https://www.dpi.tsinghua.edu.cn/xsky/kygk.htm\">学术科研</a><a href=\"https://www.dpi.tsinghua.edu.cn/xsyd/xsgzgk.htm\">学生园地</a><a href=\"https://www.dpi.tsinghua.edu.cn/jlhz/hzjg.htm\">交流合作</a><a href=\"https://www.dpi.tsinghua.edu.cn/zsjy/gs.htm\">招生就业</a><a href=\"https://www.dpi.tsinghua.edu.cn/xyjy/gs.htm\">系友家园</a><a href=\"https://www.dpi.tsinghua.edu.cn/lxwm/lxfs.htm\">联系我们</a> </div>\n",
      "<div class=\"search\">\n",
      "<input id=\"search\" onkeydown=\"keydown(event, '#search_btn')\" type=\"text\"/>\n",
      "<input class=\"btn\" id=\"search_btn\" onclick=\"_search();\" type=\"button\"/>\n",
      "</div>\n",
      "</div>\n",
      "<script>\n",
      "    function _search(){\n",
      "        var k = $(\"#search\").val();\n",
      "        if(k == '请输入你要搜索的关键字' || k == \"\"){\n",
      "            myalert(\"请输入你要搜索的关键字\");\n",
      "            $('.guan').click(function(){\n",
      "                myalert_hide();\n",
      "                $(obj).focus();\n",
      "            })\n",
      "            $('#my_ok').click(function(){\n",
      "                myalert_hide();\n",
      "                $(obj).focus();\n",
      "            })\n",
      "\n",
      "            return false;\n",
      "        }\n",
      "        if(k.length<2){\n",
      "            myalert(\"请输入两个字以上\");\n",
      "            $('.guan').click(function(){\n",
      "                myalert_hide();\n",
      "                $(obj).focus();\n",
      "            })\n",
      "            $('#my_ok').click(function(){\n",
      "                myalert_hide();\n",
      "                $(obj).focus();\n",
      "            })\n",
      "            return false;\n",
      "        }\n",
      "        window.location.href=\"/Site/Sea/index.html?key=\"+encodeURI(k);\n",
      "    };\n",
      "    function keydown(e, but) {\n",
      "        var currKey=0,e=e||event;\n",
      "        var _this = $(but);\n",
      "        if(e.keyCode==13)\n",
      "        {\n",
      "            _this.click();\n",
      "            return false;\n",
      "        }\n",
      "    }\n",
      "</script></div>\n",
      "<div><style>\r\n",
      ".banner { background: url(/Uploads/Picture/2017/04/28/s5902df721363b.jpg) no-repeat center center;     background-size: contain;}\r\n",
      ".light  { padding: 8px 49px; background: #fff; border-radius: 12px; margin-top: 30px; font: 14px/100% \"Microsoft YaHei\", Arial, Tahoma, Helvetica, sans-serif; outline: 0; border: 0; none; color: #707070; display: inline-block; }\r\n",
      "</style>\n",
      "<div class=\"banner\">\n",
      "<div class=\"information\">\n",
      "<div class=\"title\">\n",
      "<h3><span>金国藩</span>   <span>中国工程院院士</span></h3>\n",
      "<h4>光电工程研究所</h4>\n",
      "<p>电　话：+86 010 62785512</p>\n",
      "<p>E-mail：<u>jgf-dpi@mail.tsinghua.edu.cn</u></p>\n",
      "<a class=\"light\" href=\"/home/jgf-dpi\">个人主页</a>\n",
      "</div>\n",
      "</div>\n",
      "</div></div><div class=\"inner\">\n",
      "<div class=\"home home1\"><div class=\"home home1\">\n",
      "<h3>教育背景</h3>\n",
      "<ul>\n",
      "<li>\n",
      "<span class=\"sp1\">1950年</span>\n",
      "<span class=\"sp2\">毕业于北京大学工学院机械系</span>\n",
      "</li> </ul>\n",
      "</div></div> <div class=\"home home1\"><div class=\"home home1\">\n",
      "<h3>工作履历</h3>\n",
      "<ul>\n",
      "<li>\n",
      "<span class=\"sp1\">1952-1954 </span>\n",
      "<span class=\"sp2\">北京大学工学院助教</span>\n",
      "</li><li>\n",
      "<span class=\"sp1\">1954-迄今</span>\n",
      "<span class=\"sp2\"> 清华大学精密仪器系</span>\n",
      "</li> </ul>\n",
      "</div></div>\n",
      "<div class=\"home home2\">\n",
      "<h3>研究领域</h3>\n",
      "<p>二元光学，体全息光存储，光谱仪，纳米光学</p>\n",
      "</div>\n",
      "<div class=\"home home2\">\n",
      "<h3>研究概况</h3>\n",
      "<p>光学自由曲面基础研究（973子课题）负责人<br/>\n",
      "</p>\n",
      "</div>\n",
      "</div>\n",
      "</div>\n",
      "<div class=\"footer\">\n",
      "<p>Copyright © 2010  清华大学精密仪器系 版权所有    <a href=\"http://www.4miao.net/\" target=\"_blank\">技术支持：四秒建站</a></p>\n",
      "</div>\n",
      "</body>\n"
     ]
    }
   ],
   "source": [
    "# teacher_info.iloc[1, :]\n",
    "# teacher_info[0:4]\n",
    "print(soup)"
   ],
   "metadata": {
    "collapsed": false,
    "ExecuteTime": {
     "end_time": "2024-04-07T13:35:00.874366Z",
     "start_time": "2024-04-07T13:35:00.867502Z"
    }
   },
   "id": "bab6e7efa6a2dee3",
   "execution_count": 27
  },
  {
   "cell_type": "code",
   "outputs": [],
   "source": [],
   "metadata": {
    "collapsed": false
   },
   "id": "82d2ebb8395a99b1"
  },
  {
   "cell_type": "code",
   "outputs": [],
   "source": [
    "info = soup.find('div',class_='title')"
   ],
   "metadata": {
    "collapsed": false,
    "ExecuteTime": {
     "end_time": "2024-04-07T14:11:54.881841Z",
     "start_time": "2024-04-07T14:11:54.878354Z"
    }
   },
   "id": "34cb187c9983d53a",
   "execution_count": 97
  },
  {
   "cell_type": "code",
   "outputs": [
    {
     "name": "stdout",
     "output_type": "stream",
     "text": [
      "<div class=\"title\">\n",
      "<h3><span>金国藩</span>   <span>中国工程院院士</span></h3>\n",
      "<h4>光电工程研究所</h4>\n",
      "<p>电　话：+86 010 62785512</p>\n",
      "<p>E-mail：<u>jgf-dpi@mail.tsinghua.edu.cn</u></p>\n",
      "<a class=\"light\" href=\"/home/jgf-dpi\">个人主页</a>\n",
      "</div>\n"
     ]
    }
   ],
   "source": [
    "print(info)"
   ],
   "metadata": {
    "collapsed": false,
    "ExecuteTime": {
     "end_time": "2024-04-07T13:55:31.470387Z",
     "start_time": "2024-04-07T13:55:31.466352Z"
    }
   },
   "id": "99e1521280519729",
   "execution_count": 73
  },
  {
   "cell_type": "code",
   "outputs": [],
   "source": [
    "def extract_info(infos):\n",
    "    ret = {}\n",
    "    targets = ['电话','E-mail','教育背景','工作履历','研究领域','研究概况']\n",
    "    for info in infos:\n",
    "        info = info.get_text().replace('　','')\n",
    "        # print(info)\n",
    "        for target in targets:\n",
    "            if target in info:\n",
    "                temp  = info.replace(target,'').strip().strip('：')\n",
    "                ret[target] = re.sub(r'\\n+','\\n',temp)\n",
    "                \n",
    "    return ret\n",
    "        "
   ],
   "metadata": {
    "collapsed": false,
    "ExecuteTime": {
     "end_time": "2024-04-07T16:50:06.809017Z",
     "start_time": "2024-04-07T16:50:06.803422Z"
    }
   },
   "id": "a789be2a00721ab9",
   "execution_count": 167
  },
  {
   "cell_type": "code",
   "outputs": [],
   "source": [
    "# def extract_details(infos):\n",
    "#     ret = {}\n",
    "#     targets = ['教育背景','工作履历','研究领域','研究概况']\n",
    "#     for info in infos:\n",
    "#         info = info.get_text().replace('')\n",
    "#         print(info)\n",
    "#         for target in targets:\n",
    "#             if target in info:\n",
    "#                 ret[target] = info.strip(target).strip('')\n",
    "#     return ret"
   ],
   "metadata": {
    "collapsed": false
   },
   "id": "f30b82e6eb9e5848"
  },
  {
   "cell_type": "code",
   "outputs": [],
   "source": [
    "name = teacher_info['姓名'][index]\n",
    "span_list = info.find_all('span')\n",
    "title = span_list[1].get_text()\n",
    "organization = info.find('h4').get_text()\n",
    "details = info.find_all('p')\n",
    "detail_dict = extract_info(details)\n",
    "# telephone = detail_dict['电话']\n",
    "# mail = detail_dict['E-mail']\n",
    "more_details = []\n",
    "details = soup.find_all('div',class_ = 'home home1')\n",
    "for detail in details:\n",
    "    temp = detail.find('div',class_ = 'home home1')\n",
    "    # print(temp)\n",
    "    if temp is not None:\n",
    "        more_details.append(temp)\n",
    "details = soup.find_all('div',class_ = 'home home2')\n",
    "more_details = [x for x in more_details] + [x for x in details]\n",
    "\n",
    "main_details = extract_info(more_details)"
   ],
   "metadata": {
    "collapsed": false,
    "ExecuteTime": {
     "end_time": "2024-04-07T16:50:20.306385Z",
     "start_time": "2024-04-07T16:50:20.301058Z"
    }
   },
   "id": "7fc8f087410ccdb7",
   "execution_count": 168
  },
  {
   "cell_type": "code",
   "outputs": [],
   "source": [
    "teacher_details_list = []\n",
    "teacher_details_list.append(pd.DataFrame({\n",
    "    '姓名':[name],\n",
    "    '职称':[teacher_info['级别'][index]],\n",
    "    '称号':[title],\n",
    "    '机构':[organization],\n",
    "    '电话':[detail_dict['电话']],\n",
    "    '邮箱':[detail_dict['E-mail']],\n",
    "    '教育背景':[main_details['教育背景']],\n",
    "    '工作履历':[main_details['工作履历']],\n",
    "    '研究领域':[main_details['研究领域']],\n",
    "    '研究概况':[main_details['研究概况']]\n",
    "}))"
   ],
   "metadata": {
    "collapsed": false,
    "ExecuteTime": {
     "end_time": "2024-04-07T16:50:22.210741Z",
     "start_time": "2024-04-07T16:50:22.206916Z"
    }
   },
   "id": "def568983059ee83",
   "execution_count": 169
  },
  {
   "cell_type": "code",
   "outputs": [
    {
     "name": "stdout",
     "output_type": "stream",
     "text": [
      "[    姓名       职称       称号       机构                电话  \\\n",
      "0  金国藩  中国工程院院士  中国工程院院士  光电工程研究所  +86 010 62785512   \n",
      "\n",
      "                             邮箱                  教育背景  \\\n",
      "0  jgf-dpi@mail.tsinghua.edu.cn  1950年\\n毕业于北京大学工学院机械系   \n",
      "\n",
      "                                         工作履历                  研究领域  \\\n",
      "0  1952-1954 \\n北京大学工学院助教\\n1954-迄今\\n 清华大学精密仪器系  二元光学，体全息光存储，光谱仪，纳米光学   \n",
      "\n",
      "                    研究概况  \n",
      "0  光学自由曲面基础研究（973子课题）负责人  ]\n"
     ]
    }
   ],
   "source": [
    "print(teacher_details_list)"
   ],
   "metadata": {
    "collapsed": false,
    "ExecuteTime": {
     "end_time": "2024-04-07T16:50:23.141631Z",
     "start_time": "2024-04-07T16:50:23.136510Z"
    }
   },
   "id": "1c84736c25f99352",
   "execution_count": 170
  },
  {
   "cell_type": "code",
   "outputs": [
    {
     "name": "stdout",
     "output_type": "stream",
     "text": [
      "\n",
      "教育背景\n",
      "\n",
      "\n",
      "1950年\n",
      "毕业于北京大学工学院机械系\n",
      " \n",
      "\n",
      "\n",
      "工作履历\n",
      "\n",
      "\n",
      "1952-1954 \n",
      "北京大学工学院助教\n",
      "\n",
      "1954-迄今\n",
      " 清华大学精密仪器系\n",
      " \n",
      "\n",
      "\n",
      "研究领域\n",
      "二元光学，体全息光存储，光谱仪，纳米光学\n",
      "\n",
      "\n",
      "研究概况\n",
      "光学自由曲面基础研究（973子课题）负责人\n"
     ]
    }
   ],
   "source": [
    "# print(more_details)\n"
   ],
   "metadata": {
    "collapsed": false,
    "ExecuteTime": {
     "end_time": "2024-04-07T16:33:45.454736Z",
     "start_time": "2024-04-07T16:33:45.451408Z"
    }
   },
   "id": "aa9079b303cfa8e0",
   "execution_count": 151
  },
  {
   "cell_type": "code",
   "outputs": [
    {
     "name": "stdout",
     "output_type": "stream",
     "text": [
      "{'教育背景': '1950年\\n毕业于北京大学工学院机械系', '工作履历': '1952-1954 \\n北京大学工学院助教\\n\\n1954-迄今\\n 清华大学精密仪器系', '研究领域': '二元光学，体全息光存储，光谱仪，纳米光学', '研究概况': '光学自由曲面基础研究（973子课题）负责人'}\n"
     ]
    }
   ],
   "source": [
    "print(main_details)"
   ],
   "metadata": {
    "collapsed": false,
    "ExecuteTime": {
     "end_time": "2024-04-07T16:33:46.328777Z",
     "start_time": "2024-04-07T16:33:46.324973Z"
    }
   },
   "id": "1fff79a7119aea36",
   "execution_count": 152
  },
  {
   "cell_type": "code",
   "outputs": [
    {
     "name": "stdout",
     "output_type": "stream",
     "text": [
      "1950年\n",
      "毕业于北京大学工学院机械系\n"
     ]
    }
   ],
   "source": [
    "#print(info)\n",
    "more_detail = more_details[0]\n",
    "# more_detail = BeautifulSoup(more_detail,'html.parser')\n",
    "more_detail = more_detail.get_text().replace('教育背景','').strip()\n",
    "print(more_detail)"
   ],
   "metadata": {
    "collapsed": false,
    "ExecuteTime": {
     "end_time": "2024-04-07T16:29:31.762702Z",
     "start_time": "2024-04-07T16:29:31.759753Z"
    }
   },
   "id": "2424f6e63ab2acbe",
   "execution_count": 141
  },
  {
   "cell_type": "code",
   "outputs": [
    {
     "data": {
      "text/plain": "机构                                              光电工程研究所\n姓名                                                  曾理江\n级别                                                   教授\nlink    http://faculty.dpi.tsinghua.edu.cn//zenglj.html\nName: 1, dtype: object"
     },
     "execution_count": 31,
     "metadata": {},
     "output_type": "execute_result"
    }
   ],
   "source": [
    "teacher_info.iloc[1, :]"
   ],
   "metadata": {
    "collapsed": false,
    "ExecuteTime": {
     "end_time": "2024-04-07T13:39:02.940019Z",
     "start_time": "2024-04-07T13:39:02.933426Z"
    }
   },
   "id": "c8a8d91d7cdafb2a",
   "execution_count": 31
  },
  {
   "cell_type": "code",
   "outputs": [
    {
     "name": "stdout",
     "output_type": "stream",
     "text": [
      "电　话：+86 010 62785512\n",
      "电　话\n",
      "电　话：+86 010 62785512\n",
      "E-mail\n",
      "E-mail：jgf-dpi@mail.tsinghua.edu.cn\n",
      "电　话\n",
      "E-mail\n",
      "E-mail：jgf-dpi@mail.tsinghua.edu.cn\n"
     ]
    }
   ],
   "source": [],
   "metadata": {
    "collapsed": false,
    "ExecuteTime": {
     "end_time": "2024-04-07T13:53:00.512037Z",
     "start_time": "2024-04-07T13:53:00.506488Z"
    }
   },
   "id": "c28bc92751195839",
   "execution_count": 62
  },
  {
   "cell_type": "code",
   "outputs": [],
   "source": [],
   "metadata": {
    "collapsed": false
   },
   "id": "b5c75b347257c1af"
  }
 ],
 "metadata": {
  "kernelspec": {
   "display_name": "Python 3",
   "language": "python",
   "name": "python3"
  },
  "language_info": {
   "codemirror_mode": {
    "name": "ipython",
    "version": 2
   },
   "file_extension": ".py",
   "mimetype": "text/x-python",
   "name": "python",
   "nbconvert_exporter": "python",
   "pygments_lexer": "ipython2",
   "version": "2.7.6"
  }
 },
 "nbformat": 4,
 "nbformat_minor": 5
}
