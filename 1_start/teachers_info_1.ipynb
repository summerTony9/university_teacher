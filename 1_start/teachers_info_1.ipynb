{
 "cells": [
  {
   "cell_type": "code",
   "execution_count": 1,
   "id": "initial_id",
   "metadata": {
    "collapsed": true,
    "ExecuteTime": {
     "end_time": "2024-04-08T11:07:42.039660Z",
     "start_time": "2024-04-08T11:07:41.278880Z"
    }
   },
   "outputs": [],
   "source": [
    "# 加载包\n",
    "import pandas as pd\n",
    "import requests\n",
    "from bs4 import BeautifulSoup"
   ]
  },
  {
   "cell_type": "code",
   "outputs": [],
   "source": [
    "# 得到需要的东西\n",
    "url = 'http://faculty.dpi.tsinghua.edu.cn/index.html'\n",
    "response = requests.get(url)\n",
    "soup = BeautifulSoup(response.content, 'html.parser')"
   ],
   "metadata": {
    "collapsed": false,
    "ExecuteTime": {
     "end_time": "2024-04-08T11:07:42.256779Z",
     "start_time": "2024-04-08T11:07:42.043062Z"
    }
   },
   "id": "8f6e67dd31cca3c3",
   "execution_count": 2
  },
  {
   "cell_type": "code",
   "outputs": [],
   "source": [
    "# print(response.text)"
   ],
   "metadata": {
    "collapsed": false,
    "ExecuteTime": {
     "end_time": "2024-04-08T11:07:42.272487Z",
     "start_time": "2024-04-08T11:07:42.257888Z"
    }
   },
   "id": "52c07032aafef50c",
   "execution_count": 3
  },
  {
   "cell_type": "code",
   "outputs": [],
   "source": [
    "# 一个div是一个机构，每个机构下面有很多老师\n",
    "organizations = soup.find_all('div', class_ = \"third\")"
   ],
   "metadata": {
    "collapsed": false,
    "ExecuteTime": {
     "end_time": "2024-04-08T11:07:42.303524Z",
     "start_time": "2024-04-08T11:07:42.275723Z"
    }
   },
   "id": "1f839ff7e346b20e",
   "execution_count": 4
  },
  {
   "cell_type": "code",
   "outputs": [],
   "source": [
    "# teacher_info_list = []"
   ],
   "metadata": {
    "collapsed": false,
    "ExecuteTime": {
     "end_time": "2024-04-08T11:07:42.320135Z",
     "start_time": "2024-04-08T11:07:42.303524Z"
    }
   },
   "id": "aaeab8f668f46779",
   "execution_count": 5
  },
  {
   "cell_type": "code",
   "outputs": [],
   "source": [
    "# print(organizations[0])\n",
    "# print(organizations[0]['id'])"
   ],
   "metadata": {
    "collapsed": false,
    "ExecuteTime": {
     "end_time": "2024-04-08T11:07:42.334745Z",
     "start_time": "2024-04-08T11:07:42.321540Z"
    }
   },
   "id": "dc07917efa3dfe47",
   "execution_count": 6
  },
  {
   "cell_type": "code",
   "outputs": [],
   "source": [
    "# # test 之后需要写进循环\n",
    "# i = 0\n",
    "# organization = organizations[i]\n",
    "# jigou = organization['id']"
   ],
   "metadata": {
    "collapsed": false,
    "ExecuteTime": {
     "end_time": "2024-04-08T11:07:42.350296Z",
     "start_time": "2024-04-08T11:07:42.336046Z"
    }
   },
   "id": "f066cfe2a6cad321",
   "execution_count": 7
  },
  {
   "cell_type": "code",
   "outputs": [],
   "source": [
    "# j = 0\n",
    "# teachers = organization.find_all('li')\n",
    "# teacher = teachers[j]"
   ],
   "metadata": {
    "collapsed": false,
    "ExecuteTime": {
     "end_time": "2024-04-08T11:07:42.366026Z",
     "start_time": "2024-04-08T11:07:42.352358Z"
    }
   },
   "id": "9f3579c83a196a7d",
   "execution_count": 8
  },
  {
   "cell_type": "code",
   "outputs": [],
   "source": [
    "# print(teacher)"
   ],
   "metadata": {
    "collapsed": false,
    "ExecuteTime": {
     "end_time": "2024-04-08T11:07:42.381482Z",
     "start_time": "2024-04-08T11:07:42.367266Z"
    }
   },
   "id": "6b741da3505cc90b",
   "execution_count": 9
  },
  {
   "cell_type": "code",
   "outputs": [],
   "source": [
    "# link = \"http://faculty.dpi.tsinghua.edu.cn/\"+teacher.find('a').get('href')\n",
    "# name = teacher.find('h6').get_text()\n",
    "# title = teacher.find('p').get_text()"
   ],
   "metadata": {
    "collapsed": false,
    "ExecuteTime": {
     "end_time": "2024-04-08T11:07:42.397140Z",
     "start_time": "2024-04-08T11:07:42.385147Z"
    }
   },
   "id": "621bc61145c8f217",
   "execution_count": 10
  },
  {
   "cell_type": "code",
   "outputs": [],
   "source": [
    "# teacher_info_list.append(pd.DataFrame({\n",
    "#     '机构':[jigou],\n",
    "#     '姓名':[name],\n",
    "#     '级别':[title],\n",
    "#     'link':[link]\n",
    "# }))"
   ],
   "metadata": {
    "collapsed": false,
    "ExecuteTime": {
     "end_time": "2024-04-08T11:07:42.412591Z",
     "start_time": "2024-04-08T11:07:42.399843Z"
    }
   },
   "id": "1fd0700b500678eb",
   "execution_count": 11
  },
  {
   "cell_type": "code",
   "outputs": [],
   "source": [
    "# print(teacher_info_list)"
   ],
   "metadata": {
    "collapsed": false,
    "ExecuteTime": {
     "end_time": "2024-04-08T11:07:42.427441Z",
     "start_time": "2024-04-08T11:07:42.420331Z"
    }
   },
   "id": "409623827fd2e814",
   "execution_count": 12
  },
  {
   "cell_type": "code",
   "outputs": [],
   "source": [
    "# print(link)"
   ],
   "metadata": {
    "collapsed": false,
    "ExecuteTime": {
     "end_time": "2024-04-08T11:07:42.443145Z",
     "start_time": "2024-04-08T11:07:42.429048Z"
    }
   },
   "id": "3597eb488297c315",
   "execution_count": 13
  },
  {
   "cell_type": "code",
   "outputs": [
    {
     "name": "stdout",
     "output_type": "stream",
     "text": [
      "<div class=\"third\" id=\"光电工程研究所\">\n",
      "<h5>光电工程研究所</h5>\n",
      "<ul>\n",
      "<li>\n",
      "<a href=\"/jgf-dpi.html\" target=\"_blank\"><img alt=\"金国藩\" src=\"/Uploads/Picture/2017/04/28/s5902dedd8d1b0.jpg\" style=\" min-height:192px; min-width:160px; max-height:192px; max-width:160px;\" title=\"金国藩\"/></a>\n",
      "<h6>金国藩</h6>\n",
      "<p>中国工程院院士</p>\n",
      "</li><li>\n",
      "<a href=\"/zenglj.html\" target=\"_blank\"><img alt=\"曾理江\" src=\"/Uploads/Picture/2017/04/27/s5901c97824a0c.jpg\" style=\" min-height:192px; min-width:160px; max-height:192px; max-width:160px;\" title=\"曾理江\"/></a>\n",
      "<h6>曾理江</h6>\n",
      "<p>教授</p>\n",
      "</li><li>\n",
      "<a href=\"/cxyang.html\" target=\"_blank\"><img alt=\"杨昌喜\" src=\"/Uploads/Picture/2017/04/28/s5902e149c7544.jpg\" style=\" min-height:192px; min-width:160px; max-height:192px; max-width:160px;\" title=\"杨昌喜\"/></a>\n",
      "<h6>杨昌喜</h6>\n",
      "<p>教授</p>\n",
      "</li><li>\n",
      "<a href=\"/liyan.html\" target=\"_blank\"><img alt=\"李岩\" src=\"/Uploads/Picture/2017/09/15/s59bb9803095be.jpg\" style=\" min-height:192px; min-width:160px; max-height:192px; max-width:160px;\" title=\"李岩\"/></a>\n",
      "<h6>李岩</h6>\n",
      "<p>教授</p>\n",
      "</li><li>\n",
      "<a href=\"/sunlq.html\" target=\"_blank\"><img alt=\"孙利群\" src=\"/Uploads/Picture/2017/04/28/s5902e9c98589c.jpg\" style=\" min-height:192px; min-width:160px; max-height:192px; max-width:160px;\" title=\"孙利群\"/></a>\n",
      "<h6>孙利群</h6>\n",
      "<p>教授</p>\n",
      "</li><li>\n",
      "<a href=\"/hbsun.html\" target=\"_blank\"><img alt=\"孙洪波\" src=\"/Uploads/Picture/2017/09/25/s59c8b9d91c04d.jpg\" style=\" min-height:192px; min-width:160px; max-height:192px; max-width:160px;\" title=\"孙洪波\"/></a>\n",
      "<h6>孙洪波</h6>\n",
      "<p>教授</p>\n",
      "</li><li>\n",
      "<a href=\"/clc.html\" target=\"_blank\"><img alt=\"曹良才\" src=\"/Uploads/Picture/2024/01/29/s65b716cf175ac.jpg\" style=\" min-height:192px; min-width:160px; max-height:192px; max-width:160px;\" title=\"曹良才\"/></a>\n",
      "<h6>曹良才</h6>\n",
      "<p>教授</p>\n",
      "</li><li>\n",
      "<a href=\"/baibenfeng.html\" target=\"_blank\"><img alt=\"白本锋\" src=\"/Uploads/Picture/2023/08/22/s64e40ceea8420.jpg\" style=\" min-height:192px; min-width:160px; max-height:192px; max-width:160px;\" title=\"白本锋\"/></a>\n",
      "<h6>白本锋</h6>\n",
      "<p>教授</p>\n",
      "</li><li>\n",
      "<a href=\"/Tanyd.html\" target=\"_blank\"><img alt=\"谈宜东\" src=\"/Uploads/Picture/2017/04/28/s5902ad6dcd50c.jpg\" style=\" min-height:192px; min-width:160px; max-height:192px; max-width:160px;\" title=\"谈宜东\"/></a>\n",
      "<h6>谈宜东</h6>\n",
      "<p>教授</p>\n",
      "</li><li>\n",
      "<a href=\"/tanqf.html\" target=\"_blank\"><img alt=\"谭峭峰\" src=\"/Uploads/Picture/2017/04/29/s59041f35bd24e.jpg\" style=\" min-height:192px; min-width:160px; max-height:192px; max-width:160px;\" title=\"谭峭峰\"/></a>\n",
      "<h6>谭峭峰</h6>\n",
      "<p>副教授</p>\n",
      "</li><li>\n",
      "<a href=\"/j_zhu.html\" target=\"_blank\"><img alt=\"朱钧\" src=\"/Uploads/Picture/2017/04/29/s5903edca71a69.jpg\" style=\" min-height:192px; min-width:160px; max-height:192px; max-width:160px;\" title=\"朱钧\"/></a>\n",
      "<h6>朱钧</h6>\n",
      "<p>副教授</p>\n",
      "</li><li>\n",
      "<a href=\"/luckiwei.html\" target=\"_blank\"><img alt=\"尉昊赟\" src=\"/Uploads/Picture/2017/09/15/s59bb98855f35e.jpg\" style=\" min-height:192px; min-width:160px; max-height:192px; max-width:160px;\" title=\"尉昊赟\"/></a>\n",
      "<h6>尉昊赟</h6>\n",
      "<p>副教授</p>\n",
      "</li><li>\n",
      "<a href=\"/guanhaowu.html\" target=\"_blank\"><img alt=\"吴冠豪\" src=\"/Uploads/Picture/2017/04/28/s5902b031e38ea.jpg\" style=\" min-height:192px; min-width:160px; max-height:192px; max-width:160px;\" title=\"吴冠豪\"/></a>\n",
      "<h6>吴冠豪</h6>\n",
      "<p>副教授</p>\n",
      "</li><li>\n",
      "<a href=\"/konglj.html\" target=\"_blank\"><img alt=\"孔令杰\" src=\"/Uploads/Picture/2017/06/02/s593117e8f3ee1.jpg\" style=\" min-height:192px; min-width:160px; max-height:192px; max-width:160px;\" title=\"孔令杰\"/></a>\n",
      "<h6>孔令杰</h6>\n",
      "<p>副教授</p>\n",
      "</li><li>\n",
      "<a href=\"/haozhang274.html\" target=\"_blank\"><img alt=\"张浩\" src=\"/Uploads/Picture/2017/06/06/s5935f7d3b86b0.jpg\" style=\" min-height:192px; min-width:160px; max-height:192px; max-width:160px;\" title=\"张浩\"/></a>\n",
      "<h6>张浩</h6>\n",
      "<p>副教授</p>\n",
      "</li><li>\n",
      "<a href=\"/yli9003.html\" target=\"_blank\"><img alt=\"李杨\" src=\"/Uploads/Picture/2018/09/04/s5b8e4e1b213a3.jpg\" style=\" min-height:192px; min-width:160px; max-height:192px; max-width:160px;\" title=\"李杨\"/></a>\n",
      "<h6>李杨</h6>\n",
      "<p>副教授</p>\n",
      "</li><li>\n",
      "<a href=\"/ymyang.html\" target=\"_blank\"><img alt=\"杨原牧\" src=\"/Uploads/Picture/2018/09/04/s5b8e5021f162d.jpg\" style=\" min-height:192px; min-width:160px; max-height:192px; max-width:160px;\" title=\"杨原牧\"/></a>\n",
      "<h6>杨原牧</h6>\n",
      "<p>副教授</p>\n",
      "</li><li>\n",
      "<a href=\"/linlh2019.html\" target=\"_blank\"><img alt=\"林琳涵\" src=\"/Uploads/Picture/2019/11/20/s5dd4d2c579327.jpg\" style=\" min-height:192px; min-width:160px; max-height:192px; max-width:160px;\" title=\"林琳涵\"/></a>\n",
      "<h6>林琳涵</h6>\n",
      "<p>副教授</p>\n",
      "</li><li>\n",
      "<a href=\"/hfang.html\" target=\"_blank\"><img alt=\"方红华\" src=\"/Uploads/Picture/2019/11/28/s5ddf23a0b9285.jpg\" style=\" min-height:192px; min-width:160px; max-height:192px; max-width:160px;\" title=\"方红华\"/></a>\n",
      "<h6>方红华</h6>\n",
      "<p>副教授</p>\n",
      "</li><li>\n",
      "<a href=\"/cbao.html\" target=\"_blank\"><img alt=\"鲍成英\" src=\"/Uploads/Picture/2021/03/23/s60598789022c9.jpg\" style=\" min-height:192px; min-width:160px; max-height:192px; max-width:160px;\" title=\"鲍成英\"/></a>\n",
      "<h6>鲍成英</h6>\n",
      "<p>副教授</p>\n",
      "</li><li>\n",
      "<a href=\"/lqzhang.html\" target=\"_blank\"><img alt=\"张连清\" src=\"/Uploads/Picture/2017/04/26/s5900759a72724.jpg\" style=\" min-height:192px; min-width:160px; max-height:192px; max-width:160px;\" title=\"张连清\"/></a>\n",
      "<h6>张连清</h6>\n",
      "<p>高级工程师</p>\n",
      "</li> </ul>\n",
      "<div class=\"clear\"></div>\n",
      "</div>\n",
      "光电工程研究所\n"
     ]
    }
   ],
   "source": [
    "# 整合上述，得到全部的teacher infos\n",
    "teacher_info_list = []\n",
    "print(organizations[0])\n",
    "print(organizations[0]['id'])\n",
    "# test 之后需要写进循环\n",
    "for i in range(len(organizations)):\n",
    "    # i = 0\n",
    "    organization = organizations[i]\n",
    "    jigou = organization['id']\n",
    "    # j = 0\n",
    "    teachers = organization.find_all('li')\n",
    "    for j in range(len(teachers)):\n",
    "        teacher = teachers[j]\n",
    "        # print(teacher)\n",
    "        link = \"http://faculty.dpi.tsinghua.edu.cn/\" + teacher.find('a').get('href')\n",
    "        name = teacher.find('h6').get_text()\n",
    "        title = teacher.find('p').get_text()\n",
    "        teacher_info_list.append(pd.DataFrame({\n",
    "            '机构': [jigou],\n",
    "            '姓名': [name],\n",
    "            '级别': [title],\n",
    "            'link': [link]\n",
    "        }))\n"
   ],
   "metadata": {
    "collapsed": false,
    "ExecuteTime": {
     "end_time": "2024-04-08T11:07:42.489277Z",
     "start_time": "2024-04-08T11:07:42.448450Z"
    }
   },
   "id": "153ad1f3fa8950cf",
   "execution_count": 14
  },
  {
   "cell_type": "code",
   "outputs": [
    {
     "name": "stdout",
     "output_type": "stream",
     "text": [
      "[        机构   姓名       级别                                              link\n",
      "0  光电工程研究所  金国藩  中国工程院院士  http://faculty.dpi.tsinghua.edu.cn//jgf-dpi.html,         机构   姓名  级别                                             link\n",
      "0  光电工程研究所  曾理江  教授  http://faculty.dpi.tsinghua.edu.cn//zenglj.html,         机构   姓名  级别                                             link\n",
      "0  光电工程研究所  杨昌喜  教授  http://faculty.dpi.tsinghua.edu.cn//cxyang.html,         机构  姓名  级别                                            link\n",
      "0  光电工程研究所  李岩  教授  http://faculty.dpi.tsinghua.edu.cn//liyan.html,         机构   姓名  级别                                            link\n",
      "0  光电工程研究所  孙利群  教授  http://faculty.dpi.tsinghua.edu.cn//sunlq.html,         机构   姓名  级别                                            link\n",
      "0  光电工程研究所  孙洪波  教授  http://faculty.dpi.tsinghua.edu.cn//hbsun.html,         机构   姓名  级别                                          link\n",
      "0  光电工程研究所  曹良才  教授  http://faculty.dpi.tsinghua.edu.cn//clc.html,         机构   姓名  级别                                               link\n",
      "0  光电工程研究所  白本锋  教授  http://faculty.dpi.tsinghua.edu.cn//baibenfeng...,         机构   姓名  级别                                            link\n",
      "0  光电工程研究所  谈宜东  教授  http://faculty.dpi.tsinghua.edu.cn//Tanyd.html,         机构   姓名   级别                                            link\n",
      "0  光电工程研究所  谭峭峰  副教授  http://faculty.dpi.tsinghua.edu.cn//tanqf.html,         机构  姓名   级别                                            link\n",
      "0  光电工程研究所  朱钧  副教授  http://faculty.dpi.tsinghua.edu.cn//j_zhu.html,         机构   姓名   级别                                               link\n",
      "0  光电工程研究所  尉昊赟  副教授  http://faculty.dpi.tsinghua.edu.cn//luckiwei.html,         机构   姓名   级别                                               link\n",
      "0  光电工程研究所  吴冠豪  副教授  http://faculty.dpi.tsinghua.edu.cn//guanhaowu....,         机构   姓名   级别                                             link\n",
      "0  光电工程研究所  孔令杰  副教授  http://faculty.dpi.tsinghua.edu.cn//konglj.html,         机构  姓名   级别                                               link\n",
      "0  光电工程研究所  张浩  副教授  http://faculty.dpi.tsinghua.edu.cn//haozhang27...,         机构  姓名   级别                                              link\n",
      "0  光电工程研究所  李杨  副教授  http://faculty.dpi.tsinghua.edu.cn//yli9003.html,         机构   姓名   级别                                             link\n",
      "0  光电工程研究所  杨原牧  副教授  http://faculty.dpi.tsinghua.edu.cn//ymyang.html,         机构   姓名   级别                                               link\n",
      "0  光电工程研究所  林琳涵  副教授  http://faculty.dpi.tsinghua.edu.cn//linlh2019....,         机构   姓名   级别                                            link\n",
      "0  光电工程研究所  方红华  副教授  http://faculty.dpi.tsinghua.edu.cn//hfang.html,         机构   姓名   级别                                           link\n",
      "0  光电工程研究所  鲍成英  副教授  http://faculty.dpi.tsinghua.edu.cn//cbao.html,         机构   姓名     级别                                              link\n",
      "0  光电工程研究所  张连清  高级工程师  http://faculty.dpi.tsinghua.edu.cn//lqzhang.html,            机构  姓名       级别                                             link\n",
      "0  仪器科学与技术研究所  尤政  中国工程院院士  http://faculty.dpi.tsinghua.edu.cn//yz-dpi.html,            机构   姓名  级别                                           link\n",
      "0  仪器科学与技术研究所  叶雄英  教授  http://faculty.dpi.tsinghua.edu.cn//xyye.html,            机构   姓名  级别                                             link\n",
      "0  仪器科学与技术研究所  董永贵  教授  http://faculty.dpi.tsinghua.edu.cn//dongyg.html,            机构  姓名  级别                                              link\n",
      "0  仪器科学与技术研究所  王雪  教授  http://faculty.dpi.tsinghua.edu.cn//wangxue.html,            机构  姓名  级别                                               link\n",
      "0  仪器科学与技术研究所  朱荣  教授  http://faculty.dpi.tsinghua.edu.cn//zr_gloria....,            机构   姓名  级别                                          link\n",
      "0  仪器科学与技术研究所  陈非凡  教授  http://faculty.dpi.tsinghua.edu.cn//cff.html,            机构   姓名  级别                                            link\n",
      "0  仪器科学与技术研究所  施路平  教授  http://faculty.dpi.tsinghua.edu.cn//lpshi.html,            机构   姓名  级别                                             link\n",
      "0  仪器科学与技术研究所  欧阳证  教授  http://faculty.dpi.tsinghua.edu.cn//ouyang.html,            机构   姓名   级别                                          link\n",
      "0  仪器科学与技术研究所  王晓峰  研究员  http://faculty.dpi.tsinghua.edu.cn//xfw.html,            机构   姓名   级别                                          link\n",
      "0  仪器科学与技术研究所  张高飞  研究员  http://faculty.dpi.tsinghua.edu.cn//zgf.html,            机构   姓名  级别                                            link\n",
      "0  仪器科学与技术研究所  朱纪洪  教授  http://faculty.dpi.tsinghua.edu.cn//jhzhu.html,            机构  姓名  级别                                             link\n",
      "0  仪器科学与技术研究所  赵蓉  教授  http://faculty.dpi.tsinghua.edu.cn//r_zhao.html,            机构  姓名   级别                                               link\n",
      "0  仪器科学与技术研究所  阮勇  研究员  http://faculty.dpi.tsinghua.edu.cn//ruanyong.html,            机构  姓名  级别                                              link\n",
      "0  仪器科学与技术研究所  邢飞  教授  http://faculty.dpi.tsinghua.edu.cn//xingfei.html,            机构  姓名        级别                                             link\n",
      "0  仪器科学与技术研究所  王超  教授、博士生导师  http://faculty.dpi.tsinghua.edu.cn//c_wang.html,            机构  姓名    级别                                           link\n",
      "0  仪器科学与技术研究所  裴京  副研究员  http://faculty.dpi.tsinghua.edu.cn//peij.html,            机构   姓名   级别                                            link\n",
      "0  仪器科学与技术研究所  任大海  副教授  http://faculty.dpi.tsinghua.edu.cn//rendh.html,            机构  姓名    级别                                              link\n",
      "0  仪器科学与技术研究所  马骋  副研究员  http://faculty.dpi.tsinghua.edu.cn//macheng.html,            机构   姓名   级别                                             link\n",
      "0  仪器科学与技术研究所  冯焱颖  副教授  http://faculty.dpi.tsinghua.edu.cn//yyfeng.html,            机构  姓名   级别                                           link\n",
      "0  仪器科学与技术研究所  王鹏  副教授  http://faculty.dpi.tsinghua.edu.cn//peng.html,            机构  姓名    级别                                            link\n",
      "0  仪器科学与技术研究所  唐飞  副研究员  http://faculty.dpi.tsinghua.edu.cn//tangf.html,            机构   姓名    级别                                               link\n",
      "0  仪器科学与技术研究所  梁志恒  副研究员  http://faculty.dpi.tsinghua.edu.cn//liangzhihe...,            机构   姓名    级别                                              link\n",
      "0  仪器科学与技术研究所  杨建中  副研究员  http://faculty.dpi.tsinghua.edu.cn//yang-jz.html,            机构  姓名   级别                                             link\n",
      "0  仪器科学与技术研究所  王波  副教授  http://faculty.dpi.tsinghua.edu.cn//bowang.html,            机构   姓名   级别                                          link\n",
      "0  仪器科学与技术研究所  王文会  副教授  http://faculty.dpi.tsinghua.edu.cn//wwh.html,            机构   姓名    级别                                               link\n",
      "0  仪器科学与技术研究所  赵嘉昊  副研究员  http://faculty.dpi.tsinghua.edu.cn//zhaojh00.html,            机构   姓名   级别                                               link\n",
      "0  仪器科学与技术研究所  孟子阳  副教授  http://faculty.dpi.tsinghua.edu.cn//ziyangmeng...,            机构   姓名    级别                                              link\n",
      "0  仪器科学与技术研究所  张建伟  副研究员  http://faculty.dpi.tsinghua.edu.cn//zhangjw.html,            机构   姓名       级别                                               link\n",
      "0  仪器科学与技术研究所  赵开春  副研究员     http://faculty.dpi.tsinghua.edu.cn//kaichunz.html,            机构   姓名   级别                                               link\n",
      "0  仪器科学与技术研究所  李黄龙  副教授  http://faculty.dpi.tsinghua.edu.cn//li_huanglo...,            机构   姓名   级别                                           link\n",
      "0  仪器科学与技术研究所  马潇潇  副教授  http://faculty.dpi.tsinghua.edu.cn//maxx.html,            机构   姓名   级别                                             link\n",
      "0  仪器科学与技术研究所  赵晓光  副教授  http://faculty.dpi.tsinghua.edu.cn//zhaoxg.html,            机构   姓名   级别                                               link\n",
      "0  仪器科学与技术研究所  周晓煜  副教授  http://faculty.dpi.tsinghua.edu.cn//zhouyuzxy....,            机构  姓名   级别                                               link\n",
      "0  仪器科学与技术研究所  罗川  副教授  http://faculty.dpi.tsinghua.edu.cn//luochuan.html,            机构  姓名   级别                                              link\n",
      "0  仪器科学与技术研究所  邓磊  副教授  http://faculty.dpi.tsinghua.edu.cn//leideng.html,            机构   姓名   级别                                              link\n",
      "0  仪器科学与技术研究所  张文鹏  副教授  http://faculty.dpi.tsinghua.edu.cn//zhangwp.html,            机构   姓名    级别                                              link\n",
      "0  仪器科学与技术研究所  匡敏驰  副研究员  http://faculty.dpi.tsinghua.edu.cn//kuangmc.html,            机构   姓名    级别                                             link\n",
      "0  仪器科学与技术研究所  王时光  副研究员  http://faculty.dpi.tsinghua.edu.cn//wangsg.html,            机构   姓名     级别                                             link\n",
      "0  仪器科学与技术研究所  袁夏明  助理研究员  http://faculty.dpi.tsinghua.edu.cn//xmyuan.html,            机构   姓名    级别                                               link\n",
      "0  仪器科学与技术研究所  纪兴龙  副研究员  http://faculty.dpi.tsinghua.edu.cn//xinglongji...,            机构  姓名     级别                                              link\n",
      "0  仪器科学与技术研究所  史恒  助理研究员  http://faculty.dpi.tsinghua.edu.cn//shiheng.html,            机构   姓名     级别                                               link\n",
      "0  仪器科学与技术研究所  余芳文  助理研究员  http://faculty.dpi.tsinghua.edu.cn//yufangwen....,            机构   姓名   级别                                          link\n",
      "0  仪器科学与技术研究所  徐海峥  工程师  http://faculty.dpi.tsinghua.edu.cn//xhz.html,          机构  姓名   级别                                             link\n",
      "0  导航技术工程中心  张嵘  研究员  http://faculty.dpi.tsinghua.edu.cn//rongzh.html,          机构   姓名   级别                                          link\n",
      "0  导航技术工程中心  韩丰田  研究员  http://faculty.dpi.tsinghua.edu.cn//hft.html,          机构  姓名   级别                                               link\n",
      "0  导航技术工程中心  周斌  研究员  http://faculty.dpi.tsinghua.edu.cn//zhoubin98....,          机构   姓名   级别                                               link\n",
      "0  导航技术工程中心  吴秋平  研究员  http://faculty.dpi.tsinghua.edu.cn//wuqiuping....,          机构   姓名    级别                                               link\n",
      "0  导航技术工程中心  李冬梅  副研究员  http://faculty.dpi.tsinghua.edu.cn//li_dongmei...,          机构   姓名    级别                                           link\n",
      "0  导航技术工程中心  贺晓霞  副研究员  http://faculty.dpi.tsinghua.edu.cn//hexx.html,          机构   姓名    级别                                              link\n",
      "0  导航技术工程中心  李海霞  副研究员  http://faculty.dpi.tsinghua.edu.cn//li-hx03.html,          机构   姓名   级别                                            link\n",
      "0  导航技术工程中心  郭美凤  副教授  http://faculty.dpi.tsinghua.edu.cn//guomf.html,          机构  姓名    级别                                            link\n",
      "0  导航技术工程中心  魏琦  副研究员  http://faculty.dpi.tsinghua.edu.cn//weiqi.html,          机构   姓名    级别                                             link\n",
      "0  导航技术工程中心  胡佩达  副研究员  http://faculty.dpi.tsinghua.edu.cn//hpd211.html,          机构   姓名    级别                                            link\n",
      "0  导航技术工程中心  刘云峰  副研究员  http://faculty.dpi.tsinghua.edu.cn//yfliu.html,          机构   姓名    级别                                               link\n",
      "0  导航技术工程中心  陈志勇  副研究员  http://faculty.dpi.tsinghua.edu.cn//chendelta....,          机构  姓名    级别                                             link\n",
      "0  导航技术工程中心  伍康  副研究员  http://faculty.dpi.tsinghua.edu.cn//kangwu.html,          机构   姓名    级别                                               link\n",
      "0  导航技术工程中心  张瑞雪  副研究员  http://faculty.dpi.tsinghua.edu.cn//zhangrx020...,          机构  姓名    级别                                               link\n",
      "0  导航技术工程中心  杨军  副研究员  http://faculty.dpi.tsinghua.edu.cn//yangj2024....,          机构  姓名   级别                                           link\n",
      "0  导航技术工程中心  谭巍  工程师  http://faculty.dpi.tsinghua.edu.cn//tanw.html,            机构   姓名  级别                                             link\n",
      "0  激光与光子技术研究所  巩马理  教授  http://faculty.dpi.tsinghua.edu.cn//gongml.html,            机构  姓名  级别                                           link\n",
      "0  激光与光子技术研究所  闫平  教授  http://faculty.dpi.tsinghua.edu.cn//pyan.html,            机构  姓名  级别                                               link\n",
      "0  激光与光子技术研究所  柳强  教授  http://faculty.dpi.tsinghua.edu.cn//qiangliu.html,            机构   姓名  级别                                               link\n",
      "0  激光与光子技术研究所  张海涛  教授  http://faculty.dpi.tsinghua.edu.cn//zhanghaita...,            机构  姓名  级别                                         link\n",
      "0  激光与光子技术研究所  黄磊  教授  http://faculty.dpi.tsinghua.edu.cn//hl.html,            机构  姓名    级别                                               link\n",
      "0  激光与光子技术研究所  王巍  副研究员  http://faculty.dpi.tsinghua.edu.cn//wang-wei.html,            机构  姓名    级别                                               link\n",
      "0  激光与光子技术研究所  杨兴  副研究员  http://faculty.dpi.tsinghua.edu.cn//yangxing.html,            机构  姓名   级别                                             link\n",
      "0  激光与光子技术研究所  付星  副教授  http://faculty.dpi.tsinghua.edu.cn//fuxing.html,            机构   姓名   级别                                               link\n",
      "0  激光与光子技术研究所  肖起榕  副教授  http://faculty.dpi.tsinghua.edu.cn//xiaoqirong...,            机构   姓名    级别                                               link\n",
      "0  激光与光子技术研究所  李宇航  副研究员  http://faculty.dpi.tsinghua.edu.cn//liyuhang.html,            机构  姓名    级别                                          link\n",
      "0  激光与光子技术研究所  李丹  副研究员  http://faculty.dpi.tsinghua.edu.cn//dli.html,        机构   姓名     级别                                             link\n",
      "0  实验教学中心  李玉和  高级工程师  http://faculty.dpi.tsinghua.edu.cn//liyuhe.html,        机构  姓名     级别                                            link\n",
      "0  实验教学中心  朱昊  高级工程师  http://faculty.dpi.tsinghua.edu.cn//zhsqy.html,        机构   姓名     级别                                               link\n",
      "0  实验教学中心  张丽琼  高级工程师  http://faculty.dpi.tsinghua.edu.cn//zhanglqoe....,        机构  姓名   级别                                             link\n",
      "0  实验教学中心  王芃  工程师  http://faculty.dpi.tsinghua.edu.cn//wangpz.html,        机构  姓名   级别                                               link\n",
      "0  实验教学中心  徐东  工程师  http://faculty.dpi.tsinghua.edu.cn//xudong99.html,     机构   姓名      级别                                               link\n",
      "0  系机关  傅雪霏  综合管理岗位  http://faculty.dpi.tsinghua.edu.cn//fuxuefei.html,     机构  姓名      级别                                          link\n",
      "0  系机关  马赛  本科生教务岗  http://faculty.dpi.tsinghua.edu.cn//mas.html,     机构  姓名        级别                                              link\n",
      "0  系机关  姜晔  党务与宣传工作岗  http://faculty.dpi.tsinghua.edu.cn//jiangye.html,     机构  姓名       级别                                             link\n",
      "0  系机关  史洁  学生事务工作岗  http://faculty.dpi.tsinghua.edu.cn//shijie.html,     机构   姓名      级别                                            link\n",
      "0  系机关  殷社萍  科研与外事岗  http://faculty.dpi.tsinghua.edu.cn//yinsp.html,     机构   姓名        级别                                              link\n",
      "0  系机关  胡庆华  物业与安全事务岗  http://faculty.dpi.tsinghua.edu.cn//thh1987.html,     机构   姓名        级别                                               link\n",
      "0  系机关  王一怡  校友与外联事务岗  http://faculty.dpi.tsinghua.edu.cn//wangyiyi.html,     机构   姓名     级别                                              link\n",
      "0  系机关  王华成  行政事务岗  http://faculty.dpi.tsinghua.edu.cn//whc1019.html,     机构  姓名      级别                                              link\n",
      "0  系机关  徐琼  科研与资产岗  http://faculty.dpi.tsinghua.edu.cn//xuqiong.html,     机构  姓名      级别                                               link\n",
      "0  系机关  李琳  研究生教务岗  http://faculty.dpi.tsinghua.edu.cn//lilin0122....,     机构   姓名      级别                                           link\n",
      "0  系机关  苏卫国  档案和信息岗  http://faculty.dpi.tsinghua.edu.cn//suwg.html,     机构  姓名     级别                                              link\n",
      "0  系机关  杨薏  人事工作岗  http://faculty.dpi.tsinghua.edu.cn//youyoku.html]\n"
     ]
    }
   ],
   "source": [
    "print(teacher_info_list)"
   ],
   "metadata": {
    "collapsed": false,
    "ExecuteTime": {
     "end_time": "2024-04-08T11:07:42.598830Z",
     "start_time": "2024-04-08T11:07:42.490316Z"
    }
   },
   "id": "65c2dbea54cd147",
   "execution_count": 15
  },
  {
   "cell_type": "code",
   "outputs": [],
   "source": [
    "df_teacher_info = pd.concat(teacher_info_list)"
   ],
   "metadata": {
    "collapsed": false,
    "ExecuteTime": {
     "end_time": "2024-04-08T11:07:42.629830Z",
     "start_time": "2024-04-08T11:07:42.601051Z"
    }
   },
   "id": "fec32f13f3de02b0",
   "execution_count": 16
  },
  {
   "cell_type": "code",
   "outputs": [],
   "source": [
    "df_teacher_info.to_csv('teacher_info.csv', index=False, encoding='utf-8-sig')"
   ],
   "metadata": {
    "collapsed": false,
    "ExecuteTime": {
     "end_time": "2024-04-08T11:07:42.644901Z",
     "start_time": "2024-04-08T11:07:42.630837Z"
    }
   },
   "id": "772e3d5a0ef058b9",
   "execution_count": 17
  }
 ],
 "metadata": {
  "kernelspec": {
   "display_name": "Python 3",
   "language": "python",
   "name": "python3"
  },
  "language_info": {
   "codemirror_mode": {
    "name": "ipython",
    "version": 2
   },
   "file_extension": ".py",
   "mimetype": "text/x-python",
   "name": "python",
   "nbconvert_exporter": "python",
   "pygments_lexer": "ipython2",
   "version": "2.7.6"
  }
 },
 "nbformat": 4,
 "nbformat_minor": 5
}
